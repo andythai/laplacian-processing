{
 "cells": [
  {
   "cell_type": "markdown",
   "metadata": {},
   "source": [
    "# Lagrangian Jacobian optimization"
   ]
  },
  {
   "cell_type": "markdown",
   "metadata": {},
   "source": [
    "## Import statements"
   ]
  },
  {
   "cell_type": "code",
   "execution_count": 1,
   "metadata": {},
   "outputs": [],
   "source": [
    "%load_ext autoreload\n",
    "%autoreload 2\n",
    "\n",
    "# 3rd party imports\n",
    "import matplotlib.pyplot as plt\n",
    "import numpy as np\n",
    "np.set_printoptions(linewidth=1000)\n",
    "from scipy.sparse.linalg import lgmres\n",
    "import sympy as sp\n",
    "\n",
    "\n",
    "# Local imports\n",
    "import modules.laplacian as laplacian\n",
    "import modules.jacobian as jacobian"
   ]
  },
  {
   "cell_type": "markdown",
   "metadata": {},
   "source": [
    "## Set up A $\\phi$ = B case\n",
    "Set up an example A*$\\phi$ = B problem where there are negative Jacobian determinant values"
   ]
  },
  {
   "cell_type": "code",
   "execution_count": 2,
   "metadata": {},
   "outputs": [
    {
     "name": "stdout",
     "output_type": "stream",
     "text": [
      "fdata.shape (1, 3, 3)\n",
      "Building data for Laplacian Sparse Matrix A\n",
      "Creating Laplacian Sparse Matrix A\n",
      "Computing dz\n",
      "dz calculated in 0.04022860527038574s\n",
      "Computing dy\n",
      "dy calculated in 0.05093216896057129s\n",
      "Computing dx\n",
      "dx calculated in 0.051349639892578125s\n",
      "\n",
      "A shape: (9, 9)\n",
      "Rank of A: 9\n",
      "A:\n",
      "[[ 2. -1.  0. -1.  0.  0.  0.  0.  0.]\n",
      " [-1.  3. -1.  0. -1.  0.  0.  0.  0.]\n",
      " [ 0.  0.  1.  0.  0.  0.  0.  0.  0.]\n",
      " [-1.  0.  0.  3. -1.  0. -1.  0.  0.]\n",
      " [ 0.  0.  0.  0.  1.  0.  0.  0.  0.]\n",
      " [ 0.  0. -1.  0. -1.  3.  0.  0. -1.]\n",
      " [ 0.  0.  0. -1.  0.  0.  2. -1.  0.]\n",
      " [ 0.  0.  0.  0. -1.  0. -1.  3. -1.]\n",
      " [ 0.  0.  0.  0.  0.  0.  0.  0.  1.]]\n",
      "\n",
      "Xd: [ 0.  0. -1.  0. -1.  0.  0.  0. -1.]\n",
      "Yd: [0. 0. 0. 0. 1. 0. 0. 0. 0.]\n",
      "\n",
      "phi_x: [-1. -1. -1. -1. -1. -1. -1. -1. -1.]\n",
      "phi_y: [0.66666667 0.55555556 0.         0.77777778 1.         0.33333333 0.66666667 0.55555556 0.        ]\n",
      "\n",
      "A_expanded shape: (18, 18)\n",
      "Rank of A_expanded: 18\n",
      "[[ 2. -1.  0. -1.  0.  0.  0.  0.  0.  0.  0.  0.  0.  0.  0.  0.  0.  0.]\n",
      " [-1.  3. -1.  0. -1.  0.  0.  0.  0.  0.  0.  0.  0.  0.  0.  0.  0.  0.]\n",
      " [ 0.  0.  1.  0.  0.  0.  0.  0.  0.  0.  0.  0.  0.  0.  0.  0.  0.  0.]\n",
      " [-1.  0.  0.  3. -1.  0. -1.  0.  0.  0.  0.  0.  0.  0.  0.  0.  0.  0.]\n",
      " [ 0.  0.  0.  0.  1.  0.  0.  0.  0.  0.  0.  0.  0.  0.  0.  0.  0.  0.]\n",
      " [ 0.  0. -1.  0. -1.  3.  0.  0. -1.  0.  0.  0.  0.  0.  0.  0.  0.  0.]\n",
      " [ 0.  0.  0. -1.  0.  0.  2. -1.  0.  0.  0.  0.  0.  0.  0.  0.  0.  0.]\n",
      " [ 0.  0.  0.  0. -1.  0. -1.  3. -1.  0.  0.  0.  0.  0.  0.  0.  0.  0.]\n",
      " [ 0.  0.  0.  0.  0.  0.  0.  0.  1.  0.  0.  0.  0.  0.  0.  0.  0.  0.]\n",
      " [ 0.  0.  0.  0.  0.  0.  0.  0.  0.  2. -1.  0. -1.  0.  0.  0.  0.  0.]\n",
      " [ 0.  0.  0.  0.  0.  0.  0.  0.  0. -1.  3. -1.  0. -1.  0.  0.  0.  0.]\n",
      " [ 0.  0.  0.  0.  0.  0.  0.  0.  0.  0.  0.  1.  0.  0.  0.  0.  0.  0.]\n",
      " [ 0.  0.  0.  0.  0.  0.  0.  0.  0. -1.  0.  0.  3. -1.  0. -1.  0.  0.]\n",
      " [ 0.  0.  0.  0.  0.  0.  0.  0.  0.  0.  0.  0.  0.  1.  0.  0.  0.  0.]\n",
      " [ 0.  0.  0.  0.  0.  0.  0.  0.  0.  0.  0. -1.  0. -1.  3.  0.  0. -1.]\n",
      " [ 0.  0.  0.  0.  0.  0.  0.  0.  0.  0.  0.  0. -1.  0.  0.  2. -1.  0.]\n",
      " [ 0.  0.  0.  0.  0.  0.  0.  0.  0.  0.  0.  0.  0. -1.  0. -1.  3. -1.]\n",
      " [ 0.  0.  0.  0.  0.  0.  0.  0.  0.  0.  0.  0.  0.  0.  0.  0.  0.  1.]]\n",
      "XYd: [ 0.  0. -1.  0. -1.  0.  0.  0. -1.  0.  0.  0.  0.  1.  0.  0.  0.  0.]\n",
      "phi_xy: [-1.         -1.         -1.         -1.         -1.         -1.         -1.         -1.         -1.          0.66666667  0.55555556  0.          0.77777778  1.          0.33333333  0.66666667  0.55555556  0.        ]\n",
      "\n"
     ]
    },
    {
     "name": "stderr",
     "output_type": "stream",
     "text": [
      "/tmp/ipykernel_565021/2165156065.py:35: DeprecationWarning: scipy.sparse.linalg.lgmres called without specifying `atol`. The default value will change in the future. To preserve current behavior, set ``atol=tol``.\n",
      "  phi_x = lgmres(A, Xd, tol = 1e-2)[0]\n",
      "/tmp/ipykernel_565021/2165156065.py:37: DeprecationWarning: scipy.sparse.linalg.lgmres called without specifying `atol`. The default value will change in the future. To preserve current behavior, set ``atol=tol``.\n",
      "  phi_y = lgmres(A, Yd, tol = 1e-2)[0]\n",
      "/tmp/ipykernel_565021/2165156065.py:47: DeprecationWarning: scipy.sparse.linalg.lgmres called without specifying `atol`. The default value will change in the future. To preserve current behavior, set ``atol=tol``.\n",
      "  phi_xy = lgmres(A_expanded, XYd, tol = 1e-2)[0]\n"
     ]
    }
   ],
   "source": [
    "# Create some example correspondence points\n",
    "msample = np.array([  # Moving points\n",
    "    [0, 0, 1],\n",
    "    [0, 2, 1],\n",
    "    [0, 2, 0],\n",
    "])\n",
    "fsample = np.array([  # Fixed points\n",
    "    [0, 0, 2],\n",
    "    [0, 2, 2],\n",
    "    [0, 1, 1],\n",
    "])\n",
    "fixed_sample = np.zeros((1, 3, 3))  # Size of the fixed image\n",
    "\n",
    "#############################################################################\n",
    "\n",
    "# Create a Laplacian matrix from the sample set of correspondence points\n",
    "deformation, A, Zd, Yd, Xd = laplacian.sliceToSlice3DLaplacian(fixed_sample, msample, fsample)\n",
    "Adense = A.toarray()\n",
    "\n",
    "z, y, x = (0, 1, 1)  # Preview test index\n",
    "laplacian_idx = laplacian.get_laplacian_index(z, y, x, fixed_sample.shape)\n",
    "\n",
    "# Visualize values\n",
    "print()\n",
    "print(\"A shape:\", A.shape)\n",
    "print(\"Rank of A:\", np.linalg.matrix_rank(Adense))\n",
    "print(\"A:\")\n",
    "print(Adense)\n",
    "print()\n",
    "print(\"Xd:\", Xd)\n",
    "print(\"Yd:\", Yd)\n",
    "print()\n",
    "\n",
    "# Solving for Xd Yd\n",
    "phi_x = lgmres(A, Xd, tol = 1e-2)[0]\n",
    "print(\"phi_x:\", phi_x)\n",
    "phi_y = lgmres(A, Yd, tol = 1e-2)[0]\n",
    "print(\"phi_y:\", phi_y)\n",
    "\n",
    "# Create expanded matrix to cover Xd and Yd\n",
    "A0 = np.zeros((A.shape[0], A.shape[1]))\n",
    "A_expanded = np.block([\n",
    "    [Adense, A0],\n",
    "    [A0, Adense]\n",
    "])\n",
    "XYd = np.concatenate([Xd, Yd])\n",
    "phi_xy = lgmres(A_expanded, XYd, tol = 1e-2)[0]\n",
    "\n",
    "print()\n",
    "print(\"A_expanded shape:\", A_expanded.shape)\n",
    "print(\"Rank of A_expanded:\", np.linalg.matrix_rank(A_expanded))\n",
    "print(A_expanded)\n",
    "print(\"XYd:\", XYd)\n",
    "print(\"phi_xy:\", phi_xy)\n",
    "print()"
   ]
  },
  {
   "cell_type": "code",
   "execution_count": 3,
   "metadata": {},
   "outputs": [
    {
     "name": "stdout",
     "output_type": "stream",
     "text": [
      "Current index: 0\n",
      "Adjacent indices: [None, 1, None, 3]\n"
     ]
    }
   ],
   "source": [
    "z, y, x = (0, 0, 0) \n",
    "print(\"Current index:\", laplacian.get_laplacian_index(z, y, x, fixed_sample.shape))\n",
    "print(\"Adjacent indices:\", laplacian.get_adjacent_indices(z, y, x, fixed_sample.shape))"
   ]
  },
  {
   "cell_type": "code",
   "execution_count": 4,
   "metadata": {},
   "outputs": [],
   "source": [
    "def dxx(z: int, y: int, x: int, phi: np.ndarray, shape: tuple):\n",
    "    # delta x(x + 1, y, z) - delta x(x - 1, y, z) / 2\n",
    "    if x == 0:  # Left edge\n",
    "        right_x = phi[laplacian.get_laplacian_index(z, y, x + 1, shape)]\n",
    "        curr_x = phi[laplacian.get_laplacian_index(z, y, x, shape)]\n",
    "        return (right_x - curr_x) / 2\n",
    "    elif x == shape[2] - 1:  # Right edge\n",
    "        left_x = phi[laplacian.get_laplacian_index(z, y, x - 1, shape)]\n",
    "        curr_x = phi[laplacian.get_laplacian_index(z, y, x, shape)]\n",
    "        return (curr_x - left_x) / 2\n",
    "    else:\n",
    "        right_x = phi[laplacian.get_laplacian_index(z, y, x + 1, shape)]\n",
    "        left_x = phi[laplacian.get_laplacian_index(z, y, x - 1, shape)]\n",
    "        return (right_x - left_x) / 2\n",
    "\n",
    "\n",
    "def dyy(z: int, y: int, x: int, phi: np.ndarray, shape: tuple):\n",
    "    # delta y(x, y + 1, z) - delta y(x, y - 1, z) / 2\n",
    "    if y == 0:  # Top edge\n",
    "        down_y = phi[laplacian.get_laplacian_index(z, y + 1, x, shape) + len(phi) // 2]\n",
    "        curr_y = phi[laplacian.get_laplacian_index(z, y, x, shape) + len(phi) // 2]\n",
    "        return (down_y - curr_y) / 2\n",
    "    elif y == shape[1] - 1:  # Bottom edge\n",
    "        curr_y = phi[laplacian.get_laplacian_index(z, y, x, shape) + len(phi) // 2]\n",
    "        up_y = phi[laplacian.get_laplacian_index(z, y - 1, x, shape) + len(phi) // 2]\n",
    "        return (curr_y - up_y) / 2\n",
    "    else:\n",
    "        down_y = phi[laplacian.get_laplacian_index(z, y + 1, x, shape) + len(phi) // 2]\n",
    "        up_y = phi[laplacian.get_laplacian_index(z, y - 1, x, shape) + len(phi) // 2]\n",
    "        return (down_y - up_y) / 2\n",
    "\n",
    "\n",
    "def dxy(z: int, y: int, x: int, phi: np.ndarray, shape: tuple):\n",
    "    # delta x (x, y + 1, z) - delta x (x, y - 1, z) / 2\n",
    "    if y == 0:  # Top edge\n",
    "        down_x = phi[laplacian.get_laplacian_index(z, y + 1, x, shape)]\n",
    "        curr_x = phi[laplacian.get_laplacian_index(z, y, x, shape)]\n",
    "        return (down_x - curr_x) / 2\n",
    "    elif y == shape[1] - 1:  # Bottom edge\n",
    "        curr_x = phi[laplacian.get_laplacian_index(z, y, x, shape)]\n",
    "        up_x = phi[laplacian.get_laplacian_index(z, y - 1, x, shape)]\n",
    "        return (curr_x - up_x) / 2\n",
    "    else:\n",
    "        down_x = phi[laplacian.get_laplacian_index(z, y + 1, x, shape)]\n",
    "        up_x = phi[laplacian.get_laplacian_index(z, y - 1, x, shape)]\n",
    "        return (down_x - up_x) / 2\n",
    "\n",
    "\n",
    "def dyx(z: int, y: int, x: int, phi: np.ndarray, shape: tuple):\n",
    "    # delta y (x + 1, y, z) - delta y (x - 1, y, z) / 2\n",
    "    if x == 0:  # Left edge\n",
    "        right_y = phi[laplacian.get_laplacian_index(z, y, x + 1, shape) + len(phi) // 2]\n",
    "        curr_y = phi[laplacian.get_laplacian_index(z, y, x, shape) + len(phi) // 2]\n",
    "        return (right_y - curr_y) / 2\n",
    "    elif x == shape[2] - 1:  # Right edge\n",
    "        curr_y = phi[laplacian.get_laplacian_index(z, y, x, shape) + len(phi) // 2]\n",
    "        left_y = phi[laplacian.get_laplacian_index(z, y, x - 1, shape) + len(phi) // 2]\n",
    "        return (curr_y - left_y) / 2\n",
    "    else:\n",
    "        right_y = phi[laplacian.get_laplacian_index(z, y, x + 1, shape) + len(phi) // 2]\n",
    "        left_y = phi[laplacian.get_laplacian_index(z, y, x - 1, shape) + len(phi) // 2]\n",
    "        return (right_y - left_y) / 2\n",
    "\n",
    "\n",
    "def jdet(z: int, y: int, x: int, phi: np.ndarray, shape: tuple):\n",
    "    return (dxx(z, y, x, phi, shape) + 1) * (dyy(z, y, x, phi, shape) + 1) - dxy(z, y, x, phi, shape) * dyx(z, y, x, phi, shape)\n"
   ]
  },
  {
   "cell_type": "markdown",
   "metadata": {},
   "source": [
    "## Set up Lagrangian optimizer"
   ]
  },
  {
   "cell_type": "code",
   "execution_count": 5,
   "metadata": {},
   "outputs": [],
   "source": [
    "import sympy as sp\n",
    "\n",
    "def idx_adjacency(shape):\n",
    "    idx_adj = {}\n",
    "    for z in range(shape[0]):\n",
    "        for y in range(shape[1]):\n",
    "            for x in range(shape[2]):\n",
    "                l_idx = laplacian.get_laplacian_index(z, y, x, shape)\n",
    "                adjacent_indices = laplacian.get_adjacent_indices(z, y, x, shape)\n",
    "                idx_adj[l_idx] = adjacent_indices\n",
    "    return idx_adj\n",
    "\n",
    "def jacobian_constraint(idx, idx_adj, phi_symbols):\n",
    "    # (dxx + 1) * (dyy + 1) - dxy * dyx\n",
    "    y_offset = len(phi_symbols) // 2\n",
    "    adj_idx = idx_adj[idx]\n",
    "    dxx = (phi_symbols[adj_idx[1]] - phi_symbols[adj_idx[0]]) / 2\n",
    "    dyy = (phi_symbols[adj_idx[3] + y_offset] - phi_symbols[adj_idx[2] + y_offset]) / 2\n",
    "    #  delta x (x, y + 1, z) - delta x (x, y - 1, z) / 2\n",
    "    dxy = (phi_symbols[adj_idx[3]] - phi_symbols[adj_idx[2]]) / 2\n",
    "    dyx = (phi_symbols[adj_idx[1] + y_offset] - phi_symbols[adj_idx[0] + y_offset]) / 2\n",
    "    return (dxx + 1) * (dyy + 1) - (dxy * dyx)"
   ]
  },
  {
   "cell_type": "markdown",
   "metadata": {},
   "source": [
    "Define the variables"
   ]
  },
  {
   "cell_type": "code",
   "execution_count": 6,
   "metadata": {},
   "outputs": [
    {
     "name": "stdout",
     "output_type": "stream",
     "text": [
      "phi_x1 phi_x2 phi_x3 phi_x4 phi_x5 phi_x6 phi_x7 phi_x8 phi_x9 phi_y1 phi_y2 phi_y3 phi_y4 phi_y5 phi_y6 phi_y7 phi_y8 phi_y9\n",
      "mu1 mu2\n"
     ]
    }
   ],
   "source": [
    "def generate_phi_str(b: np.ndarray): \n",
    "    phi_str = \"\"\n",
    "    for i in range(b.shape[0]):\n",
    "        if i < b.shape[0] // 2:\n",
    "            phi_str += f\"phi_x{i + 1}\"\n",
    "        else:\n",
    "            phi_str += f\"phi_y{(i + 1) - b.shape[0] // 2}\"\n",
    "        if i < b.shape[0] - 1:\n",
    "            phi_str += \" \"\n",
    "    return phi_str\n",
    "\n",
    "\n",
    "def generate_mu_str(size: int):\n",
    "    mu_str = \"\"\n",
    "    for i in range(size):\n",
    "        mu_str += f\"mu{i + 1}\"\n",
    "        if i < size - 1:\n",
    "            mu_str += \" \"\n",
    "    return mu_str\n",
    "\n",
    "phi_str = generate_phi_str(XYd)\n",
    "print(phi_str)\n",
    "\n",
    "mu_str = generate_mu_str(2)\n",
    "print(mu_str)\n",
    "\n",
    "# Add the constraint variables to the string\n",
    "variable_str = phi_str + \" \" + mu_str\n",
    "\n",
    "# Define the variables (phi_x1, phi_x2, phi_x3, ..., phi_y1, phi_y2, phi_y3)\n",
    "# phii is a tuple containing the symbols for the variables\n",
    "phi_symbols = sp.symbols(phi_str)\n",
    "mu_symbols = sp.symbols(mu_str)"
   ]
  },
  {
   "cell_type": "markdown",
   "metadata": {},
   "source": [
    "Define the linear system"
   ]
  },
  {
   "cell_type": "code",
   "execution_count": 7,
   "metadata": {},
   "outputs": [],
   "source": [
    "# Define the matrix A and vector b\n",
    "A_ = sp.Matrix(A_expanded)\n",
    "b_ = sp.Matrix(XYd)\n",
    "\n",
    "# Define the vector phi\n",
    "phi_vec = sp.Matrix(phi_symbols)"
   ]
  },
  {
   "cell_type": "markdown",
   "metadata": {},
   "source": [
    "Define objective function and constraints"
   ]
  },
  {
   "cell_type": "code",
   "execution_count": 74,
   "metadata": {},
   "outputs": [
    {
     "name": "stdout",
     "output_type": "stream",
     "text": [
      "{0: [None, 1, None, 3], 1: [0, 2, None, 4], 2: [1, None, None, 5], 3: [None, 4, 0, 6], 4: [3, 5, 1, 7], 5: [4, None, 2, 8], 6: [None, 7, 3, None], 7: [6, 8, 4, None], 8: [7, None, 5, None]}\n",
      "-(-phi_x2/2 + phi_x8/2)*(-phi_y4/2 + phi_y6/2) + (-phi_x4/2 + phi_x6/2 + 1)*(-phi_y2/2 + phi_y8/2 + 1)\n"
     ]
    }
   ],
   "source": [
    "# Define the objective function\n",
    "objective_function = (A_ * phi_vec - b_).dot(A_ * phi_vec - b_)  # Minimize the squared Euclidean distance\n",
    "\n",
    "# Define the constraints\n",
    "#h1 = phi_symbols[0] - 2\n",
    "ia = idx_adjacency(fixed_sample.shape)\n",
    "print(ia)\n",
    "h1 = jacobian_constraint(4, idx_adjacency(fixed_sample.shape), phi_symbols)\n",
    "print(h1)\n",
    "h2 = h1\n",
    "h_constraints = [h1, h2]\n",
    "\n",
    "# Construct the Lagrangian function\n",
    "L = objective_function + mu_symbols[0] * h1 + mu_symbols[1] * h2"
   ]
  },
  {
   "cell_type": "markdown",
   "metadata": {},
   "source": [
    "Compute the partial derivatives"
   ]
  },
  {
   "cell_type": "code",
   "execution_count": 75,
   "metadata": {},
   "outputs": [],
   "source": [
    "# Compute the partial derivatives\n",
    "dL_dphi = [sp.diff(L, phi_i) for phi_i in phi_symbols]\n",
    "\n",
    "# Compute the partial derivatives for the constraints\n",
    "dL_dmu = [sp.diff(L, mu_i) for mu_i in mu_symbols]"
   ]
  },
  {
   "cell_type": "markdown",
   "metadata": {},
   "source": [
    "Solve the system and display results"
   ]
  },
  {
   "cell_type": "code",
   "execution_count": null,
   "metadata": {},
   "outputs": [],
   "source": [
    "# Solve the system of equations\n",
    "#solutions = sp.solve(dL_dphi, phi_list)\n",
    "sol_list = [d for d in dL_dphi] + h_constraints + [mu * h for mu, h in zip(mu_symbols, h_constraints)]\n",
    "solutions = sp.solve(sol_list, phi_symbols + mu_symbols)\n",
    "\n",
    "# Display the solutions\n",
    "print(\"Solutions:\")\n",
    "if isinstance(solutions, dict):\n",
    "    # Single solution case\n",
    "    for i, phi_i in enumerate(phi_symbols):\n",
    "        print(f\"{phi_i} = {solutions[phi_i]}\")\n",
    "else:\n",
    "    # Multiple solutions case\n",
    "    for sol in solutions:\n",
    "        for i, phi_i in enumerate(phi_symbols):\n",
    "            print(f\"{phi_i} = {sol[i]}\")"
   ]
  },
  {
   "cell_type": "code",
   "execution_count": null,
   "metadata": {},
   "outputs": [],
   "source": []
  },
  {
   "cell_type": "code",
   "execution_count": null,
   "metadata": {},
   "outputs": [],
   "source": []
  }
 ],
 "metadata": {
  "kernelspec": {
   "display_name": "tissuecyte",
   "language": "python",
   "name": "python3"
  },
  "language_info": {
   "codemirror_mode": {
    "name": "ipython",
    "version": 3
   },
   "file_extension": ".py",
   "mimetype": "text/x-python",
   "name": "python",
   "nbconvert_exporter": "python",
   "pygments_lexer": "ipython3",
   "version": "3.9.16"
  }
 },
 "nbformat": 4,
 "nbformat_minor": 2
}
