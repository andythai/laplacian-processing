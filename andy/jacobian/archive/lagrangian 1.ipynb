{
 "cells": [
  {
   "cell_type": "markdown",
   "metadata": {},
   "source": [
    "# Lagrangian Jacobian optimization"
   ]
  },
  {
   "cell_type": "markdown",
   "metadata": {},
   "source": [
    "## Import statements"
   ]
  },
  {
   "cell_type": "code",
   "execution_count": 151,
   "metadata": {},
   "outputs": [
    {
     "name": "stdout",
     "output_type": "stream",
     "text": [
      "The autoreload extension is already loaded. To reload it, use:\n",
      "  %reload_ext autoreload\n"
     ]
    }
   ],
   "source": [
    "%load_ext autoreload\n",
    "%autoreload 2\n",
    "\n",
    "# 3rd party imports\n",
    "import matplotlib.pyplot as plt\n",
    "import numpy as np\n",
    "np.set_printoptions(linewidth=1000)\n",
    "from scipy.sparse.linalg import lgmres\n",
    "import sympy as sp\n",
    "\n",
    "\n",
    "# Local imports\n",
    "import modules.laplacian as laplacian\n",
    "import modules.jacobian as jacobian"
   ]
  },
  {
   "cell_type": "markdown",
   "metadata": {},
   "source": [
    "## Set up A $\\phi$ = B case\n",
    "Set up an example A*$\\phi$ = B problem where there are negative Jacobian determinant values"
   ]
  },
  {
   "cell_type": "code",
   "execution_count": 152,
   "metadata": {},
   "outputs": [
    {
     "name": "stdout",
     "output_type": "stream",
     "text": [
      "fdata.shape (1, 3, 3)\n",
      "Building data for Laplacian Sparse Matrix A\n",
      "Creating Laplacian Sparse Matrix A\n",
      "Computing dz\n",
      "dz calculated in 0.05718708038330078s\n",
      "Computing dy\n",
      "dy calculated in 0.05763554573059082s\n",
      "Computing dx\n",
      "dx calculated in 0.057959556579589844s\n",
      "\n",
      "A shape: (9, 9)\n",
      "Rank of A: 9\n",
      "A:\n",
      "[[ 2. -1.  0. -1.  0.  0.  0.  0.  0.]\n",
      " [-1.  3. -1.  0. -1.  0.  0.  0.  0.]\n",
      " [ 0.  0.  1.  0.  0.  0.  0.  0.  0.]\n",
      " [-1.  0.  0.  3. -1.  0. -1.  0.  0.]\n",
      " [ 0.  0.  0.  0.  1.  0.  0.  0.  0.]\n",
      " [ 0.  0. -1.  0. -1.  3.  0.  0. -1.]\n",
      " [ 0.  0.  0. -1.  0.  0.  2. -1.  0.]\n",
      " [ 0.  0.  0.  0. -1.  0. -1.  3. -1.]\n",
      " [ 0.  0.  0.  0.  0.  0.  0.  0.  1.]]\n",
      "\n",
      "Xd: [ 0.  0. -1.  0. -1.  0.  0.  0. -1.]\n",
      "Yd: [0. 0. 0. 0. 1. 0. 0. 0. 0.]\n",
      "\n",
      "phi_x: [-1. -1. -1. -1. -1. -1. -1. -1. -1.]\n",
      "phi_y: [0.66666667 0.55555556 0.         0.77777778 1.         0.33333333 0.66666667 0.55555556 0.        ]\n",
      "\n",
      "A_expanded shape: (18, 18)\n",
      "Rank of A_expanded: 18\n",
      "[[ 2. -1.  0. -1.  0.  0.  0.  0.  0.  0.  0.  0.  0.  0.  0.  0.  0.  0.]\n",
      " [-1.  3. -1.  0. -1.  0.  0.  0.  0.  0.  0.  0.  0.  0.  0.  0.  0.  0.]\n",
      " [ 0.  0.  1.  0.  0.  0.  0.  0.  0.  0.  0.  0.  0.  0.  0.  0.  0.  0.]\n",
      " [-1.  0.  0.  3. -1.  0. -1.  0.  0.  0.  0.  0.  0.  0.  0.  0.  0.  0.]\n",
      " [ 0.  0.  0.  0.  1.  0.  0.  0.  0.  0.  0.  0.  0.  0.  0.  0.  0.  0.]\n",
      " [ 0.  0. -1.  0. -1.  3.  0.  0. -1.  0.  0.  0.  0.  0.  0.  0.  0.  0.]\n",
      " [ 0.  0.  0. -1.  0.  0.  2. -1.  0.  0.  0.  0.  0.  0.  0.  0.  0.  0.]\n",
      " [ 0.  0.  0.  0. -1.  0. -1.  3. -1.  0.  0.  0.  0.  0.  0.  0.  0.  0.]\n",
      " [ 0.  0.  0.  0.  0.  0.  0.  0.  1.  0.  0.  0.  0.  0.  0.  0.  0.  0.]\n",
      " [ 0.  0.  0.  0.  0.  0.  0.  0.  0.  2. -1.  0. -1.  0.  0.  0.  0.  0.]\n",
      " [ 0.  0.  0.  0.  0.  0.  0.  0.  0. -1.  3. -1.  0. -1.  0.  0.  0.  0.]\n",
      " [ 0.  0.  0.  0.  0.  0.  0.  0.  0.  0.  0.  1.  0.  0.  0.  0.  0.  0.]\n",
      " [ 0.  0.  0.  0.  0.  0.  0.  0.  0. -1.  0.  0.  3. -1.  0. -1.  0.  0.]\n",
      " [ 0.  0.  0.  0.  0.  0.  0.  0.  0.  0.  0.  0.  0.  1.  0.  0.  0.  0.]\n",
      " [ 0.  0.  0.  0.  0.  0.  0.  0.  0.  0.  0. -1.  0. -1.  3.  0.  0. -1.]\n",
      " [ 0.  0.  0.  0.  0.  0.  0.  0.  0.  0.  0.  0. -1.  0.  0.  2. -1.  0.]\n",
      " [ 0.  0.  0.  0.  0.  0.  0.  0.  0.  0.  0.  0.  0. -1.  0. -1.  3. -1.]\n",
      " [ 0.  0.  0.  0.  0.  0.  0.  0.  0.  0.  0.  0.  0.  0.  0.  0.  0.  1.]]\n",
      "XYd: [ 0.  0. -1.  0. -1.  0.  0.  0. -1.  0.  0.  0.  0.  1.  0.  0.  0.  0.]\n",
      "phi_xy: [-1.         -1.         -1.         -1.         -1.         -1.         -1.         -1.         -1.          0.66666667  0.55555556  0.          0.77777778  1.          0.33333333  0.66666667  0.55555556  0.        ]\n",
      "\n"
     ]
    },
    {
     "name": "stderr",
     "output_type": "stream",
     "text": [
      "/tmp/ipykernel_530334/46322796.py:36: DeprecationWarning: scipy.sparse.linalg.lgmres called without specifying `atol`. The default value will change in the future. To preserve current behavior, set ``atol=tol``.\n",
      "  phi_x = lgmres(A, Xd, tol = 1e-2)[0]\n",
      "/tmp/ipykernel_530334/46322796.py:38: DeprecationWarning: scipy.sparse.linalg.lgmres called without specifying `atol`. The default value will change in the future. To preserve current behavior, set ``atol=tol``.\n",
      "  phi_y = lgmres(A, Yd, tol = 1e-2)[0]\n",
      "/tmp/ipykernel_530334/46322796.py:54: DeprecationWarning: scipy.sparse.linalg.lgmres called without specifying `atol`. The default value will change in the future. To preserve current behavior, set ``atol=tol``.\n",
      "  phi_xy = lgmres(A_expanded, XYd, tol = 1e-2)[0]\n"
     ]
    }
   ],
   "source": [
    "# Create some example correspondence points\n",
    "msample = np.array([  # Moving points\n",
    "    [0, 0, 1],\n",
    "    [0, 2, 1],\n",
    "    [0, 2, 0],\n",
    "])\n",
    "fsample = np.array([  # Fixed points\n",
    "    [0, 0, 2],\n",
    "    [0, 2, 2],\n",
    "    [0, 1, 1],\n",
    "])\n",
    "fixed_sample = np.zeros((1, 3, 3))  # Size of the fixed image\n",
    "\n",
    "#############################################################################\n",
    "\n",
    "# Create a Laplacian matrix from the sample set of correspondence points\n",
    "deformation, A, Zd, Yd, Xd = laplacian.sliceToSlice3DLaplacian(fixed_sample, msample, fsample)\n",
    "Adense = A.toarray()\n",
    "\n",
    "z, y, x = (0, 1, 1)  # Preview test index\n",
    "laplacian_idx = laplacian.get_laplacian_index(z, y, x, fixed_sample.shape)\n",
    "\n",
    "# Visualize values\n",
    "print()\n",
    "print(\"A shape:\", A.shape)\n",
    "print(\"Rank of A:\", np.linalg.matrix_rank(Adense))\n",
    "print(\"A:\")\n",
    "print(Adense)\n",
    "print()\n",
    "print(\"Xd:\", Xd)\n",
    "print(\"Yd:\", Yd)\n",
    "#print(f\"Laplacian index for {z, y, x}:\", laplacian_idx)\n",
    "print()\n",
    "\n",
    "# Solving for Xd Yd\n",
    "phi_x = lgmres(A, Xd, tol = 1e-2)[0]\n",
    "print(\"phi_x:\", phi_x)\n",
    "phi_y = lgmres(A, Yd, tol = 1e-2)[0]\n",
    "print(\"phi_y:\", phi_y)\n",
    "\n",
    "# Create expanded matrix to cover Xd and Yd\n",
    "A0 = np.zeros((A.shape[0], A.shape[1]))\n",
    "A_expanded = np.block([\n",
    "    [Adense, A0],\n",
    "    [A0, Adense]\n",
    "])\n",
    "XYd = np.concatenate([Xd, Yd])\n",
    "\n",
    "print()\n",
    "print(\"A_expanded shape:\", A_expanded.shape)\n",
    "print(\"Rank of A_expanded:\", np.linalg.matrix_rank(A_expanded))\n",
    "print(A_expanded)\n",
    "print(\"XYd:\", XYd)\n",
    "phi_xy = lgmres(A_expanded, XYd, tol = 1e-2)[0]\n",
    "print(\"phi_xy:\", phi_xy)\n",
    "print()"
   ]
  },
  {
   "cell_type": "code",
   "execution_count": 153,
   "metadata": {},
   "outputs": [],
   "source": [
    "def dxx(z: int, y: int, x: int, phi: np.ndarray, shape: tuple):\n",
    "    # delta x(x + 1, y, z) - delta x(x - 1, y, z) / 2\n",
    "    if x == 0:  # Left edge\n",
    "        right_x = phi[laplacian.get_laplacian_index(z, y, x + 1, shape)]\n",
    "        curr_x = phi[laplacian.get_laplacian_index(z, y, x, shape)]\n",
    "        return (right_x - curr_x) / 2\n",
    "    elif x == shape[2] - 1:  # Right edge\n",
    "        left_x = phi[laplacian.get_laplacian_index(z, y, x - 1, shape)]\n",
    "        curr_x = phi[laplacian.get_laplacian_index(z, y, x, shape)]\n",
    "        return (curr_x - left_x) / 2\n",
    "    else:\n",
    "        right_x = phi[laplacian.get_laplacian_index(z, y, x + 1, shape)]\n",
    "        left_x = phi[laplacian.get_laplacian_index(z, y, x - 1, shape)]\n",
    "        return (right_x - left_x) / 2\n",
    "\n",
    "def dyy(z: int, y: int, x: int, phi: np.ndarray, shape: tuple):\n",
    "    # delta y(x, y + 1, z) - delta y(x, y - 1, z) / 2\n",
    "    if y == 0:  # Top edge\n",
    "        down_y = phi[laplacian.get_laplacian_index(z, y + 1, x, shape) + len(phi) // 2]\n",
    "        curr_y = phi[laplacian.get_laplacian_index(z, y, x, shape) + len(phi) // 2]\n",
    "        return (down_y - curr_y) / 2\n",
    "    elif y == shape[1] - 1:  # Bottom edge\n",
    "        curr_y = phi[laplacian.get_laplacian_index(z, y, x, shape) + len(phi) // 2]\n",
    "        up_y = phi[laplacian.get_laplacian_index(z, y - 1, x, shape) + len(phi) // 2]\n",
    "        return (curr_y - up_y) / 2\n",
    "    else:\n",
    "        down_y = phi[laplacian.get_laplacian_index(z, y + 1, x, shape) + len(phi) // 2]\n",
    "        up_y = phi[laplacian.get_laplacian_index(z, y - 1, x, shape) + len(phi) // 2]\n",
    "        return (up_y - down_y) / 2\n",
    "\n",
    "def dxy(z: int, y: int, x: int, phi: np.ndarray, shape: tuple):\n",
    "    # delta x (x, y + 1, z) - delta x (x, y - 1, z) / 2\n",
    "    if y == 0:  # Top edge\n",
    "        down_x = phi[laplacian.get_laplacian_index(z, y + 1, x, shape)]\n",
    "        curr_x = phi[laplacian.get_laplacian_index(z, y, x, shape)]\n",
    "        return (down_x - curr_x) / 2\n",
    "    elif y == shape[1] - 1:  # Bottom edge\n",
    "        curr_x = phi[laplacian.get_laplacian_index(z, y, x, shape)]\n",
    "        up_x = phi[laplacian.get_laplacian_index(z, y - 1, x, shape)]\n",
    "        return (curr_x - up_x) / 2\n",
    "    else:\n",
    "        down_x = phi[laplacian.get_laplacian_index(z, y + 1, x, shape)]\n",
    "        up_x = phi[laplacian.get_laplacian_index(z, y - 1, x, shape)]\n",
    "        return (down_x - up_x) / 2\n",
    "\n",
    "def dyx(z: int, y: int, x: int, phi: np.ndarray, shape: tuple):\n",
    "    # delta y (x + 1, y, z) - delta y (x - 1, y, z) / 2\n",
    "    if x == 0:  # Left edge\n",
    "        right_y = phi[laplacian.get_laplacian_index(z, y, x + 1, shape) + len(phi) // 2]\n",
    "        curr_y = phi[laplacian.get_laplacian_index(z, y, x, shape) + len(phi) // 2]\n",
    "        return (right_y - curr_y) / 2\n",
    "    elif x == shape[2] - 1:  # Right edge\n",
    "        curr_y = phi[laplacian.get_laplacian_index(z, y, x, shape) + len(phi) // 2]\n",
    "        left_y = phi[laplacian.get_laplacian_index(z, y, x - 1, shape) + len(phi) // 2]\n",
    "        return (curr_y - left_y) / 2\n",
    "    else:\n",
    "        right_y = phi[laplacian.get_laplacian_index(z, y, x + 1, shape) + len(phi) // 2]\n",
    "        left_y = phi[laplacian.get_laplacian_index(z, y, x - 1, shape) + len(phi) // 2]\n",
    "        return (right_y - left_y) / 2\n",
    "\n",
    "def jdet(z: int, y: int, x: int, phi: np.ndarray, shape: tuple):\n",
    "    return (dxx(z, y, x, phi, shape) + 1) * (dyy(z, y, x, phi, shape) + 1) - dxy(z, y, x, phi, shape) * dyx(z, y, x, phi, shape)"
   ]
  },
  {
   "cell_type": "code",
   "execution_count": 154,
   "metadata": {},
   "outputs": [
    {
     "name": "stdout",
     "output_type": "stream",
     "text": [
      "SITK deformation shape: (1, 3, 3, 3)\n",
      "[[[1.05555556 1.22222222 1.16666667]\n",
      "  [1.         1.         1.        ]\n",
      "  [0.94444444 0.77777778 0.83333333]]]\n"
     ]
    },
    {
     "data": {
      "image/png": "[encoded data removed]",
      "text/plain": [
       "<Figure size 640x480 with 1 Axes>"
      ]
     },
     "metadata": {},
     "output_type": "display_data"
    },
    {
     "name": "stdout",
     "output_type": "stream",
     "text": [
      "Jdet: 0.8333333333333337\n",
      "Phi\n",
      "[-1. -1. -1. -1. -1. -1. -1. -1. -1.]\n",
      "[0.66666667 0.55555556 0.         0.77777778 1.         0.33333333 0.66666667 0.55555556 0.        ]\n",
      "\n",
      "\n",
      "phi: 0.5555555555555558 -1.0000000000000004\n"
     ]
    }
   ],
   "source": [
    "# Get Jacobian field\n",
    "jacobian_det_field = jacobian.sitk_jacobian_determinant(deformation, transpose_displacements=True)\n",
    "print(jacobian_det_field)\n",
    "plt.imshow(jacobian_det_field[0, :, :], cmap='viridis')\n",
    "plt.show()\n",
    "\n",
    "print(\"Jdet:\", jdet(0, 2, 2, phi_xy, fixed_sample.shape))\n",
    "\n",
    "#jacobian.surrounding_points((0, 1, 1), deformation, jacobian_det_field)\n",
    "\n",
    "print(\"Phi\")\n",
    "print(phi_x)\n",
    "print(phi_y)\n",
    "print()\n",
    "\n",
    "#compute_jacobian_determinant(deformation, (0, 1, 1), debug=True)\n",
    "\n",
    "print()\n",
    "lidx = laplacian.get_laplacian_index(0, 2, 1, fixed_sample.shape)\n",
    "print(\"phi:\", phi_xy[lidx + len(phi_xy) // 2], phi_xy[lidx])"
   ]
  },
  {
   "cell_type": "code",
   "execution_count": 155,
   "metadata": {},
   "outputs": [
    {
     "name": "stdout",
     "output_type": "stream",
     "text": [
      "Laplacian index for (0, 1, 1): 4\n",
      "[ 0.  0. -1.  0. -1.  0.  0.  0. -1.]\n",
      "[0. 0. 0. 0. 1. 0. 0. 0. 0.]\n",
      "[ 0.  0. -1.  0. -1.  0.  0.  0. -1.  0.  0.  0.  0.  1.  0.  0.  0.  0.]\n",
      "\n",
      "-1.0 1.0 -1.0 1.0\n",
      "-0.9999999999999998 0.9999999999999998\n",
      "Jdet: 1.0\n"
     ]
    }
   ],
   "source": [
    "lindx = laplacian.get_laplacian_index(z, y, x, fixed_sample.shape)\n",
    "print(f\"Laplacian index for {z, y, x}:\", lindx)\n",
    "print(Xd)\n",
    "print(Yd)\n",
    "print(XYd)\n",
    "print()\n",
    "\n",
    "# Print comparisons\n",
    "print(Xd[lindx], Yd[lindx], XYd[lindx], XYd[lindx + len(Xd)])\n",
    "print(phi_xy[lindx], phi_xy[lindx + len(Xd)])\n",
    "\n",
    "\n",
    "print(\"Jdet:\", jdet(0, 1, 1, phi_xy, fixed_sample.shape))"
   ]
  },
  {
   "cell_type": "markdown",
   "metadata": {},
   "source": [
    "## Set up Lagrangian optimizer"
   ]
  },
  {
   "cell_type": "code",
   "execution_count": null,
   "metadata": {},
   "outputs": [
    {
     "name": "stdout",
     "output_type": "stream",
     "text": [
      "Solutions:\n",
      "phi1 = -1.00000000000000\n",
      "phi2 = -1.00000000000000\n",
      "phi3 = -1.00000000000000\n",
      "phi4 = -1.00000000000000\n",
      "phi5 = -1.00000000000000\n",
      "phi6 = -1.00000000000000\n",
      "phi7 = -1.00000000000000\n",
      "phi8 = -1.00000000000000\n",
      "phi9 = -1.00000000000000\n",
      "phi10 = 0.666666666666667\n",
      "phi11 = 0.555555555555556\n",
      "phi12 = 0.0\n",
      "phi13 = 0.777777777777778\n",
      "phi14 = 1.00000000000000\n",
      "phi15 = 0.333333333333333\n",
      "phi16 = 0.666666666666667\n",
      "phi17 = 0.555555555555556\n",
      "phi18 = 0.0\n"
     ]
    }
   ],
   "source": [
    "import sympy as sp\n",
    "\n",
    "def generate_phi_str(b: np.ndarray): \n",
    "    phi_str = \"\"\n",
    "    for i in range(b.shape[0]):\n",
    "        if i < b.shape[0] // 2:\n",
    "            phi_str += f\"phi_x{i + 1}\"\n",
    "        else:\n",
    "            phi_str += f\"phi_y{(i + 1) // 2}\"\n",
    "        if i < b.shape[0] - 1:\n",
    "            phi_str += \" \"\n",
    "    return phi_str\n",
    "\n",
    "phi_str = generate_phi_str(XYd)\n",
    "\n",
    "# Define the variables\n",
    "phii = sp.symbols(phi_str)\n",
    "\n",
    "# Define the matrix A and vector B\n",
    "A_ = sp.Matrix(A_expanded)\n",
    "B_ = sp.Matrix(XYd)\n",
    "\n",
    "# Define the vector phi\n",
    "phi = sp.Matrix(phii)\n",
    "\n",
    "# Define the objective function\n",
    "f = (A_ * phi - B_).dot(A_ * phi - B_)  # Squared Euclidean distance\n",
    "\n",
    "# Compute the partial derivatives\n",
    "dL_dphi = [sp.diff(f, phi_i) for phi_i in phii]\n",
    "\n",
    "# Solve the system of equations\n",
    "solutions = sp.solve(dL_dphi, phii)\n",
    "\n",
    "# Display the solutions\n",
    "print(\"Solutions:\")\n",
    "if isinstance(solutions, dict):\n",
    "    # Single solution case\n",
    "    for i, phi_i in enumerate(phii):\n",
    "        print(f\"{phi_i} = {solutions[phi_i]}\")\n",
    "else:\n",
    "    # Multiple solutions case\n",
    "    for sol in solutions:\n",
    "        for i, phi_i in enumerate(phii):\n",
    "            print(f\"{phi_i} = {sol[phi_i]}\")"
   ]
  },
  {
   "cell_type": "code",
   "execution_count": 164,
   "metadata": {},
   "outputs": [
    {
     "name": "stdout",
     "output_type": "stream",
     "text": [
      "[-1. -1. -1. -1. -1. -1. -1. -1. -1.]\n",
      "[0.66666667 0.55555556 0.         0.77777778 1.         0.33333333 0.66666667 0.55555556 0.        ]\n"
     ]
    }
   ],
   "source": [
    "print(phi_x)\n",
    "print(phi_y)"
   ]
  },
  {
   "cell_type": "code",
   "execution_count": null,
   "metadata": {},
   "outputs": [],
   "source": []
  }
 ],
 "metadata": {
  "kernelspec": {
   "display_name": "tissuecyte",
   "language": "python",
   "name": "python3"
  },
  "language_info": {
   "codemirror_mode": {
    "name": "ipython",
    "version": 3
   },
   "file_extension": ".py",
   "mimetype": "text/x-python",
   "name": "python",
   "nbconvert_exporter": "python",
   "pygments_lexer": "ipython3",
   "version": "3.9.16"
  }
 },
 "nbformat": 4,
 "nbformat_minor": 2
}
