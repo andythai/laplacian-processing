{
 "cells": [
  {
   "cell_type": "markdown",
   "metadata": {},
   "source": [
    "# Grid setup LUT"
   ]
  },
  {
   "cell_type": "markdown",
   "metadata": {},
   "source": [
    "## Imports"
   ]
  },
  {
   "cell_type": "code",
   "execution_count": 1,
   "metadata": {},
   "outputs": [],
   "source": [
    "%load_ext autoreload\n",
    "%autoreload 2\n",
    "\n",
    "# 3rd party imports\n",
    "import numpy as np\n",
    "import matplotlib.colors as mcolors\n",
    "import matplotlib.pyplot as plt\n",
    "from pprint import pprint\n",
    "from tqdm import tqdm\n",
    "import networkx as nx\n",
    "\n",
    "# Local imports\n",
    "import modules.laplacian as laplacian\n",
    "import modules.jacobian as jacobian\n",
    "import modules.correspondences as correspondences"
   ]
  },
  {
   "cell_type": "markdown",
   "metadata": {},
   "source": [
    "## Functions"
   ]
  },
  {
   "cell_type": "code",
   "execution_count": 2,
   "metadata": {},
   "outputs": [
    {
     "name": "stdout",
     "output_type": "stream",
     "text": [
      "The vectors do not differ by a lot: 14.04 degrees\n"
     ]
    }
   ],
   "source": [
    "def get_neighborhood(point, points, max_dist):\n",
    "    # Get the Euclidean distance between the point and all other points\n",
    "    distances = np.linalg.norm(points - point, axis=1)\n",
    "    \n",
    "    # Get the indices of the points within the neighborhood\n",
    "    neighborhood_indices = np.where(distances <= max_dist)[0]\n",
    "    \n",
    "    # Get the points within the neighborhood\n",
    "    neighborhood = points[neighborhood_indices]\n",
    "    \n",
    "    #neighborhood = [pt for pt in neighborhood if pt != point]\n",
    "    \n",
    "    return neighborhood_indices, neighborhood\n",
    "\n",
    "\n",
    "def get_magnitude(v):\n",
    "    return np.linalg.norm(v)\n",
    "\n",
    "\n",
    "def angle_between_vectors(v1, v2):\n",
    "    # arccos (A dot B / |A||B|)\n",
    "    # Compute the dot product\n",
    "    dot_product = np.dot(v1, v2)\n",
    "    \n",
    "    # Compute the magnitudes of the vectors\n",
    "    magnitude_v1 = np.linalg.norm(v1)\n",
    "    magnitude_v2 = np.linalg.norm(v2)\n",
    "    \n",
    "    if magnitude_v1 == 0 or magnitude_v2 == 0:\n",
    "        return 0, 0\n",
    "    \n",
    "    # Compute the cosine of the angle\n",
    "    cos_theta = dot_product / (magnitude_v1 * magnitude_v2)\n",
    "    \n",
    "    # Clip the cosine value to the range [-1, 1] to avoid numerical issues\n",
    "    cos_theta = np.clip(cos_theta, -1.0, 1.0)\n",
    "    \n",
    "    # Compute the angle in radians\n",
    "    angle_rad = np.arccos(cos_theta)\n",
    "    \n",
    "    # Convert the angle to degrees\n",
    "    angle_deg = np.degrees(angle_rad)\n",
    "    \n",
    "    return angle_rad, angle_deg\n",
    "\n",
    "m1 = np.array([0, 1, 0])\n",
    "f1 = np.array([0, 1, 4])\n",
    "\n",
    "m2 = np.array([0, 3, 0])\n",
    "f2 = np.array([0, 4, 4])\n",
    "\n",
    "# Example vectors\n",
    "# v1 = np.array([1, 0, 0])\n",
    "# v2 = np.array([1, 0.5, 0])\n",
    "\n",
    "v1 = f1 - m1\n",
    "v2 = f2 - m2\n",
    "\n",
    "# Compute the angle between the vectors\n",
    "angle_rad, angle_deg = angle_between_vectors(v1, v2)\n",
    "\n",
    "# Check if the angle exceeds a certain threshold (e.g., 45 degrees)\n",
    "threshold_deg = 45\n",
    "if angle_deg > threshold_deg:\n",
    "    print(f\"The vectors differ by a lot: {angle_deg:.2f} degrees\")\n",
    "else:\n",
    "    print(f\"The vectors do not differ by a lot: {angle_deg:.2f} degrees\")\n",
    "    \n",
    "    \n",
    "def get_negative_jdet_coordinates(jdet_field: np.ndarray) -> np.ndarray:\n",
    "    \"\"\"\n",
    "    Get the coordinates of the negative values in the Jacobian determinant field.\n",
    "    \n",
    "    Parameters\n",
    "    ----------\n",
    "    jdet_field : np.ndarray\n",
    "        The Jacobian determinant field.\n",
    "    \n",
    "    Returns\n",
    "    -------\n",
    "    np.ndarray\n",
    "        The coordinates of the negative values\n",
    "    \"\"\"\n",
    "    # Get the indices of the negative values\n",
    "    indices = np.where(jdet_field <= 0)\n",
    "    \n",
    "    # Get the coordinates of the negative values\n",
    "    coordinates = np.column_stack((indices[0], indices[1]))\n",
    "    \n",
    "    return coordinates\n",
    "\n",
    "\n",
    "\n",
    "def label_correspondences(fpoints: np.ndarray, jdet_field: np.ndarray):\n",
    "    \"\"\"\n",
    "    Label the correspondences with the Jacobian determinant value.\n",
    "    \n",
    "    Parameters:\n",
    "    fpoints (np.ndarray): The fixed points.\n",
    "    jdet_field (np.ndarray): The Jacobian determinant field.\n",
    "    \n",
    "    Returns:\n",
    "    np.ndarray: The labeled correspondences.\n",
    "    \"\"\"\n",
    "    # Initialize the labeled correspondences\n",
    "    labeled_correspondences = []\n",
    "    \n",
    "    # Iterate through each correspondence\n",
    "    for i in range(len(fpoints)):\n",
    "        curr_fpt = fpoints[i].astype(int)\n",
    "        _, y, x = curr_fpt\n",
    "        jdets = []\n",
    "        if x != 0:\n",
    "            left_jdet = jdet_field[y, x - 1]\n",
    "            jdets.append(left_jdet)\n",
    "        if x != jdet_field.shape[1] - 1:\n",
    "            right_jdet = jdet_field[y, x + 1]\n",
    "            jdets.append(right_jdet)\n",
    "        if y != 0:\n",
    "            up_jdet = jdet_field[y - 1, x]\n",
    "            jdets.append(up_jdet)\n",
    "        if y != jdet_field.shape[0] - 1:\n",
    "            down_jdet = jdet_field[y + 1, x]\n",
    "            jdets.append(down_jdet)\n",
    "        jdet_value = jdet_field[y, x]\n",
    "        jdets.append(jdet_value)\n",
    "        \n",
    "        # Label the correspondence bad if any of the Jacobian determinants are negative\n",
    "        if np.min(jdets) <= 0:\n",
    "            labeled_correspondences.append(0)\n",
    "        else:\n",
    "            labeled_correspondences.append(1)\n",
    "    return labeled_correspondences"
   ]
  },
  {
   "cell_type": "markdown",
   "metadata": {},
   "source": [
    "## Create LUT test cases"
   ]
  },
  {
   "cell_type": "code",
   "execution_count": 3,
   "metadata": {},
   "outputs": [],
   "source": [
    "def create_grid(deformation: np.ndarray, jdet_field: np.ndarray, fpoints: np.ndarray, mpoints: np.ndarray):\n",
    "    \"\"\"\n",
    "    Creates a full grid of correspondence information.\n",
    "    \n",
    "    Parameters:\n",
    "    jdet_field (np.ndarray): The Jacobian determinant field.\n",
    "    fpoints (np.ndarray): The fixed points.\n",
    "    mpoints (np.ndarray): The moving points.\n",
    "    \n",
    "    Returns:\n",
    "    np.ndarray: The grid of points. Each element contains the following information:\n",
    "        - y (int): The y-coordinate of the point.\n",
    "        - x (int): The x-coordinate of the point.\n",
    "        - theta (float): The angle of the vector relative to the x-axis.\n",
    "        - magnitude (float): The magnitude\n",
    "        - Jdet (float): The Jacobian determinant value at the point.\n",
    "        - is_correspondence (bool): Whether the point is a correspondence.\n",
    "    \"\"\"\n",
    "    # Initialize the grid as an object array\n",
    "    grid_y = np.empty(jdet_field.shape, dtype=np.int16)\n",
    "    grid_x = np.empty(jdet_field.shape, dtype=np.int16)\n",
    "    grid_theta = np.empty(jdet_field.shape, dtype=np.float16)\n",
    "    grid_magnitude = np.empty(jdet_field.shape, dtype=np.float16)\n",
    "    grid_jdet = np.empty(jdet_field.shape, dtype=np.float16)\n",
    "    grid_correspondence = np.zeros(jdet_field.shape, dtype=bool)\n",
    "\n",
    "    # Store all information about correspondences into the grid\n",
    "    y_resolution = jdet_field.shape[0]\n",
    "    x_resolution = jdet_field.shape[1]\n",
    "    curr_deformation = deformation[:, 0, :, :]  # (3, 320, 456)\n",
    "    for y in tqdm(range(y_resolution)):\n",
    "        for x in range(x_resolution):\n",
    "            curr_displacement_vector = curr_deformation[:, y, x]\n",
    "            _, displacement_y, displacement_x = curr_displacement_vector\n",
    "            \n",
    "            \n",
    "            # Get current pixel information\n",
    "            theta = np.arctan2(displacement_y, displacement_x)                # Angle of the vector relative to the x-axis\n",
    "            if theta < 0:  # Ensure the angle is in the range [0, 2pi)\n",
    "                theta += 2 * np.pi\n",
    "            magnitude = np.linalg.norm(curr_displacement_vector)              # Magnitude of the vector\n",
    "            jdet_value = jdet_field[y, x]                                     # Jacobian determinant value\n",
    "            is_correspondence = np.any(np.all([0, y, x] == fpoints, axis=1)) or np.any(np.all([0, y, x] == mpoints, axis=1)) # Whether the point is a correspondence\n",
    "            \n",
    "            # Place these values into the grid\n",
    "            grid_y[y, x] = y\n",
    "            grid_x[y, x] = x\n",
    "            grid_theta[y, x] = theta\n",
    "            grid_magnitude[y, x] = magnitude\n",
    "            grid_jdet[y, x] = jdet_value\n",
    "            grid_correspondence[y, x] = is_correspondence\n",
    "        \n",
    "    return [grid_y, grid_x, grid_theta, grid_magnitude, grid_jdet, grid_correspondence]\n",
    "\n",
    "\n",
    "def show_grid(grids: list, mpoints, fpoints, title=\"\", fontsize=8):\n",
    "    \"\"\"\n",
    "    Show the grid of deformation information.\n",
    "    \n",
    "    Parameters:\n",
    "    grids (list): The grid of deformation information.\n",
    "    \"\"\"\n",
    "    grid_y, grid_x, grid_theta, grid_magnitude, grid_jdet, grid_correspondence = grids\n",
    "    norm = mcolors.TwoSlopeNorm(vmin=min(grid_jdet.min(), -1), vcenter=0, vmax=grid_jdet.max())\n",
    "    \n",
    "    # Plot the grid of deformation information\n",
    "    f = plt.figure(figsize=(10, 5))\n",
    "    \n",
    "    \n",
    "    # Plot the grid of Jacobian determinants color values\n",
    "    plt.imshow(grid_jdet, cmap=\"seismic\", norm=norm)\n",
    "    plt.colorbar()\n",
    "    \n",
    "    for i in range(len(fpoints)):\n",
    "        plt.annotate(\n",
    "            '', \n",
    "            xy=(fpoints[i][2], fpoints[i][1]), \n",
    "            xytext=(mpoints[i][2], mpoints[i][1]), \n",
    "            arrowprops=dict(color='green', shrink=0.045, headwidth=4, headlength=5, width=1)\n",
    "        )\n",
    "    \n",
    "    # Plot the coordinate text\n",
    "    for j in range(grid_y.shape[0]):\n",
    "        for i in range(grid_y.shape[1]):\n",
    "            # Get the pixel information\n",
    "            y = grid_y[j, i]\n",
    "            x = grid_x[j, i]\n",
    "            degrees = grid_theta[j, i]\n",
    "            magnitude = grid_magnitude[j, i]\n",
    "            jdet = grid_jdet[j, i]\n",
    "            is_correspondence = grid_correspondence[j, i]\n",
    "            \n",
    "            # Setup text to display\n",
    "            coord_text = f\"({y}, {x})\\n\"\n",
    "            vector_text = f\"\\n{degrees:.2f}°\\n\" + f\"∥{magnitude:.2f}∥\"\n",
    "            jdet_text = f\"{jdet:.2f} J\"\n",
    "            pixel_text = coord_text + jdet_text + vector_text\n",
    "            if is_correspondence:\n",
    "                text_weight = \"bold\"\n",
    "            else:\n",
    "                text_weight = \"normal\"\n",
    "            plt.text(i, j, pixel_text, color='black', ha='center', va='center', fontsize=fontsize, weight=text_weight)\n",
    "\n",
    "    # Set the xticks and yticks\n",
    "    plt.xticks(np.arange(grid_x.shape[0]), labels=np.arange(np.min(grid_x), np.max(grid_x) + 1))\n",
    "    plt.yticks(np.arange(grid_y.shape[0]), labels=np.arange(np.min(grid_y), np.max(grid_y) + 1))\n",
    "    \n",
    "    # Set the title\n",
    "    plt.title(title)\n",
    "    \n",
    "    plt.show()\n",
    "    f.clear()\n",
    "    plt.close(f)\n",
    "\n",
    "\n",
    "def create_correspondence(y, x, angle, magnitude):\n",
    "    angle = np.radians(angle)\n",
    "    mpoint = np.array([0, y, x])\n",
    "    fpoint = np.array([0, y + np.sin(angle) * magnitude, x + np.cos(angle) * magnitude])\n",
    "    return mpoint, fpoint"
   ]
  },
  {
   "cell_type": "code",
   "execution_count": null,
   "metadata": {},
   "outputs": [
    {
     "data": {
      "application/vnd.jupyter.widget-view+json": {
       "model_id": "2d5212fdffd446d4b22e2593cec24083",
       "version_major": 2,
       "version_minor": 0
      },
      "text/plain": [
       "Outer loop y:   0%|          | 0/7 [00:00<?, ?it/s]"
      ]
     },
     "metadata": {},
     "output_type": "display_data"
    },
    {
     "data": {
      "application/vnd.jupyter.widget-view+json": {
       "model_id": "bbd4f710152a4194ab30dc983f165b3b",
       "version_major": 2,
       "version_minor": 0
      },
      "text/plain": [
       "Outer loop x:   0%|          | 0/7 [00:00<?, ?it/s]"
      ]
     },
     "metadata": {},
     "output_type": "display_data"
    },
    {
     "data": {
      "application/vnd.jupyter.widget-view+json": {
       "model_id": "9d8b14efb0d84015b3aa1bd0252b742c",
       "version_major": 2,
       "version_minor": 0
      },
      "text/plain": [
       "Inner loop angle:   0%|          | 0/36 [00:00<?, ?it/s]"
      ]
     },
     "metadata": {},
     "output_type": "display_data"
    },
    {
     "data": {
      "application/vnd.jupyter.widget-view+json": {
       "model_id": "b57956e1f04d4603a045a53ba9a2ae8f",
       "version_major": 2,
       "version_minor": 0
      },
      "text/plain": [
       "Innermost loop magnitude:   0%|          | 0/10 [00:00<?, ?it/s]"
      ]
     },
     "metadata": {},
     "output_type": "display_data"
    },
    {
     "data": {
      "application/vnd.jupyter.widget-view+json": {
       "model_id": "7277cc2e92be4a43afed37dcd4fb706d",
       "version_major": 2,
       "version_minor": 0
      },
      "text/plain": [
       "Innermost loop magnitude:   0%|          | 0/10 [00:00<?, ?it/s]"
      ]
     },
     "metadata": {},
     "output_type": "display_data"
    },
    {
     "data": {
      "application/vnd.jupyter.widget-view+json": {
       "model_id": "3d968d6812704d68916795f29f4acbcf",
       "version_major": 2,
       "version_minor": 0
      },
      "text/plain": [
       "Innermost loop magnitude:   0%|          | 0/10 [00:00<?, ?it/s]"
      ]
     },
     "metadata": {},
     "output_type": "display_data"
    },
    {
     "data": {
      "application/vnd.jupyter.widget-view+json": {
       "model_id": "d51c0b91e23543db9d3e4bc6721bcd4e",
       "version_major": 2,
       "version_minor": 0
      },
      "text/plain": [
       "Innermost loop magnitude:   0%|          | 0/10 [00:00<?, ?it/s]"
      ]
     },
     "metadata": {},
     "output_type": "display_data"
    },
    {
     "data": {
      "application/vnd.jupyter.widget-view+json": {
       "model_id": "878f2ce212434b68b5e5ed811abb1626",
       "version_major": 2,
       "version_minor": 0
      },
      "text/plain": [
       "Innermost loop magnitude:   0%|          | 0/10 [00:00<?, ?it/s]"
      ]
     },
     "metadata": {},
     "output_type": "display_data"
    },
    {
     "data": {
      "application/vnd.jupyter.widget-view+json": {
       "model_id": "06932872796d4712b36e72893af75b9a",
       "version_major": 2,
       "version_minor": 0
      },
      "text/plain": [
       "Innermost loop magnitude:   0%|          | 0/10 [00:00<?, ?it/s]"
      ]
     },
     "metadata": {},
     "output_type": "display_data"
    },
    {
     "data": {
      "application/vnd.jupyter.widget-view+json": {
       "model_id": "2d11a357e8544c9d87ea3043afa88af2",
       "version_major": 2,
       "version_minor": 0
      },
      "text/plain": [
       "Innermost loop magnitude:   0%|          | 0/10 [00:00<?, ?it/s]"
      ]
     },
     "metadata": {},
     "output_type": "display_data"
    },
    {
     "data": {
      "application/vnd.jupyter.widget-view+json": {
       "model_id": "aecfb5e179a549d5a767ab4c568c4b4a",
       "version_major": 2,
       "version_minor": 0
      },
      "text/plain": [
       "Innermost loop magnitude:   0%|          | 0/10 [00:00<?, ?it/s]"
      ]
     },
     "metadata": {},
     "output_type": "display_data"
    },
    {
     "data": {
      "application/vnd.jupyter.widget-view+json": {
       "model_id": "2b2d808287a64610b77b4ac21caadc20",
       "version_major": 2,
       "version_minor": 0
      },
      "text/plain": [
       "Innermost loop magnitude:   0%|          | 0/10 [00:00<?, ?it/s]"
      ]
     },
     "metadata": {},
     "output_type": "display_data"
    },
    {
     "data": {
      "application/vnd.jupyter.widget-view+json": {
       "model_id": "10a4feb756f046b3b2f378ef4a240525",
       "version_major": 2,
       "version_minor": 0
      },
      "text/plain": [
       "Innermost loop magnitude:   0%|          | 0/10 [00:00<?, ?it/s]"
      ]
     },
     "metadata": {},
     "output_type": "display_data"
    },
    {
     "data": {
      "application/vnd.jupyter.widget-view+json": {
       "model_id": "91b2980d928f42f7ba064e1bcad8a1b4",
       "version_major": 2,
       "version_minor": 0
      },
      "text/plain": [
       "Innermost loop magnitude:   0%|          | 0/10 [00:00<?, ?it/s]"
      ]
     },
     "metadata": {},
     "output_type": "display_data"
    },
    {
     "data": {
      "application/vnd.jupyter.widget-view+json": {
       "model_id": "a59912cc89014e4c973dacb56b517071",
       "version_major": 2,
       "version_minor": 0
      },
      "text/plain": [
       "Innermost loop magnitude:   0%|          | 0/10 [00:00<?, ?it/s]"
      ]
     },
     "metadata": {},
     "output_type": "display_data"
    },
    {
     "data": {
      "application/vnd.jupyter.widget-view+json": {
       "model_id": "b42d328b111046b2b4604ee919cf44bf",
       "version_major": 2,
       "version_minor": 0
      },
      "text/plain": [
       "Innermost loop magnitude:   0%|          | 0/10 [00:00<?, ?it/s]"
      ]
     },
     "metadata": {},
     "output_type": "display_data"
    },
    {
     "data": {
      "application/vnd.jupyter.widget-view+json": {
       "model_id": "36d45536b35a47898d7997b88ff61870",
       "version_major": 2,
       "version_minor": 0
      },
      "text/plain": [
       "Innermost loop magnitude:   0%|          | 0/10 [00:00<?, ?it/s]"
      ]
     },
     "metadata": {},
     "output_type": "display_data"
    },
    {
     "data": {
      "application/vnd.jupyter.widget-view+json": {
       "model_id": "7f4432a1ac18461b8640a6d134ab4218",
       "version_major": 2,
       "version_minor": 0
      },
      "text/plain": [
       "Innermost loop magnitude:   0%|          | 0/10 [00:00<?, ?it/s]"
      ]
     },
     "metadata": {},
     "output_type": "display_data"
    },
    {
     "data": {
      "application/vnd.jupyter.widget-view+json": {
       "model_id": "41bbe86071184e3f98f5ffc184e5f23e",
       "version_major": 2,
       "version_minor": 0
      },
      "text/plain": [
       "Innermost loop magnitude:   0%|          | 0/10 [00:00<?, ?it/s]"
      ]
     },
     "metadata": {},
     "output_type": "display_data"
    },
    {
     "data": {
      "application/vnd.jupyter.widget-view+json": {
       "model_id": "8f47d702724b4b41a7db731c8f966833",
       "version_major": 2,
       "version_minor": 0
      },
      "text/plain": [
       "Innermost loop magnitude:   0%|          | 0/10 [00:00<?, ?it/s]"
      ]
     },
     "metadata": {},
     "output_type": "display_data"
    },
    {
     "data": {
      "application/vnd.jupyter.widget-view+json": {
       "model_id": "0a6c5367a4da4998b32ee1fac884f8b0",
       "version_major": 2,
       "version_minor": 0
      },
      "text/plain": [
       "Innermost loop magnitude:   0%|          | 0/10 [00:00<?, ?it/s]"
      ]
     },
     "metadata": {},
     "output_type": "display_data"
    },
    {
     "data": {
      "application/vnd.jupyter.widget-view+json": {
       "model_id": "5e5c41c4de32411e94e61433e68a473a",
       "version_major": 2,
       "version_minor": 0
      },
      "text/plain": [
       "Innermost loop magnitude:   0%|          | 0/10 [00:00<?, ?it/s]"
      ]
     },
     "metadata": {},
     "output_type": "display_data"
    },
    {
     "data": {
      "application/vnd.jupyter.widget-view+json": {
       "model_id": "67c010c8e76e401489fb536b2bbea99f",
       "version_major": 2,
       "version_minor": 0
      },
      "text/plain": [
       "Innermost loop magnitude:   0%|          | 0/10 [00:00<?, ?it/s]"
      ]
     },
     "metadata": {},
     "output_type": "display_data"
    },
    {
     "data": {
      "application/vnd.jupyter.widget-view+json": {
       "model_id": "75cc0bf1733f4e6495a2886eded905de",
       "version_major": 2,
       "version_minor": 0
      },
      "text/plain": [
       "Innermost loop magnitude:   0%|          | 0/10 [00:00<?, ?it/s]"
      ]
     },
     "metadata": {},
     "output_type": "display_data"
    },
    {
     "data": {
      "application/vnd.jupyter.widget-view+json": {
       "model_id": "dc3c5079b20142dba735013732f90b1e",
       "version_major": 2,
       "version_minor": 0
      },
      "text/plain": [
       "Innermost loop magnitude:   0%|          | 0/10 [00:00<?, ?it/s]"
      ]
     },
     "metadata": {},
     "output_type": "display_data"
    },
    {
     "data": {
      "application/vnd.jupyter.widget-view+json": {
       "model_id": "56720ef0af264361a7395dd04b4f3ef9",
       "version_major": 2,
       "version_minor": 0
      },
      "text/plain": [
       "Innermost loop magnitude:   0%|          | 0/10 [00:00<?, ?it/s]"
      ]
     },
     "metadata": {},
     "output_type": "display_data"
    },
    {
     "data": {
      "application/vnd.jupyter.widget-view+json": {
       "model_id": "4cde2cdfe9914bfda8ec7a4caba9820f",
       "version_major": 2,
       "version_minor": 0
      },
      "text/plain": [
       "Innermost loop magnitude:   0%|          | 0/10 [00:00<?, ?it/s]"
      ]
     },
     "metadata": {},
     "output_type": "display_data"
    },
    {
     "data": {
      "application/vnd.jupyter.widget-view+json": {
       "model_id": "1cb642ad02d2414bb90d195cb5f0b013",
       "version_major": 2,
       "version_minor": 0
      },
      "text/plain": [
       "Innermost loop magnitude:   0%|          | 0/10 [00:00<?, ?it/s]"
      ]
     },
     "metadata": {},
     "output_type": "display_data"
    },
    {
     "data": {
      "application/vnd.jupyter.widget-view+json": {
       "model_id": "8d3fb3e926b245c7b71796600f902144",
       "version_major": 2,
       "version_minor": 0
      },
      "text/plain": [
       "Innermost loop magnitude:   0%|          | 0/10 [00:00<?, ?it/s]"
      ]
     },
     "metadata": {},
     "output_type": "display_data"
    },
    {
     "data": {
      "application/vnd.jupyter.widget-view+json": {
       "model_id": "ab3e2167d06b443292b4190fe8f3ee90",
       "version_major": 2,
       "version_minor": 0
      },
      "text/plain": [
       "Innermost loop magnitude:   0%|          | 0/10 [00:00<?, ?it/s]"
      ]
     },
     "metadata": {},
     "output_type": "display_data"
    },
    {
     "data": {
      "application/vnd.jupyter.widget-view+json": {
       "model_id": "337c0dd1711047d7b1405647afe208a8",
       "version_major": 2,
       "version_minor": 0
      },
      "text/plain": [
       "Innermost loop magnitude:   0%|          | 0/10 [00:00<?, ?it/s]"
      ]
     },
     "metadata": {},
     "output_type": "display_data"
    },
    {
     "data": {
      "application/vnd.jupyter.widget-view+json": {
       "model_id": "315327cc535049f7bdaec3f309fcf760",
       "version_major": 2,
       "version_minor": 0
      },
      "text/plain": [
       "Innermost loop magnitude:   0%|          | 0/10 [00:00<?, ?it/s]"
      ]
     },
     "metadata": {},
     "output_type": "display_data"
    },
    {
     "data": {
      "application/vnd.jupyter.widget-view+json": {
       "model_id": "cb3e31da17684b45a29da0f14e00553a",
       "version_major": 2,
       "version_minor": 0
      },
      "text/plain": [
       "Innermost loop magnitude:   0%|          | 0/10 [00:00<?, ?it/s]"
      ]
     },
     "metadata": {},
     "output_type": "display_data"
    },
    {
     "data": {
      "application/vnd.jupyter.widget-view+json": {
       "model_id": "3863ae415c164072afd595a3e3197646",
       "version_major": 2,
       "version_minor": 0
      },
      "text/plain": [
       "Innermost loop magnitude:   0%|          | 0/10 [00:00<?, ?it/s]"
      ]
     },
     "metadata": {},
     "output_type": "display_data"
    },
    {
     "data": {
      "application/vnd.jupyter.widget-view+json": {
       "model_id": "bb5095ab0c28445ca29e4f2e8fbd4cd9",
       "version_major": 2,
       "version_minor": 0
      },
      "text/plain": [
       "Innermost loop magnitude:   0%|          | 0/10 [00:00<?, ?it/s]"
      ]
     },
     "metadata": {},
     "output_type": "display_data"
    },
    {
     "data": {
      "application/vnd.jupyter.widget-view+json": {
       "model_id": "1f9f81293f734a3a9808d74a671e58c1",
       "version_major": 2,
       "version_minor": 0
      },
      "text/plain": [
       "Innermost loop magnitude:   0%|          | 0/10 [00:00<?, ?it/s]"
      ]
     },
     "metadata": {},
     "output_type": "display_data"
    },
    {
     "data": {
      "application/vnd.jupyter.widget-view+json": {
       "model_id": "66fdffb681ae483582aafa8f282771d4",
       "version_major": 2,
       "version_minor": 0
      },
      "text/plain": [
       "Innermost loop magnitude:   0%|          | 0/10 [00:00<?, ?it/s]"
      ]
     },
     "metadata": {},
     "output_type": "display_data"
    },
    {
     "data": {
      "application/vnd.jupyter.widget-view+json": {
       "model_id": "cae98eddc76043e98ce48c5767d87b76",
       "version_major": 2,
       "version_minor": 0
      },
      "text/plain": [
       "Innermost loop magnitude:   0%|          | 0/10 [00:00<?, ?it/s]"
      ]
     },
     "metadata": {},
     "output_type": "display_data"
    },
    {
     "data": {
      "application/vnd.jupyter.widget-view+json": {
       "model_id": "a86c8c331cd0406ea09f412d4d0f078e",
       "version_major": 2,
       "version_minor": 0
      },
      "text/plain": [
       "Innermost loop magnitude:   0%|          | 0/10 [00:00<?, ?it/s]"
      ]
     },
     "metadata": {},
     "output_type": "display_data"
    },
    {
     "data": {
      "application/vnd.jupyter.widget-view+json": {
       "model_id": "a823f35a28474bc8b06f1e0a587c02e2",
       "version_major": 2,
       "version_minor": 0
      },
      "text/plain": [
       "Inner loop angle:   0%|          | 0/36 [00:00<?, ?it/s]"
      ]
     },
     "metadata": {},
     "output_type": "display_data"
    },
    {
     "data": {
      "application/vnd.jupyter.widget-view+json": {
       "model_id": "ed69d630a1254b5ebb0567297bb9a728",
       "version_major": 2,
       "version_minor": 0
      },
      "text/plain": [
       "Innermost loop magnitude:   0%|          | 0/10 [00:00<?, ?it/s]"
      ]
     },
     "metadata": {},
     "output_type": "display_data"
    },
    {
     "data": {
      "application/vnd.jupyter.widget-view+json": {
       "model_id": "0de88b0f8eec493da23e1a3003e7e4a5",
       "version_major": 2,
       "version_minor": 0
      },
      "text/plain": [
       "Innermost loop magnitude:   0%|          | 0/10 [00:00<?, ?it/s]"
      ]
     },
     "metadata": {},
     "output_type": "display_data"
    },
    {
     "data": {
      "application/vnd.jupyter.widget-view+json": {
       "model_id": "ebf3d0f736914a4ea3675cf38e61630f",
       "version_major": 2,
       "version_minor": 0
      },
      "text/plain": [
       "Innermost loop magnitude:   0%|          | 0/10 [00:00<?, ?it/s]"
      ]
     },
     "metadata": {},
     "output_type": "display_data"
    },
    {
     "data": {
      "application/vnd.jupyter.widget-view+json": {
       "model_id": "813f649b3f47489b8408907b38f801e5",
       "version_major": 2,
       "version_minor": 0
      },
      "text/plain": [
       "Innermost loop magnitude:   0%|          | 0/10 [00:00<?, ?it/s]"
      ]
     },
     "metadata": {},
     "output_type": "display_data"
    },
    {
     "data": {
      "application/vnd.jupyter.widget-view+json": {
       "model_id": "56a3fea974bd432a922483f8063dc742",
       "version_major": 2,
       "version_minor": 0
      },
      "text/plain": [
       "Innermost loop magnitude:   0%|          | 0/10 [00:00<?, ?it/s]"
      ]
     },
     "metadata": {},
     "output_type": "display_data"
    },
    {
     "data": {
      "application/vnd.jupyter.widget-view+json": {
       "model_id": "2fb9ecadd1114c43a3fa90bfca05132c",
       "version_major": 2,
       "version_minor": 0
      },
      "text/plain": [
       "Innermost loop magnitude:   0%|          | 0/10 [00:00<?, ?it/s]"
      ]
     },
     "metadata": {},
     "output_type": "display_data"
    },
    {
     "data": {
      "application/vnd.jupyter.widget-view+json": {
       "model_id": "8551a1e59a6748c49fca2e0efc6d5750",
       "version_major": 2,
       "version_minor": 0
      },
      "text/plain": [
       "Innermost loop magnitude:   0%|          | 0/10 [00:00<?, ?it/s]"
      ]
     },
     "metadata": {},
     "output_type": "display_data"
    },
    {
     "data": {
      "application/vnd.jupyter.widget-view+json": {
       "model_id": "f460b725137546feb913e34a35054f39",
       "version_major": 2,
       "version_minor": 0
      },
      "text/plain": [
       "Innermost loop magnitude:   0%|          | 0/10 [00:00<?, ?it/s]"
      ]
     },
     "metadata": {},
     "output_type": "display_data"
    },
    {
     "data": {
      "application/vnd.jupyter.widget-view+json": {
       "model_id": "2101ff273ec449449885105dc58a714b",
       "version_major": 2,
       "version_minor": 0
      },
      "text/plain": [
       "Innermost loop magnitude:   0%|          | 0/10 [00:00<?, ?it/s]"
      ]
     },
     "metadata": {},
     "output_type": "display_data"
    },
    {
     "data": {
      "application/vnd.jupyter.widget-view+json": {
       "model_id": "ccf6b1e1069049ad98e195257b167ef4",
       "version_major": 2,
       "version_minor": 0
      },
      "text/plain": [
       "Innermost loop magnitude:   0%|          | 0/10 [00:00<?, ?it/s]"
      ]
     },
     "metadata": {},
     "output_type": "display_data"
    },
    {
     "data": {
      "application/vnd.jupyter.widget-view+json": {
       "model_id": "aa579471169f4e169a81750178fee05c",
       "version_major": 2,
       "version_minor": 0
      },
      "text/plain": [
       "Innermost loop magnitude:   0%|          | 0/10 [00:00<?, ?it/s]"
      ]
     },
     "metadata": {},
     "output_type": "display_data"
    },
    {
     "data": {
      "application/vnd.jupyter.widget-view+json": {
       "model_id": "329952a186544b91ae5939e39a41cf4e",
       "version_major": 2,
       "version_minor": 0
      },
      "text/plain": [
       "Innermost loop magnitude:   0%|          | 0/10 [00:00<?, ?it/s]"
      ]
     },
     "metadata": {},
     "output_type": "display_data"
    },
    {
     "data": {
      "application/vnd.jupyter.widget-view+json": {
       "model_id": "7fbe26bb7e4c4076b846c3b96ba39949",
       "version_major": 2,
       "version_minor": 0
      },
      "text/plain": [
       "Innermost loop magnitude:   0%|          | 0/10 [00:00<?, ?it/s]"
      ]
     },
     "metadata": {},
     "output_type": "display_data"
    },
    {
     "data": {
      "application/vnd.jupyter.widget-view+json": {
       "model_id": "92e8e281edd7453c849ffc6c20529d30",
       "version_major": 2,
       "version_minor": 0
      },
      "text/plain": [
       "Innermost loop magnitude:   0%|          | 0/10 [00:00<?, ?it/s]"
      ]
     },
     "metadata": {},
     "output_type": "display_data"
    },
    {
     "data": {
      "application/vnd.jupyter.widget-view+json": {
       "model_id": "ba219b88c5d040488f876e52d71a7b65",
       "version_major": 2,
       "version_minor": 0
      },
      "text/plain": [
       "Innermost loop magnitude:   0%|          | 0/10 [00:00<?, ?it/s]"
      ]
     },
     "metadata": {},
     "output_type": "display_data"
    },
    {
     "data": {
      "application/vnd.jupyter.widget-view+json": {
       "model_id": "760562a96f704b8790dcdfba95cc5208",
       "version_major": 2,
       "version_minor": 0
      },
      "text/plain": [
       "Innermost loop magnitude:   0%|          | 0/10 [00:00<?, ?it/s]"
      ]
     },
     "metadata": {},
     "output_type": "display_data"
    },
    {
     "data": {
      "application/vnd.jupyter.widget-view+json": {
       "model_id": "780f52e156bd4d67bb058505ac0d8975",
       "version_major": 2,
       "version_minor": 0
      },
      "text/plain": [
       "Innermost loop magnitude:   0%|          | 0/10 [00:00<?, ?it/s]"
      ]
     },
     "metadata": {},
     "output_type": "display_data"
    },
    {
     "data": {
      "application/vnd.jupyter.widget-view+json": {
       "model_id": "71f0a6e60db947f68a9cf8a0d22461f8",
       "version_major": 2,
       "version_minor": 0
      },
      "text/plain": [
       "Innermost loop magnitude:   0%|          | 0/10 [00:00<?, ?it/s]"
      ]
     },
     "metadata": {},
     "output_type": "display_data"
    },
    {
     "data": {
      "application/vnd.jupyter.widget-view+json": {
       "model_id": "9ebc6487f31449c5b6932ce3cd59639a",
       "version_major": 2,
       "version_minor": 0
      },
      "text/plain": [
       "Innermost loop magnitude:   0%|          | 0/10 [00:00<?, ?it/s]"
      ]
     },
     "metadata": {},
     "output_type": "display_data"
    },
    {
     "data": {
      "application/vnd.jupyter.widget-view+json": {
       "model_id": "2f6430505df34ee480d7a951e5d828ac",
       "version_major": 2,
       "version_minor": 0
      },
      "text/plain": [
       "Innermost loop magnitude:   0%|          | 0/10 [00:00<?, ?it/s]"
      ]
     },
     "metadata": {},
     "output_type": "display_data"
    },
    {
     "data": {
      "application/vnd.jupyter.widget-view+json": {
       "model_id": "4af3fac92af544ea891ba426ade1d524",
       "version_major": 2,
       "version_minor": 0
      },
      "text/plain": [
       "Innermost loop magnitude:   0%|          | 0/10 [00:00<?, ?it/s]"
      ]
     },
     "metadata": {},
     "output_type": "display_data"
    },
    {
     "data": {
      "application/vnd.jupyter.widget-view+json": {
       "model_id": "6612d0e2968644dfb8c93ea0bfa0f2c0",
       "version_major": 2,
       "version_minor": 0
      },
      "text/plain": [
       "Innermost loop magnitude:   0%|          | 0/10 [00:00<?, ?it/s]"
      ]
     },
     "metadata": {},
     "output_type": "display_data"
    },
    {
     "data": {
      "application/vnd.jupyter.widget-view+json": {
       "model_id": "97d93baf44d447e48dd0eeccd29e666c",
       "version_major": 2,
       "version_minor": 0
      },
      "text/plain": [
       "Innermost loop magnitude:   0%|          | 0/10 [00:00<?, ?it/s]"
      ]
     },
     "metadata": {},
     "output_type": "display_data"
    },
    {
     "data": {
      "application/vnd.jupyter.widget-view+json": {
       "model_id": "efd9b41a6e0f42429614098903a526d1",
       "version_major": 2,
       "version_minor": 0
      },
      "text/plain": [
       "Innermost loop magnitude:   0%|          | 0/10 [00:00<?, ?it/s]"
      ]
     },
     "metadata": {},
     "output_type": "display_data"
    },
    {
     "data": {
      "application/vnd.jupyter.widget-view+json": {
       "model_id": "00d51dce654a4ab7a3bd44294e9b6023",
       "version_major": 2,
       "version_minor": 0
      },
      "text/plain": [
       "Innermost loop magnitude:   0%|          | 0/10 [00:00<?, ?it/s]"
      ]
     },
     "metadata": {},
     "output_type": "display_data"
    },
    {
     "data": {
      "application/vnd.jupyter.widget-view+json": {
       "model_id": "8cc6d16ff8d241b7a6edcf32f75db0db",
       "version_major": 2,
       "version_minor": 0
      },
      "text/plain": [
       "Innermost loop magnitude:   0%|          | 0/10 [00:00<?, ?it/s]"
      ]
     },
     "metadata": {},
     "output_type": "display_data"
    },
    {
     "data": {
      "application/vnd.jupyter.widget-view+json": {
       "model_id": "c1fbb86e2a0a4eb5aa49f84f185bddf8",
       "version_major": 2,
       "version_minor": 0
      },
      "text/plain": [
       "Innermost loop magnitude:   0%|          | 0/10 [00:00<?, ?it/s]"
      ]
     },
     "metadata": {},
     "output_type": "display_data"
    },
    {
     "data": {
      "application/vnd.jupyter.widget-view+json": {
       "model_id": "facf2abc4b2144d2b194f0e0f74fbd3c",
       "version_major": 2,
       "version_minor": 0
      },
      "text/plain": [
       "Innermost loop magnitude:   0%|          | 0/10 [00:00<?, ?it/s]"
      ]
     },
     "metadata": {},
     "output_type": "display_data"
    },
    {
     "data": {
      "application/vnd.jupyter.widget-view+json": {
       "model_id": "321dcc7e2b344983b7fde476e0d2d7e9",
       "version_major": 2,
       "version_minor": 0
      },
      "text/plain": [
       "Innermost loop magnitude:   0%|          | 0/10 [00:00<?, ?it/s]"
      ]
     },
     "metadata": {},
     "output_type": "display_data"
    },
    {
     "data": {
      "application/vnd.jupyter.widget-view+json": {
       "model_id": "7cbc9dc0f8964a61af9fbe02ef0f84c5",
       "version_major": 2,
       "version_minor": 0
      },
      "text/plain": [
       "Innermost loop magnitude:   0%|          | 0/10 [00:00<?, ?it/s]"
      ]
     },
     "metadata": {},
     "output_type": "display_data"
    },
    {
     "data": {
      "application/vnd.jupyter.widget-view+json": {
       "model_id": "bedfe23740c94754a84f36e81d214e33",
       "version_major": 2,
       "version_minor": 0
      },
      "text/plain": [
       "Innermost loop magnitude:   0%|          | 0/10 [00:00<?, ?it/s]"
      ]
     },
     "metadata": {},
     "output_type": "display_data"
    },
    {
     "data": {
      "application/vnd.jupyter.widget-view+json": {
       "model_id": "239ba0ffdf3e4bc7a4cfb4d76a27d3f7",
       "version_major": 2,
       "version_minor": 0
      },
      "text/plain": [
       "Innermost loop magnitude:   0%|          | 0/10 [00:00<?, ?it/s]"
      ]
     },
     "metadata": {},
     "output_type": "display_data"
    },
    {
     "data": {
      "application/vnd.jupyter.widget-view+json": {
       "model_id": "28745f6fd5b14215a9ac5b1c643994bf",
       "version_major": 2,
       "version_minor": 0
      },
      "text/plain": [
       "Innermost loop magnitude:   0%|          | 0/10 [00:00<?, ?it/s]"
      ]
     },
     "metadata": {},
     "output_type": "display_data"
    },
    {
     "data": {
      "application/vnd.jupyter.widget-view+json": {
       "model_id": "7f537fe88b70417fa4abbb3ca73c9fc8",
       "version_major": 2,
       "version_minor": 0
      },
      "text/plain": [
       "Innermost loop magnitude:   0%|          | 0/10 [00:00<?, ?it/s]"
      ]
     },
     "metadata": {},
     "output_type": "display_data"
    },
    {
     "data": {
      "application/vnd.jupyter.widget-view+json": {
       "model_id": "863c45678e5f423fbcb92d3643ba8546",
       "version_major": 2,
       "version_minor": 0
      },
      "text/plain": [
       "Innermost loop magnitude:   0%|          | 0/10 [00:00<?, ?it/s]"
      ]
     },
     "metadata": {},
     "output_type": "display_data"
    },
    {
     "data": {
      "application/vnd.jupyter.widget-view+json": {
       "model_id": "56475d4bd7bd453c9bc0f19a1f886d0d",
       "version_major": 2,
       "version_minor": 0
      },
      "text/plain": [
       "Innermost loop magnitude:   0%|          | 0/10 [00:00<?, ?it/s]"
      ]
     },
     "metadata": {},
     "output_type": "display_data"
    },
    {
     "data": {
      "application/vnd.jupyter.widget-view+json": {
       "model_id": "4f1b9df7d3fa4b348e1f6f6ec42621ca",
       "version_major": 2,
       "version_minor": 0
      },
      "text/plain": [
       "Inner loop angle:   0%|          | 0/36 [00:00<?, ?it/s]"
      ]
     },
     "metadata": {},
     "output_type": "display_data"
    },
    {
     "data": {
      "application/vnd.jupyter.widget-view+json": {
       "model_id": "0df9e199438342388c60e29db0c3943e",
       "version_major": 2,
       "version_minor": 0
      },
      "text/plain": [
       "Innermost loop magnitude:   0%|          | 0/10 [00:00<?, ?it/s]"
      ]
     },
     "metadata": {},
     "output_type": "display_data"
    },
    {
     "data": {
      "application/vnd.jupyter.widget-view+json": {
       "model_id": "6482b1ab35944ced95a17494108510aa",
       "version_major": 2,
       "version_minor": 0
      },
      "text/plain": [
       "Innermost loop magnitude:   0%|          | 0/10 [00:00<?, ?it/s]"
      ]
     },
     "metadata": {},
     "output_type": "display_data"
    },
    {
     "data": {
      "application/vnd.jupyter.widget-view+json": {
       "model_id": "ce01c90bfca24e0aa35df212ca454cff",
       "version_major": 2,
       "version_minor": 0
      },
      "text/plain": [
       "Innermost loop magnitude:   0%|          | 0/10 [00:00<?, ?it/s]"
      ]
     },
     "metadata": {},
     "output_type": "display_data"
    },
    {
     "data": {
      "application/vnd.jupyter.widget-view+json": {
       "model_id": "24655ed78bf94478bc08a05e3a74cbdb",
       "version_major": 2,
       "version_minor": 0
      },
      "text/plain": [
       "Innermost loop magnitude:   0%|          | 0/10 [00:00<?, ?it/s]"
      ]
     },
     "metadata": {},
     "output_type": "display_data"
    },
    {
     "data": {
      "application/vnd.jupyter.widget-view+json": {
       "model_id": "7acd09a5d14d4b14a79ee81ad3ea653d",
       "version_major": 2,
       "version_minor": 0
      },
      "text/plain": [
       "Innermost loop magnitude:   0%|          | 0/10 [00:00<?, ?it/s]"
      ]
     },
     "metadata": {},
     "output_type": "display_data"
    },
    {
     "data": {
      "application/vnd.jupyter.widget-view+json": {
       "model_id": "e02390565b694fbfaecd88694d5b89b3",
       "version_major": 2,
       "version_minor": 0
      },
      "text/plain": [
       "Innermost loop magnitude:   0%|          | 0/10 [00:00<?, ?it/s]"
      ]
     },
     "metadata": {},
     "output_type": "display_data"
    },
    {
     "data": {
      "application/vnd.jupyter.widget-view+json": {
       "model_id": "0f6aa4c8f3b745178dbc14a4ee133abf",
       "version_major": 2,
       "version_minor": 0
      },
      "text/plain": [
       "Innermost loop magnitude:   0%|          | 0/10 [00:00<?, ?it/s]"
      ]
     },
     "metadata": {},
     "output_type": "display_data"
    },
    {
     "data": {
      "application/vnd.jupyter.widget-view+json": {
       "model_id": "890fd254dc0b449f896c5b29971a4cab",
       "version_major": 2,
       "version_minor": 0
      },
      "text/plain": [
       "Innermost loop magnitude:   0%|          | 0/10 [00:00<?, ?it/s]"
      ]
     },
     "metadata": {},
     "output_type": "display_data"
    },
    {
     "data": {
      "application/vnd.jupyter.widget-view+json": {
       "model_id": "e20b1b1beb074dffbf7c27b22f7e1c3b",
       "version_major": 2,
       "version_minor": 0
      },
      "text/plain": [
       "Innermost loop magnitude:   0%|          | 0/10 [00:00<?, ?it/s]"
      ]
     },
     "metadata": {},
     "output_type": "display_data"
    },
    {
     "data": {
      "application/vnd.jupyter.widget-view+json": {
       "model_id": "bd7fae6c0a974995a06b33a431e27510",
       "version_major": 2,
       "version_minor": 0
      },
      "text/plain": [
       "Innermost loop magnitude:   0%|          | 0/10 [00:00<?, ?it/s]"
      ]
     },
     "metadata": {},
     "output_type": "display_data"
    },
    {
     "data": {
      "application/vnd.jupyter.widget-view+json": {
       "model_id": "7d689fa7aa6d4af69ded5b8edbf49349",
       "version_major": 2,
       "version_minor": 0
      },
      "text/plain": [
       "Innermost loop magnitude:   0%|          | 0/10 [00:00<?, ?it/s]"
      ]
     },
     "metadata": {},
     "output_type": "display_data"
    },
    {
     "data": {
      "application/vnd.jupyter.widget-view+json": {
       "model_id": "f8ad2dcd95294bd3a5109aa9525930af",
       "version_major": 2,
       "version_minor": 0
      },
      "text/plain": [
       "Innermost loop magnitude:   0%|          | 0/10 [00:00<?, ?it/s]"
      ]
     },
     "metadata": {},
     "output_type": "display_data"
    },
    {
     "data": {
      "application/vnd.jupyter.widget-view+json": {
       "model_id": "fee8847d9d5e4bc28c6bf5e1159f4db7",
       "version_major": 2,
       "version_minor": 0
      },
      "text/plain": [
       "Innermost loop magnitude:   0%|          | 0/10 [00:00<?, ?it/s]"
      ]
     },
     "metadata": {},
     "output_type": "display_data"
    },
    {
     "data": {
      "application/vnd.jupyter.widget-view+json": {
       "model_id": "885cc130166944fbba4a004ec67a2a09",
       "version_major": 2,
       "version_minor": 0
      },
      "text/plain": [
       "Innermost loop magnitude:   0%|          | 0/10 [00:00<?, ?it/s]"
      ]
     },
     "metadata": {},
     "output_type": "display_data"
    },
    {
     "data": {
      "application/vnd.jupyter.widget-view+json": {
       "model_id": "fca1ebf094d94b1e96a4e43155d080df",
       "version_major": 2,
       "version_minor": 0
      },
      "text/plain": [
       "Innermost loop magnitude:   0%|          | 0/10 [00:00<?, ?it/s]"
      ]
     },
     "metadata": {},
     "output_type": "display_data"
    },
    {
     "data": {
      "application/vnd.jupyter.widget-view+json": {
       "model_id": "e09e4e3d0832469fbbc4e946a86add61",
       "version_major": 2,
       "version_minor": 0
      },
      "text/plain": [
       "Innermost loop magnitude:   0%|          | 0/10 [00:00<?, ?it/s]"
      ]
     },
     "metadata": {},
     "output_type": "display_data"
    },
    {
     "data": {
      "application/vnd.jupyter.widget-view+json": {
       "model_id": "42fe288852fc4943a531c3e03c085393",
       "version_major": 2,
       "version_minor": 0
      },
      "text/plain": [
       "Innermost loop magnitude:   0%|          | 0/10 [00:00<?, ?it/s]"
      ]
     },
     "metadata": {},
     "output_type": "display_data"
    },
    {
     "data": {
      "application/vnd.jupyter.widget-view+json": {
       "model_id": "9c9dcf62dabb40c9ae144d62cfc829d7",
       "version_major": 2,
       "version_minor": 0
      },
      "text/plain": [
       "Innermost loop magnitude:   0%|          | 0/10 [00:00<?, ?it/s]"
      ]
     },
     "metadata": {},
     "output_type": "display_data"
    },
    {
     "data": {
      "application/vnd.jupyter.widget-view+json": {
       "model_id": "15a75d17e6f74f76adede5fa14efe575",
       "version_major": 2,
       "version_minor": 0
      },
      "text/plain": [
       "Innermost loop magnitude:   0%|          | 0/10 [00:00<?, ?it/s]"
      ]
     },
     "metadata": {},
     "output_type": "display_data"
    },
    {
     "data": {
      "application/vnd.jupyter.widget-view+json": {
       "model_id": "e331e073b4f64f77b611c75b34c0dc4f",
       "version_major": 2,
       "version_minor": 0
      },
      "text/plain": [
       "Innermost loop magnitude:   0%|          | 0/10 [00:00<?, ?it/s]"
      ]
     },
     "metadata": {},
     "output_type": "display_data"
    },
    {
     "data": {
      "application/vnd.jupyter.widget-view+json": {
       "model_id": "cbda98d0a83546a0b948d37840d6a825",
       "version_major": 2,
       "version_minor": 0
      },
      "text/plain": [
       "Innermost loop magnitude:   0%|          | 0/10 [00:00<?, ?it/s]"
      ]
     },
     "metadata": {},
     "output_type": "display_data"
    },
    {
     "data": {
      "application/vnd.jupyter.widget-view+json": {
       "model_id": "d3e193cf8e30400fb47f0d3949f90f02",
       "version_major": 2,
       "version_minor": 0
      },
      "text/plain": [
       "Innermost loop magnitude:   0%|          | 0/10 [00:00<?, ?it/s]"
      ]
     },
     "metadata": {},
     "output_type": "display_data"
    },
    {
     "data": {
      "application/vnd.jupyter.widget-view+json": {
       "model_id": "95a7ca1e29c0466082c233eba209e3a4",
       "version_major": 2,
       "version_minor": 0
      },
      "text/plain": [
       "Innermost loop magnitude:   0%|          | 0/10 [00:00<?, ?it/s]"
      ]
     },
     "metadata": {},
     "output_type": "display_data"
    },
    {
     "data": {
      "application/vnd.jupyter.widget-view+json": {
       "model_id": "c1d106476df54283a4bac67c98e1bdfa",
       "version_major": 2,
       "version_minor": 0
      },
      "text/plain": [
       "Innermost loop magnitude:   0%|          | 0/10 [00:00<?, ?it/s]"
      ]
     },
     "metadata": {},
     "output_type": "display_data"
    },
    {
     "data": {
      "application/vnd.jupyter.widget-view+json": {
       "model_id": "696b448df0a648d79cf69f9cf86e988b",
       "version_major": 2,
       "version_minor": 0
      },
      "text/plain": [
       "Innermost loop magnitude:   0%|          | 0/10 [00:00<?, ?it/s]"
      ]
     },
     "metadata": {},
     "output_type": "display_data"
    },
    {
     "data": {
      "application/vnd.jupyter.widget-view+json": {
       "model_id": "c78a6ea021c248b5ba65eb248bf1c68d",
       "version_major": 2,
       "version_minor": 0
      },
      "text/plain": [
       "Innermost loop magnitude:   0%|          | 0/10 [00:00<?, ?it/s]"
      ]
     },
     "metadata": {},
     "output_type": "display_data"
    },
    {
     "data": {
      "application/vnd.jupyter.widget-view+json": {
       "model_id": "cee5d595b7204f098fd3df42f1b5b5b5",
       "version_major": 2,
       "version_minor": 0
      },
      "text/plain": [
       "Innermost loop magnitude:   0%|          | 0/10 [00:00<?, ?it/s]"
      ]
     },
     "metadata": {},
     "output_type": "display_data"
    },
    {
     "data": {
      "application/vnd.jupyter.widget-view+json": {
       "model_id": "cd1b1a54e85545c8b29a9fefe5e16e86",
       "version_major": 2,
       "version_minor": 0
      },
      "text/plain": [
       "Innermost loop magnitude:   0%|          | 0/10 [00:00<?, ?it/s]"
      ]
     },
     "metadata": {},
     "output_type": "display_data"
    },
    {
     "data": {
      "application/vnd.jupyter.widget-view+json": {
       "model_id": "595fb69efa38416aa806642a070b0d5a",
       "version_major": 2,
       "version_minor": 0
      },
      "text/plain": [
       "Innermost loop magnitude:   0%|          | 0/10 [00:00<?, ?it/s]"
      ]
     },
     "metadata": {},
     "output_type": "display_data"
    },
    {
     "data": {
      "application/vnd.jupyter.widget-view+json": {
       "model_id": "f40e8ef01f974e079e107bfe7c62905b",
       "version_major": 2,
       "version_minor": 0
      },
      "text/plain": [
       "Innermost loop magnitude:   0%|          | 0/10 [00:00<?, ?it/s]"
      ]
     },
     "metadata": {},
     "output_type": "display_data"
    },
    {
     "data": {
      "application/vnd.jupyter.widget-view+json": {
       "model_id": "11c99e6f6665417fb0892fa50fd1270c",
       "version_major": 2,
       "version_minor": 0
      },
      "text/plain": [
       "Innermost loop magnitude:   0%|          | 0/10 [00:00<?, ?it/s]"
      ]
     },
     "metadata": {},
     "output_type": "display_data"
    },
    {
     "data": {
      "application/vnd.jupyter.widget-view+json": {
       "model_id": "45ec1b026b914c95914702e70b98f1d3",
       "version_major": 2,
       "version_minor": 0
      },
      "text/plain": [
       "Innermost loop magnitude:   0%|          | 0/10 [00:00<?, ?it/s]"
      ]
     },
     "metadata": {},
     "output_type": "display_data"
    },
    {
     "data": {
      "application/vnd.jupyter.widget-view+json": {
       "model_id": "d882475432b8454297a8c88afc647f92",
       "version_major": 2,
       "version_minor": 0
      },
      "text/plain": [
       "Innermost loop magnitude:   0%|          | 0/10 [00:00<?, ?it/s]"
      ]
     },
     "metadata": {},
     "output_type": "display_data"
    },
    {
     "data": {
      "application/vnd.jupyter.widget-view+json": {
       "model_id": "b7991c282f31489a8a756d98979caad4",
       "version_major": 2,
       "version_minor": 0
      },
      "text/plain": [
       "Innermost loop magnitude:   0%|          | 0/10 [00:00<?, ?it/s]"
      ]
     },
     "metadata": {},
     "output_type": "display_data"
    },
    {
     "data": {
      "application/vnd.jupyter.widget-view+json": {
       "model_id": "14e3550aa1aa4f2792d9f961b73bb3aa",
       "version_major": 2,
       "version_minor": 0
      },
      "text/plain": [
       "Innermost loop magnitude:   0%|          | 0/10 [00:00<?, ?it/s]"
      ]
     },
     "metadata": {},
     "output_type": "display_data"
    },
    {
     "data": {
      "application/vnd.jupyter.widget-view+json": {
       "model_id": "612192bb034f41c0b69c7d4135dcb89f",
       "version_major": 2,
       "version_minor": 0
      },
      "text/plain": [
       "Innermost loop magnitude:   0%|          | 0/10 [00:00<?, ?it/s]"
      ]
     },
     "metadata": {},
     "output_type": "display_data"
    },
    {
     "data": {
      "application/vnd.jupyter.widget-view+json": {
       "model_id": "aba06d45305e4723a38cdda66df69b23",
       "version_major": 2,
       "version_minor": 0
      },
      "text/plain": [
       "Inner loop angle:   0%|          | 0/36 [00:00<?, ?it/s]"
      ]
     },
     "metadata": {},
     "output_type": "display_data"
    },
    {
     "data": {
      "application/vnd.jupyter.widget-view+json": {
       "model_id": "ddfe8c6662414c9c9c9eff0e9ccff826",
       "version_major": 2,
       "version_minor": 0
      },
      "text/plain": [
       "Innermost loop magnitude:   0%|          | 0/10 [00:00<?, ?it/s]"
      ]
     },
     "metadata": {},
     "output_type": "display_data"
    },
    {
     "data": {
      "application/vnd.jupyter.widget-view+json": {
       "model_id": "d326f6b207404208b64ea5df14887455",
       "version_major": 2,
       "version_minor": 0
      },
      "text/plain": [
       "Innermost loop magnitude:   0%|          | 0/10 [00:00<?, ?it/s]"
      ]
     },
     "metadata": {},
     "output_type": "display_data"
    },
    {
     "data": {
      "application/vnd.jupyter.widget-view+json": {
       "model_id": "3cea1830afe342ea8756bb22b61d077c",
       "version_major": 2,
       "version_minor": 0
      },
      "text/plain": [
       "Innermost loop magnitude:   0%|          | 0/10 [00:00<?, ?it/s]"
      ]
     },
     "metadata": {},
     "output_type": "display_data"
    },
    {
     "data": {
      "application/vnd.jupyter.widget-view+json": {
       "model_id": "5848bda3590f4fa49cfc35fcababd6c6",
       "version_major": 2,
       "version_minor": 0
      },
      "text/plain": [
       "Innermost loop magnitude:   0%|          | 0/10 [00:00<?, ?it/s]"
      ]
     },
     "metadata": {},
     "output_type": "display_data"
    },
    {
     "data": {
      "application/vnd.jupyter.widget-view+json": {
       "model_id": "6cdab32f7a94428ab02c7fd304f3e1a0",
       "version_major": 2,
       "version_minor": 0
      },
      "text/plain": [
       "Innermost loop magnitude:   0%|          | 0/10 [00:00<?, ?it/s]"
      ]
     },
     "metadata": {},
     "output_type": "display_data"
    },
    {
     "data": {
      "application/vnd.jupyter.widget-view+json": {
       "model_id": "27e7a0d6522a49a38bd5af9057eba7d9",
       "version_major": 2,
       "version_minor": 0
      },
      "text/plain": [
       "Innermost loop magnitude:   0%|          | 0/10 [00:00<?, ?it/s]"
      ]
     },
     "metadata": {},
     "output_type": "display_data"
    },
    {
     "data": {
      "application/vnd.jupyter.widget-view+json": {
       "model_id": "673d0cbc17624ed6b46596812c34fbf1",
       "version_major": 2,
       "version_minor": 0
      },
      "text/plain": [
       "Innermost loop magnitude:   0%|          | 0/10 [00:00<?, ?it/s]"
      ]
     },
     "metadata": {},
     "output_type": "display_data"
    },
    {
     "data": {
      "application/vnd.jupyter.widget-view+json": {
       "model_id": "709aa1b901414448b3fc2939b5dd69b2",
       "version_major": 2,
       "version_minor": 0
      },
      "text/plain": [
       "Innermost loop magnitude:   0%|          | 0/10 [00:00<?, ?it/s]"
      ]
     },
     "metadata": {},
     "output_type": "display_data"
    },
    {
     "data": {
      "application/vnd.jupyter.widget-view+json": {
       "model_id": "5d3abc5171a34f2c94f5e6446505283c",
       "version_major": 2,
       "version_minor": 0
      },
      "text/plain": [
       "Innermost loop magnitude:   0%|          | 0/10 [00:00<?, ?it/s]"
      ]
     },
     "metadata": {},
     "output_type": "display_data"
    },
    {
     "data": {
      "application/vnd.jupyter.widget-view+json": {
       "model_id": "af10eb38e57d46e7b3a499d9d1258726",
       "version_major": 2,
       "version_minor": 0
      },
      "text/plain": [
       "Innermost loop magnitude:   0%|          | 0/10 [00:00<?, ?it/s]"
      ]
     },
     "metadata": {},
     "output_type": "display_data"
    },
    {
     "data": {
      "application/vnd.jupyter.widget-view+json": {
       "model_id": "d277277a150a4875a5ec56ff4c6ba399",
       "version_major": 2,
       "version_minor": 0
      },
      "text/plain": [
       "Innermost loop magnitude:   0%|          | 0/10 [00:00<?, ?it/s]"
      ]
     },
     "metadata": {},
     "output_type": "display_data"
    },
    {
     "data": {
      "application/vnd.jupyter.widget-view+json": {
       "model_id": "848a149774ea41e983c2564f18a43a45",
       "version_major": 2,
       "version_minor": 0
      },
      "text/plain": [
       "Innermost loop magnitude:   0%|          | 0/10 [00:00<?, ?it/s]"
      ]
     },
     "metadata": {},
     "output_type": "display_data"
    },
    {
     "data": {
      "application/vnd.jupyter.widget-view+json": {
       "model_id": "2ec475ec0bb4479b8d9b3c5f52930112",
       "version_major": 2,
       "version_minor": 0
      },
      "text/plain": [
       "Innermost loop magnitude:   0%|          | 0/10 [00:00<?, ?it/s]"
      ]
     },
     "metadata": {},
     "output_type": "display_data"
    },
    {
     "data": {
      "application/vnd.jupyter.widget-view+json": {
       "model_id": "7b95c65ec27343a9b4862d900946ada6",
       "version_major": 2,
       "version_minor": 0
      },
      "text/plain": [
       "Innermost loop magnitude:   0%|          | 0/10 [00:00<?, ?it/s]"
      ]
     },
     "metadata": {},
     "output_type": "display_data"
    },
    {
     "data": {
      "application/vnd.jupyter.widget-view+json": {
       "model_id": "55aafd9ece9a4aa8a9736648e6bc0f75",
       "version_major": 2,
       "version_minor": 0
      },
      "text/plain": [
       "Innermost loop magnitude:   0%|          | 0/10 [00:00<?, ?it/s]"
      ]
     },
     "metadata": {},
     "output_type": "display_data"
    },
    {
     "data": {
      "application/vnd.jupyter.widget-view+json": {
       "model_id": "1aa6f61f7f434b3c845c5c1ab110a32e",
       "version_major": 2,
       "version_minor": 0
      },
      "text/plain": [
       "Innermost loop magnitude:   0%|          | 0/10 [00:00<?, ?it/s]"
      ]
     },
     "metadata": {},
     "output_type": "display_data"
    },
    {
     "data": {
      "application/vnd.jupyter.widget-view+json": {
       "model_id": "2991746eedbb4418a4aba3f2843204d6",
       "version_major": 2,
       "version_minor": 0
      },
      "text/plain": [
       "Innermost loop magnitude:   0%|          | 0/10 [00:00<?, ?it/s]"
      ]
     },
     "metadata": {},
     "output_type": "display_data"
    },
    {
     "data": {
      "application/vnd.jupyter.widget-view+json": {
       "model_id": "338dff97d5ec4827b85d4aacb3474400",
       "version_major": 2,
       "version_minor": 0
      },
      "text/plain": [
       "Innermost loop magnitude:   0%|          | 0/10 [00:00<?, ?it/s]"
      ]
     },
     "metadata": {},
     "output_type": "display_data"
    },
    {
     "data": {
      "application/vnd.jupyter.widget-view+json": {
       "model_id": "d181cc981bef481fba274b4b86913a74",
       "version_major": 2,
       "version_minor": 0
      },
      "text/plain": [
       "Innermost loop magnitude:   0%|          | 0/10 [00:00<?, ?it/s]"
      ]
     },
     "metadata": {},
     "output_type": "display_data"
    },
    {
     "data": {
      "application/vnd.jupyter.widget-view+json": {
       "model_id": "2ed9cb7351f44ff0b223dc6265a1fd4c",
       "version_major": 2,
       "version_minor": 0
      },
      "text/plain": [
       "Innermost loop magnitude:   0%|          | 0/10 [00:00<?, ?it/s]"
      ]
     },
     "metadata": {},
     "output_type": "display_data"
    },
    {
     "data": {
      "application/vnd.jupyter.widget-view+json": {
       "model_id": "9e50151d1f7949b38c7a6803d4c7d54d",
       "version_major": 2,
       "version_minor": 0
      },
      "text/plain": [
       "Innermost loop magnitude:   0%|          | 0/10 [00:00<?, ?it/s]"
      ]
     },
     "metadata": {},
     "output_type": "display_data"
    },
    {
     "data": {
      "application/vnd.jupyter.widget-view+json": {
       "model_id": "4d452216285e4e5e89ef054b481f6c5d",
       "version_major": 2,
       "version_minor": 0
      },
      "text/plain": [
       "Innermost loop magnitude:   0%|          | 0/10 [00:00<?, ?it/s]"
      ]
     },
     "metadata": {},
     "output_type": "display_data"
    },
    {
     "data": {
      "application/vnd.jupyter.widget-view+json": {
       "model_id": "92abc28537f4482b8e56121461ef1091",
       "version_major": 2,
       "version_minor": 0
      },
      "text/plain": [
       "Innermost loop magnitude:   0%|          | 0/10 [00:00<?, ?it/s]"
      ]
     },
     "metadata": {},
     "output_type": "display_data"
    },
    {
     "data": {
      "application/vnd.jupyter.widget-view+json": {
       "model_id": "82cce667d29e48279dea0244d6011e47",
       "version_major": 2,
       "version_minor": 0
      },
      "text/plain": [
       "Innermost loop magnitude:   0%|          | 0/10 [00:00<?, ?it/s]"
      ]
     },
     "metadata": {},
     "output_type": "display_data"
    },
    {
     "data": {
      "application/vnd.jupyter.widget-view+json": {
       "model_id": "53c7fba410cc4141abc1a37f758e67d0",
       "version_major": 2,
       "version_minor": 0
      },
      "text/plain": [
       "Innermost loop magnitude:   0%|          | 0/10 [00:00<?, ?it/s]"
      ]
     },
     "metadata": {},
     "output_type": "display_data"
    },
    {
     "data": {
      "application/vnd.jupyter.widget-view+json": {
       "model_id": "92c3c5a89b7e450bb25721877037ff63",
       "version_major": 2,
       "version_minor": 0
      },
      "text/plain": [
       "Innermost loop magnitude:   0%|          | 0/10 [00:00<?, ?it/s]"
      ]
     },
     "metadata": {},
     "output_type": "display_data"
    },
    {
     "data": {
      "application/vnd.jupyter.widget-view+json": {
       "model_id": "987d051b2b824051aa151e45e450814a",
       "version_major": 2,
       "version_minor": 0
      },
      "text/plain": [
       "Innermost loop magnitude:   0%|          | 0/10 [00:00<?, ?it/s]"
      ]
     },
     "metadata": {},
     "output_type": "display_data"
    },
    {
     "data": {
      "application/vnd.jupyter.widget-view+json": {
       "model_id": "a4eba51f398746dda30e20a238c65388",
       "version_major": 2,
       "version_minor": 0
      },
      "text/plain": [
       "Innermost loop magnitude:   0%|          | 0/10 [00:00<?, ?it/s]"
      ]
     },
     "metadata": {},
     "output_type": "display_data"
    },
    {
     "data": {
      "application/vnd.jupyter.widget-view+json": {
       "model_id": "bfa1ad812e4b4062bbb2a3c157b40d16",
       "version_major": 2,
       "version_minor": 0
      },
      "text/plain": [
       "Innermost loop magnitude:   0%|          | 0/10 [00:00<?, ?it/s]"
      ]
     },
     "metadata": {},
     "output_type": "display_data"
    },
    {
     "data": {
      "application/vnd.jupyter.widget-view+json": {
       "model_id": "b2566d1ae3694e4789eb41d2e337a846",
       "version_major": 2,
       "version_minor": 0
      },
      "text/plain": [
       "Innermost loop magnitude:   0%|          | 0/10 [00:00<?, ?it/s]"
      ]
     },
     "metadata": {},
     "output_type": "display_data"
    },
    {
     "data": {
      "application/vnd.jupyter.widget-view+json": {
       "model_id": "0ffcc10899764409a3ff30657efefd90",
       "version_major": 2,
       "version_minor": 0
      },
      "text/plain": [
       "Innermost loop magnitude:   0%|          | 0/10 [00:00<?, ?it/s]"
      ]
     },
     "metadata": {},
     "output_type": "display_data"
    },
    {
     "data": {
      "application/vnd.jupyter.widget-view+json": {
       "model_id": "3bbbe47c8d424f4da6a4d7ee3382360a",
       "version_major": 2,
       "version_minor": 0
      },
      "text/plain": [
       "Innermost loop magnitude:   0%|          | 0/10 [00:00<?, ?it/s]"
      ]
     },
     "metadata": {},
     "output_type": "display_data"
    },
    {
     "data": {
      "application/vnd.jupyter.widget-view+json": {
       "model_id": "c8ac3dafa8b64e83a6ee3688f0b25fc5",
       "version_major": 2,
       "version_minor": 0
      },
      "text/plain": [
       "Innermost loop magnitude:   0%|          | 0/10 [00:00<?, ?it/s]"
      ]
     },
     "metadata": {},
     "output_type": "display_data"
    },
    {
     "data": {
      "application/vnd.jupyter.widget-view+json": {
       "model_id": "41b8c839eda24cd9853372a3b5520fe2",
       "version_major": 2,
       "version_minor": 0
      },
      "text/plain": [
       "Innermost loop magnitude:   0%|          | 0/10 [00:00<?, ?it/s]"
      ]
     },
     "metadata": {},
     "output_type": "display_data"
    },
    {
     "data": {
      "application/vnd.jupyter.widget-view+json": {
       "model_id": "4cde420f2a7c4268964772eb6d1edd54",
       "version_major": 2,
       "version_minor": 0
      },
      "text/plain": [
       "Innermost loop magnitude:   0%|          | 0/10 [00:00<?, ?it/s]"
      ]
     },
     "metadata": {},
     "output_type": "display_data"
    },
    {
     "data": {
      "application/vnd.jupyter.widget-view+json": {
       "model_id": "2afc503d28514e57abc13163fddbe953",
       "version_major": 2,
       "version_minor": 0
      },
      "text/plain": [
       "Innermost loop magnitude:   0%|          | 0/10 [00:00<?, ?it/s]"
      ]
     },
     "metadata": {},
     "output_type": "display_data"
    },
    {
     "data": {
      "application/vnd.jupyter.widget-view+json": {
       "model_id": "206203a3709b4be18fcf99790a10ed19",
       "version_major": 2,
       "version_minor": 0
      },
      "text/plain": [
       "Inner loop angle:   0%|          | 0/36 [00:00<?, ?it/s]"
      ]
     },
     "metadata": {},
     "output_type": "display_data"
    },
    {
     "data": {
      "application/vnd.jupyter.widget-view+json": {
       "model_id": "3704bc5831914fc7ad452567d678f8f2",
       "version_major": 2,
       "version_minor": 0
      },
      "text/plain": [
       "Innermost loop magnitude:   0%|          | 0/10 [00:00<?, ?it/s]"
      ]
     },
     "metadata": {},
     "output_type": "display_data"
    },
    {
     "data": {
      "application/vnd.jupyter.widget-view+json": {
       "model_id": "1a836844966f4fc2abf6407d34fc2814",
       "version_major": 2,
       "version_minor": 0
      },
      "text/plain": [
       "Innermost loop magnitude:   0%|          | 0/10 [00:00<?, ?it/s]"
      ]
     },
     "metadata": {},
     "output_type": "display_data"
    },
    {
     "data": {
      "application/vnd.jupyter.widget-view+json": {
       "model_id": "71df709a7a6a4b0680dfcb02ac7be2e6",
       "version_major": 2,
       "version_minor": 0
      },
      "text/plain": [
       "Innermost loop magnitude:   0%|          | 0/10 [00:00<?, ?it/s]"
      ]
     },
     "metadata": {},
     "output_type": "display_data"
    },
    {
     "data": {
      "application/vnd.jupyter.widget-view+json": {
       "model_id": "bc7e524dc3d14f9dbc69219ec367121c",
       "version_major": 2,
       "version_minor": 0
      },
      "text/plain": [
       "Innermost loop magnitude:   0%|          | 0/10 [00:00<?, ?it/s]"
      ]
     },
     "metadata": {},
     "output_type": "display_data"
    },
    {
     "data": {
      "application/vnd.jupyter.widget-view+json": {
       "model_id": "fbe6bfbe7fd04b5186324b52471f52fc",
       "version_major": 2,
       "version_minor": 0
      },
      "text/plain": [
       "Innermost loop magnitude:   0%|          | 0/10 [00:00<?, ?it/s]"
      ]
     },
     "metadata": {},
     "output_type": "display_data"
    },
    {
     "data": {
      "application/vnd.jupyter.widget-view+json": {
       "model_id": "c0e13c1b2e7e4a658dd1fc4880a0f3e2",
       "version_major": 2,
       "version_minor": 0
      },
      "text/plain": [
       "Innermost loop magnitude:   0%|          | 0/10 [00:00<?, ?it/s]"
      ]
     },
     "metadata": {},
     "output_type": "display_data"
    },
    {
     "data": {
      "application/vnd.jupyter.widget-view+json": {
       "model_id": "869e62ca7ac54a6dad543e770a2952e8",
       "version_major": 2,
       "version_minor": 0
      },
      "text/plain": [
       "Innermost loop magnitude:   0%|          | 0/10 [00:00<?, ?it/s]"
      ]
     },
     "metadata": {},
     "output_type": "display_data"
    },
    {
     "data": {
      "application/vnd.jupyter.widget-view+json": {
       "model_id": "b431ec48b8d04061b4436a4b5f8329a1",
       "version_major": 2,
       "version_minor": 0
      },
      "text/plain": [
       "Innermost loop magnitude:   0%|          | 0/10 [00:00<?, ?it/s]"
      ]
     },
     "metadata": {},
     "output_type": "display_data"
    },
    {
     "data": {
      "application/vnd.jupyter.widget-view+json": {
       "model_id": "09b41731dca84bc7b4e62a50a649a316",
       "version_major": 2,
       "version_minor": 0
      },
      "text/plain": [
       "Innermost loop magnitude:   0%|          | 0/10 [00:00<?, ?it/s]"
      ]
     },
     "metadata": {},
     "output_type": "display_data"
    },
    {
     "data": {
      "application/vnd.jupyter.widget-view+json": {
       "model_id": "08333ac9859b493f9c976e81c4d13e9a",
       "version_major": 2,
       "version_minor": 0
      },
      "text/plain": [
       "Innermost loop magnitude:   0%|          | 0/10 [00:00<?, ?it/s]"
      ]
     },
     "metadata": {},
     "output_type": "display_data"
    },
    {
     "data": {
      "application/vnd.jupyter.widget-view+json": {
       "model_id": "136e2f645f6f46f8a0c254839ffc7866",
       "version_major": 2,
       "version_minor": 0
      },
      "text/plain": [
       "Innermost loop magnitude:   0%|          | 0/10 [00:00<?, ?it/s]"
      ]
     },
     "metadata": {},
     "output_type": "display_data"
    },
    {
     "data": {
      "application/vnd.jupyter.widget-view+json": {
       "model_id": "cf84d432a5ea4611af3d96dbf238ff2e",
       "version_major": 2,
       "version_minor": 0
      },
      "text/plain": [
       "Innermost loop magnitude:   0%|          | 0/10 [00:00<?, ?it/s]"
      ]
     },
     "metadata": {},
     "output_type": "display_data"
    },
    {
     "data": {
      "application/vnd.jupyter.widget-view+json": {
       "model_id": "b27bdd2fe8e64991816c86ae2c5544f2",
       "version_major": 2,
       "version_minor": 0
      },
      "text/plain": [
       "Innermost loop magnitude:   0%|          | 0/10 [00:00<?, ?it/s]"
      ]
     },
     "metadata": {},
     "output_type": "display_data"
    },
    {
     "data": {
      "application/vnd.jupyter.widget-view+json": {
       "model_id": "6e523a22dd4948b6a689146809274f5b",
       "version_major": 2,
       "version_minor": 0
      },
      "text/plain": [
       "Innermost loop magnitude:   0%|          | 0/10 [00:00<?, ?it/s]"
      ]
     },
     "metadata": {},
     "output_type": "display_data"
    },
    {
     "data": {
      "application/vnd.jupyter.widget-view+json": {
       "model_id": "302a28fbd7a34dcfa79550bf2fa419ea",
       "version_major": 2,
       "version_minor": 0
      },
      "text/plain": [
       "Innermost loop magnitude:   0%|          | 0/10 [00:00<?, ?it/s]"
      ]
     },
     "metadata": {},
     "output_type": "display_data"
    },
    {
     "data": {
      "application/vnd.jupyter.widget-view+json": {
       "model_id": "49b62299e3ba405ebd3cb588a6cf9410",
       "version_major": 2,
       "version_minor": 0
      },
      "text/plain": [
       "Innermost loop magnitude:   0%|          | 0/10 [00:00<?, ?it/s]"
      ]
     },
     "metadata": {},
     "output_type": "display_data"
    },
    {
     "data": {
      "application/vnd.jupyter.widget-view+json": {
       "model_id": "5a8dfcfc445f4119b819cb4e2ef8d4a4",
       "version_major": 2,
       "version_minor": 0
      },
      "text/plain": [
       "Innermost loop magnitude:   0%|          | 0/10 [00:00<?, ?it/s]"
      ]
     },
     "metadata": {},
     "output_type": "display_data"
    },
    {
     "data": {
      "application/vnd.jupyter.widget-view+json": {
       "model_id": "cb57d67f51994880a0eab421ca57bbf2",
       "version_major": 2,
       "version_minor": 0
      },
      "text/plain": [
       "Innermost loop magnitude:   0%|          | 0/10 [00:00<?, ?it/s]"
      ]
     },
     "metadata": {},
     "output_type": "display_data"
    },
    {
     "data": {
      "application/vnd.jupyter.widget-view+json": {
       "model_id": "8bd1729fe8e349cda0db74b5a40429f8",
       "version_major": 2,
       "version_minor": 0
      },
      "text/plain": [
       "Innermost loop magnitude:   0%|          | 0/10 [00:00<?, ?it/s]"
      ]
     },
     "metadata": {},
     "output_type": "display_data"
    },
    {
     "data": {
      "application/vnd.jupyter.widget-view+json": {
       "model_id": "e9e5499a80044d03b76b32b8636186d9",
       "version_major": 2,
       "version_minor": 0
      },
      "text/plain": [
       "Innermost loop magnitude:   0%|          | 0/10 [00:00<?, ?it/s]"
      ]
     },
     "metadata": {},
     "output_type": "display_data"
    },
    {
     "data": {
      "application/vnd.jupyter.widget-view+json": {
       "model_id": "4b3a72081c344d86be6fd444bc471f22",
       "version_major": 2,
       "version_minor": 0
      },
      "text/plain": [
       "Innermost loop magnitude:   0%|          | 0/10 [00:00<?, ?it/s]"
      ]
     },
     "metadata": {},
     "output_type": "display_data"
    },
    {
     "data": {
      "application/vnd.jupyter.widget-view+json": {
       "model_id": "f0a876407525497ab7e03c7ab36f6115",
       "version_major": 2,
       "version_minor": 0
      },
      "text/plain": [
       "Innermost loop magnitude:   0%|          | 0/10 [00:00<?, ?it/s]"
      ]
     },
     "metadata": {},
     "output_type": "display_data"
    },
    {
     "data": {
      "application/vnd.jupyter.widget-view+json": {
       "model_id": "37fa6bc4483944d49615bea9e6e2246a",
       "version_major": 2,
       "version_minor": 0
      },
      "text/plain": [
       "Innermost loop magnitude:   0%|          | 0/10 [00:00<?, ?it/s]"
      ]
     },
     "metadata": {},
     "output_type": "display_data"
    },
    {
     "data": {
      "application/vnd.jupyter.widget-view+json": {
       "model_id": "9c3e055e5fdd488da01c17a253291e2c",
       "version_major": 2,
       "version_minor": 0
      },
      "text/plain": [
       "Innermost loop magnitude:   0%|          | 0/10 [00:00<?, ?it/s]"
      ]
     },
     "metadata": {},
     "output_type": "display_data"
    },
    {
     "data": {
      "application/vnd.jupyter.widget-view+json": {
       "model_id": "da1bb5b11d3e44b280c577b44e9d8742",
       "version_major": 2,
       "version_minor": 0
      },
      "text/plain": [
       "Innermost loop magnitude:   0%|          | 0/10 [00:00<?, ?it/s]"
      ]
     },
     "metadata": {},
     "output_type": "display_data"
    },
    {
     "data": {
      "application/vnd.jupyter.widget-view+json": {
       "model_id": "5e34f80efdf04d5991ee3a32ebf44c3b",
       "version_major": 2,
       "version_minor": 0
      },
      "text/plain": [
       "Innermost loop magnitude:   0%|          | 0/10 [00:00<?, ?it/s]"
      ]
     },
     "metadata": {},
     "output_type": "display_data"
    },
    {
     "data": {
      "application/vnd.jupyter.widget-view+json": {
       "model_id": "0a62ab9d55364f968db9bf3c6043a308",
       "version_major": 2,
       "version_minor": 0
      },
      "text/plain": [
       "Innermost loop magnitude:   0%|          | 0/10 [00:00<?, ?it/s]"
      ]
     },
     "metadata": {},
     "output_type": "display_data"
    },
    {
     "data": {
      "application/vnd.jupyter.widget-view+json": {
       "model_id": "d515b5d16ab74a749bad090760bd83a7",
       "version_major": 2,
       "version_minor": 0
      },
      "text/plain": [
       "Innermost loop magnitude:   0%|          | 0/10 [00:00<?, ?it/s]"
      ]
     },
     "metadata": {},
     "output_type": "display_data"
    },
    {
     "data": {
      "application/vnd.jupyter.widget-view+json": {
       "model_id": "f46ea890dae04ad0b6c6037ff72e28cc",
       "version_major": 2,
       "version_minor": 0
      },
      "text/plain": [
       "Innermost loop magnitude:   0%|          | 0/10 [00:00<?, ?it/s]"
      ]
     },
     "metadata": {},
     "output_type": "display_data"
    },
    {
     "data": {
      "application/vnd.jupyter.widget-view+json": {
       "model_id": "a86ba45f6354490bb7fc3f686c8aa854",
       "version_major": 2,
       "version_minor": 0
      },
      "text/plain": [
       "Innermost loop magnitude:   0%|          | 0/10 [00:00<?, ?it/s]"
      ]
     },
     "metadata": {},
     "output_type": "display_data"
    },
    {
     "data": {
      "application/vnd.jupyter.widget-view+json": {
       "model_id": "7d40191474c24367b97ba31ecb296950",
       "version_major": 2,
       "version_minor": 0
      },
      "text/plain": [
       "Innermost loop magnitude:   0%|          | 0/10 [00:00<?, ?it/s]"
      ]
     },
     "metadata": {},
     "output_type": "display_data"
    },
    {
     "data": {
      "application/vnd.jupyter.widget-view+json": {
       "model_id": "a85ab502ff874ca1bd9327de44f61714",
       "version_major": 2,
       "version_minor": 0
      },
      "text/plain": [
       "Innermost loop magnitude:   0%|          | 0/10 [00:00<?, ?it/s]"
      ]
     },
     "metadata": {},
     "output_type": "display_data"
    },
    {
     "data": {
      "application/vnd.jupyter.widget-view+json": {
       "model_id": "93892954abd24992b7075ee16ca295c7",
       "version_major": 2,
       "version_minor": 0
      },
      "text/plain": [
       "Innermost loop magnitude:   0%|          | 0/10 [00:00<?, ?it/s]"
      ]
     },
     "metadata": {},
     "output_type": "display_data"
    },
    {
     "data": {
      "application/vnd.jupyter.widget-view+json": {
       "model_id": "4e5273abe4d5456a815c10728ecd738e",
       "version_major": 2,
       "version_minor": 0
      },
      "text/plain": [
       "Innermost loop magnitude:   0%|          | 0/10 [00:00<?, ?it/s]"
      ]
     },
     "metadata": {},
     "output_type": "display_data"
    },
    {
     "data": {
      "application/vnd.jupyter.widget-view+json": {
       "model_id": "51242274a83549678c195d4136c13b45",
       "version_major": 2,
       "version_minor": 0
      },
      "text/plain": [
       "Innermost loop magnitude:   0%|          | 0/10 [00:00<?, ?it/s]"
      ]
     },
     "metadata": {},
     "output_type": "display_data"
    },
    {
     "data": {
      "application/vnd.jupyter.widget-view+json": {
       "model_id": "0dabc23665154763b51f061c77d7d1a7",
       "version_major": 2,
       "version_minor": 0
      },
      "text/plain": [
       "Innermost loop magnitude:   0%|          | 0/10 [00:00<?, ?it/s]"
      ]
     },
     "metadata": {},
     "output_type": "display_data"
    },
    {
     "data": {
      "application/vnd.jupyter.widget-view+json": {
       "model_id": "3081319fb0ed47e691cd4acb78f41c06",
       "version_major": 2,
       "version_minor": 0
      },
      "text/plain": [
       "Inner loop angle:   0%|          | 0/36 [00:00<?, ?it/s]"
      ]
     },
     "metadata": {},
     "output_type": "display_data"
    },
    {
     "data": {
      "application/vnd.jupyter.widget-view+json": {
       "model_id": "5de16d0ef7034e0ea261d5ed618d10e9",
       "version_major": 2,
       "version_minor": 0
      },
      "text/plain": [
       "Innermost loop magnitude:   0%|          | 0/10 [00:00<?, ?it/s]"
      ]
     },
     "metadata": {},
     "output_type": "display_data"
    },
    {
     "data": {
      "application/vnd.jupyter.widget-view+json": {
       "model_id": "cc5b8ca9cf7c4f02bce0550d8cf7b5a6",
       "version_major": 2,
       "version_minor": 0
      },
      "text/plain": [
       "Innermost loop magnitude:   0%|          | 0/10 [00:00<?, ?it/s]"
      ]
     },
     "metadata": {},
     "output_type": "display_data"
    },
    {
     "data": {
      "application/vnd.jupyter.widget-view+json": {
       "model_id": "d280c619335943ecae21e70c253a6713",
       "version_major": 2,
       "version_minor": 0
      },
      "text/plain": [
       "Innermost loop magnitude:   0%|          | 0/10 [00:00<?, ?it/s]"
      ]
     },
     "metadata": {},
     "output_type": "display_data"
    },
    {
     "data": {
      "application/vnd.jupyter.widget-view+json": {
       "model_id": "4691e1de92f7497ea504733aca6cb081",
       "version_major": 2,
       "version_minor": 0
      },
      "text/plain": [
       "Innermost loop magnitude:   0%|          | 0/10 [00:00<?, ?it/s]"
      ]
     },
     "metadata": {},
     "output_type": "display_data"
    },
    {
     "data": {
      "application/vnd.jupyter.widget-view+json": {
       "model_id": "ef9e6ecde03d45af8eed547a0ce31216",
       "version_major": 2,
       "version_minor": 0
      },
      "text/plain": [
       "Innermost loop magnitude:   0%|          | 0/10 [00:00<?, ?it/s]"
      ]
     },
     "metadata": {},
     "output_type": "display_data"
    },
    {
     "data": {
      "application/vnd.jupyter.widget-view+json": {
       "model_id": "0c0956e98f1546458c4e15a8e707f6fa",
       "version_major": 2,
       "version_minor": 0
      },
      "text/plain": [
       "Innermost loop magnitude:   0%|          | 0/10 [00:00<?, ?it/s]"
      ]
     },
     "metadata": {},
     "output_type": "display_data"
    },
    {
     "data": {
      "application/vnd.jupyter.widget-view+json": {
       "model_id": "6954a48d434e401ab4fcaaadfba2fcc0",
       "version_major": 2,
       "version_minor": 0
      },
      "text/plain": [
       "Innermost loop magnitude:   0%|          | 0/10 [00:00<?, ?it/s]"
      ]
     },
     "metadata": {},
     "output_type": "display_data"
    },
    {
     "data": {
      "application/vnd.jupyter.widget-view+json": {
       "model_id": "502a5c50562c4987b2e70aef2e0924d2",
       "version_major": 2,
       "version_minor": 0
      },
      "text/plain": [
       "Innermost loop magnitude:   0%|          | 0/10 [00:00<?, ?it/s]"
      ]
     },
     "metadata": {},
     "output_type": "display_data"
    },
    {
     "data": {
      "application/vnd.jupyter.widget-view+json": {
       "model_id": "ea7c1c0b72944877afe69b24f6d4ab67",
       "version_major": 2,
       "version_minor": 0
      },
      "text/plain": [
       "Innermost loop magnitude:   0%|          | 0/10 [00:00<?, ?it/s]"
      ]
     },
     "metadata": {},
     "output_type": "display_data"
    },
    {
     "data": {
      "application/vnd.jupyter.widget-view+json": {
       "model_id": "144a51cc3e0b4a8f9244461c46f0a9c2",
       "version_major": 2,
       "version_minor": 0
      },
      "text/plain": [
       "Innermost loop magnitude:   0%|          | 0/10 [00:00<?, ?it/s]"
      ]
     },
     "metadata": {},
     "output_type": "display_data"
    },
    {
     "data": {
      "application/vnd.jupyter.widget-view+json": {
       "model_id": "181fafd6a8254fc4b53ea8c2eb20328e",
       "version_major": 2,
       "version_minor": 0
      },
      "text/plain": [
       "Innermost loop magnitude:   0%|          | 0/10 [00:00<?, ?it/s]"
      ]
     },
     "metadata": {},
     "output_type": "display_data"
    },
    {
     "data": {
      "application/vnd.jupyter.widget-view+json": {
       "model_id": "42ccc5b4e39c498c8c8b13ee6b8d1785",
       "version_major": 2,
       "version_minor": 0
      },
      "text/plain": [
       "Innermost loop magnitude:   0%|          | 0/10 [00:00<?, ?it/s]"
      ]
     },
     "metadata": {},
     "output_type": "display_data"
    },
    {
     "data": {
      "application/vnd.jupyter.widget-view+json": {
       "model_id": "6f98eae43b044365a54115503bae0cbd",
       "version_major": 2,
       "version_minor": 0
      },
      "text/plain": [
       "Innermost loop magnitude:   0%|          | 0/10 [00:00<?, ?it/s]"
      ]
     },
     "metadata": {},
     "output_type": "display_data"
    },
    {
     "data": {
      "application/vnd.jupyter.widget-view+json": {
       "model_id": "17514849dd084958981a2f5f2af8c24f",
       "version_major": 2,
       "version_minor": 0
      },
      "text/plain": [
       "Innermost loop magnitude:   0%|          | 0/10 [00:00<?, ?it/s]"
      ]
     },
     "metadata": {},
     "output_type": "display_data"
    },
    {
     "data": {
      "application/vnd.jupyter.widget-view+json": {
       "model_id": "62ccec0eaadc4818935b01fecd16725c",
       "version_major": 2,
       "version_minor": 0
      },
      "text/plain": [
       "Innermost loop magnitude:   0%|          | 0/10 [00:00<?, ?it/s]"
      ]
     },
     "metadata": {},
     "output_type": "display_data"
    },
    {
     "data": {
      "application/vnd.jupyter.widget-view+json": {
       "model_id": "f7860e2a5e1a4af78ed23fcdfa1d0961",
       "version_major": 2,
       "version_minor": 0
      },
      "text/plain": [
       "Innermost loop magnitude:   0%|          | 0/10 [00:00<?, ?it/s]"
      ]
     },
     "metadata": {},
     "output_type": "display_data"
    },
    {
     "data": {
      "application/vnd.jupyter.widget-view+json": {
       "model_id": "77d96c3d3b9f4676808935f0a53162fd",
       "version_major": 2,
       "version_minor": 0
      },
      "text/plain": [
       "Innermost loop magnitude:   0%|          | 0/10 [00:00<?, ?it/s]"
      ]
     },
     "metadata": {},
     "output_type": "display_data"
    },
    {
     "data": {
      "application/vnd.jupyter.widget-view+json": {
       "model_id": "cd1625e1797a45a685c219fccd1c6310",
       "version_major": 2,
       "version_minor": 0
      },
      "text/plain": [
       "Innermost loop magnitude:   0%|          | 0/10 [00:00<?, ?it/s]"
      ]
     },
     "metadata": {},
     "output_type": "display_data"
    },
    {
     "data": {
      "application/vnd.jupyter.widget-view+json": {
       "model_id": "4a71ad0d5f3b4439ae868379805d9a84",
       "version_major": 2,
       "version_minor": 0
      },
      "text/plain": [
       "Innermost loop magnitude:   0%|          | 0/10 [00:00<?, ?it/s]"
      ]
     },
     "metadata": {},
     "output_type": "display_data"
    },
    {
     "data": {
      "application/vnd.jupyter.widget-view+json": {
       "model_id": "95ce680b5a95489f937498991b172d29",
       "version_major": 2,
       "version_minor": 0
      },
      "text/plain": [
       "Innermost loop magnitude:   0%|          | 0/10 [00:00<?, ?it/s]"
      ]
     },
     "metadata": {},
     "output_type": "display_data"
    },
    {
     "data": {
      "application/vnd.jupyter.widget-view+json": {
       "model_id": "fdf362781fd24f27b85cc9a343bc8429",
       "version_major": 2,
       "version_minor": 0
      },
      "text/plain": [
       "Innermost loop magnitude:   0%|          | 0/10 [00:00<?, ?it/s]"
      ]
     },
     "metadata": {},
     "output_type": "display_data"
    },
    {
     "data": {
      "application/vnd.jupyter.widget-view+json": {
       "model_id": "fc32f7813d724418a3d952c8cd040a86",
       "version_major": 2,
       "version_minor": 0
      },
      "text/plain": [
       "Innermost loop magnitude:   0%|          | 0/10 [00:00<?, ?it/s]"
      ]
     },
     "metadata": {},
     "output_type": "display_data"
    },
    {
     "data": {
      "application/vnd.jupyter.widget-view+json": {
       "model_id": "8c3e945cef2d4bbf8d01ecad64c81368",
       "version_major": 2,
       "version_minor": 0
      },
      "text/plain": [
       "Innermost loop magnitude:   0%|          | 0/10 [00:00<?, ?it/s]"
      ]
     },
     "metadata": {},
     "output_type": "display_data"
    },
    {
     "data": {
      "application/vnd.jupyter.widget-view+json": {
       "model_id": "c0af2b8041b1449088147ee2fc3f76d4",
       "version_major": 2,
       "version_minor": 0
      },
      "text/plain": [
       "Innermost loop magnitude:   0%|          | 0/10 [00:00<?, ?it/s]"
      ]
     },
     "metadata": {},
     "output_type": "display_data"
    },
    {
     "data": {
      "application/vnd.jupyter.widget-view+json": {
       "model_id": "1a4c02205e704d7099b909513c66a68e",
       "version_major": 2,
       "version_minor": 0
      },
      "text/plain": [
       "Innermost loop magnitude:   0%|          | 0/10 [00:00<?, ?it/s]"
      ]
     },
     "metadata": {},
     "output_type": "display_data"
    },
    {
     "data": {
      "application/vnd.jupyter.widget-view+json": {
       "model_id": "585fd2e7889b4e02badac540be621734",
       "version_major": 2,
       "version_minor": 0
      },
      "text/plain": [
       "Innermost loop magnitude:   0%|          | 0/10 [00:00<?, ?it/s]"
      ]
     },
     "metadata": {},
     "output_type": "display_data"
    },
    {
     "data": {
      "application/vnd.jupyter.widget-view+json": {
       "model_id": "c82e332b1d874e5ba9d22410f7e31607",
       "version_major": 2,
       "version_minor": 0
      },
      "text/plain": [
       "Innermost loop magnitude:   0%|          | 0/10 [00:00<?, ?it/s]"
      ]
     },
     "metadata": {},
     "output_type": "display_data"
    },
    {
     "data": {
      "application/vnd.jupyter.widget-view+json": {
       "model_id": "976bbbbda65e49ffb16655d29c01711c",
       "version_major": 2,
       "version_minor": 0
      },
      "text/plain": [
       "Innermost loop magnitude:   0%|          | 0/10 [00:00<?, ?it/s]"
      ]
     },
     "metadata": {},
     "output_type": "display_data"
    },
    {
     "data": {
      "application/vnd.jupyter.widget-view+json": {
       "model_id": "814bd427789147f8a944aba13b6d3042",
       "version_major": 2,
       "version_minor": 0
      },
      "text/plain": [
       "Innermost loop magnitude:   0%|          | 0/10 [00:00<?, ?it/s]"
      ]
     },
     "metadata": {},
     "output_type": "display_data"
    },
    {
     "data": {
      "application/vnd.jupyter.widget-view+json": {
       "model_id": "df4994a8e43e45429d3686171d01ca30",
       "version_major": 2,
       "version_minor": 0
      },
      "text/plain": [
       "Innermost loop magnitude:   0%|          | 0/10 [00:00<?, ?it/s]"
      ]
     },
     "metadata": {},
     "output_type": "display_data"
    },
    {
     "data": {
      "application/vnd.jupyter.widget-view+json": {
       "model_id": "7825997c5c2e4ae4a46ce8a2365bc4a9",
       "version_major": 2,
       "version_minor": 0
      },
      "text/plain": [
       "Innermost loop magnitude:   0%|          | 0/10 [00:00<?, ?it/s]"
      ]
     },
     "metadata": {},
     "output_type": "display_data"
    },
    {
     "data": {
      "application/vnd.jupyter.widget-view+json": {
       "model_id": "891c34c886bf49e5ad2a3d3a6a703097",
       "version_major": 2,
       "version_minor": 0
      },
      "text/plain": [
       "Innermost loop magnitude:   0%|          | 0/10 [00:00<?, ?it/s]"
      ]
     },
     "metadata": {},
     "output_type": "display_data"
    },
    {
     "data": {
      "application/vnd.jupyter.widget-view+json": {
       "model_id": "dac6ea74c77d46f5b3dd465de59259cd",
       "version_major": 2,
       "version_minor": 0
      },
      "text/plain": [
       "Innermost loop magnitude:   0%|          | 0/10 [00:00<?, ?it/s]"
      ]
     },
     "metadata": {},
     "output_type": "display_data"
    },
    {
     "data": {
      "application/vnd.jupyter.widget-view+json": {
       "model_id": "d2c9254eeb0e466d98d27f8e77112317",
       "version_major": 2,
       "version_minor": 0
      },
      "text/plain": [
       "Innermost loop magnitude:   0%|          | 0/10 [00:00<?, ?it/s]"
      ]
     },
     "metadata": {},
     "output_type": "display_data"
    },
    {
     "data": {
      "application/vnd.jupyter.widget-view+json": {
       "model_id": "936ac7e3e3234319b25ff8fd147bbc6d",
       "version_major": 2,
       "version_minor": 0
      },
      "text/plain": [
       "Innermost loop magnitude:   0%|          | 0/10 [00:00<?, ?it/s]"
      ]
     },
     "metadata": {},
     "output_type": "display_data"
    },
    {
     "data": {
      "application/vnd.jupyter.widget-view+json": {
       "model_id": "06e8b535c5504f98945620bead6a26b0",
       "version_major": 2,
       "version_minor": 0
      },
      "text/plain": [
       "Innermost loop magnitude:   0%|          | 0/10 [00:00<?, ?it/s]"
      ]
     },
     "metadata": {},
     "output_type": "display_data"
    },
    {
     "data": {
      "application/vnd.jupyter.widget-view+json": {
       "model_id": "0dad5b74b86042ce9c50e0531d71c60a",
       "version_major": 2,
       "version_minor": 0
      },
      "text/plain": [
       "Inner loop angle:   0%|          | 0/36 [00:00<?, ?it/s]"
      ]
     },
     "metadata": {},
     "output_type": "display_data"
    },
    {
     "data": {
      "application/vnd.jupyter.widget-view+json": {
       "model_id": "04cc5980ff30436e961b844b4ae5a7c1",
       "version_major": 2,
       "version_minor": 0
      },
      "text/plain": [
       "Innermost loop magnitude:   0%|          | 0/10 [00:00<?, ?it/s]"
      ]
     },
     "metadata": {},
     "output_type": "display_data"
    },
    {
     "data": {
      "application/vnd.jupyter.widget-view+json": {
       "model_id": "c29ce3b8f57e45298681453442ffa0da",
       "version_major": 2,
       "version_minor": 0
      },
      "text/plain": [
       "Innermost loop magnitude:   0%|          | 0/10 [00:00<?, ?it/s]"
      ]
     },
     "metadata": {},
     "output_type": "display_data"
    },
    {
     "data": {
      "application/vnd.jupyter.widget-view+json": {
       "model_id": "80295e38d98a4ee8b71f3fc90bef634e",
       "version_major": 2,
       "version_minor": 0
      },
      "text/plain": [
       "Innermost loop magnitude:   0%|          | 0/10 [00:00<?, ?it/s]"
      ]
     },
     "metadata": {},
     "output_type": "display_data"
    },
    {
     "data": {
      "application/vnd.jupyter.widget-view+json": {
       "model_id": "b9fdcb5cac8c4432b894488e27d6f90a",
       "version_major": 2,
       "version_minor": 0
      },
      "text/plain": [
       "Innermost loop magnitude:   0%|          | 0/10 [00:00<?, ?it/s]"
      ]
     },
     "metadata": {},
     "output_type": "display_data"
    },
    {
     "data": {
      "application/vnd.jupyter.widget-view+json": {
       "model_id": "f7f5e4ef52a74976a1e49a3d456e637f",
       "version_major": 2,
       "version_minor": 0
      },
      "text/plain": [
       "Innermost loop magnitude:   0%|          | 0/10 [00:00<?, ?it/s]"
      ]
     },
     "metadata": {},
     "output_type": "display_data"
    },
    {
     "data": {
      "application/vnd.jupyter.widget-view+json": {
       "model_id": "6e084034492d42fe81f32db6515dc5ed",
       "version_major": 2,
       "version_minor": 0
      },
      "text/plain": [
       "Innermost loop magnitude:   0%|          | 0/10 [00:00<?, ?it/s]"
      ]
     },
     "metadata": {},
     "output_type": "display_data"
    },
    {
     "data": {
      "application/vnd.jupyter.widget-view+json": {
       "model_id": "f2312838503740e08a5f622143ecc1ab",
       "version_major": 2,
       "version_minor": 0
      },
      "text/plain": [
       "Innermost loop magnitude:   0%|          | 0/10 [00:00<?, ?it/s]"
      ]
     },
     "metadata": {},
     "output_type": "display_data"
    },
    {
     "data": {
      "application/vnd.jupyter.widget-view+json": {
       "model_id": "f1fc62552bef48c28d6b7441a60d0a41",
       "version_major": 2,
       "version_minor": 0
      },
      "text/plain": [
       "Innermost loop magnitude:   0%|          | 0/10 [00:00<?, ?it/s]"
      ]
     },
     "metadata": {},
     "output_type": "display_data"
    },
    {
     "data": {
      "application/vnd.jupyter.widget-view+json": {
       "model_id": "f54a3efdfaa24d9fbe5a76687a361d85",
       "version_major": 2,
       "version_minor": 0
      },
      "text/plain": [
       "Innermost loop magnitude:   0%|          | 0/10 [00:00<?, ?it/s]"
      ]
     },
     "metadata": {},
     "output_type": "display_data"
    },
    {
     "data": {
      "application/vnd.jupyter.widget-view+json": {
       "model_id": "532a7218bb9e42d6b16e837b43c67afd",
       "version_major": 2,
       "version_minor": 0
      },
      "text/plain": [
       "Innermost loop magnitude:   0%|          | 0/10 [00:00<?, ?it/s]"
      ]
     },
     "metadata": {},
     "output_type": "display_data"
    },
    {
     "data": {
      "application/vnd.jupyter.widget-view+json": {
       "model_id": "1c1cb322045e4f6bbcd358b94a191e7b",
       "version_major": 2,
       "version_minor": 0
      },
      "text/plain": [
       "Innermost loop magnitude:   0%|          | 0/10 [00:00<?, ?it/s]"
      ]
     },
     "metadata": {},
     "output_type": "display_data"
    },
    {
     "data": {
      "application/vnd.jupyter.widget-view+json": {
       "model_id": "f6d06bc29ccb4a0da186e4bcb01651d2",
       "version_major": 2,
       "version_minor": 0
      },
      "text/plain": [
       "Innermost loop magnitude:   0%|          | 0/10 [00:00<?, ?it/s]"
      ]
     },
     "metadata": {},
     "output_type": "display_data"
    },
    {
     "data": {
      "application/vnd.jupyter.widget-view+json": {
       "model_id": "a5b202554f7f4a7990a3a0442f86206d",
       "version_major": 2,
       "version_minor": 0
      },
      "text/plain": [
       "Innermost loop magnitude:   0%|          | 0/10 [00:00<?, ?it/s]"
      ]
     },
     "metadata": {},
     "output_type": "display_data"
    },
    {
     "data": {
      "application/vnd.jupyter.widget-view+json": {
       "model_id": "8fe50866087f4a8a8b007fd8fb9cf481",
       "version_major": 2,
       "version_minor": 0
      },
      "text/plain": [
       "Innermost loop magnitude:   0%|          | 0/10 [00:00<?, ?it/s]"
      ]
     },
     "metadata": {},
     "output_type": "display_data"
    },
    {
     "data": {
      "application/vnd.jupyter.widget-view+json": {
       "model_id": "d75788db5a2d453193b344d2e8d4a201",
       "version_major": 2,
       "version_minor": 0
      },
      "text/plain": [
       "Innermost loop magnitude:   0%|          | 0/10 [00:00<?, ?it/s]"
      ]
     },
     "metadata": {},
     "output_type": "display_data"
    },
    {
     "data": {
      "application/vnd.jupyter.widget-view+json": {
       "model_id": "099e3b4783e64d9dbf1d3b70231396ca",
       "version_major": 2,
       "version_minor": 0
      },
      "text/plain": [
       "Innermost loop magnitude:   0%|          | 0/10 [00:00<?, ?it/s]"
      ]
     },
     "metadata": {},
     "output_type": "display_data"
    },
    {
     "data": {
      "application/vnd.jupyter.widget-view+json": {
       "model_id": "0e41df5d7a4043ca98e799f9dc922292",
       "version_major": 2,
       "version_minor": 0
      },
      "text/plain": [
       "Innermost loop magnitude:   0%|          | 0/10 [00:00<?, ?it/s]"
      ]
     },
     "metadata": {},
     "output_type": "display_data"
    },
    {
     "data": {
      "application/vnd.jupyter.widget-view+json": {
       "model_id": "06b715ee670446418093b74f3597d631",
       "version_major": 2,
       "version_minor": 0
      },
      "text/plain": [
       "Innermost loop magnitude:   0%|          | 0/10 [00:00<?, ?it/s]"
      ]
     },
     "metadata": {},
     "output_type": "display_data"
    },
    {
     "data": {
      "application/vnd.jupyter.widget-view+json": {
       "model_id": "f754f697f83840f7adf0546fbab8c55a",
       "version_major": 2,
       "version_minor": 0
      },
      "text/plain": [
       "Innermost loop magnitude:   0%|          | 0/10 [00:00<?, ?it/s]"
      ]
     },
     "metadata": {},
     "output_type": "display_data"
    },
    {
     "data": {
      "application/vnd.jupyter.widget-view+json": {
       "model_id": "14f6f6bf2db6464f80c75df70b4c7507",
       "version_major": 2,
       "version_minor": 0
      },
      "text/plain": [
       "Innermost loop magnitude:   0%|          | 0/10 [00:00<?, ?it/s]"
      ]
     },
     "metadata": {},
     "output_type": "display_data"
    },
    {
     "data": {
      "application/vnd.jupyter.widget-view+json": {
       "model_id": "b49baa71c8f64043958aa68b98ddac8a",
       "version_major": 2,
       "version_minor": 0
      },
      "text/plain": [
       "Innermost loop magnitude:   0%|          | 0/10 [00:00<?, ?it/s]"
      ]
     },
     "metadata": {},
     "output_type": "display_data"
    },
    {
     "data": {
      "application/vnd.jupyter.widget-view+json": {
       "model_id": "b8c9dad81ec74f9eb81e289cd0b9f81d",
       "version_major": 2,
       "version_minor": 0
      },
      "text/plain": [
       "Innermost loop magnitude:   0%|          | 0/10 [00:00<?, ?it/s]"
      ]
     },
     "metadata": {},
     "output_type": "display_data"
    },
    {
     "data": {
      "application/vnd.jupyter.widget-view+json": {
       "model_id": "d9d4da745d5e4c63a91e02f5d4f63f3b",
       "version_major": 2,
       "version_minor": 0
      },
      "text/plain": [
       "Innermost loop magnitude:   0%|          | 0/10 [00:00<?, ?it/s]"
      ]
     },
     "metadata": {},
     "output_type": "display_data"
    },
    {
     "data": {
      "application/vnd.jupyter.widget-view+json": {
       "model_id": "c69e19915758448387e0b68cb544f775",
       "version_major": 2,
       "version_minor": 0
      },
      "text/plain": [
       "Innermost loop magnitude:   0%|          | 0/10 [00:00<?, ?it/s]"
      ]
     },
     "metadata": {},
     "output_type": "display_data"
    },
    {
     "data": {
      "application/vnd.jupyter.widget-view+json": {
       "model_id": "2f5ba0de83d34afe9f972626491e5785",
       "version_major": 2,
       "version_minor": 0
      },
      "text/plain": [
       "Innermost loop magnitude:   0%|          | 0/10 [00:00<?, ?it/s]"
      ]
     },
     "metadata": {},
     "output_type": "display_data"
    },
    {
     "data": {
      "application/vnd.jupyter.widget-view+json": {
       "model_id": "b77bd28055c7413ca80bf955cedae761",
       "version_major": 2,
       "version_minor": 0
      },
      "text/plain": [
       "Innermost loop magnitude:   0%|          | 0/10 [00:00<?, ?it/s]"
      ]
     },
     "metadata": {},
     "output_type": "display_data"
    },
    {
     "data": {
      "application/vnd.jupyter.widget-view+json": {
       "model_id": "a2f8f25c86ba48cb9dce819c7ffbd789",
       "version_major": 2,
       "version_minor": 0
      },
      "text/plain": [
       "Innermost loop magnitude:   0%|          | 0/10 [00:00<?, ?it/s]"
      ]
     },
     "metadata": {},
     "output_type": "display_data"
    },
    {
     "data": {
      "application/vnd.jupyter.widget-view+json": {
       "model_id": "47b4f3c9fa8749d7af4f3f4b2e0cc744",
       "version_major": 2,
       "version_minor": 0
      },
      "text/plain": [
       "Innermost loop magnitude:   0%|          | 0/10 [00:00<?, ?it/s]"
      ]
     },
     "metadata": {},
     "output_type": "display_data"
    },
    {
     "data": {
      "application/vnd.jupyter.widget-view+json": {
       "model_id": "1665330592484ab5890b201fc9255a14",
       "version_major": 2,
       "version_minor": 0
      },
      "text/plain": [
       "Innermost loop magnitude:   0%|          | 0/10 [00:00<?, ?it/s]"
      ]
     },
     "metadata": {},
     "output_type": "display_data"
    },
    {
     "data": {
      "application/vnd.jupyter.widget-view+json": {
       "model_id": "ef69e3a8e58743b19aef61068345ee0c",
       "version_major": 2,
       "version_minor": 0
      },
      "text/plain": [
       "Innermost loop magnitude:   0%|          | 0/10 [00:00<?, ?it/s]"
      ]
     },
     "metadata": {},
     "output_type": "display_data"
    },
    {
     "data": {
      "application/vnd.jupyter.widget-view+json": {
       "model_id": "438f289721d1408e99f530bce687a5df",
       "version_major": 2,
       "version_minor": 0
      },
      "text/plain": [
       "Innermost loop magnitude:   0%|          | 0/10 [00:00<?, ?it/s]"
      ]
     },
     "metadata": {},
     "output_type": "display_data"
    },
    {
     "data": {
      "application/vnd.jupyter.widget-view+json": {
       "model_id": "755e77396f4d4e9aa855d1c2fb2e25f1",
       "version_major": 2,
       "version_minor": 0
      },
      "text/plain": [
       "Innermost loop magnitude:   0%|          | 0/10 [00:00<?, ?it/s]"
      ]
     },
     "metadata": {},
     "output_type": "display_data"
    },
    {
     "data": {
      "application/vnd.jupyter.widget-view+json": {
       "model_id": "f14070d8b2114c36b36879c1cce236ab",
       "version_major": 2,
       "version_minor": 0
      },
      "text/plain": [
       "Innermost loop magnitude:   0%|          | 0/10 [00:00<?, ?it/s]"
      ]
     },
     "metadata": {},
     "output_type": "display_data"
    },
    {
     "data": {
      "application/vnd.jupyter.widget-view+json": {
       "model_id": "3bab680ac6fe44d99770472392921520",
       "version_major": 2,
       "version_minor": 0
      },
      "text/plain": [
       "Innermost loop magnitude:   0%|          | 0/10 [00:00<?, ?it/s]"
      ]
     },
     "metadata": {},
     "output_type": "display_data"
    },
    {
     "data": {
      "application/vnd.jupyter.widget-view+json": {
       "model_id": "88379a9d1b454d3eace524e05d69f241",
       "version_major": 2,
       "version_minor": 0
      },
      "text/plain": [
       "Innermost loop magnitude:   0%|          | 0/10 [00:00<?, ?it/s]"
      ]
     },
     "metadata": {},
     "output_type": "display_data"
    },
    {
     "data": {
      "application/vnd.jupyter.widget-view+json": {
       "model_id": "f8c0d8f3eb974f3d86b1a91a07fbf5cf",
       "version_major": 2,
       "version_minor": 0
      },
      "text/plain": [
       "Innermost loop magnitude:   0%|          | 0/10 [00:00<?, ?it/s]"
      ]
     },
     "metadata": {},
     "output_type": "display_data"
    },
    {
     "data": {
      "application/vnd.jupyter.widget-view+json": {
       "model_id": "6a07f3b313d44e1fa8800111dab8f570",
       "version_major": 2,
       "version_minor": 0
      },
      "text/plain": [
       "Outer loop x:   0%|          | 0/7 [00:00<?, ?it/s]"
      ]
     },
     "metadata": {},
     "output_type": "display_data"
    },
    {
     "data": {
      "application/vnd.jupyter.widget-view+json": {
       "model_id": "89919406ecd84ec7bfab8b2c41320f5c",
       "version_major": 2,
       "version_minor": 0
      },
      "text/plain": [
       "Inner loop angle:   0%|          | 0/36 [00:00<?, ?it/s]"
      ]
     },
     "metadata": {},
     "output_type": "display_data"
    },
    {
     "data": {
      "application/vnd.jupyter.widget-view+json": {
       "model_id": "269bb85efb614c46b4640e12d765e8b1",
       "version_major": 2,
       "version_minor": 0
      },
      "text/plain": [
       "Innermost loop magnitude:   0%|          | 0/10 [00:00<?, ?it/s]"
      ]
     },
     "metadata": {},
     "output_type": "display_data"
    },
    {
     "data": {
      "application/vnd.jupyter.widget-view+json": {
       "model_id": "8482d92114e84e858153486458d1452a",
       "version_major": 2,
       "version_minor": 0
      },
      "text/plain": [
       "Innermost loop magnitude:   0%|          | 0/10 [00:00<?, ?it/s]"
      ]
     },
     "metadata": {},
     "output_type": "display_data"
    },
    {
     "data": {
      "application/vnd.jupyter.widget-view+json": {
       "model_id": "661c6b4c91ed401bb0262d423b4e48ad",
       "version_major": 2,
       "version_minor": 0
      },
      "text/plain": [
       "Innermost loop magnitude:   0%|          | 0/10 [00:00<?, ?it/s]"
      ]
     },
     "metadata": {},
     "output_type": "display_data"
    },
    {
     "data": {
      "application/vnd.jupyter.widget-view+json": {
       "model_id": "14c04f7f6f474bda94702b0ab535688f",
       "version_major": 2,
       "version_minor": 0
      },
      "text/plain": [
       "Innermost loop magnitude:   0%|          | 0/10 [00:00<?, ?it/s]"
      ]
     },
     "metadata": {},
     "output_type": "display_data"
    },
    {
     "data": {
      "application/vnd.jupyter.widget-view+json": {
       "model_id": "4f7eb6d49b2a4b91876701eccd692477",
       "version_major": 2,
       "version_minor": 0
      },
      "text/plain": [
       "Innermost loop magnitude:   0%|          | 0/10 [00:00<?, ?it/s]"
      ]
     },
     "metadata": {},
     "output_type": "display_data"
    },
    {
     "data": {
      "application/vnd.jupyter.widget-view+json": {
       "model_id": "b35e1c648b2b451cbe68b15f5f4fab5c",
       "version_major": 2,
       "version_minor": 0
      },
      "text/plain": [
       "Innermost loop magnitude:   0%|          | 0/10 [00:00<?, ?it/s]"
      ]
     },
     "metadata": {},
     "output_type": "display_data"
    },
    {
     "data": {
      "application/vnd.jupyter.widget-view+json": {
       "model_id": "5337adec7cf24dbb8aa363d16dde9320",
       "version_major": 2,
       "version_minor": 0
      },
      "text/plain": [
       "Innermost loop magnitude:   0%|          | 0/10 [00:00<?, ?it/s]"
      ]
     },
     "metadata": {},
     "output_type": "display_data"
    },
    {
     "data": {
      "application/vnd.jupyter.widget-view+json": {
       "model_id": "0199e466634342eba57daf81d797bc2b",
       "version_major": 2,
       "version_minor": 0
      },
      "text/plain": [
       "Innermost loop magnitude:   0%|          | 0/10 [00:00<?, ?it/s]"
      ]
     },
     "metadata": {},
     "output_type": "display_data"
    },
    {
     "data": {
      "application/vnd.jupyter.widget-view+json": {
       "model_id": "5bc946d942524751b4bd714c67bd8b93",
       "version_major": 2,
       "version_minor": 0
      },
      "text/plain": [
       "Innermost loop magnitude:   0%|          | 0/10 [00:00<?, ?it/s]"
      ]
     },
     "metadata": {},
     "output_type": "display_data"
    },
    {
     "data": {
      "application/vnd.jupyter.widget-view+json": {
       "model_id": "3eeed4fd39e14d5fb41e9adffffff902",
       "version_major": 2,
       "version_minor": 0
      },
      "text/plain": [
       "Innermost loop magnitude:   0%|          | 0/10 [00:00<?, ?it/s]"
      ]
     },
     "metadata": {},
     "output_type": "display_data"
    },
    {
     "data": {
      "application/vnd.jupyter.widget-view+json": {
       "model_id": "374809f21d214758b0bf0aab1b393fee",
       "version_major": 2,
       "version_minor": 0
      },
      "text/plain": [
       "Innermost loop magnitude:   0%|          | 0/10 [00:00<?, ?it/s]"
      ]
     },
     "metadata": {},
     "output_type": "display_data"
    },
    {
     "data": {
      "application/vnd.jupyter.widget-view+json": {
       "model_id": "0b9ec764e64a44ebbac7d6d77b392d9c",
       "version_major": 2,
       "version_minor": 0
      },
      "text/plain": [
       "Innermost loop magnitude:   0%|          | 0/10 [00:00<?, ?it/s]"
      ]
     },
     "metadata": {},
     "output_type": "display_data"
    },
    {
     "data": {
      "application/vnd.jupyter.widget-view+json": {
       "model_id": "ad5aed7d277b4c958dea3800c6de9b12",
       "version_major": 2,
       "version_minor": 0
      },
      "text/plain": [
       "Innermost loop magnitude:   0%|          | 0/10 [00:00<?, ?it/s]"
      ]
     },
     "metadata": {},
     "output_type": "display_data"
    },
    {
     "data": {
      "application/vnd.jupyter.widget-view+json": {
       "model_id": "312f0b1711c945179a3f17e266a950dd",
       "version_major": 2,
       "version_minor": 0
      },
      "text/plain": [
       "Innermost loop magnitude:   0%|          | 0/10 [00:00<?, ?it/s]"
      ]
     },
     "metadata": {},
     "output_type": "display_data"
    },
    {
     "data": {
      "application/vnd.jupyter.widget-view+json": {
       "model_id": "853e18bddc254e22871570efabe67835",
       "version_major": 2,
       "version_minor": 0
      },
      "text/plain": [
       "Innermost loop magnitude:   0%|          | 0/10 [00:00<?, ?it/s]"
      ]
     },
     "metadata": {},
     "output_type": "display_data"
    },
    {
     "data": {
      "application/vnd.jupyter.widget-view+json": {
       "model_id": "ce3d1cc9096d47929a23e47ebd644ffd",
       "version_major": 2,
       "version_minor": 0
      },
      "text/plain": [
       "Innermost loop magnitude:   0%|          | 0/10 [00:00<?, ?it/s]"
      ]
     },
     "metadata": {},
     "output_type": "display_data"
    },
    {
     "data": {
      "application/vnd.jupyter.widget-view+json": {
       "model_id": "e37e12d3f15e4483a2c98cd16d8bf9c2",
       "version_major": 2,
       "version_minor": 0
      },
      "text/plain": [
       "Innermost loop magnitude:   0%|          | 0/10 [00:00<?, ?it/s]"
      ]
     },
     "metadata": {},
     "output_type": "display_data"
    },
    {
     "data": {
      "application/vnd.jupyter.widget-view+json": {
       "model_id": "995a7f13a2fe4533a7aff98ecc338151",
       "version_major": 2,
       "version_minor": 0
      },
      "text/plain": [
       "Innermost loop magnitude:   0%|          | 0/10 [00:00<?, ?it/s]"
      ]
     },
     "metadata": {},
     "output_type": "display_data"
    },
    {
     "data": {
      "application/vnd.jupyter.widget-view+json": {
       "model_id": "8363c6bc405548d486d7193bfbdef8ce",
       "version_major": 2,
       "version_minor": 0
      },
      "text/plain": [
       "Innermost loop magnitude:   0%|          | 0/10 [00:00<?, ?it/s]"
      ]
     },
     "metadata": {},
     "output_type": "display_data"
    },
    {
     "data": {
      "application/vnd.jupyter.widget-view+json": {
       "model_id": "e9c0716dc6f94bf2a6a3dce94b17c76f",
       "version_major": 2,
       "version_minor": 0
      },
      "text/plain": [
       "Innermost loop magnitude:   0%|          | 0/10 [00:00<?, ?it/s]"
      ]
     },
     "metadata": {},
     "output_type": "display_data"
    },
    {
     "data": {
      "application/vnd.jupyter.widget-view+json": {
       "model_id": "3efd7e31cda54c2cac14d1b2aba2f133",
       "version_major": 2,
       "version_minor": 0
      },
      "text/plain": [
       "Innermost loop magnitude:   0%|          | 0/10 [00:00<?, ?it/s]"
      ]
     },
     "metadata": {},
     "output_type": "display_data"
    },
    {
     "data": {
      "application/vnd.jupyter.widget-view+json": {
       "model_id": "0b80b3cffe3b4d309b3d5105d842f556",
       "version_major": 2,
       "version_minor": 0
      },
      "text/plain": [
       "Innermost loop magnitude:   0%|          | 0/10 [00:00<?, ?it/s]"
      ]
     },
     "metadata": {},
     "output_type": "display_data"
    },
    {
     "data": {
      "application/vnd.jupyter.widget-view+json": {
       "model_id": "821cb79000d54ef1afd0b9cc9b318f93",
       "version_major": 2,
       "version_minor": 0
      },
      "text/plain": [
       "Innermost loop magnitude:   0%|          | 0/10 [00:00<?, ?it/s]"
      ]
     },
     "metadata": {},
     "output_type": "display_data"
    },
    {
     "data": {
      "application/vnd.jupyter.widget-view+json": {
       "model_id": "c9d55415dc88499dbcb11c34dab48400",
       "version_major": 2,
       "version_minor": 0
      },
      "text/plain": [
       "Innermost loop magnitude:   0%|          | 0/10 [00:00<?, ?it/s]"
      ]
     },
     "metadata": {},
     "output_type": "display_data"
    },
    {
     "data": {
      "application/vnd.jupyter.widget-view+json": {
       "model_id": "8e6144ee26004dcfb138e481e326f3cc",
       "version_major": 2,
       "version_minor": 0
      },
      "text/plain": [
       "Innermost loop magnitude:   0%|          | 0/10 [00:00<?, ?it/s]"
      ]
     },
     "metadata": {},
     "output_type": "display_data"
    },
    {
     "data": {
      "application/vnd.jupyter.widget-view+json": {
       "model_id": "e7ca7ddb226d48e88802ad189533f4e0",
       "version_major": 2,
       "version_minor": 0
      },
      "text/plain": [
       "Innermost loop magnitude:   0%|          | 0/10 [00:00<?, ?it/s]"
      ]
     },
     "metadata": {},
     "output_type": "display_data"
    },
    {
     "data": {
      "application/vnd.jupyter.widget-view+json": {
       "model_id": "a704ea739260488bbd2065fae27c9696",
       "version_major": 2,
       "version_minor": 0
      },
      "text/plain": [
       "Innermost loop magnitude:   0%|          | 0/10 [00:00<?, ?it/s]"
      ]
     },
     "metadata": {},
     "output_type": "display_data"
    },
    {
     "data": {
      "application/vnd.jupyter.widget-view+json": {
       "model_id": "ccb7aeeb798c46c58877db4c1e83bc67",
       "version_major": 2,
       "version_minor": 0
      },
      "text/plain": [
       "Innermost loop magnitude:   0%|          | 0/10 [00:00<?, ?it/s]"
      ]
     },
     "metadata": {},
     "output_type": "display_data"
    },
    {
     "data": {
      "application/vnd.jupyter.widget-view+json": {
       "model_id": "ecaf49f25e90495fa56d5dcb6ef2974b",
       "version_major": 2,
       "version_minor": 0
      },
      "text/plain": [
       "Innermost loop magnitude:   0%|          | 0/10 [00:00<?, ?it/s]"
      ]
     },
     "metadata": {},
     "output_type": "display_data"
    },
    {
     "data": {
      "application/vnd.jupyter.widget-view+json": {
       "model_id": "490354232c6845dbb544ee758b626c2d",
       "version_major": 2,
       "version_minor": 0
      },
      "text/plain": [
       "Innermost loop magnitude:   0%|          | 0/10 [00:00<?, ?it/s]"
      ]
     },
     "metadata": {},
     "output_type": "display_data"
    },
    {
     "data": {
      "application/vnd.jupyter.widget-view+json": {
       "model_id": "e7f4274dfdcb46bcadcd0b5a378a1f24",
       "version_major": 2,
       "version_minor": 0
      },
      "text/plain": [
       "Innermost loop magnitude:   0%|          | 0/10 [00:00<?, ?it/s]"
      ]
     },
     "metadata": {},
     "output_type": "display_data"
    },
    {
     "data": {
      "application/vnd.jupyter.widget-view+json": {
       "model_id": "dc3ee181adae4e53b5b0d1751ea53281",
       "version_major": 2,
       "version_minor": 0
      },
      "text/plain": [
       "Innermost loop magnitude:   0%|          | 0/10 [00:00<?, ?it/s]"
      ]
     },
     "metadata": {},
     "output_type": "display_data"
    },
    {
     "data": {
      "application/vnd.jupyter.widget-view+json": {
       "model_id": "1db87849f40e4d0c956385de8b6252f0",
       "version_major": 2,
       "version_minor": 0
      },
      "text/plain": [
       "Innermost loop magnitude:   0%|          | 0/10 [00:00<?, ?it/s]"
      ]
     },
     "metadata": {},
     "output_type": "display_data"
    },
    {
     "data": {
      "application/vnd.jupyter.widget-view+json": {
       "model_id": "3f973fa380bb49c8b24e9dcf4f29825f",
       "version_major": 2,
       "version_minor": 0
      },
      "text/plain": [
       "Innermost loop magnitude:   0%|          | 0/10 [00:00<?, ?it/s]"
      ]
     },
     "metadata": {},
     "output_type": "display_data"
    },
    {
     "data": {
      "application/vnd.jupyter.widget-view+json": {
       "model_id": "2f090b1d5b184a11a52805e90b84a07c",
       "version_major": 2,
       "version_minor": 0
      },
      "text/plain": [
       "Innermost loop magnitude:   0%|          | 0/10 [00:00<?, ?it/s]"
      ]
     },
     "metadata": {},
     "output_type": "display_data"
    },
    {
     "data": {
      "application/vnd.jupyter.widget-view+json": {
       "model_id": "4b68ec910ac74066a14db0642f69d60c",
       "version_major": 2,
       "version_minor": 0
      },
      "text/plain": [
       "Innermost loop magnitude:   0%|          | 0/10 [00:00<?, ?it/s]"
      ]
     },
     "metadata": {},
     "output_type": "display_data"
    },
    {
     "data": {
      "application/vnd.jupyter.widget-view+json": {
       "model_id": "e52536edfe6d4a9ca8cd905307f41755",
       "version_major": 2,
       "version_minor": 0
      },
      "text/plain": [
       "Inner loop angle:   0%|          | 0/36 [00:00<?, ?it/s]"
      ]
     },
     "metadata": {},
     "output_type": "display_data"
    },
    {
     "data": {
      "application/vnd.jupyter.widget-view+json": {
       "model_id": "86ce686fa0c148bfbfd3f45f8df23c92",
       "version_major": 2,
       "version_minor": 0
      },
      "text/plain": [
       "Innermost loop magnitude:   0%|          | 0/10 [00:00<?, ?it/s]"
      ]
     },
     "metadata": {},
     "output_type": "display_data"
    },
    {
     "data": {
      "application/vnd.jupyter.widget-view+json": {
       "model_id": "756fd32ac7c049488676a6ba125becb1",
       "version_major": 2,
       "version_minor": 0
      },
      "text/plain": [
       "Innermost loop magnitude:   0%|          | 0/10 [00:00<?, ?it/s]"
      ]
     },
     "metadata": {},
     "output_type": "display_data"
    },
    {
     "data": {
      "application/vnd.jupyter.widget-view+json": {
       "model_id": "a8db588226984190b7b0e1e26915eb58",
       "version_major": 2,
       "version_minor": 0
      },
      "text/plain": [
       "Innermost loop magnitude:   0%|          | 0/10 [00:00<?, ?it/s]"
      ]
     },
     "metadata": {},
     "output_type": "display_data"
    },
    {
     "data": {
      "application/vnd.jupyter.widget-view+json": {
       "model_id": "f66f3d0134884228b0bc0abd005dfc36",
       "version_major": 2,
       "version_minor": 0
      },
      "text/plain": [
       "Innermost loop magnitude:   0%|          | 0/10 [00:00<?, ?it/s]"
      ]
     },
     "metadata": {},
     "output_type": "display_data"
    },
    {
     "data": {
      "application/vnd.jupyter.widget-view+json": {
       "model_id": "c2cac46fca084bc299e58016a3ebc0c7",
       "version_major": 2,
       "version_minor": 0
      },
      "text/plain": [
       "Innermost loop magnitude:   0%|          | 0/10 [00:00<?, ?it/s]"
      ]
     },
     "metadata": {},
     "output_type": "display_data"
    },
    {
     "data": {
      "application/vnd.jupyter.widget-view+json": {
       "model_id": "1124bb5a587a4ce7aae0ec8b1ed14850",
       "version_major": 2,
       "version_minor": 0
      },
      "text/plain": [
       "Innermost loop magnitude:   0%|          | 0/10 [00:00<?, ?it/s]"
      ]
     },
     "metadata": {},
     "output_type": "display_data"
    },
    {
     "data": {
      "application/vnd.jupyter.widget-view+json": {
       "model_id": "bf10743905714a91b8c4d723fe5ea715",
       "version_major": 2,
       "version_minor": 0
      },
      "text/plain": [
       "Innermost loop magnitude:   0%|          | 0/10 [00:00<?, ?it/s]"
      ]
     },
     "metadata": {},
     "output_type": "display_data"
    },
    {
     "data": {
      "application/vnd.jupyter.widget-view+json": {
       "model_id": "dd7bdd15e53c414fa9a73770d17d4981",
       "version_major": 2,
       "version_minor": 0
      },
      "text/plain": [
       "Innermost loop magnitude:   0%|          | 0/10 [00:00<?, ?it/s]"
      ]
     },
     "metadata": {},
     "output_type": "display_data"
    },
    {
     "data": {
      "application/vnd.jupyter.widget-view+json": {
       "model_id": "d5cc6b91d08644609f84d637814b5e3e",
       "version_major": 2,
       "version_minor": 0
      },
      "text/plain": [
       "Innermost loop magnitude:   0%|          | 0/10 [00:00<?, ?it/s]"
      ]
     },
     "metadata": {},
     "output_type": "display_data"
    },
    {
     "data": {
      "application/vnd.jupyter.widget-view+json": {
       "model_id": "638ef8683a19414b9fe08b4b6d800060",
       "version_major": 2,
       "version_minor": 0
      },
      "text/plain": [
       "Innermost loop magnitude:   0%|          | 0/10 [00:00<?, ?it/s]"
      ]
     },
     "metadata": {},
     "output_type": "display_data"
    },
    {
     "data": {
      "application/vnd.jupyter.widget-view+json": {
       "model_id": "ace0eb42e1e346fea9083c78201fb3dd",
       "version_major": 2,
       "version_minor": 0
      },
      "text/plain": [
       "Innermost loop magnitude:   0%|          | 0/10 [00:00<?, ?it/s]"
      ]
     },
     "metadata": {},
     "output_type": "display_data"
    },
    {
     "data": {
      "application/vnd.jupyter.widget-view+json": {
       "model_id": "4b500c9867134d8ea17e707fdafcaec2",
       "version_major": 2,
       "version_minor": 0
      },
      "text/plain": [
       "Innermost loop magnitude:   0%|          | 0/10 [00:00<?, ?it/s]"
      ]
     },
     "metadata": {},
     "output_type": "display_data"
    },
    {
     "data": {
      "application/vnd.jupyter.widget-view+json": {
       "model_id": "8c8e9cf4e7104dd48d41a82528b69ef6",
       "version_major": 2,
       "version_minor": 0
      },
      "text/plain": [
       "Innermost loop magnitude:   0%|          | 0/10 [00:00<?, ?it/s]"
      ]
     },
     "metadata": {},
     "output_type": "display_data"
    },
    {
     "data": {
      "application/vnd.jupyter.widget-view+json": {
       "model_id": "7151344b64f84b37b2927f1c8d4b7573",
       "version_major": 2,
       "version_minor": 0
      },
      "text/plain": [
       "Innermost loop magnitude:   0%|          | 0/10 [00:00<?, ?it/s]"
      ]
     },
     "metadata": {},
     "output_type": "display_data"
    },
    {
     "data": {
      "application/vnd.jupyter.widget-view+json": {
       "model_id": "80aaa56fce6b4d9fa3f06b3bac9ba788",
       "version_major": 2,
       "version_minor": 0
      },
      "text/plain": [
       "Innermost loop magnitude:   0%|          | 0/10 [00:00<?, ?it/s]"
      ]
     },
     "metadata": {},
     "output_type": "display_data"
    },
    {
     "data": {
      "application/vnd.jupyter.widget-view+json": {
       "model_id": "a6534fa1f70f4ce19587343755a788fd",
       "version_major": 2,
       "version_minor": 0
      },
      "text/plain": [
       "Innermost loop magnitude:   0%|          | 0/10 [00:00<?, ?it/s]"
      ]
     },
     "metadata": {},
     "output_type": "display_data"
    },
    {
     "data": {
      "application/vnd.jupyter.widget-view+json": {
       "model_id": "8984b9f46d644afc9fa32bfa700c5c2a",
       "version_major": 2,
       "version_minor": 0
      },
      "text/plain": [
       "Innermost loop magnitude:   0%|          | 0/10 [00:00<?, ?it/s]"
      ]
     },
     "metadata": {},
     "output_type": "display_data"
    },
    {
     "data": {
      "application/vnd.jupyter.widget-view+json": {
       "model_id": "4feb84875b01455dbed9fac0b04c8332",
       "version_major": 2,
       "version_minor": 0
      },
      "text/plain": [
       "Innermost loop magnitude:   0%|          | 0/10 [00:00<?, ?it/s]"
      ]
     },
     "metadata": {},
     "output_type": "display_data"
    },
    {
     "data": {
      "application/vnd.jupyter.widget-view+json": {
       "model_id": "2f497789e95848f7ba8dad0dee43a2ab",
       "version_major": 2,
       "version_minor": 0
      },
      "text/plain": [
       "Innermost loop magnitude:   0%|          | 0/10 [00:00<?, ?it/s]"
      ]
     },
     "metadata": {},
     "output_type": "display_data"
    },
    {
     "data": {
      "application/vnd.jupyter.widget-view+json": {
       "model_id": "11fa231cbdc846f79109d3de34282d30",
       "version_major": 2,
       "version_minor": 0
      },
      "text/plain": [
       "Innermost loop magnitude:   0%|          | 0/10 [00:00<?, ?it/s]"
      ]
     },
     "metadata": {},
     "output_type": "display_data"
    },
    {
     "data": {
      "application/vnd.jupyter.widget-view+json": {
       "model_id": "6a87eaf0d35e4ca5a89d0e931e95251b",
       "version_major": 2,
       "version_minor": 0
      },
      "text/plain": [
       "Innermost loop magnitude:   0%|          | 0/10 [00:00<?, ?it/s]"
      ]
     },
     "metadata": {},
     "output_type": "display_data"
    },
    {
     "data": {
      "application/vnd.jupyter.widget-view+json": {
       "model_id": "b2da4ac690ef407ea1848952ee7d05b6",
       "version_major": 2,
       "version_minor": 0
      },
      "text/plain": [
       "Innermost loop magnitude:   0%|          | 0/10 [00:00<?, ?it/s]"
      ]
     },
     "metadata": {},
     "output_type": "display_data"
    },
    {
     "data": {
      "application/vnd.jupyter.widget-view+json": {
       "model_id": "b265f50a86f14df7a1aac687910c5fef",
       "version_major": 2,
       "version_minor": 0
      },
      "text/plain": [
       "Innermost loop magnitude:   0%|          | 0/10 [00:00<?, ?it/s]"
      ]
     },
     "metadata": {},
     "output_type": "display_data"
    },
    {
     "data": {
      "application/vnd.jupyter.widget-view+json": {
       "model_id": "f980adb6ed4a48f18163bd3f356433b4",
       "version_major": 2,
       "version_minor": 0
      },
      "text/plain": [
       "Innermost loop magnitude:   0%|          | 0/10 [00:00<?, ?it/s]"
      ]
     },
     "metadata": {},
     "output_type": "display_data"
    },
    {
     "data": {
      "application/vnd.jupyter.widget-view+json": {
       "model_id": "966b243edd6240198ca8094b8bb3a880",
       "version_major": 2,
       "version_minor": 0
      },
      "text/plain": [
       "Innermost loop magnitude:   0%|          | 0/10 [00:00<?, ?it/s]"
      ]
     },
     "metadata": {},
     "output_type": "display_data"
    },
    {
     "data": {
      "application/vnd.jupyter.widget-view+json": {
       "model_id": "8fe7e581fb1444a9944f0e1329db774c",
       "version_major": 2,
       "version_minor": 0
      },
      "text/plain": [
       "Innermost loop magnitude:   0%|          | 0/10 [00:00<?, ?it/s]"
      ]
     },
     "metadata": {},
     "output_type": "display_data"
    },
    {
     "data": {
      "application/vnd.jupyter.widget-view+json": {
       "model_id": "080f5b2c62e3482cafcb2aee20e90539",
       "version_major": 2,
       "version_minor": 0
      },
      "text/plain": [
       "Innermost loop magnitude:   0%|          | 0/10 [00:00<?, ?it/s]"
      ]
     },
     "metadata": {},
     "output_type": "display_data"
    },
    {
     "data": {
      "application/vnd.jupyter.widget-view+json": {
       "model_id": "f403b27dd4eb4f28bedc9e94f5f4e757",
       "version_major": 2,
       "version_minor": 0
      },
      "text/plain": [
       "Innermost loop magnitude:   0%|          | 0/10 [00:00<?, ?it/s]"
      ]
     },
     "metadata": {},
     "output_type": "display_data"
    },
    {
     "data": {
      "application/vnd.jupyter.widget-view+json": {
       "model_id": "95104f0f9d244412ab30004a33b79c5d",
       "version_major": 2,
       "version_minor": 0
      },
      "text/plain": [
       "Innermost loop magnitude:   0%|          | 0/10 [00:00<?, ?it/s]"
      ]
     },
     "metadata": {},
     "output_type": "display_data"
    },
    {
     "data": {
      "application/vnd.jupyter.widget-view+json": {
       "model_id": "f371306b88484f7db76816ee2408b5e6",
       "version_major": 2,
       "version_minor": 0
      },
      "text/plain": [
       "Innermost loop magnitude:   0%|          | 0/10 [00:00<?, ?it/s]"
      ]
     },
     "metadata": {},
     "output_type": "display_data"
    },
    {
     "data": {
      "application/vnd.jupyter.widget-view+json": {
       "model_id": "efb8cc9b9af846abbccab5d4c0955a61",
       "version_major": 2,
       "version_minor": 0
      },
      "text/plain": [
       "Innermost loop magnitude:   0%|          | 0/10 [00:00<?, ?it/s]"
      ]
     },
     "metadata": {},
     "output_type": "display_data"
    },
    {
     "data": {
      "application/vnd.jupyter.widget-view+json": {
       "model_id": "8391edd671cf481aad87b199a4cda141",
       "version_major": 2,
       "version_minor": 0
      },
      "text/plain": [
       "Innermost loop magnitude:   0%|          | 0/10 [00:00<?, ?it/s]"
      ]
     },
     "metadata": {},
     "output_type": "display_data"
    },
    {
     "data": {
      "application/vnd.jupyter.widget-view+json": {
       "model_id": "a61b126eef0945d88bbfe5ce39df3492",
       "version_major": 2,
       "version_minor": 0
      },
      "text/plain": [
       "Innermost loop magnitude:   0%|          | 0/10 [00:00<?, ?it/s]"
      ]
     },
     "metadata": {},
     "output_type": "display_data"
    },
    {
     "data": {
      "application/vnd.jupyter.widget-view+json": {
       "model_id": "d99270d739b54ddfbac276aa5a45d9f4",
       "version_major": 2,
       "version_minor": 0
      },
      "text/plain": [
       "Innermost loop magnitude:   0%|          | 0/10 [00:00<?, ?it/s]"
      ]
     },
     "metadata": {},
     "output_type": "display_data"
    },
    {
     "data": {
      "application/vnd.jupyter.widget-view+json": {
       "model_id": "3744219234ac4e28b7c03e641e9ec93c",
       "version_major": 2,
       "version_minor": 0
      },
      "text/plain": [
       "Innermost loop magnitude:   0%|          | 0/10 [00:00<?, ?it/s]"
      ]
     },
     "metadata": {},
     "output_type": "display_data"
    },
    {
     "data": {
      "application/vnd.jupyter.widget-view+json": {
       "model_id": "5fe5b8d8083340ab99b5b2bb0940cc5f",
       "version_major": 2,
       "version_minor": 0
      },
      "text/plain": [
       "Innermost loop magnitude:   0%|          | 0/10 [00:00<?, ?it/s]"
      ]
     },
     "metadata": {},
     "output_type": "display_data"
    },
    {
     "data": {
      "application/vnd.jupyter.widget-view+json": {
       "model_id": "ca5cdae9e5d8439c9fb95c967a7e4507",
       "version_major": 2,
       "version_minor": 0
      },
      "text/plain": [
       "Inner loop angle:   0%|          | 0/36 [00:00<?, ?it/s]"
      ]
     },
     "metadata": {},
     "output_type": "display_data"
    },
    {
     "data": {
      "application/vnd.jupyter.widget-view+json": {
       "model_id": "0e95eb5e440e4e1d9cc96f7e76042925",
       "version_major": 2,
       "version_minor": 0
      },
      "text/plain": [
       "Innermost loop magnitude:   0%|          | 0/10 [00:00<?, ?it/s]"
      ]
     },
     "metadata": {},
     "output_type": "display_data"
    },
    {
     "data": {
      "application/vnd.jupyter.widget-view+json": {
       "model_id": "f31f865e808346dca5e2c6171e487ee4",
       "version_major": 2,
       "version_minor": 0
      },
      "text/plain": [
       "Innermost loop magnitude:   0%|          | 0/10 [00:00<?, ?it/s]"
      ]
     },
     "metadata": {},
     "output_type": "display_data"
    },
    {
     "data": {
      "application/vnd.jupyter.widget-view+json": {
       "model_id": "a262cfe4d127405ab5ec68532ddb3327",
       "version_major": 2,
       "version_minor": 0
      },
      "text/plain": [
       "Innermost loop magnitude:   0%|          | 0/10 [00:00<?, ?it/s]"
      ]
     },
     "metadata": {},
     "output_type": "display_data"
    },
    {
     "data": {
      "application/vnd.jupyter.widget-view+json": {
       "model_id": "24a8b4b3bdf449f09765077df6b2cbba",
       "version_major": 2,
       "version_minor": 0
      },
      "text/plain": [
       "Innermost loop magnitude:   0%|          | 0/10 [00:00<?, ?it/s]"
      ]
     },
     "metadata": {},
     "output_type": "display_data"
    },
    {
     "data": {
      "application/vnd.jupyter.widget-view+json": {
       "model_id": "7a12d7e1eb3f4138a9b1c35f9b0cb3db",
       "version_major": 2,
       "version_minor": 0
      },
      "text/plain": [
       "Innermost loop magnitude:   0%|          | 0/10 [00:00<?, ?it/s]"
      ]
     },
     "metadata": {},
     "output_type": "display_data"
    },
    {
     "data": {
      "application/vnd.jupyter.widget-view+json": {
       "model_id": "cb210ce4ae4f4a2aa47126fed0a8ccaa",
       "version_major": 2,
       "version_minor": 0
      },
      "text/plain": [
       "Innermost loop magnitude:   0%|          | 0/10 [00:00<?, ?it/s]"
      ]
     },
     "metadata": {},
     "output_type": "display_data"
    },
    {
     "data": {
      "application/vnd.jupyter.widget-view+json": {
       "model_id": "e87b55fa576e4e4981ceb981704d3ad3",
       "version_major": 2,
       "version_minor": 0
      },
      "text/plain": [
       "Innermost loop magnitude:   0%|          | 0/10 [00:00<?, ?it/s]"
      ]
     },
     "metadata": {},
     "output_type": "display_data"
    },
    {
     "data": {
      "application/vnd.jupyter.widget-view+json": {
       "model_id": "2e57bfe900834b93aafbef83136fcf4e",
       "version_major": 2,
       "version_minor": 0
      },
      "text/plain": [
       "Innermost loop magnitude:   0%|          | 0/10 [00:00<?, ?it/s]"
      ]
     },
     "metadata": {},
     "output_type": "display_data"
    },
    {
     "data": {
      "application/vnd.jupyter.widget-view+json": {
       "model_id": "fa04e4f11ecb47e8b9b8997af5c5a858",
       "version_major": 2,
       "version_minor": 0
      },
      "text/plain": [
       "Innermost loop magnitude:   0%|          | 0/10 [00:00<?, ?it/s]"
      ]
     },
     "metadata": {},
     "output_type": "display_data"
    },
    {
     "data": {
      "application/vnd.jupyter.widget-view+json": {
       "model_id": "90db3d84be354795908174d781a7fa19",
       "version_major": 2,
       "version_minor": 0
      },
      "text/plain": [
       "Innermost loop magnitude:   0%|          | 0/10 [00:00<?, ?it/s]"
      ]
     },
     "metadata": {},
     "output_type": "display_data"
    },
    {
     "data": {
      "application/vnd.jupyter.widget-view+json": {
       "model_id": "8142d84237174be6b8151d260fe79728",
       "version_major": 2,
       "version_minor": 0
      },
      "text/plain": [
       "Innermost loop magnitude:   0%|          | 0/10 [00:00<?, ?it/s]"
      ]
     },
     "metadata": {},
     "output_type": "display_data"
    },
    {
     "data": {
      "application/vnd.jupyter.widget-view+json": {
       "model_id": "223dc00dd53b4e58ae518e44c176b212",
       "version_major": 2,
       "version_minor": 0
      },
      "text/plain": [
       "Innermost loop magnitude:   0%|          | 0/10 [00:00<?, ?it/s]"
      ]
     },
     "metadata": {},
     "output_type": "display_data"
    },
    {
     "data": {
      "application/vnd.jupyter.widget-view+json": {
       "model_id": "470228a79d49443e8e47f11db97bfd7e",
       "version_major": 2,
       "version_minor": 0
      },
      "text/plain": [
       "Innermost loop magnitude:   0%|          | 0/10 [00:00<?, ?it/s]"
      ]
     },
     "metadata": {},
     "output_type": "display_data"
    },
    {
     "data": {
      "application/vnd.jupyter.widget-view+json": {
       "model_id": "4c13403e221041c89cb879a105a3a554",
       "version_major": 2,
       "version_minor": 0
      },
      "text/plain": [
       "Innermost loop magnitude:   0%|          | 0/10 [00:00<?, ?it/s]"
      ]
     },
     "metadata": {},
     "output_type": "display_data"
    },
    {
     "data": {
      "application/vnd.jupyter.widget-view+json": {
       "model_id": "58334cec288b460d840ccd43e74524f8",
       "version_major": 2,
       "version_minor": 0
      },
      "text/plain": [
       "Innermost loop magnitude:   0%|          | 0/10 [00:00<?, ?it/s]"
      ]
     },
     "metadata": {},
     "output_type": "display_data"
    },
    {
     "data": {
      "application/vnd.jupyter.widget-view+json": {
       "model_id": "f97c433344da44bfb5afecc5cb202196",
       "version_major": 2,
       "version_minor": 0
      },
      "text/plain": [
       "Innermost loop magnitude:   0%|          | 0/10 [00:00<?, ?it/s]"
      ]
     },
     "metadata": {},
     "output_type": "display_data"
    },
    {
     "data": {
      "application/vnd.jupyter.widget-view+json": {
       "model_id": "a3a344bfb3b24c41848e9798959e4597",
       "version_major": 2,
       "version_minor": 0
      },
      "text/plain": [
       "Innermost loop magnitude:   0%|          | 0/10 [00:00<?, ?it/s]"
      ]
     },
     "metadata": {},
     "output_type": "display_data"
    },
    {
     "data": {
      "application/vnd.jupyter.widget-view+json": {
       "model_id": "fbb27361ebf04f62b37c2eaca8118c72",
       "version_major": 2,
       "version_minor": 0
      },
      "text/plain": [
       "Innermost loop magnitude:   0%|          | 0/10 [00:00<?, ?it/s]"
      ]
     },
     "metadata": {},
     "output_type": "display_data"
    },
    {
     "data": {
      "application/vnd.jupyter.widget-view+json": {
       "model_id": "f4a6336f43df48a6a2ab5d29618330e5",
       "version_major": 2,
       "version_minor": 0
      },
      "text/plain": [
       "Innermost loop magnitude:   0%|          | 0/10 [00:00<?, ?it/s]"
      ]
     },
     "metadata": {},
     "output_type": "display_data"
    },
    {
     "data": {
      "application/vnd.jupyter.widget-view+json": {
       "model_id": "cfc277804e5c418f8f19c429bf069743",
       "version_major": 2,
       "version_minor": 0
      },
      "text/plain": [
       "Innermost loop magnitude:   0%|          | 0/10 [00:00<?, ?it/s]"
      ]
     },
     "metadata": {},
     "output_type": "display_data"
    },
    {
     "data": {
      "application/vnd.jupyter.widget-view+json": {
       "model_id": "f96de263cd024d91873e4c610586476e",
       "version_major": 2,
       "version_minor": 0
      },
      "text/plain": [
       "Innermost loop magnitude:   0%|          | 0/10 [00:00<?, ?it/s]"
      ]
     },
     "metadata": {},
     "output_type": "display_data"
    },
    {
     "data": {
      "application/vnd.jupyter.widget-view+json": {
       "model_id": "f994da5a8502461e941c898ca9008a9b",
       "version_major": 2,
       "version_minor": 0
      },
      "text/plain": [
       "Innermost loop magnitude:   0%|          | 0/10 [00:00<?, ?it/s]"
      ]
     },
     "metadata": {},
     "output_type": "display_data"
    },
    {
     "data": {
      "application/vnd.jupyter.widget-view+json": {
       "model_id": "d85d860fd48741bb8c76571f4681dd43",
       "version_major": 2,
       "version_minor": 0
      },
      "text/plain": [
       "Innermost loop magnitude:   0%|          | 0/10 [00:00<?, ?it/s]"
      ]
     },
     "metadata": {},
     "output_type": "display_data"
    },
    {
     "data": {
      "application/vnd.jupyter.widget-view+json": {
       "model_id": "25c2ca2066e647c0a88ebb0e01bed186",
       "version_major": 2,
       "version_minor": 0
      },
      "text/plain": [
       "Innermost loop magnitude:   0%|          | 0/10 [00:00<?, ?it/s]"
      ]
     },
     "metadata": {},
     "output_type": "display_data"
    },
    {
     "data": {
      "application/vnd.jupyter.widget-view+json": {
       "model_id": "1868ecf48dd34a82ad7d234dbdd684bd",
       "version_major": 2,
       "version_minor": 0
      },
      "text/plain": [
       "Innermost loop magnitude:   0%|          | 0/10 [00:00<?, ?it/s]"
      ]
     },
     "metadata": {},
     "output_type": "display_data"
    },
    {
     "data": {
      "application/vnd.jupyter.widget-view+json": {
       "model_id": "cfc5d5d6dea544a88b4c0c8ae9d2ab3d",
       "version_major": 2,
       "version_minor": 0
      },
      "text/plain": [
       "Innermost loop magnitude:   0%|          | 0/10 [00:00<?, ?it/s]"
      ]
     },
     "metadata": {},
     "output_type": "display_data"
    },
    {
     "data": {
      "application/vnd.jupyter.widget-view+json": {
       "model_id": "0fb57741be6540799431afd54e60cbb0",
       "version_major": 2,
       "version_minor": 0
      },
      "text/plain": [
       "Innermost loop magnitude:   0%|          | 0/10 [00:00<?, ?it/s]"
      ]
     },
     "metadata": {},
     "output_type": "display_data"
    },
    {
     "data": {
      "application/vnd.jupyter.widget-view+json": {
       "model_id": "ebcbe703b9a2404dbfeda376abc75591",
       "version_major": 2,
       "version_minor": 0
      },
      "text/plain": [
       "Innermost loop magnitude:   0%|          | 0/10 [00:00<?, ?it/s]"
      ]
     },
     "metadata": {},
     "output_type": "display_data"
    },
    {
     "data": {
      "application/vnd.jupyter.widget-view+json": {
       "model_id": "d6679136046f44df97552972ac4a4235",
       "version_major": 2,
       "version_minor": 0
      },
      "text/plain": [
       "Innermost loop magnitude:   0%|          | 0/10 [00:00<?, ?it/s]"
      ]
     },
     "metadata": {},
     "output_type": "display_data"
    },
    {
     "data": {
      "application/vnd.jupyter.widget-view+json": {
       "model_id": "d00d0fa8cb8144189c4e804d3f2cb136",
       "version_major": 2,
       "version_minor": 0
      },
      "text/plain": [
       "Innermost loop magnitude:   0%|          | 0/10 [00:00<?, ?it/s]"
      ]
     },
     "metadata": {},
     "output_type": "display_data"
    },
    {
     "data": {
      "application/vnd.jupyter.widget-view+json": {
       "model_id": "6177335ed9ce4c99b1730b51e7180122",
       "version_major": 2,
       "version_minor": 0
      },
      "text/plain": [
       "Innermost loop magnitude:   0%|          | 0/10 [00:00<?, ?it/s]"
      ]
     },
     "metadata": {},
     "output_type": "display_data"
    },
    {
     "data": {
      "application/vnd.jupyter.widget-view+json": {
       "model_id": "fa9459e8abb64c5985a0fcb44c818fc1",
       "version_major": 2,
       "version_minor": 0
      },
      "text/plain": [
       "Innermost loop magnitude:   0%|          | 0/10 [00:00<?, ?it/s]"
      ]
     },
     "metadata": {},
     "output_type": "display_data"
    },
    {
     "data": {
      "application/vnd.jupyter.widget-view+json": {
       "model_id": "fcbd2a598189468a8870e75da06f49ac",
       "version_major": 2,
       "version_minor": 0
      },
      "text/plain": [
       "Innermost loop magnitude:   0%|          | 0/10 [00:00<?, ?it/s]"
      ]
     },
     "metadata": {},
     "output_type": "display_data"
    },
    {
     "data": {
      "application/vnd.jupyter.widget-view+json": {
       "model_id": "595af1fd33074ecf938ec046dd07fc87",
       "version_major": 2,
       "version_minor": 0
      },
      "text/plain": [
       "Innermost loop magnitude:   0%|          | 0/10 [00:00<?, ?it/s]"
      ]
     },
     "metadata": {},
     "output_type": "display_data"
    },
    {
     "data": {
      "application/vnd.jupyter.widget-view+json": {
       "model_id": "d712145fa9044d62bd84109936aff2ba",
       "version_major": 2,
       "version_minor": 0
      },
      "text/plain": [
       "Innermost loop magnitude:   0%|          | 0/10 [00:00<?, ?it/s]"
      ]
     },
     "metadata": {},
     "output_type": "display_data"
    },
    {
     "data": {
      "application/vnd.jupyter.widget-view+json": {
       "model_id": "aaf2e3c8799f4a639a174fa5ae8a694b",
       "version_major": 2,
       "version_minor": 0
      },
      "text/plain": [
       "Innermost loop magnitude:   0%|          | 0/10 [00:00<?, ?it/s]"
      ]
     },
     "metadata": {},
     "output_type": "display_data"
    },
    {
     "data": {
      "application/vnd.jupyter.widget-view+json": {
       "model_id": "ac5c0a121fdd4a4db4214eba7f00ded8",
       "version_major": 2,
       "version_minor": 0
      },
      "text/plain": [
       "Inner loop angle:   0%|          | 0/36 [00:00<?, ?it/s]"
      ]
     },
     "metadata": {},
     "output_type": "display_data"
    },
    {
     "data": {
      "application/vnd.jupyter.widget-view+json": {
       "model_id": "f6b15c1862a44914a16d1391bab3e013",
       "version_major": 2,
       "version_minor": 0
      },
      "text/plain": [
       "Innermost loop magnitude:   0%|          | 0/10 [00:00<?, ?it/s]"
      ]
     },
     "metadata": {},
     "output_type": "display_data"
    },
    {
     "data": {
      "application/vnd.jupyter.widget-view+json": {
       "model_id": "0e2069f2ce5f4bb3beb85c84e3aa8d7d",
       "version_major": 2,
       "version_minor": 0
      },
      "text/plain": [
       "Innermost loop magnitude:   0%|          | 0/10 [00:00<?, ?it/s]"
      ]
     },
     "metadata": {},
     "output_type": "display_data"
    },
    {
     "data": {
      "application/vnd.jupyter.widget-view+json": {
       "model_id": "d4fad8a7e3e047d29e89d9a779de630e",
       "version_major": 2,
       "version_minor": 0
      },
      "text/plain": [
       "Innermost loop magnitude:   0%|          | 0/10 [00:00<?, ?it/s]"
      ]
     },
     "metadata": {},
     "output_type": "display_data"
    },
    {
     "data": {
      "application/vnd.jupyter.widget-view+json": {
       "model_id": "7e09f375636f446e9c6f5c56985b37b2",
       "version_major": 2,
       "version_minor": 0
      },
      "text/plain": [
       "Innermost loop magnitude:   0%|          | 0/10 [00:00<?, ?it/s]"
      ]
     },
     "metadata": {},
     "output_type": "display_data"
    },
    {
     "data": {
      "application/vnd.jupyter.widget-view+json": {
       "model_id": "e2d0c641cc404188bed0caa80dbdecf9",
       "version_major": 2,
       "version_minor": 0
      },
      "text/plain": [
       "Innermost loop magnitude:   0%|          | 0/10 [00:00<?, ?it/s]"
      ]
     },
     "metadata": {},
     "output_type": "display_data"
    },
    {
     "data": {
      "application/vnd.jupyter.widget-view+json": {
       "model_id": "bc1f8808f6f34b7db81d4b5256bba8d0",
       "version_major": 2,
       "version_minor": 0
      },
      "text/plain": [
       "Innermost loop magnitude:   0%|          | 0/10 [00:00<?, ?it/s]"
      ]
     },
     "metadata": {},
     "output_type": "display_data"
    },
    {
     "data": {
      "application/vnd.jupyter.widget-view+json": {
       "model_id": "66118bacc55248248d850fc04f4b3722",
       "version_major": 2,
       "version_minor": 0
      },
      "text/plain": [
       "Innermost loop magnitude:   0%|          | 0/10 [00:00<?, ?it/s]"
      ]
     },
     "metadata": {},
     "output_type": "display_data"
    },
    {
     "data": {
      "application/vnd.jupyter.widget-view+json": {
       "model_id": "bcabacb201d948fcbaaa053011c504f8",
       "version_major": 2,
       "version_minor": 0
      },
      "text/plain": [
       "Innermost loop magnitude:   0%|          | 0/10 [00:00<?, ?it/s]"
      ]
     },
     "metadata": {},
     "output_type": "display_data"
    },
    {
     "data": {
      "application/vnd.jupyter.widget-view+json": {
       "model_id": "e9eb03a644244b6da9f74ef98505dcca",
       "version_major": 2,
       "version_minor": 0
      },
      "text/plain": [
       "Innermost loop magnitude:   0%|          | 0/10 [00:00<?, ?it/s]"
      ]
     },
     "metadata": {},
     "output_type": "display_data"
    },
    {
     "data": {
      "application/vnd.jupyter.widget-view+json": {
       "model_id": "a3f90d76741946bc834486e1ab7e936f",
       "version_major": 2,
       "version_minor": 0
      },
      "text/plain": [
       "Innermost loop magnitude:   0%|          | 0/10 [00:00<?, ?it/s]"
      ]
     },
     "metadata": {},
     "output_type": "display_data"
    },
    {
     "data": {
      "application/vnd.jupyter.widget-view+json": {
       "model_id": "c3f338ef0edd423fb22bb82346cce1ac",
       "version_major": 2,
       "version_minor": 0
      },
      "text/plain": [
       "Innermost loop magnitude:   0%|          | 0/10 [00:00<?, ?it/s]"
      ]
     },
     "metadata": {},
     "output_type": "display_data"
    },
    {
     "data": {
      "application/vnd.jupyter.widget-view+json": {
       "model_id": "5f1433bb9261424eb56ba5c9cd9c5bc0",
       "version_major": 2,
       "version_minor": 0
      },
      "text/plain": [
       "Innermost loop magnitude:   0%|          | 0/10 [00:00<?, ?it/s]"
      ]
     },
     "metadata": {},
     "output_type": "display_data"
    },
    {
     "data": {
      "application/vnd.jupyter.widget-view+json": {
       "model_id": "67b4b57221d849159fddf95a76ba52f5",
       "version_major": 2,
       "version_minor": 0
      },
      "text/plain": [
       "Innermost loop magnitude:   0%|          | 0/10 [00:00<?, ?it/s]"
      ]
     },
     "metadata": {},
     "output_type": "display_data"
    },
    {
     "data": {
      "application/vnd.jupyter.widget-view+json": {
       "model_id": "005e26f2517b40f499ac3547fb24523a",
       "version_major": 2,
       "version_minor": 0
      },
      "text/plain": [
       "Innermost loop magnitude:   0%|          | 0/10 [00:00<?, ?it/s]"
      ]
     },
     "metadata": {},
     "output_type": "display_data"
    },
    {
     "data": {
      "application/vnd.jupyter.widget-view+json": {
       "model_id": "2de02d82ad31451a895c53608c0774ad",
       "version_major": 2,
       "version_minor": 0
      },
      "text/plain": [
       "Innermost loop magnitude:   0%|          | 0/10 [00:00<?, ?it/s]"
      ]
     },
     "metadata": {},
     "output_type": "display_data"
    },
    {
     "data": {
      "application/vnd.jupyter.widget-view+json": {
       "model_id": "314c4f080f584100ab625e8e29ef3e96",
       "version_major": 2,
       "version_minor": 0
      },
      "text/plain": [
       "Innermost loop magnitude:   0%|          | 0/10 [00:00<?, ?it/s]"
      ]
     },
     "metadata": {},
     "output_type": "display_data"
    },
    {
     "data": {
      "application/vnd.jupyter.widget-view+json": {
       "model_id": "f4a14064673f4f3d804b4d225726fc70",
       "version_major": 2,
       "version_minor": 0
      },
      "text/plain": [
       "Innermost loop magnitude:   0%|          | 0/10 [00:00<?, ?it/s]"
      ]
     },
     "metadata": {},
     "output_type": "display_data"
    },
    {
     "data": {
      "application/vnd.jupyter.widget-view+json": {
       "model_id": "1f42c6058fb14423b85dfb07787f2d82",
       "version_major": 2,
       "version_minor": 0
      },
      "text/plain": [
       "Innermost loop magnitude:   0%|          | 0/10 [00:00<?, ?it/s]"
      ]
     },
     "metadata": {},
     "output_type": "display_data"
    },
    {
     "data": {
      "application/vnd.jupyter.widget-view+json": {
       "model_id": "5dce88531f144c0da5ff186ff8f0cc34",
       "version_major": 2,
       "version_minor": 0
      },
      "text/plain": [
       "Innermost loop magnitude:   0%|          | 0/10 [00:00<?, ?it/s]"
      ]
     },
     "metadata": {},
     "output_type": "display_data"
    },
    {
     "data": {
      "application/vnd.jupyter.widget-view+json": {
       "model_id": "d95a095ad7e443b7933706cfdafbe844",
       "version_major": 2,
       "version_minor": 0
      },
      "text/plain": [
       "Innermost loop magnitude:   0%|          | 0/10 [00:00<?, ?it/s]"
      ]
     },
     "metadata": {},
     "output_type": "display_data"
    },
    {
     "data": {
      "application/vnd.jupyter.widget-view+json": {
       "model_id": "a72b6c2beeee44749a8607be725ee99c",
       "version_major": 2,
       "version_minor": 0
      },
      "text/plain": [
       "Innermost loop magnitude:   0%|          | 0/10 [00:00<?, ?it/s]"
      ]
     },
     "metadata": {},
     "output_type": "display_data"
    },
    {
     "data": {
      "application/vnd.jupyter.widget-view+json": {
       "model_id": "cd7a2120119d4f7c996cffe48f2b2723",
       "version_major": 2,
       "version_minor": 0
      },
      "text/plain": [
       "Innermost loop magnitude:   0%|          | 0/10 [00:00<?, ?it/s]"
      ]
     },
     "metadata": {},
     "output_type": "display_data"
    },
    {
     "data": {
      "application/vnd.jupyter.widget-view+json": {
       "model_id": "9cfbb30636d443c4b1eab0c3c7b9019f",
       "version_major": 2,
       "version_minor": 0
      },
      "text/plain": [
       "Innermost loop magnitude:   0%|          | 0/10 [00:00<?, ?it/s]"
      ]
     },
     "metadata": {},
     "output_type": "display_data"
    },
    {
     "data": {
      "application/vnd.jupyter.widget-view+json": {
       "model_id": "f3f57145d92647c2a9170879260f066f",
       "version_major": 2,
       "version_minor": 0
      },
      "text/plain": [
       "Innermost loop magnitude:   0%|          | 0/10 [00:00<?, ?it/s]"
      ]
     },
     "metadata": {},
     "output_type": "display_data"
    },
    {
     "data": {
      "application/vnd.jupyter.widget-view+json": {
       "model_id": "657e4f51000940d4af13bb85caedaf48",
       "version_major": 2,
       "version_minor": 0
      },
      "text/plain": [
       "Innermost loop magnitude:   0%|          | 0/10 [00:00<?, ?it/s]"
      ]
     },
     "metadata": {},
     "output_type": "display_data"
    },
    {
     "data": {
      "application/vnd.jupyter.widget-view+json": {
       "model_id": "46b6ff9c2f254859aeed1225a6f7e9d8",
       "version_major": 2,
       "version_minor": 0
      },
      "text/plain": [
       "Innermost loop magnitude:   0%|          | 0/10 [00:00<?, ?it/s]"
      ]
     },
     "metadata": {},
     "output_type": "display_data"
    },
    {
     "data": {
      "application/vnd.jupyter.widget-view+json": {
       "model_id": "d00145049c504d0fae855f9c859f25cc",
       "version_major": 2,
       "version_minor": 0
      },
      "text/plain": [
       "Innermost loop magnitude:   0%|          | 0/10 [00:00<?, ?it/s]"
      ]
     },
     "metadata": {},
     "output_type": "display_data"
    },
    {
     "data": {
      "application/vnd.jupyter.widget-view+json": {
       "model_id": "929717956cdb45918141597a8d04c5e1",
       "version_major": 2,
       "version_minor": 0
      },
      "text/plain": [
       "Innermost loop magnitude:   0%|          | 0/10 [00:00<?, ?it/s]"
      ]
     },
     "metadata": {},
     "output_type": "display_data"
    },
    {
     "data": {
      "application/vnd.jupyter.widget-view+json": {
       "model_id": "8c692aa2c2c345b4b2cdcef708c8bb9c",
       "version_major": 2,
       "version_minor": 0
      },
      "text/plain": [
       "Innermost loop magnitude:   0%|          | 0/10 [00:00<?, ?it/s]"
      ]
     },
     "metadata": {},
     "output_type": "display_data"
    },
    {
     "data": {
      "application/vnd.jupyter.widget-view+json": {
       "model_id": "36f0df8202c74a32aad037191b79a406",
       "version_major": 2,
       "version_minor": 0
      },
      "text/plain": [
       "Innermost loop magnitude:   0%|          | 0/10 [00:00<?, ?it/s]"
      ]
     },
     "metadata": {},
     "output_type": "display_data"
    },
    {
     "data": {
      "application/vnd.jupyter.widget-view+json": {
       "model_id": "d2beb3b7ada143c1a7d5af85dc48d7a5",
       "version_major": 2,
       "version_minor": 0
      },
      "text/plain": [
       "Innermost loop magnitude:   0%|          | 0/10 [00:00<?, ?it/s]"
      ]
     },
     "metadata": {},
     "output_type": "display_data"
    },
    {
     "data": {
      "application/vnd.jupyter.widget-view+json": {
       "model_id": "085fb038b30647a4baf2f4c5bd2c9456",
       "version_major": 2,
       "version_minor": 0
      },
      "text/plain": [
       "Innermost loop magnitude:   0%|          | 0/10 [00:00<?, ?it/s]"
      ]
     },
     "metadata": {},
     "output_type": "display_data"
    },
    {
     "data": {
      "application/vnd.jupyter.widget-view+json": {
       "model_id": "73530e0e8e4f4a16a7ef1c9b85995c3e",
       "version_major": 2,
       "version_minor": 0
      },
      "text/plain": [
       "Innermost loop magnitude:   0%|          | 0/10 [00:00<?, ?it/s]"
      ]
     },
     "metadata": {},
     "output_type": "display_data"
    },
    {
     "data": {
      "application/vnd.jupyter.widget-view+json": {
       "model_id": "a53501de67064da4aad0aebf4673dc14",
       "version_major": 2,
       "version_minor": 0
      },
      "text/plain": [
       "Innermost loop magnitude:   0%|          | 0/10 [00:00<?, ?it/s]"
      ]
     },
     "metadata": {},
     "output_type": "display_data"
    },
    {
     "data": {
      "application/vnd.jupyter.widget-view+json": {
       "model_id": "6579475a417240ff80f70093cc4be351",
       "version_major": 2,
       "version_minor": 0
      },
      "text/plain": [
       "Innermost loop magnitude:   0%|          | 0/10 [00:00<?, ?it/s]"
      ]
     },
     "metadata": {},
     "output_type": "display_data"
    },
    {
     "data": {
      "application/vnd.jupyter.widget-view+json": {
       "model_id": "6e443fab150240fcad669361f752e51c",
       "version_major": 2,
       "version_minor": 0
      },
      "text/plain": [
       "Innermost loop magnitude:   0%|          | 0/10 [00:00<?, ?it/s]"
      ]
     },
     "metadata": {},
     "output_type": "display_data"
    },
    {
     "data": {
      "application/vnd.jupyter.widget-view+json": {
       "model_id": "f7480df1e1f14b8b8a381f12a36149a9",
       "version_major": 2,
       "version_minor": 0
      },
      "text/plain": [
       "Inner loop angle:   0%|          | 0/36 [00:00<?, ?it/s]"
      ]
     },
     "metadata": {},
     "output_type": "display_data"
    },
    {
     "data": {
      "application/vnd.jupyter.widget-view+json": {
       "model_id": "af0fff3bdaa944439338eefd904f503d",
       "version_major": 2,
       "version_minor": 0
      },
      "text/plain": [
       "Innermost loop magnitude:   0%|          | 0/10 [00:00<?, ?it/s]"
      ]
     },
     "metadata": {},
     "output_type": "display_data"
    },
    {
     "data": {
      "application/vnd.jupyter.widget-view+json": {
       "model_id": "e11ea2279d6048c2b498ec9a8f55022c",
       "version_major": 2,
       "version_minor": 0
      },
      "text/plain": [
       "Innermost loop magnitude:   0%|          | 0/10 [00:00<?, ?it/s]"
      ]
     },
     "metadata": {},
     "output_type": "display_data"
    },
    {
     "data": {
      "application/vnd.jupyter.widget-view+json": {
       "model_id": "dd9a98a51d7042bc849a8f78b9052d95",
       "version_major": 2,
       "version_minor": 0
      },
      "text/plain": [
       "Innermost loop magnitude:   0%|          | 0/10 [00:00<?, ?it/s]"
      ]
     },
     "metadata": {},
     "output_type": "display_data"
    },
    {
     "data": {
      "application/vnd.jupyter.widget-view+json": {
       "model_id": "9878c8b8fbff496abfd160c84737db97",
       "version_major": 2,
       "version_minor": 0
      },
      "text/plain": [
       "Innermost loop magnitude:   0%|          | 0/10 [00:00<?, ?it/s]"
      ]
     },
     "metadata": {},
     "output_type": "display_data"
    },
    {
     "data": {
      "application/vnd.jupyter.widget-view+json": {
       "model_id": "98e3975ece2b46f8a4e20151f0440356",
       "version_major": 2,
       "version_minor": 0
      },
      "text/plain": [
       "Innermost loop magnitude:   0%|          | 0/10 [00:00<?, ?it/s]"
      ]
     },
     "metadata": {},
     "output_type": "display_data"
    },
    {
     "data": {
      "application/vnd.jupyter.widget-view+json": {
       "model_id": "b13e8b13c16e42a0a740784209d34e09",
       "version_major": 2,
       "version_minor": 0
      },
      "text/plain": [
       "Innermost loop magnitude:   0%|          | 0/10 [00:00<?, ?it/s]"
      ]
     },
     "metadata": {},
     "output_type": "display_data"
    },
    {
     "data": {
      "application/vnd.jupyter.widget-view+json": {
       "model_id": "e1225e66d14c4cf2bbb5dd85402b4fb7",
       "version_major": 2,
       "version_minor": 0
      },
      "text/plain": [
       "Innermost loop magnitude:   0%|          | 0/10 [00:00<?, ?it/s]"
      ]
     },
     "metadata": {},
     "output_type": "display_data"
    },
    {
     "data": {
      "application/vnd.jupyter.widget-view+json": {
       "model_id": "41ce87e3a3ec455ba7a531d9ccdf3612",
       "version_major": 2,
       "version_minor": 0
      },
      "text/plain": [
       "Innermost loop magnitude:   0%|          | 0/10 [00:00<?, ?it/s]"
      ]
     },
     "metadata": {},
     "output_type": "display_data"
    },
    {
     "data": {
      "application/vnd.jupyter.widget-view+json": {
       "model_id": "f579b9b8b292442b81e48a2fb7715df7",
       "version_major": 2,
       "version_minor": 0
      },
      "text/plain": [
       "Innermost loop magnitude:   0%|          | 0/10 [00:00<?, ?it/s]"
      ]
     },
     "metadata": {},
     "output_type": "display_data"
    },
    {
     "data": {
      "application/vnd.jupyter.widget-view+json": {
       "model_id": "544ee28f1f8e41a2a77441be3316c78e",
       "version_major": 2,
       "version_minor": 0
      },
      "text/plain": [
       "Innermost loop magnitude:   0%|          | 0/10 [00:00<?, ?it/s]"
      ]
     },
     "metadata": {},
     "output_type": "display_data"
    },
    {
     "data": {
      "application/vnd.jupyter.widget-view+json": {
       "model_id": "9280035f9858478b89152ddbb0ed11c6",
       "version_major": 2,
       "version_minor": 0
      },
      "text/plain": [
       "Innermost loop magnitude:   0%|          | 0/10 [00:00<?, ?it/s]"
      ]
     },
     "metadata": {},
     "output_type": "display_data"
    },
    {
     "data": {
      "application/vnd.jupyter.widget-view+json": {
       "model_id": "190e76879ea049a29ea4c419f4bff670",
       "version_major": 2,
       "version_minor": 0
      },
      "text/plain": [
       "Innermost loop magnitude:   0%|          | 0/10 [00:00<?, ?it/s]"
      ]
     },
     "metadata": {},
     "output_type": "display_data"
    },
    {
     "data": {
      "application/vnd.jupyter.widget-view+json": {
       "model_id": "51dc7750705d4c02a295232faef35055",
       "version_major": 2,
       "version_minor": 0
      },
      "text/plain": [
       "Innermost loop magnitude:   0%|          | 0/10 [00:00<?, ?it/s]"
      ]
     },
     "metadata": {},
     "output_type": "display_data"
    },
    {
     "data": {
      "application/vnd.jupyter.widget-view+json": {
       "model_id": "c1e1ac5ee26e40ba83c3bf230591a551",
       "version_major": 2,
       "version_minor": 0
      },
      "text/plain": [
       "Innermost loop magnitude:   0%|          | 0/10 [00:00<?, ?it/s]"
      ]
     },
     "metadata": {},
     "output_type": "display_data"
    },
    {
     "data": {
      "application/vnd.jupyter.widget-view+json": {
       "model_id": "0fa3632d9cf74c55a955a7eab66c5fbe",
       "version_major": 2,
       "version_minor": 0
      },
      "text/plain": [
       "Innermost loop magnitude:   0%|          | 0/10 [00:00<?, ?it/s]"
      ]
     },
     "metadata": {},
     "output_type": "display_data"
    },
    {
     "data": {
      "application/vnd.jupyter.widget-view+json": {
       "model_id": "0afc9eb40a4e4d1b8537ab254068dc83",
       "version_major": 2,
       "version_minor": 0
      },
      "text/plain": [
       "Innermost loop magnitude:   0%|          | 0/10 [00:00<?, ?it/s]"
      ]
     },
     "metadata": {},
     "output_type": "display_data"
    },
    {
     "data": {
      "application/vnd.jupyter.widget-view+json": {
       "model_id": "c2f192f3ea214a87a26f6fe9158e0f18",
       "version_major": 2,
       "version_minor": 0
      },
      "text/plain": [
       "Innermost loop magnitude:   0%|          | 0/10 [00:00<?, ?it/s]"
      ]
     },
     "metadata": {},
     "output_type": "display_data"
    },
    {
     "data": {
      "application/vnd.jupyter.widget-view+json": {
       "model_id": "8d396a87261649f59c6d03971b49137b",
       "version_major": 2,
       "version_minor": 0
      },
      "text/plain": [
       "Innermost loop magnitude:   0%|          | 0/10 [00:00<?, ?it/s]"
      ]
     },
     "metadata": {},
     "output_type": "display_data"
    },
    {
     "data": {
      "application/vnd.jupyter.widget-view+json": {
       "model_id": "0387c8c4ee6f42c5831cbb33a3454105",
       "version_major": 2,
       "version_minor": 0
      },
      "text/plain": [
       "Innermost loop magnitude:   0%|          | 0/10 [00:00<?, ?it/s]"
      ]
     },
     "metadata": {},
     "output_type": "display_data"
    },
    {
     "data": {
      "application/vnd.jupyter.widget-view+json": {
       "model_id": "4a9aa3fa47f14d3eb3d4f039a65aa719",
       "version_major": 2,
       "version_minor": 0
      },
      "text/plain": [
       "Innermost loop magnitude:   0%|          | 0/10 [00:00<?, ?it/s]"
      ]
     },
     "metadata": {},
     "output_type": "display_data"
    },
    {
     "data": {
      "application/vnd.jupyter.widget-view+json": {
       "model_id": "d27ce4e133af4b1e93a376b1a91287b9",
       "version_major": 2,
       "version_minor": 0
      },
      "text/plain": [
       "Innermost loop magnitude:   0%|          | 0/10 [00:00<?, ?it/s]"
      ]
     },
     "metadata": {},
     "output_type": "display_data"
    },
    {
     "data": {
      "application/vnd.jupyter.widget-view+json": {
       "model_id": "0b49dbe622d6461c84ec548f5ae0cb04",
       "version_major": 2,
       "version_minor": 0
      },
      "text/plain": [
       "Innermost loop magnitude:   0%|          | 0/10 [00:00<?, ?it/s]"
      ]
     },
     "metadata": {},
     "output_type": "display_data"
    },
    {
     "data": {
      "application/vnd.jupyter.widget-view+json": {
       "model_id": "e65caf53bd274fb2829aa5330f19edd3",
       "version_major": 2,
       "version_minor": 0
      },
      "text/plain": [
       "Innermost loop magnitude:   0%|          | 0/10 [00:00<?, ?it/s]"
      ]
     },
     "metadata": {},
     "output_type": "display_data"
    },
    {
     "data": {
      "application/vnd.jupyter.widget-view+json": {
       "model_id": "b71f7d77d40b4d6ab585a32ae517e302",
       "version_major": 2,
       "version_minor": 0
      },
      "text/plain": [
       "Innermost loop magnitude:   0%|          | 0/10 [00:00<?, ?it/s]"
      ]
     },
     "metadata": {},
     "output_type": "display_data"
    },
    {
     "data": {
      "application/vnd.jupyter.widget-view+json": {
       "model_id": "903a231d9d2c48ada0615f3bef78e1f3",
       "version_major": 2,
       "version_minor": 0
      },
      "text/plain": [
       "Innermost loop magnitude:   0%|          | 0/10 [00:00<?, ?it/s]"
      ]
     },
     "metadata": {},
     "output_type": "display_data"
    },
    {
     "data": {
      "application/vnd.jupyter.widget-view+json": {
       "model_id": "72c3d075f37a4bb1a6f4240286bfe2ee",
       "version_major": 2,
       "version_minor": 0
      },
      "text/plain": [
       "Innermost loop magnitude:   0%|          | 0/10 [00:00<?, ?it/s]"
      ]
     },
     "metadata": {},
     "output_type": "display_data"
    },
    {
     "data": {
      "application/vnd.jupyter.widget-view+json": {
       "model_id": "8f33986f61664c178b61720cf358b1f3",
       "version_major": 2,
       "version_minor": 0
      },
      "text/plain": [
       "Innermost loop magnitude:   0%|          | 0/10 [00:00<?, ?it/s]"
      ]
     },
     "metadata": {},
     "output_type": "display_data"
    },
    {
     "data": {
      "application/vnd.jupyter.widget-view+json": {
       "model_id": "9169da102e9648b5af0b01e835677930",
       "version_major": 2,
       "version_minor": 0
      },
      "text/plain": [
       "Innermost loop magnitude:   0%|          | 0/10 [00:00<?, ?it/s]"
      ]
     },
     "metadata": {},
     "output_type": "display_data"
    },
    {
     "data": {
      "application/vnd.jupyter.widget-view+json": {
       "model_id": "ac6b845c0fdb42ae8f1a94544cec5570",
       "version_major": 2,
       "version_minor": 0
      },
      "text/plain": [
       "Innermost loop magnitude:   0%|          | 0/10 [00:00<?, ?it/s]"
      ]
     },
     "metadata": {},
     "output_type": "display_data"
    },
    {
     "data": {
      "application/vnd.jupyter.widget-view+json": {
       "model_id": "bf35818b6a3949a3b15044f0cc3a5e80",
       "version_major": 2,
       "version_minor": 0
      },
      "text/plain": [
       "Innermost loop magnitude:   0%|          | 0/10 [00:00<?, ?it/s]"
      ]
     },
     "metadata": {},
     "output_type": "display_data"
    },
    {
     "data": {
      "application/vnd.jupyter.widget-view+json": {
       "model_id": "f90b048b1b524af3b569005895d4caed",
       "version_major": 2,
       "version_minor": 0
      },
      "text/plain": [
       "Innermost loop magnitude:   0%|          | 0/10 [00:00<?, ?it/s]"
      ]
     },
     "metadata": {},
     "output_type": "display_data"
    },
    {
     "data": {
      "application/vnd.jupyter.widget-view+json": {
       "model_id": "e5cf1986ba90472dabe79b4a994d3b29",
       "version_major": 2,
       "version_minor": 0
      },
      "text/plain": [
       "Innermost loop magnitude:   0%|          | 0/10 [00:00<?, ?it/s]"
      ]
     },
     "metadata": {},
     "output_type": "display_data"
    },
    {
     "data": {
      "application/vnd.jupyter.widget-view+json": {
       "model_id": "7f36923d08dc46a6b80cb56c62e0fc5a",
       "version_major": 2,
       "version_minor": 0
      },
      "text/plain": [
       "Innermost loop magnitude:   0%|          | 0/10 [00:00<?, ?it/s]"
      ]
     },
     "metadata": {},
     "output_type": "display_data"
    },
    {
     "data": {
      "application/vnd.jupyter.widget-view+json": {
       "model_id": "669c723c8fa24fe5956c17d2d5ba1620",
       "version_major": 2,
       "version_minor": 0
      },
      "text/plain": [
       "Innermost loop magnitude:   0%|          | 0/10 [00:00<?, ?it/s]"
      ]
     },
     "metadata": {},
     "output_type": "display_data"
    },
    {
     "data": {
      "application/vnd.jupyter.widget-view+json": {
       "model_id": "182421827fbc43e79ab11c625847bfa9",
       "version_major": 2,
       "version_minor": 0
      },
      "text/plain": [
       "Innermost loop magnitude:   0%|          | 0/10 [00:00<?, ?it/s]"
      ]
     },
     "metadata": {},
     "output_type": "display_data"
    },
    {
     "data": {
      "application/vnd.jupyter.widget-view+json": {
       "model_id": "f7a85331ef9a41a0a0076e394fe1256e",
       "version_major": 2,
       "version_minor": 0
      },
      "text/plain": [
       "Innermost loop magnitude:   0%|          | 0/10 [00:00<?, ?it/s]"
      ]
     },
     "metadata": {},
     "output_type": "display_data"
    },
    {
     "data": {
      "application/vnd.jupyter.widget-view+json": {
       "model_id": "1261b0d4426d44a38bc188ba43c35039",
       "version_major": 2,
       "version_minor": 0
      },
      "text/plain": [
       "Inner loop angle:   0%|          | 0/36 [00:00<?, ?it/s]"
      ]
     },
     "metadata": {},
     "output_type": "display_data"
    },
    {
     "data": {
      "application/vnd.jupyter.widget-view+json": {
       "model_id": "c867269387104c0ba79f73a397063bdf",
       "version_major": 2,
       "version_minor": 0
      },
      "text/plain": [
       "Innermost loop magnitude:   0%|          | 0/10 [00:00<?, ?it/s]"
      ]
     },
     "metadata": {},
     "output_type": "display_data"
    },
    {
     "data": {
      "application/vnd.jupyter.widget-view+json": {
       "model_id": "6959abc3391a4372aa376379224ab351",
       "version_major": 2,
       "version_minor": 0
      },
      "text/plain": [
       "Innermost loop magnitude:   0%|          | 0/10 [00:00<?, ?it/s]"
      ]
     },
     "metadata": {},
     "output_type": "display_data"
    },
    {
     "data": {
      "application/vnd.jupyter.widget-view+json": {
       "model_id": "56fa1dda76654d8c9003867047cef1ec",
       "version_major": 2,
       "version_minor": 0
      },
      "text/plain": [
       "Innermost loop magnitude:   0%|          | 0/10 [00:00<?, ?it/s]"
      ]
     },
     "metadata": {},
     "output_type": "display_data"
    },
    {
     "data": {
      "application/vnd.jupyter.widget-view+json": {
       "model_id": "288613492aef453f97d71e9f057f3879",
       "version_major": 2,
       "version_minor": 0
      },
      "text/plain": [
       "Innermost loop magnitude:   0%|          | 0/10 [00:00<?, ?it/s]"
      ]
     },
     "metadata": {},
     "output_type": "display_data"
    },
    {
     "data": {
      "application/vnd.jupyter.widget-view+json": {
       "model_id": "8f71addedc63492f89326fff4fbbd1cb",
       "version_major": 2,
       "version_minor": 0
      },
      "text/plain": [
       "Innermost loop magnitude:   0%|          | 0/10 [00:00<?, ?it/s]"
      ]
     },
     "metadata": {},
     "output_type": "display_data"
    },
    {
     "data": {
      "application/vnd.jupyter.widget-view+json": {
       "model_id": "5bcd3e65ee71431a8cccad0a5860574a",
       "version_major": 2,
       "version_minor": 0
      },
      "text/plain": [
       "Innermost loop magnitude:   0%|          | 0/10 [00:00<?, ?it/s]"
      ]
     },
     "metadata": {},
     "output_type": "display_data"
    },
    {
     "data": {
      "application/vnd.jupyter.widget-view+json": {
       "model_id": "5ccca04e7b72410a9f287dccefb7f5a9",
       "version_major": 2,
       "version_minor": 0
      },
      "text/plain": [
       "Innermost loop magnitude:   0%|          | 0/10 [00:00<?, ?it/s]"
      ]
     },
     "metadata": {},
     "output_type": "display_data"
    },
    {
     "data": {
      "application/vnd.jupyter.widget-view+json": {
       "model_id": "6a479f2df8c441ab8ce14848354a4814",
       "version_major": 2,
       "version_minor": 0
      },
      "text/plain": [
       "Innermost loop magnitude:   0%|          | 0/10 [00:00<?, ?it/s]"
      ]
     },
     "metadata": {},
     "output_type": "display_data"
    },
    {
     "data": {
      "application/vnd.jupyter.widget-view+json": {
       "model_id": "7535d153e4294f9782699ab947a462f8",
       "version_major": 2,
       "version_minor": 0
      },
      "text/plain": [
       "Innermost loop magnitude:   0%|          | 0/10 [00:00<?, ?it/s]"
      ]
     },
     "metadata": {},
     "output_type": "display_data"
    },
    {
     "data": {
      "application/vnd.jupyter.widget-view+json": {
       "model_id": "d90e10a43e8842dc9d6b3cbba6b5798a",
       "version_major": 2,
       "version_minor": 0
      },
      "text/plain": [
       "Innermost loop magnitude:   0%|          | 0/10 [00:00<?, ?it/s]"
      ]
     },
     "metadata": {},
     "output_type": "display_data"
    },
    {
     "data": {
      "application/vnd.jupyter.widget-view+json": {
       "model_id": "c06761a2fdbe499caabaea7d860ed567",
       "version_major": 2,
       "version_minor": 0
      },
      "text/plain": [
       "Innermost loop magnitude:   0%|          | 0/10 [00:00<?, ?it/s]"
      ]
     },
     "metadata": {},
     "output_type": "display_data"
    },
    {
     "data": {
      "application/vnd.jupyter.widget-view+json": {
       "model_id": "e55f6047eb5a4aacb3227034a6b04c57",
       "version_major": 2,
       "version_minor": 0
      },
      "text/plain": [
       "Innermost loop magnitude:   0%|          | 0/10 [00:00<?, ?it/s]"
      ]
     },
     "metadata": {},
     "output_type": "display_data"
    },
    {
     "data": {
      "application/vnd.jupyter.widget-view+json": {
       "model_id": "d7502b9972a04da3ba0fdf905ae07e71",
       "version_major": 2,
       "version_minor": 0
      },
      "text/plain": [
       "Innermost loop magnitude:   0%|          | 0/10 [00:00<?, ?it/s]"
      ]
     },
     "metadata": {},
     "output_type": "display_data"
    },
    {
     "data": {
      "application/vnd.jupyter.widget-view+json": {
       "model_id": "8c5658081a554821948d6f5c687ab7ed",
       "version_major": 2,
       "version_minor": 0
      },
      "text/plain": [
       "Innermost loop magnitude:   0%|          | 0/10 [00:00<?, ?it/s]"
      ]
     },
     "metadata": {},
     "output_type": "display_data"
    },
    {
     "data": {
      "application/vnd.jupyter.widget-view+json": {
       "model_id": "368731bc991a4f0f9df30169887a191f",
       "version_major": 2,
       "version_minor": 0
      },
      "text/plain": [
       "Innermost loop magnitude:   0%|          | 0/10 [00:00<?, ?it/s]"
      ]
     },
     "metadata": {},
     "output_type": "display_data"
    },
    {
     "data": {
      "application/vnd.jupyter.widget-view+json": {
       "model_id": "85a11a3710234547967bec5d27c0c888",
       "version_major": 2,
       "version_minor": 0
      },
      "text/plain": [
       "Innermost loop magnitude:   0%|          | 0/10 [00:00<?, ?it/s]"
      ]
     },
     "metadata": {},
     "output_type": "display_data"
    },
    {
     "data": {
      "application/vnd.jupyter.widget-view+json": {
       "model_id": "ac65b9b65f024126953f2475ccbb0b4e",
       "version_major": 2,
       "version_minor": 0
      },
      "text/plain": [
       "Innermost loop magnitude:   0%|          | 0/10 [00:00<?, ?it/s]"
      ]
     },
     "metadata": {},
     "output_type": "display_data"
    },
    {
     "data": {
      "application/vnd.jupyter.widget-view+json": {
       "model_id": "57760368faec4398a0e487d5dc37d556",
       "version_major": 2,
       "version_minor": 0
      },
      "text/plain": [
       "Innermost loop magnitude:   0%|          | 0/10 [00:00<?, ?it/s]"
      ]
     },
     "metadata": {},
     "output_type": "display_data"
    },
    {
     "data": {
      "application/vnd.jupyter.widget-view+json": {
       "model_id": "463f51728c0c4a638422d153fd88dac5",
       "version_major": 2,
       "version_minor": 0
      },
      "text/plain": [
       "Innermost loop magnitude:   0%|          | 0/10 [00:00<?, ?it/s]"
      ]
     },
     "metadata": {},
     "output_type": "display_data"
    },
    {
     "data": {
      "application/vnd.jupyter.widget-view+json": {
       "model_id": "47d02ad296f548198f4e36eb5be870ea",
       "version_major": 2,
       "version_minor": 0
      },
      "text/plain": [
       "Innermost loop magnitude:   0%|          | 0/10 [00:00<?, ?it/s]"
      ]
     },
     "metadata": {},
     "output_type": "display_data"
    },
    {
     "data": {
      "application/vnd.jupyter.widget-view+json": {
       "model_id": "3a56aede4d264802a4f7ce72cc0b91e7",
       "version_major": 2,
       "version_minor": 0
      },
      "text/plain": [
       "Innermost loop magnitude:   0%|          | 0/10 [00:00<?, ?it/s]"
      ]
     },
     "metadata": {},
     "output_type": "display_data"
    },
    {
     "data": {
      "application/vnd.jupyter.widget-view+json": {
       "model_id": "9155d3b0e7d841cfb0f8c4a3f30433dc",
       "version_major": 2,
       "version_minor": 0
      },
      "text/plain": [
       "Innermost loop magnitude:   0%|          | 0/10 [00:00<?, ?it/s]"
      ]
     },
     "metadata": {},
     "output_type": "display_data"
    },
    {
     "data": {
      "application/vnd.jupyter.widget-view+json": {
       "model_id": "e0813ef6032b40f9ad1b8b10edcbc5d5",
       "version_major": 2,
       "version_minor": 0
      },
      "text/plain": [
       "Innermost loop magnitude:   0%|          | 0/10 [00:00<?, ?it/s]"
      ]
     },
     "metadata": {},
     "output_type": "display_data"
    },
    {
     "data": {
      "application/vnd.jupyter.widget-view+json": {
       "model_id": "2a7e6845386748ebbbf669e7e3690c67",
       "version_major": 2,
       "version_minor": 0
      },
      "text/plain": [
       "Innermost loop magnitude:   0%|          | 0/10 [00:00<?, ?it/s]"
      ]
     },
     "metadata": {},
     "output_type": "display_data"
    },
    {
     "data": {
      "application/vnd.jupyter.widget-view+json": {
       "model_id": "07234b5597cf45a0ad9bd7db13066195",
       "version_major": 2,
       "version_minor": 0
      },
      "text/plain": [
       "Innermost loop magnitude:   0%|          | 0/10 [00:00<?, ?it/s]"
      ]
     },
     "metadata": {},
     "output_type": "display_data"
    },
    {
     "data": {
      "application/vnd.jupyter.widget-view+json": {
       "model_id": "2e269f5c52ed4e32b0b16ed699b3ff08",
       "version_major": 2,
       "version_minor": 0
      },
      "text/plain": [
       "Innermost loop magnitude:   0%|          | 0/10 [00:00<?, ?it/s]"
      ]
     },
     "metadata": {},
     "output_type": "display_data"
    },
    {
     "data": {
      "application/vnd.jupyter.widget-view+json": {
       "model_id": "024a7bf6d84a4fa3b61ac7b985a4841f",
       "version_major": 2,
       "version_minor": 0
      },
      "text/plain": [
       "Innermost loop magnitude:   0%|          | 0/10 [00:00<?, ?it/s]"
      ]
     },
     "metadata": {},
     "output_type": "display_data"
    },
    {
     "data": {
      "application/vnd.jupyter.widget-view+json": {
       "model_id": "fa83ee6845de4c109f6822d3bdf08501",
       "version_major": 2,
       "version_minor": 0
      },
      "text/plain": [
       "Innermost loop magnitude:   0%|          | 0/10 [00:00<?, ?it/s]"
      ]
     },
     "metadata": {},
     "output_type": "display_data"
    },
    {
     "data": {
      "application/vnd.jupyter.widget-view+json": {
       "model_id": "c6282bf62cb04d9aafcb9b10a82ffb79",
       "version_major": 2,
       "version_minor": 0
      },
      "text/plain": [
       "Innermost loop magnitude:   0%|          | 0/10 [00:00<?, ?it/s]"
      ]
     },
     "metadata": {},
     "output_type": "display_data"
    },
    {
     "data": {
      "application/vnd.jupyter.widget-view+json": {
       "model_id": "17b8a99fd1da4f7aac4d6a3a755904f1",
       "version_major": 2,
       "version_minor": 0
      },
      "text/plain": [
       "Innermost loop magnitude:   0%|          | 0/10 [00:00<?, ?it/s]"
      ]
     },
     "metadata": {},
     "output_type": "display_data"
    },
    {
     "data": {
      "application/vnd.jupyter.widget-view+json": {
       "model_id": "cedab94917bf4f7aa3e00e0c6df5fa12",
       "version_major": 2,
       "version_minor": 0
      },
      "text/plain": [
       "Innermost loop magnitude:   0%|          | 0/10 [00:00<?, ?it/s]"
      ]
     },
     "metadata": {},
     "output_type": "display_data"
    },
    {
     "data": {
      "application/vnd.jupyter.widget-view+json": {
       "model_id": "1d97fce338ec45eb881a9b0e646a44b5",
       "version_major": 2,
       "version_minor": 0
      },
      "text/plain": [
       "Innermost loop magnitude:   0%|          | 0/10 [00:00<?, ?it/s]"
      ]
     },
     "metadata": {},
     "output_type": "display_data"
    },
    {
     "data": {
      "application/vnd.jupyter.widget-view+json": {
       "model_id": "073482be186a4160a4c99d0a6cee3bdb",
       "version_major": 2,
       "version_minor": 0
      },
      "text/plain": [
       "Innermost loop magnitude:   0%|          | 0/10 [00:00<?, ?it/s]"
      ]
     },
     "metadata": {},
     "output_type": "display_data"
    },
    {
     "data": {
      "application/vnd.jupyter.widget-view+json": {
       "model_id": "794fc01f1881494eb3cecdbdf4704ff1",
       "version_major": 2,
       "version_minor": 0
      },
      "text/plain": [
       "Innermost loop magnitude:   0%|          | 0/10 [00:00<?, ?it/s]"
      ]
     },
     "metadata": {},
     "output_type": "display_data"
    },
    {
     "data": {
      "application/vnd.jupyter.widget-view+json": {
       "model_id": "11893e7f79a640fdbb5eedaba333d4f5",
       "version_major": 2,
       "version_minor": 0
      },
      "text/plain": [
       "Innermost loop magnitude:   0%|          | 0/10 [00:00<?, ?it/s]"
      ]
     },
     "metadata": {},
     "output_type": "display_data"
    },
    {
     "data": {
      "application/vnd.jupyter.widget-view+json": {
       "model_id": "b43e0dc51bfd4dc6be12dff74fb0c3e5",
       "version_major": 2,
       "version_minor": 0
      },
      "text/plain": [
       "Innermost loop magnitude:   0%|          | 0/10 [00:00<?, ?it/s]"
      ]
     },
     "metadata": {},
     "output_type": "display_data"
    },
    {
     "data": {
      "application/vnd.jupyter.widget-view+json": {
       "model_id": "d5d167d6d41347ab9dfdceb9d973fdbb",
       "version_major": 2,
       "version_minor": 0
      },
      "text/plain": [
       "Inner loop angle:   0%|          | 0/36 [00:00<?, ?it/s]"
      ]
     },
     "metadata": {},
     "output_type": "display_data"
    },
    {
     "data": {
      "application/vnd.jupyter.widget-view+json": {
       "model_id": "e7a3cd829e774a899af759318e8bebe8",
       "version_major": 2,
       "version_minor": 0
      },
      "text/plain": [
       "Innermost loop magnitude:   0%|          | 0/10 [00:00<?, ?it/s]"
      ]
     },
     "metadata": {},
     "output_type": "display_data"
    },
    {
     "data": {
      "application/vnd.jupyter.widget-view+json": {
       "model_id": "ce88aa55dd6a4d1787f28a9e8b98e9db",
       "version_major": 2,
       "version_minor": 0
      },
      "text/plain": [
       "Innermost loop magnitude:   0%|          | 0/10 [00:00<?, ?it/s]"
      ]
     },
     "metadata": {},
     "output_type": "display_data"
    },
    {
     "data": {
      "application/vnd.jupyter.widget-view+json": {
       "model_id": "c1a5017006544b08a3fce8a93cd6e6f0",
       "version_major": 2,
       "version_minor": 0
      },
      "text/plain": [
       "Innermost loop magnitude:   0%|          | 0/10 [00:00<?, ?it/s]"
      ]
     },
     "metadata": {},
     "output_type": "display_data"
    },
    {
     "data": {
      "application/vnd.jupyter.widget-view+json": {
       "model_id": "05ae6f5287bb45aa982df5a0d37a5130",
       "version_major": 2,
       "version_minor": 0
      },
      "text/plain": [
       "Innermost loop magnitude:   0%|          | 0/10 [00:00<?, ?it/s]"
      ]
     },
     "metadata": {},
     "output_type": "display_data"
    },
    {
     "data": {
      "application/vnd.jupyter.widget-view+json": {
       "model_id": "df9a02f1dec34070b2f85acc399769c8",
       "version_major": 2,
       "version_minor": 0
      },
      "text/plain": [
       "Innermost loop magnitude:   0%|          | 0/10 [00:00<?, ?it/s]"
      ]
     },
     "metadata": {},
     "output_type": "display_data"
    },
    {
     "data": {
      "application/vnd.jupyter.widget-view+json": {
       "model_id": "dbd9a8c7fc3444e7853fb99dc49b01b7",
       "version_major": 2,
       "version_minor": 0
      },
      "text/plain": [
       "Innermost loop magnitude:   0%|          | 0/10 [00:00<?, ?it/s]"
      ]
     },
     "metadata": {},
     "output_type": "display_data"
    },
    {
     "data": {
      "application/vnd.jupyter.widget-view+json": {
       "model_id": "e85825c7214d499a8f13074ae0dac704",
       "version_major": 2,
       "version_minor": 0
      },
      "text/plain": [
       "Innermost loop magnitude:   0%|          | 0/10 [00:00<?, ?it/s]"
      ]
     },
     "metadata": {},
     "output_type": "display_data"
    },
    {
     "data": {
      "application/vnd.jupyter.widget-view+json": {
       "model_id": "9c4eedee0a0e4665b85ddc7bf6e3dc79",
       "version_major": 2,
       "version_minor": 0
      },
      "text/plain": [
       "Innermost loop magnitude:   0%|          | 0/10 [00:00<?, ?it/s]"
      ]
     },
     "metadata": {},
     "output_type": "display_data"
    },
    {
     "data": {
      "application/vnd.jupyter.widget-view+json": {
       "model_id": "6aecd2f18f77476b9d48cb2a4df04564",
       "version_major": 2,
       "version_minor": 0
      },
      "text/plain": [
       "Innermost loop magnitude:   0%|          | 0/10 [00:00<?, ?it/s]"
      ]
     },
     "metadata": {},
     "output_type": "display_data"
    },
    {
     "data": {
      "application/vnd.jupyter.widget-view+json": {
       "model_id": "481340fa21ec457d993aeae84135c916",
       "version_major": 2,
       "version_minor": 0
      },
      "text/plain": [
       "Innermost loop magnitude:   0%|          | 0/10 [00:00<?, ?it/s]"
      ]
     },
     "metadata": {},
     "output_type": "display_data"
    },
    {
     "data": {
      "application/vnd.jupyter.widget-view+json": {
       "model_id": "847ae9eb60524ebf9fa19ea5fea291cf",
       "version_major": 2,
       "version_minor": 0
      },
      "text/plain": [
       "Innermost loop magnitude:   0%|          | 0/10 [00:00<?, ?it/s]"
      ]
     },
     "metadata": {},
     "output_type": "display_data"
    },
    {
     "data": {
      "application/vnd.jupyter.widget-view+json": {
       "model_id": "5db245f9c73f4b4cac3737514a664aae",
       "version_major": 2,
       "version_minor": 0
      },
      "text/plain": [
       "Innermost loop magnitude:   0%|          | 0/10 [00:00<?, ?it/s]"
      ]
     },
     "metadata": {},
     "output_type": "display_data"
    },
    {
     "data": {
      "application/vnd.jupyter.widget-view+json": {
       "model_id": "41753f88034d43a6ac97b967dd56d700",
       "version_major": 2,
       "version_minor": 0
      },
      "text/plain": [
       "Innermost loop magnitude:   0%|          | 0/10 [00:00<?, ?it/s]"
      ]
     },
     "metadata": {},
     "output_type": "display_data"
    },
    {
     "data": {
      "application/vnd.jupyter.widget-view+json": {
       "model_id": "e43a13f9e4024885a59b9189f482c2e5",
       "version_major": 2,
       "version_minor": 0
      },
      "text/plain": [
       "Innermost loop magnitude:   0%|          | 0/10 [00:00<?, ?it/s]"
      ]
     },
     "metadata": {},
     "output_type": "display_data"
    },
    {
     "data": {
      "application/vnd.jupyter.widget-view+json": {
       "model_id": "6f8ba49e0415451c97c9f3985a255e3c",
       "version_major": 2,
       "version_minor": 0
      },
      "text/plain": [
       "Innermost loop magnitude:   0%|          | 0/10 [00:00<?, ?it/s]"
      ]
     },
     "metadata": {},
     "output_type": "display_data"
    },
    {
     "data": {
      "application/vnd.jupyter.widget-view+json": {
       "model_id": "a481db281b694a269daae0b3015f67fb",
       "version_major": 2,
       "version_minor": 0
      },
      "text/plain": [
       "Innermost loop magnitude:   0%|          | 0/10 [00:00<?, ?it/s]"
      ]
     },
     "metadata": {},
     "output_type": "display_data"
    },
    {
     "data": {
      "application/vnd.jupyter.widget-view+json": {
       "model_id": "d02a93c3d25b43a8accd20b51d9b840f",
       "version_major": 2,
       "version_minor": 0
      },
      "text/plain": [
       "Innermost loop magnitude:   0%|          | 0/10 [00:00<?, ?it/s]"
      ]
     },
     "metadata": {},
     "output_type": "display_data"
    },
    {
     "data": {
      "application/vnd.jupyter.widget-view+json": {
       "model_id": "1a9c23c9d7dc41e6bdbdc1095eca04d7",
       "version_major": 2,
       "version_minor": 0
      },
      "text/plain": [
       "Innermost loop magnitude:   0%|          | 0/10 [00:00<?, ?it/s]"
      ]
     },
     "metadata": {},
     "output_type": "display_data"
    },
    {
     "data": {
      "application/vnd.jupyter.widget-view+json": {
       "model_id": "aeed2c525a73424a9630f95ec9624d85",
       "version_major": 2,
       "version_minor": 0
      },
      "text/plain": [
       "Innermost loop magnitude:   0%|          | 0/10 [00:00<?, ?it/s]"
      ]
     },
     "metadata": {},
     "output_type": "display_data"
    },
    {
     "data": {
      "application/vnd.jupyter.widget-view+json": {
       "model_id": "dab6739586294307a0912239f6035add",
       "version_major": 2,
       "version_minor": 0
      },
      "text/plain": [
       "Innermost loop magnitude:   0%|          | 0/10 [00:00<?, ?it/s]"
      ]
     },
     "metadata": {},
     "output_type": "display_data"
    },
    {
     "data": {
      "application/vnd.jupyter.widget-view+json": {
       "model_id": "7d75f737ce574f13a671d889a2e48cdf",
       "version_major": 2,
       "version_minor": 0
      },
      "text/plain": [
       "Innermost loop magnitude:   0%|          | 0/10 [00:00<?, ?it/s]"
      ]
     },
     "metadata": {},
     "output_type": "display_data"
    },
    {
     "data": {
      "application/vnd.jupyter.widget-view+json": {
       "model_id": "4ece98929b224b69a6d0d5bb25d7c38f",
       "version_major": 2,
       "version_minor": 0
      },
      "text/plain": [
       "Innermost loop magnitude:   0%|          | 0/10 [00:00<?, ?it/s]"
      ]
     },
     "metadata": {},
     "output_type": "display_data"
    },
    {
     "data": {
      "application/vnd.jupyter.widget-view+json": {
       "model_id": "ddd88d7887cb410394061cb8f7308b89",
       "version_major": 2,
       "version_minor": 0
      },
      "text/plain": [
       "Innermost loop magnitude:   0%|          | 0/10 [00:00<?, ?it/s]"
      ]
     },
     "metadata": {},
     "output_type": "display_data"
    },
    {
     "data": {
      "application/vnd.jupyter.widget-view+json": {
       "model_id": "05eeabc704a648778e3036bcc3a8b024",
       "version_major": 2,
       "version_minor": 0
      },
      "text/plain": [
       "Innermost loop magnitude:   0%|          | 0/10 [00:00<?, ?it/s]"
      ]
     },
     "metadata": {},
     "output_type": "display_data"
    },
    {
     "data": {
      "application/vnd.jupyter.widget-view+json": {
       "model_id": "3b79283450c4452fa395410e20542555",
       "version_major": 2,
       "version_minor": 0
      },
      "text/plain": [
       "Innermost loop magnitude:   0%|          | 0/10 [00:00<?, ?it/s]"
      ]
     },
     "metadata": {},
     "output_type": "display_data"
    },
    {
     "data": {
      "application/vnd.jupyter.widget-view+json": {
       "model_id": "85b4621cad9c49f29fe6fffb70ad4350",
       "version_major": 2,
       "version_minor": 0
      },
      "text/plain": [
       "Innermost loop magnitude:   0%|          | 0/10 [00:00<?, ?it/s]"
      ]
     },
     "metadata": {},
     "output_type": "display_data"
    },
    {
     "data": {
      "application/vnd.jupyter.widget-view+json": {
       "model_id": "550e28310ad346eeb013f0e5c15626f1",
       "version_major": 2,
       "version_minor": 0
      },
      "text/plain": [
       "Innermost loop magnitude:   0%|          | 0/10 [00:00<?, ?it/s]"
      ]
     },
     "metadata": {},
     "output_type": "display_data"
    },
    {
     "data": {
      "application/vnd.jupyter.widget-view+json": {
       "model_id": "f9b5dfb3ef5442d394bdd0697675c378",
       "version_major": 2,
       "version_minor": 0
      },
      "text/plain": [
       "Innermost loop magnitude:   0%|          | 0/10 [00:00<?, ?it/s]"
      ]
     },
     "metadata": {},
     "output_type": "display_data"
    },
    {
     "data": {
      "application/vnd.jupyter.widget-view+json": {
       "model_id": "ae73a68bbc8a4d2dae7701f8b26a41a4",
       "version_major": 2,
       "version_minor": 0
      },
      "text/plain": [
       "Innermost loop magnitude:   0%|          | 0/10 [00:00<?, ?it/s]"
      ]
     },
     "metadata": {},
     "output_type": "display_data"
    },
    {
     "data": {
      "application/vnd.jupyter.widget-view+json": {
       "model_id": "cd1ea4db2e7646adb4675279ce98285f",
       "version_major": 2,
       "version_minor": 0
      },
      "text/plain": [
       "Innermost loop magnitude:   0%|          | 0/10 [00:00<?, ?it/s]"
      ]
     },
     "metadata": {},
     "output_type": "display_data"
    },
    {
     "data": {
      "application/vnd.jupyter.widget-view+json": {
       "model_id": "266f3fdb47094e4a928585b5435504d5",
       "version_major": 2,
       "version_minor": 0
      },
      "text/plain": [
       "Innermost loop magnitude:   0%|          | 0/10 [00:00<?, ?it/s]"
      ]
     },
     "metadata": {},
     "output_type": "display_data"
    },
    {
     "data": {
      "application/vnd.jupyter.widget-view+json": {
       "model_id": "0a434ce076884b6f937cd6e70d448c57",
       "version_major": 2,
       "version_minor": 0
      },
      "text/plain": [
       "Innermost loop magnitude:   0%|          | 0/10 [00:00<?, ?it/s]"
      ]
     },
     "metadata": {},
     "output_type": "display_data"
    },
    {
     "data": {
      "application/vnd.jupyter.widget-view+json": {
       "model_id": "51dc744c5f8b40db86e5cac5aa76842b",
       "version_major": 2,
       "version_minor": 0
      },
      "text/plain": [
       "Innermost loop magnitude:   0%|          | 0/10 [00:00<?, ?it/s]"
      ]
     },
     "metadata": {},
     "output_type": "display_data"
    },
    {
     "data": {
      "application/vnd.jupyter.widget-view+json": {
       "model_id": "0431f1c8d62f48d6b24d2903d683a1bc",
       "version_major": 2,
       "version_minor": 0
      },
      "text/plain": [
       "Innermost loop magnitude:   0%|          | 0/10 [00:00<?, ?it/s]"
      ]
     },
     "metadata": {},
     "output_type": "display_data"
    },
    {
     "data": {
      "application/vnd.jupyter.widget-view+json": {
       "model_id": "1564eeaa8e3748c2b88a7441f04f254d",
       "version_major": 2,
       "version_minor": 0
      },
      "text/plain": [
       "Innermost loop magnitude:   0%|          | 0/10 [00:00<?, ?it/s]"
      ]
     },
     "metadata": {},
     "output_type": "display_data"
    },
    {
     "data": {
      "application/vnd.jupyter.widget-view+json": {
       "model_id": "128ada9972d7438f9275121a14199ba1",
       "version_major": 2,
       "version_minor": 0
      },
      "text/plain": [
       "Innermost loop magnitude:   0%|          | 0/10 [00:00<?, ?it/s]"
      ]
     },
     "metadata": {},
     "output_type": "display_data"
    },
    {
     "data": {
      "application/vnd.jupyter.widget-view+json": {
       "model_id": "9493caaee6f1442b92e194838a9ae05a",
       "version_major": 2,
       "version_minor": 0
      },
      "text/plain": [
       "Outer loop x:   0%|          | 0/7 [00:00<?, ?it/s]"
      ]
     },
     "metadata": {},
     "output_type": "display_data"
    },
    {
     "data": {
      "application/vnd.jupyter.widget-view+json": {
       "model_id": "8a27e2430b0442649d126802f4410eae",
       "version_major": 2,
       "version_minor": 0
      },
      "text/plain": [
       "Inner loop angle:   0%|          | 0/36 [00:00<?, ?it/s]"
      ]
     },
     "metadata": {},
     "output_type": "display_data"
    },
    {
     "data": {
      "application/vnd.jupyter.widget-view+json": {
       "model_id": "28afbf2b27014c33b3f24ec12e662bbc",
       "version_major": 2,
       "version_minor": 0
      },
      "text/plain": [
       "Innermost loop magnitude:   0%|          | 0/10 [00:00<?, ?it/s]"
      ]
     },
     "metadata": {},
     "output_type": "display_data"
    },
    {
     "data": {
      "application/vnd.jupyter.widget-view+json": {
       "model_id": "b61c57c531d14e0ab19cec1eb4ea99eb",
       "version_major": 2,
       "version_minor": 0
      },
      "text/plain": [
       "Innermost loop magnitude:   0%|          | 0/10 [00:00<?, ?it/s]"
      ]
     },
     "metadata": {},
     "output_type": "display_data"
    },
    {
     "data": {
      "application/vnd.jupyter.widget-view+json": {
       "model_id": "2fcf7f7011df4438aebd3c269be12354",
       "version_major": 2,
       "version_minor": 0
      },
      "text/plain": [
       "Innermost loop magnitude:   0%|          | 0/10 [00:00<?, ?it/s]"
      ]
     },
     "metadata": {},
     "output_type": "display_data"
    },
    {
     "data": {
      "application/vnd.jupyter.widget-view+json": {
       "model_id": "390fd59a2a094ee8a6bec0a2bf60f7a7",
       "version_major": 2,
       "version_minor": 0
      },
      "text/plain": [
       "Innermost loop magnitude:   0%|          | 0/10 [00:00<?, ?it/s]"
      ]
     },
     "metadata": {},
     "output_type": "display_data"
    },
    {
     "data": {
      "application/vnd.jupyter.widget-view+json": {
       "model_id": "797ffa8a232d435b8d5951ce7804696a",
       "version_major": 2,
       "version_minor": 0
      },
      "text/plain": [
       "Innermost loop magnitude:   0%|          | 0/10 [00:00<?, ?it/s]"
      ]
     },
     "metadata": {},
     "output_type": "display_data"
    },
    {
     "data": {
      "application/vnd.jupyter.widget-view+json": {
       "model_id": "15838f027b7f44e2a83d42d5e281809c",
       "version_major": 2,
       "version_minor": 0
      },
      "text/plain": [
       "Innermost loop magnitude:   0%|          | 0/10 [00:00<?, ?it/s]"
      ]
     },
     "metadata": {},
     "output_type": "display_data"
    },
    {
     "data": {
      "application/vnd.jupyter.widget-view+json": {
       "model_id": "4960955be5cf4c028d336c61ad278e33",
       "version_major": 2,
       "version_minor": 0
      },
      "text/plain": [
       "Innermost loop magnitude:   0%|          | 0/10 [00:00<?, ?it/s]"
      ]
     },
     "metadata": {},
     "output_type": "display_data"
    },
    {
     "data": {
      "application/vnd.jupyter.widget-view+json": {
       "model_id": "51baeb24c07d482a95bd85fde8f18960",
       "version_major": 2,
       "version_minor": 0
      },
      "text/plain": [
       "Innermost loop magnitude:   0%|          | 0/10 [00:00<?, ?it/s]"
      ]
     },
     "metadata": {},
     "output_type": "display_data"
    },
    {
     "data": {
      "application/vnd.jupyter.widget-view+json": {
       "model_id": "ddb596f43e7b46d492e47af9cd7d5fd7",
       "version_major": 2,
       "version_minor": 0
      },
      "text/plain": [
       "Innermost loop magnitude:   0%|          | 0/10 [00:00<?, ?it/s]"
      ]
     },
     "metadata": {},
     "output_type": "display_data"
    },
    {
     "data": {
      "application/vnd.jupyter.widget-view+json": {
       "model_id": "7cbc235908da493ab3b4da7e3f7a4e0e",
       "version_major": 2,
       "version_minor": 0
      },
      "text/plain": [
       "Innermost loop magnitude:   0%|          | 0/10 [00:00<?, ?it/s]"
      ]
     },
     "metadata": {},
     "output_type": "display_data"
    },
    {
     "data": {
      "application/vnd.jupyter.widget-view+json": {
       "model_id": "95d8de59e4ab4789903290459f3fc249",
       "version_major": 2,
       "version_minor": 0
      },
      "text/plain": [
       "Innermost loop magnitude:   0%|          | 0/10 [00:00<?, ?it/s]"
      ]
     },
     "metadata": {},
     "output_type": "display_data"
    },
    {
     "data": {
      "application/vnd.jupyter.widget-view+json": {
       "model_id": "31e78284b1714a4aa84e14dae605432e",
       "version_major": 2,
       "version_minor": 0
      },
      "text/plain": [
       "Innermost loop magnitude:   0%|          | 0/10 [00:00<?, ?it/s]"
      ]
     },
     "metadata": {},
     "output_type": "display_data"
    },
    {
     "data": {
      "application/vnd.jupyter.widget-view+json": {
       "model_id": "89cf494733b74579abeb61e2e1b20eea",
       "version_major": 2,
       "version_minor": 0
      },
      "text/plain": [
       "Innermost loop magnitude:   0%|          | 0/10 [00:00<?, ?it/s]"
      ]
     },
     "metadata": {},
     "output_type": "display_data"
    },
    {
     "data": {
      "application/vnd.jupyter.widget-view+json": {
       "model_id": "d50bb3001e2f47baab415e6c8f49b7ea",
       "version_major": 2,
       "version_minor": 0
      },
      "text/plain": [
       "Innermost loop magnitude:   0%|          | 0/10 [00:00<?, ?it/s]"
      ]
     },
     "metadata": {},
     "output_type": "display_data"
    },
    {
     "data": {
      "application/vnd.jupyter.widget-view+json": {
       "model_id": "abd478dbeef54529b5158191f4475a24",
       "version_major": 2,
       "version_minor": 0
      },
      "text/plain": [
       "Innermost loop magnitude:   0%|          | 0/10 [00:00<?, ?it/s]"
      ]
     },
     "metadata": {},
     "output_type": "display_data"
    },
    {
     "data": {
      "application/vnd.jupyter.widget-view+json": {
       "model_id": "c19b792892b9463f9fb776bdb64663d1",
       "version_major": 2,
       "version_minor": 0
      },
      "text/plain": [
       "Innermost loop magnitude:   0%|          | 0/10 [00:00<?, ?it/s]"
      ]
     },
     "metadata": {},
     "output_type": "display_data"
    },
    {
     "data": {
      "application/vnd.jupyter.widget-view+json": {
       "model_id": "17da0549e48041ee93b0f8107962b259",
       "version_major": 2,
       "version_minor": 0
      },
      "text/plain": [
       "Innermost loop magnitude:   0%|          | 0/10 [00:00<?, ?it/s]"
      ]
     },
     "metadata": {},
     "output_type": "display_data"
    },
    {
     "data": {
      "application/vnd.jupyter.widget-view+json": {
       "model_id": "c229ffe65e334d19bda7645eeadb040b",
       "version_major": 2,
       "version_minor": 0
      },
      "text/plain": [
       "Innermost loop magnitude:   0%|          | 0/10 [00:00<?, ?it/s]"
      ]
     },
     "metadata": {},
     "output_type": "display_data"
    },
    {
     "data": {
      "application/vnd.jupyter.widget-view+json": {
       "model_id": "fa81b1e462f245a48299b69995bb2444",
       "version_major": 2,
       "version_minor": 0
      },
      "text/plain": [
       "Innermost loop magnitude:   0%|          | 0/10 [00:00<?, ?it/s]"
      ]
     },
     "metadata": {},
     "output_type": "display_data"
    },
    {
     "data": {
      "application/vnd.jupyter.widget-view+json": {
       "model_id": "ef971e0085374b23a7cd3fe513a140af",
       "version_major": 2,
       "version_minor": 0
      },
      "text/plain": [
       "Innermost loop magnitude:   0%|          | 0/10 [00:00<?, ?it/s]"
      ]
     },
     "metadata": {},
     "output_type": "display_data"
    },
    {
     "data": {
      "application/vnd.jupyter.widget-view+json": {
       "model_id": "42f8faa45b474150a23d1b143a84791b",
       "version_major": 2,
       "version_minor": 0
      },
      "text/plain": [
       "Innermost loop magnitude:   0%|          | 0/10 [00:00<?, ?it/s]"
      ]
     },
     "metadata": {},
     "output_type": "display_data"
    },
    {
     "data": {
      "application/vnd.jupyter.widget-view+json": {
       "model_id": "ce2f629699a1447e83ffa14c8c48290b",
       "version_major": 2,
       "version_minor": 0
      },
      "text/plain": [
       "Innermost loop magnitude:   0%|          | 0/10 [00:00<?, ?it/s]"
      ]
     },
     "metadata": {},
     "output_type": "display_data"
    },
    {
     "data": {
      "application/vnd.jupyter.widget-view+json": {
       "model_id": "e49c5c6d683d4306a87cb34a30c2de57",
       "version_major": 2,
       "version_minor": 0
      },
      "text/plain": [
       "Innermost loop magnitude:   0%|          | 0/10 [00:00<?, ?it/s]"
      ]
     },
     "metadata": {},
     "output_type": "display_data"
    },
    {
     "data": {
      "application/vnd.jupyter.widget-view+json": {
       "model_id": "85e6496c980b40d48511025275720a16",
       "version_major": 2,
       "version_minor": 0
      },
      "text/plain": [
       "Innermost loop magnitude:   0%|          | 0/10 [00:00<?, ?it/s]"
      ]
     },
     "metadata": {},
     "output_type": "display_data"
    },
    {
     "data": {
      "application/vnd.jupyter.widget-view+json": {
       "model_id": "39a0c04f62954ac48645022c070632d4",
       "version_major": 2,
       "version_minor": 0
      },
      "text/plain": [
       "Innermost loop magnitude:   0%|          | 0/10 [00:00<?, ?it/s]"
      ]
     },
     "metadata": {},
     "output_type": "display_data"
    },
    {
     "data": {
      "application/vnd.jupyter.widget-view+json": {
       "model_id": "b3b1d7befb724bf3874192c2c624c974",
       "version_major": 2,
       "version_minor": 0
      },
      "text/plain": [
       "Innermost loop magnitude:   0%|          | 0/10 [00:00<?, ?it/s]"
      ]
     },
     "metadata": {},
     "output_type": "display_data"
    },
    {
     "data": {
      "application/vnd.jupyter.widget-view+json": {
       "model_id": "31a803b269b8405b9290380a02b44752",
       "version_major": 2,
       "version_minor": 0
      },
      "text/plain": [
       "Innermost loop magnitude:   0%|          | 0/10 [00:00<?, ?it/s]"
      ]
     },
     "metadata": {},
     "output_type": "display_data"
    },
    {
     "data": {
      "application/vnd.jupyter.widget-view+json": {
       "model_id": "ed223a03f9cb4d29aeb554daeb37a90e",
       "version_major": 2,
       "version_minor": 0
      },
      "text/plain": [
       "Innermost loop magnitude:   0%|          | 0/10 [00:00<?, ?it/s]"
      ]
     },
     "metadata": {},
     "output_type": "display_data"
    },
    {
     "data": {
      "application/vnd.jupyter.widget-view+json": {
       "model_id": "91f14235b39f4971a0533a09e266b119",
       "version_major": 2,
       "version_minor": 0
      },
      "text/plain": [
       "Innermost loop magnitude:   0%|          | 0/10 [00:00<?, ?it/s]"
      ]
     },
     "metadata": {},
     "output_type": "display_data"
    },
    {
     "data": {
      "application/vnd.jupyter.widget-view+json": {
       "model_id": "8bd7c9824a2c4fbaa9cd47ba47a0829c",
       "version_major": 2,
       "version_minor": 0
      },
      "text/plain": [
       "Innermost loop magnitude:   0%|          | 0/10 [00:00<?, ?it/s]"
      ]
     },
     "metadata": {},
     "output_type": "display_data"
    },
    {
     "data": {
      "application/vnd.jupyter.widget-view+json": {
       "model_id": "5561d196cc0c407b93a3dfb29b05e11d",
       "version_major": 2,
       "version_minor": 0
      },
      "text/plain": [
       "Innermost loop magnitude:   0%|          | 0/10 [00:00<?, ?it/s]"
      ]
     },
     "metadata": {},
     "output_type": "display_data"
    },
    {
     "data": {
      "application/vnd.jupyter.widget-view+json": {
       "model_id": "13bc424556964fb984472aa8f00defe5",
       "version_major": 2,
       "version_minor": 0
      },
      "text/plain": [
       "Innermost loop magnitude:   0%|          | 0/10 [00:00<?, ?it/s]"
      ]
     },
     "metadata": {},
     "output_type": "display_data"
    },
    {
     "data": {
      "application/vnd.jupyter.widget-view+json": {
       "model_id": "86ea119c3e2a4c83b920fcd69887bd13",
       "version_major": 2,
       "version_minor": 0
      },
      "text/plain": [
       "Innermost loop magnitude:   0%|          | 0/10 [00:00<?, ?it/s]"
      ]
     },
     "metadata": {},
     "output_type": "display_data"
    },
    {
     "data": {
      "application/vnd.jupyter.widget-view+json": {
       "model_id": "e304c62a747d4e0db9436d256a17c23f",
       "version_major": 2,
       "version_minor": 0
      },
      "text/plain": [
       "Innermost loop magnitude:   0%|          | 0/10 [00:00<?, ?it/s]"
      ]
     },
     "metadata": {},
     "output_type": "display_data"
    },
    {
     "data": {
      "application/vnd.jupyter.widget-view+json": {
       "model_id": "ab583ddc50034c009da72dab4c9b90c6",
       "version_major": 2,
       "version_minor": 0
      },
      "text/plain": [
       "Innermost loop magnitude:   0%|          | 0/10 [00:00<?, ?it/s]"
      ]
     },
     "metadata": {},
     "output_type": "display_data"
    },
    {
     "data": {
      "application/vnd.jupyter.widget-view+json": {
       "model_id": "1f27738b1a77491e9047422d28f8ed28",
       "version_major": 2,
       "version_minor": 0
      },
      "text/plain": [
       "Innermost loop magnitude:   0%|          | 0/10 [00:00<?, ?it/s]"
      ]
     },
     "metadata": {},
     "output_type": "display_data"
    },
    {
     "data": {
      "application/vnd.jupyter.widget-view+json": {
       "model_id": "395a52cc9e1244b68ba115e181063ac2",
       "version_major": 2,
       "version_minor": 0
      },
      "text/plain": [
       "Inner loop angle:   0%|          | 0/36 [00:00<?, ?it/s]"
      ]
     },
     "metadata": {},
     "output_type": "display_data"
    },
    {
     "data": {
      "application/vnd.jupyter.widget-view+json": {
       "model_id": "eb442b66a9e44f2b988b435360e4d86d",
       "version_major": 2,
       "version_minor": 0
      },
      "text/plain": [
       "Innermost loop magnitude:   0%|          | 0/10 [00:00<?, ?it/s]"
      ]
     },
     "metadata": {},
     "output_type": "display_data"
    },
    {
     "data": {
      "application/vnd.jupyter.widget-view+json": {
       "model_id": "1ef9e9cfec7749f99a71356a7d2902f0",
       "version_major": 2,
       "version_minor": 0
      },
      "text/plain": [
       "Innermost loop magnitude:   0%|          | 0/10 [00:00<?, ?it/s]"
      ]
     },
     "metadata": {},
     "output_type": "display_data"
    },
    {
     "data": {
      "application/vnd.jupyter.widget-view+json": {
       "model_id": "9d430f5d7feb470ea578c8273e1a9c89",
       "version_major": 2,
       "version_minor": 0
      },
      "text/plain": [
       "Innermost loop magnitude:   0%|          | 0/10 [00:00<?, ?it/s]"
      ]
     },
     "metadata": {},
     "output_type": "display_data"
    },
    {
     "data": {
      "application/vnd.jupyter.widget-view+json": {
       "model_id": "6a54a2baaebd4005be5a205bc9184b55",
       "version_major": 2,
       "version_minor": 0
      },
      "text/plain": [
       "Innermost loop magnitude:   0%|          | 0/10 [00:00<?, ?it/s]"
      ]
     },
     "metadata": {},
     "output_type": "display_data"
    },
    {
     "data": {
      "application/vnd.jupyter.widget-view+json": {
       "model_id": "8f28e39951664b538eb55489f45cd17d",
       "version_major": 2,
       "version_minor": 0
      },
      "text/plain": [
       "Innermost loop magnitude:   0%|          | 0/10 [00:00<?, ?it/s]"
      ]
     },
     "metadata": {},
     "output_type": "display_data"
    },
    {
     "data": {
      "application/vnd.jupyter.widget-view+json": {
       "model_id": "e25e6ec5d65e4015bba5820d272860e1",
       "version_major": 2,
       "version_minor": 0
      },
      "text/plain": [
       "Innermost loop magnitude:   0%|          | 0/10 [00:00<?, ?it/s]"
      ]
     },
     "metadata": {},
     "output_type": "display_data"
    },
    {
     "data": {
      "application/vnd.jupyter.widget-view+json": {
       "model_id": "1fb7d0e54a264b8fa531b442e9d478cd",
       "version_major": 2,
       "version_minor": 0
      },
      "text/plain": [
       "Innermost loop magnitude:   0%|          | 0/10 [00:00<?, ?it/s]"
      ]
     },
     "metadata": {},
     "output_type": "display_data"
    },
    {
     "data": {
      "application/vnd.jupyter.widget-view+json": {
       "model_id": "120177411597439695fe51c361627476",
       "version_major": 2,
       "version_minor": 0
      },
      "text/plain": [
       "Innermost loop magnitude:   0%|          | 0/10 [00:00<?, ?it/s]"
      ]
     },
     "metadata": {},
     "output_type": "display_data"
    },
    {
     "data": {
      "application/vnd.jupyter.widget-view+json": {
       "model_id": "4eedab194acc487ea819016334868020",
       "version_major": 2,
       "version_minor": 0
      },
      "text/plain": [
       "Innermost loop magnitude:   0%|          | 0/10 [00:00<?, ?it/s]"
      ]
     },
     "metadata": {},
     "output_type": "display_data"
    },
    {
     "data": {
      "application/vnd.jupyter.widget-view+json": {
       "model_id": "3600dc3a16ce47a1ac4138f8644224c4",
       "version_major": 2,
       "version_minor": 0
      },
      "text/plain": [
       "Innermost loop magnitude:   0%|          | 0/10 [00:00<?, ?it/s]"
      ]
     },
     "metadata": {},
     "output_type": "display_data"
    },
    {
     "data": {
      "application/vnd.jupyter.widget-view+json": {
       "model_id": "6d50cf0cce2043ad8a9edb64519d6ee8",
       "version_major": 2,
       "version_minor": 0
      },
      "text/plain": [
       "Innermost loop magnitude:   0%|          | 0/10 [00:00<?, ?it/s]"
      ]
     },
     "metadata": {},
     "output_type": "display_data"
    },
    {
     "data": {
      "application/vnd.jupyter.widget-view+json": {
       "model_id": "f8a71eeff57541dc98859c0688b653b1",
       "version_major": 2,
       "version_minor": 0
      },
      "text/plain": [
       "Innermost loop magnitude:   0%|          | 0/10 [00:00<?, ?it/s]"
      ]
     },
     "metadata": {},
     "output_type": "display_data"
    },
    {
     "data": {
      "application/vnd.jupyter.widget-view+json": {
       "model_id": "58777f196b404a43b6872c17cf3f71f7",
       "version_major": 2,
       "version_minor": 0
      },
      "text/plain": [
       "Innermost loop magnitude:   0%|          | 0/10 [00:00<?, ?it/s]"
      ]
     },
     "metadata": {},
     "output_type": "display_data"
    },
    {
     "data": {
      "application/vnd.jupyter.widget-view+json": {
       "model_id": "061db1746c874753b88c184298086f11",
       "version_major": 2,
       "version_minor": 0
      },
      "text/plain": [
       "Innermost loop magnitude:   0%|          | 0/10 [00:00<?, ?it/s]"
      ]
     },
     "metadata": {},
     "output_type": "display_data"
    },
    {
     "data": {
      "application/vnd.jupyter.widget-view+json": {
       "model_id": "3e186ffeb5b24af18bd8c3e3ed7ac701",
       "version_major": 2,
       "version_minor": 0
      },
      "text/plain": [
       "Innermost loop magnitude:   0%|          | 0/10 [00:00<?, ?it/s]"
      ]
     },
     "metadata": {},
     "output_type": "display_data"
    },
    {
     "data": {
      "application/vnd.jupyter.widget-view+json": {
       "model_id": "159803cffde745bb85e2ec32b2e0cc2f",
       "version_major": 2,
       "version_minor": 0
      },
      "text/plain": [
       "Innermost loop magnitude:   0%|          | 0/10 [00:00<?, ?it/s]"
      ]
     },
     "metadata": {},
     "output_type": "display_data"
    },
    {
     "data": {
      "application/vnd.jupyter.widget-view+json": {
       "model_id": "63a2fa1e3a994b699d860aa7d9e0f94d",
       "version_major": 2,
       "version_minor": 0
      },
      "text/plain": [
       "Innermost loop magnitude:   0%|          | 0/10 [00:00<?, ?it/s]"
      ]
     },
     "metadata": {},
     "output_type": "display_data"
    },
    {
     "data": {
      "application/vnd.jupyter.widget-view+json": {
       "model_id": "ee835af768e24975ad567bc6912664ae",
       "version_major": 2,
       "version_minor": 0
      },
      "text/plain": [
       "Innermost loop magnitude:   0%|          | 0/10 [00:00<?, ?it/s]"
      ]
     },
     "metadata": {},
     "output_type": "display_data"
    },
    {
     "data": {
      "application/vnd.jupyter.widget-view+json": {
       "model_id": "79fe3fe8743e4f2381f9f293487fd580",
       "version_major": 2,
       "version_minor": 0
      },
      "text/plain": [
       "Innermost loop magnitude:   0%|          | 0/10 [00:00<?, ?it/s]"
      ]
     },
     "metadata": {},
     "output_type": "display_data"
    },
    {
     "data": {
      "application/vnd.jupyter.widget-view+json": {
       "model_id": "de9bbf6c94af4fa8ab6a8ce68787fda1",
       "version_major": 2,
       "version_minor": 0
      },
      "text/plain": [
       "Innermost loop magnitude:   0%|          | 0/10 [00:00<?, ?it/s]"
      ]
     },
     "metadata": {},
     "output_type": "display_data"
    },
    {
     "data": {
      "application/vnd.jupyter.widget-view+json": {
       "model_id": "63c4f9d0b5604adf9bc7f21fcae18e9b",
       "version_major": 2,
       "version_minor": 0
      },
      "text/plain": [
       "Innermost loop magnitude:   0%|          | 0/10 [00:00<?, ?it/s]"
      ]
     },
     "metadata": {},
     "output_type": "display_data"
    },
    {
     "data": {
      "application/vnd.jupyter.widget-view+json": {
       "model_id": "5a28948a17d540e59eaa908afde3a2fa",
       "version_major": 2,
       "version_minor": 0
      },
      "text/plain": [
       "Innermost loop magnitude:   0%|          | 0/10 [00:00<?, ?it/s]"
      ]
     },
     "metadata": {},
     "output_type": "display_data"
    },
    {
     "data": {
      "application/vnd.jupyter.widget-view+json": {
       "model_id": "2d6832e6642f44c19d619a1345bcd700",
       "version_major": 2,
       "version_minor": 0
      },
      "text/plain": [
       "Innermost loop magnitude:   0%|          | 0/10 [00:00<?, ?it/s]"
      ]
     },
     "metadata": {},
     "output_type": "display_data"
    },
    {
     "data": {
      "application/vnd.jupyter.widget-view+json": {
       "model_id": "4fa8e08784e24f6c8d737457e6a08d14",
       "version_major": 2,
       "version_minor": 0
      },
      "text/plain": [
       "Innermost loop magnitude:   0%|          | 0/10 [00:00<?, ?it/s]"
      ]
     },
     "metadata": {},
     "output_type": "display_data"
    },
    {
     "data": {
      "application/vnd.jupyter.widget-view+json": {
       "model_id": "8b0a3ca3869a4a3eb7ce15d97480776f",
       "version_major": 2,
       "version_minor": 0
      },
      "text/plain": [
       "Innermost loop magnitude:   0%|          | 0/10 [00:00<?, ?it/s]"
      ]
     },
     "metadata": {},
     "output_type": "display_data"
    },
    {
     "data": {
      "application/vnd.jupyter.widget-view+json": {
       "model_id": "a7e6d29fe5f84395844bedc8394ba7f2",
       "version_major": 2,
       "version_minor": 0
      },
      "text/plain": [
       "Innermost loop magnitude:   0%|          | 0/10 [00:00<?, ?it/s]"
      ]
     },
     "metadata": {},
     "output_type": "display_data"
    },
    {
     "data": {
      "application/vnd.jupyter.widget-view+json": {
       "model_id": "3c6213211377487a9c08bf2bbd8c468d",
       "version_major": 2,
       "version_minor": 0
      },
      "text/plain": [
       "Innermost loop magnitude:   0%|          | 0/10 [00:00<?, ?it/s]"
      ]
     },
     "metadata": {},
     "output_type": "display_data"
    },
    {
     "data": {
      "application/vnd.jupyter.widget-view+json": {
       "model_id": "6abaa6c6ff874e5487a585636e10f9d9",
       "version_major": 2,
       "version_minor": 0
      },
      "text/plain": [
       "Innermost loop magnitude:   0%|          | 0/10 [00:00<?, ?it/s]"
      ]
     },
     "metadata": {},
     "output_type": "display_data"
    },
    {
     "data": {
      "application/vnd.jupyter.widget-view+json": {
       "model_id": "251dc7c558eb4ce59c7478230813f822",
       "version_major": 2,
       "version_minor": 0
      },
      "text/plain": [
       "Innermost loop magnitude:   0%|          | 0/10 [00:00<?, ?it/s]"
      ]
     },
     "metadata": {},
     "output_type": "display_data"
    },
    {
     "data": {
      "application/vnd.jupyter.widget-view+json": {
       "model_id": "f9e9081b0d7e4d0a977125ec28f6c003",
       "version_major": 2,
       "version_minor": 0
      },
      "text/plain": [
       "Innermost loop magnitude:   0%|          | 0/10 [00:00<?, ?it/s]"
      ]
     },
     "metadata": {},
     "output_type": "display_data"
    },
    {
     "data": {
      "application/vnd.jupyter.widget-view+json": {
       "model_id": "b2a9a334bd9c4480960e96eb67131326",
       "version_major": 2,
       "version_minor": 0
      },
      "text/plain": [
       "Innermost loop magnitude:   0%|          | 0/10 [00:00<?, ?it/s]"
      ]
     },
     "metadata": {},
     "output_type": "display_data"
    },
    {
     "data": {
      "application/vnd.jupyter.widget-view+json": {
       "model_id": "37d4ab818ceb4e01b481f1708994465e",
       "version_major": 2,
       "version_minor": 0
      },
      "text/plain": [
       "Innermost loop magnitude:   0%|          | 0/10 [00:00<?, ?it/s]"
      ]
     },
     "metadata": {},
     "output_type": "display_data"
    },
    {
     "data": {
      "application/vnd.jupyter.widget-view+json": {
       "model_id": "4d1d6ebdcf58485c85ef6c02866edc4a",
       "version_major": 2,
       "version_minor": 0
      },
      "text/plain": [
       "Innermost loop magnitude:   0%|          | 0/10 [00:00<?, ?it/s]"
      ]
     },
     "metadata": {},
     "output_type": "display_data"
    },
    {
     "data": {
      "application/vnd.jupyter.widget-view+json": {
       "model_id": "8b65e82e7ea7463a9e635973a779f9fc",
       "version_major": 2,
       "version_minor": 0
      },
      "text/plain": [
       "Innermost loop magnitude:   0%|          | 0/10 [00:00<?, ?it/s]"
      ]
     },
     "metadata": {},
     "output_type": "display_data"
    },
    {
     "data": {
      "application/vnd.jupyter.widget-view+json": {
       "model_id": "ba80265d12ed4da99bdbd750527d0e9f",
       "version_major": 2,
       "version_minor": 0
      },
      "text/plain": [
       "Innermost loop magnitude:   0%|          | 0/10 [00:00<?, ?it/s]"
      ]
     },
     "metadata": {},
     "output_type": "display_data"
    },
    {
     "data": {
      "application/vnd.jupyter.widget-view+json": {
       "model_id": "e3a6a818bbb14f688c86936d9d4f4035",
       "version_major": 2,
       "version_minor": 0
      },
      "text/plain": [
       "Innermost loop magnitude:   0%|          | 0/10 [00:00<?, ?it/s]"
      ]
     },
     "metadata": {},
     "output_type": "display_data"
    },
    {
     "data": {
      "application/vnd.jupyter.widget-view+json": {
       "model_id": "7710b36b0e6f41fc8e06778ec1d20974",
       "version_major": 2,
       "version_minor": 0
      },
      "text/plain": [
       "Inner loop angle:   0%|          | 0/36 [00:00<?, ?it/s]"
      ]
     },
     "metadata": {},
     "output_type": "display_data"
    },
    {
     "data": {
      "application/vnd.jupyter.widget-view+json": {
       "model_id": "f63105ed8a034d7e9c074dd71e6ab594",
       "version_major": 2,
       "version_minor": 0
      },
      "text/plain": [
       "Innermost loop magnitude:   0%|          | 0/10 [00:00<?, ?it/s]"
      ]
     },
     "metadata": {},
     "output_type": "display_data"
    },
    {
     "data": {
      "application/vnd.jupyter.widget-view+json": {
       "model_id": "004877a4bdb24e4b80ade3e1c0f9a868",
       "version_major": 2,
       "version_minor": 0
      },
      "text/plain": [
       "Innermost loop magnitude:   0%|          | 0/10 [00:00<?, ?it/s]"
      ]
     },
     "metadata": {},
     "output_type": "display_data"
    },
    {
     "data": {
      "application/vnd.jupyter.widget-view+json": {
       "model_id": "26d3487abd104c0cad0d2979b153465b",
       "version_major": 2,
       "version_minor": 0
      },
      "text/plain": [
       "Innermost loop magnitude:   0%|          | 0/10 [00:00<?, ?it/s]"
      ]
     },
     "metadata": {},
     "output_type": "display_data"
    },
    {
     "data": {
      "application/vnd.jupyter.widget-view+json": {
       "model_id": "65e93397359a4363be86098366a7c7a4",
       "version_major": 2,
       "version_minor": 0
      },
      "text/plain": [
       "Innermost loop magnitude:   0%|          | 0/10 [00:00<?, ?it/s]"
      ]
     },
     "metadata": {},
     "output_type": "display_data"
    },
    {
     "data": {
      "application/vnd.jupyter.widget-view+json": {
       "model_id": "329dbda606014123984b18ee8a31d7b9",
       "version_major": 2,
       "version_minor": 0
      },
      "text/plain": [
       "Innermost loop magnitude:   0%|          | 0/10 [00:00<?, ?it/s]"
      ]
     },
     "metadata": {},
     "output_type": "display_data"
    },
    {
     "data": {
      "application/vnd.jupyter.widget-view+json": {
       "model_id": "81c603d0a600493ab3b3903b9c3fbbad",
       "version_major": 2,
       "version_minor": 0
      },
      "text/plain": [
       "Innermost loop magnitude:   0%|          | 0/10 [00:00<?, ?it/s]"
      ]
     },
     "metadata": {},
     "output_type": "display_data"
    },
    {
     "data": {
      "application/vnd.jupyter.widget-view+json": {
       "model_id": "51cc02df13e642238a74770a1e8eeb20",
       "version_major": 2,
       "version_minor": 0
      },
      "text/plain": [
       "Innermost loop magnitude:   0%|          | 0/10 [00:00<?, ?it/s]"
      ]
     },
     "metadata": {},
     "output_type": "display_data"
    },
    {
     "data": {
      "application/vnd.jupyter.widget-view+json": {
       "model_id": "32e865a51dfa4356b3dfc8a9aac86a85",
       "version_major": 2,
       "version_minor": 0
      },
      "text/plain": [
       "Innermost loop magnitude:   0%|          | 0/10 [00:00<?, ?it/s]"
      ]
     },
     "metadata": {},
     "output_type": "display_data"
    },
    {
     "data": {
      "application/vnd.jupyter.widget-view+json": {
       "model_id": "0155d31e75b2422ab068576ae29f9b51",
       "version_major": 2,
       "version_minor": 0
      },
      "text/plain": [
       "Innermost loop magnitude:   0%|          | 0/10 [00:00<?, ?it/s]"
      ]
     },
     "metadata": {},
     "output_type": "display_data"
    },
    {
     "data": {
      "application/vnd.jupyter.widget-view+json": {
       "model_id": "ad00249d8bc4476b9c948ff9e2a07c7c",
       "version_major": 2,
       "version_minor": 0
      },
      "text/plain": [
       "Innermost loop magnitude:   0%|          | 0/10 [00:00<?, ?it/s]"
      ]
     },
     "metadata": {},
     "output_type": "display_data"
    },
    {
     "data": {
      "application/vnd.jupyter.widget-view+json": {
       "model_id": "e9291996f36341ed8a9700ac78fa5ec5",
       "version_major": 2,
       "version_minor": 0
      },
      "text/plain": [
       "Innermost loop magnitude:   0%|          | 0/10 [00:00<?, ?it/s]"
      ]
     },
     "metadata": {},
     "output_type": "display_data"
    },
    {
     "data": {
      "application/vnd.jupyter.widget-view+json": {
       "model_id": "a34814bdc43646ecb398d5b791d29afa",
       "version_major": 2,
       "version_minor": 0
      },
      "text/plain": [
       "Innermost loop magnitude:   0%|          | 0/10 [00:00<?, ?it/s]"
      ]
     },
     "metadata": {},
     "output_type": "display_data"
    },
    {
     "data": {
      "application/vnd.jupyter.widget-view+json": {
       "model_id": "665c70a0cfbb47eb8d2525de5bbe82a1",
       "version_major": 2,
       "version_minor": 0
      },
      "text/plain": [
       "Innermost loop magnitude:   0%|          | 0/10 [00:00<?, ?it/s]"
      ]
     },
     "metadata": {},
     "output_type": "display_data"
    },
    {
     "data": {
      "application/vnd.jupyter.widget-view+json": {
       "model_id": "cab3bbf7e23f4f2fad1978e63fdf8605",
       "version_major": 2,
       "version_minor": 0
      },
      "text/plain": [
       "Innermost loop magnitude:   0%|          | 0/10 [00:00<?, ?it/s]"
      ]
     },
     "metadata": {},
     "output_type": "display_data"
    },
    {
     "data": {
      "application/vnd.jupyter.widget-view+json": {
       "model_id": "95997788cab84e6ca1dcdf69257fb753",
       "version_major": 2,
       "version_minor": 0
      },
      "text/plain": [
       "Innermost loop magnitude:   0%|          | 0/10 [00:00<?, ?it/s]"
      ]
     },
     "metadata": {},
     "output_type": "display_data"
    },
    {
     "data": {
      "application/vnd.jupyter.widget-view+json": {
       "model_id": "86f21d707e4142b49a8bd005137f038e",
       "version_major": 2,
       "version_minor": 0
      },
      "text/plain": [
       "Innermost loop magnitude:   0%|          | 0/10 [00:00<?, ?it/s]"
      ]
     },
     "metadata": {},
     "output_type": "display_data"
    },
    {
     "data": {
      "application/vnd.jupyter.widget-view+json": {
       "model_id": "19732f812e30442da51fab587e57e525",
       "version_major": 2,
       "version_minor": 0
      },
      "text/plain": [
       "Innermost loop magnitude:   0%|          | 0/10 [00:00<?, ?it/s]"
      ]
     },
     "metadata": {},
     "output_type": "display_data"
    },
    {
     "data": {
      "application/vnd.jupyter.widget-view+json": {
       "model_id": "24981cd579b644358806b738bbd0df1c",
       "version_major": 2,
       "version_minor": 0
      },
      "text/plain": [
       "Innermost loop magnitude:   0%|          | 0/10 [00:00<?, ?it/s]"
      ]
     },
     "metadata": {},
     "output_type": "display_data"
    },
    {
     "data": {
      "application/vnd.jupyter.widget-view+json": {
       "model_id": "cf1b8f8c60134f8ba191d029dd32c355",
       "version_major": 2,
       "version_minor": 0
      },
      "text/plain": [
       "Innermost loop magnitude:   0%|          | 0/10 [00:00<?, ?it/s]"
      ]
     },
     "metadata": {},
     "output_type": "display_data"
    },
    {
     "data": {
      "application/vnd.jupyter.widget-view+json": {
       "model_id": "11eddf10be5442279dae2d67275a96c0",
       "version_major": 2,
       "version_minor": 0
      },
      "text/plain": [
       "Innermost loop magnitude:   0%|          | 0/10 [00:00<?, ?it/s]"
      ]
     },
     "metadata": {},
     "output_type": "display_data"
    },
    {
     "data": {
      "application/vnd.jupyter.widget-view+json": {
       "model_id": "ac676ed4c0eb404a8b8866b7358cc726",
       "version_major": 2,
       "version_minor": 0
      },
      "text/plain": [
       "Innermost loop magnitude:   0%|          | 0/10 [00:00<?, ?it/s]"
      ]
     },
     "metadata": {},
     "output_type": "display_data"
    },
    {
     "data": {
      "application/vnd.jupyter.widget-view+json": {
       "model_id": "7b24aabe27494652bb7b16e4328c7ff9",
       "version_major": 2,
       "version_minor": 0
      },
      "text/plain": [
       "Innermost loop magnitude:   0%|          | 0/10 [00:00<?, ?it/s]"
      ]
     },
     "metadata": {},
     "output_type": "display_data"
    },
    {
     "data": {
      "application/vnd.jupyter.widget-view+json": {
       "model_id": "d5edfb329fb04d72bddc95e518e452cd",
       "version_major": 2,
       "version_minor": 0
      },
      "text/plain": [
       "Innermost loop magnitude:   0%|          | 0/10 [00:00<?, ?it/s]"
      ]
     },
     "metadata": {},
     "output_type": "display_data"
    },
    {
     "data": {
      "application/vnd.jupyter.widget-view+json": {
       "model_id": "805628e8e19e411db5096892613373e9",
       "version_major": 2,
       "version_minor": 0
      },
      "text/plain": [
       "Innermost loop magnitude:   0%|          | 0/10 [00:00<?, ?it/s]"
      ]
     },
     "metadata": {},
     "output_type": "display_data"
    },
    {
     "data": {
      "application/vnd.jupyter.widget-view+json": {
       "model_id": "e3da4a20bd9449af94aacef7dbdb226a",
       "version_major": 2,
       "version_minor": 0
      },
      "text/plain": [
       "Innermost loop magnitude:   0%|          | 0/10 [00:00<?, ?it/s]"
      ]
     },
     "metadata": {},
     "output_type": "display_data"
    },
    {
     "data": {
      "application/vnd.jupyter.widget-view+json": {
       "model_id": "056fc9cf06df4a8388ffdc4e09fba0ef",
       "version_major": 2,
       "version_minor": 0
      },
      "text/plain": [
       "Innermost loop magnitude:   0%|          | 0/10 [00:00<?, ?it/s]"
      ]
     },
     "metadata": {},
     "output_type": "display_data"
    },
    {
     "data": {
      "application/vnd.jupyter.widget-view+json": {
       "model_id": "3c31524f457d4de0995670483b0586ca",
       "version_major": 2,
       "version_minor": 0
      },
      "text/plain": [
       "Innermost loop magnitude:   0%|          | 0/10 [00:00<?, ?it/s]"
      ]
     },
     "metadata": {},
     "output_type": "display_data"
    },
    {
     "data": {
      "application/vnd.jupyter.widget-view+json": {
       "model_id": "3c5fd39ab3414cc4a2a713cb06f09f8e",
       "version_major": 2,
       "version_minor": 0
      },
      "text/plain": [
       "Innermost loop magnitude:   0%|          | 0/10 [00:00<?, ?it/s]"
      ]
     },
     "metadata": {},
     "output_type": "display_data"
    },
    {
     "data": {
      "application/vnd.jupyter.widget-view+json": {
       "model_id": "0ee906dec44e465f9a17e0c7da672843",
       "version_major": 2,
       "version_minor": 0
      },
      "text/plain": [
       "Innermost loop magnitude:   0%|          | 0/10 [00:00<?, ?it/s]"
      ]
     },
     "metadata": {},
     "output_type": "display_data"
    },
    {
     "data": {
      "application/vnd.jupyter.widget-view+json": {
       "model_id": "1733422bce664064a9497d1089d35986",
       "version_major": 2,
       "version_minor": 0
      },
      "text/plain": [
       "Innermost loop magnitude:   0%|          | 0/10 [00:00<?, ?it/s]"
      ]
     },
     "metadata": {},
     "output_type": "display_data"
    },
    {
     "data": {
      "application/vnd.jupyter.widget-view+json": {
       "model_id": "ee3bd1af2e944168b8e623307697423c",
       "version_major": 2,
       "version_minor": 0
      },
      "text/plain": [
       "Innermost loop magnitude:   0%|          | 0/10 [00:00<?, ?it/s]"
      ]
     },
     "metadata": {},
     "output_type": "display_data"
    },
    {
     "data": {
      "application/vnd.jupyter.widget-view+json": {
       "model_id": "7e3d5cbd6b9d4024a820bd117519a0ad",
       "version_major": 2,
       "version_minor": 0
      },
      "text/plain": [
       "Innermost loop magnitude:   0%|          | 0/10 [00:00<?, ?it/s]"
      ]
     },
     "metadata": {},
     "output_type": "display_data"
    },
    {
     "data": {
      "application/vnd.jupyter.widget-view+json": {
       "model_id": "518d3be9059744d29fca986216e135e8",
       "version_major": 2,
       "version_minor": 0
      },
      "text/plain": [
       "Innermost loop magnitude:   0%|          | 0/10 [00:00<?, ?it/s]"
      ]
     },
     "metadata": {},
     "output_type": "display_data"
    },
    {
     "data": {
      "application/vnd.jupyter.widget-view+json": {
       "model_id": "a83c401fc0a54c52a876cc33cf20d7f3",
       "version_major": 2,
       "version_minor": 0
      },
      "text/plain": [
       "Innermost loop magnitude:   0%|          | 0/10 [00:00<?, ?it/s]"
      ]
     },
     "metadata": {},
     "output_type": "display_data"
    },
    {
     "data": {
      "application/vnd.jupyter.widget-view+json": {
       "model_id": "765ec49c9d0541ad985a24d80cdb6e29",
       "version_major": 2,
       "version_minor": 0
      },
      "text/plain": [
       "Innermost loop magnitude:   0%|          | 0/10 [00:00<?, ?it/s]"
      ]
     },
     "metadata": {},
     "output_type": "display_data"
    },
    {
     "data": {
      "application/vnd.jupyter.widget-view+json": {
       "model_id": "2331db9f5555449c9e2dfa9a05f97301",
       "version_major": 2,
       "version_minor": 0
      },
      "text/plain": [
       "Innermost loop magnitude:   0%|          | 0/10 [00:00<?, ?it/s]"
      ]
     },
     "metadata": {},
     "output_type": "display_data"
    },
    {
     "data": {
      "application/vnd.jupyter.widget-view+json": {
       "model_id": "341c018cbfca4374bff40c1c030d840f",
       "version_major": 2,
       "version_minor": 0
      },
      "text/plain": [
       "Inner loop angle:   0%|          | 0/36 [00:00<?, ?it/s]"
      ]
     },
     "metadata": {},
     "output_type": "display_data"
    },
    {
     "data": {
      "application/vnd.jupyter.widget-view+json": {
       "model_id": "437d07bcef8748428564b9d201a49139",
       "version_major": 2,
       "version_minor": 0
      },
      "text/plain": [
       "Innermost loop magnitude:   0%|          | 0/10 [00:00<?, ?it/s]"
      ]
     },
     "metadata": {},
     "output_type": "display_data"
    },
    {
     "data": {
      "application/vnd.jupyter.widget-view+json": {
       "model_id": "90f1b8d7f8b0480982d74a7fb24eac8a",
       "version_major": 2,
       "version_minor": 0
      },
      "text/plain": [
       "Innermost loop magnitude:   0%|          | 0/10 [00:00<?, ?it/s]"
      ]
     },
     "metadata": {},
     "output_type": "display_data"
    },
    {
     "data": {
      "application/vnd.jupyter.widget-view+json": {
       "model_id": "f3af4ea71cf14bdfbb34bb2b6a2e230c",
       "version_major": 2,
       "version_minor": 0
      },
      "text/plain": [
       "Innermost loop magnitude:   0%|          | 0/10 [00:00<?, ?it/s]"
      ]
     },
     "metadata": {},
     "output_type": "display_data"
    },
    {
     "data": {
      "application/vnd.jupyter.widget-view+json": {
       "model_id": "376c9fa6076b4e5ea033a4dc113119e5",
       "version_major": 2,
       "version_minor": 0
      },
      "text/plain": [
       "Innermost loop magnitude:   0%|          | 0/10 [00:00<?, ?it/s]"
      ]
     },
     "metadata": {},
     "output_type": "display_data"
    },
    {
     "data": {
      "application/vnd.jupyter.widget-view+json": {
       "model_id": "e3500bde0dde470892f2563acbb0a2cc",
       "version_major": 2,
       "version_minor": 0
      },
      "text/plain": [
       "Innermost loop magnitude:   0%|          | 0/10 [00:00<?, ?it/s]"
      ]
     },
     "metadata": {},
     "output_type": "display_data"
    },
    {
     "data": {
      "application/vnd.jupyter.widget-view+json": {
       "model_id": "c8e5c48235274b02a7d0be9662435c92",
       "version_major": 2,
       "version_minor": 0
      },
      "text/plain": [
       "Innermost loop magnitude:   0%|          | 0/10 [00:00<?, ?it/s]"
      ]
     },
     "metadata": {},
     "output_type": "display_data"
    },
    {
     "data": {
      "application/vnd.jupyter.widget-view+json": {
       "model_id": "c75c73bca3a44e75a017df4ec547a5e9",
       "version_major": 2,
       "version_minor": 0
      },
      "text/plain": [
       "Innermost loop magnitude:   0%|          | 0/10 [00:00<?, ?it/s]"
      ]
     },
     "metadata": {},
     "output_type": "display_data"
    },
    {
     "data": {
      "application/vnd.jupyter.widget-view+json": {
       "model_id": "de901cde3bd141ab827f380784d25d4e",
       "version_major": 2,
       "version_minor": 0
      },
      "text/plain": [
       "Innermost loop magnitude:   0%|          | 0/10 [00:00<?, ?it/s]"
      ]
     },
     "metadata": {},
     "output_type": "display_data"
    },
    {
     "data": {
      "application/vnd.jupyter.widget-view+json": {
       "model_id": "1dbead2bb0784556bf7a6ca7039c7a8a",
       "version_major": 2,
       "version_minor": 0
      },
      "text/plain": [
       "Innermost loop magnitude:   0%|          | 0/10 [00:00<?, ?it/s]"
      ]
     },
     "metadata": {},
     "output_type": "display_data"
    },
    {
     "data": {
      "application/vnd.jupyter.widget-view+json": {
       "model_id": "97849f8dd6304b7e97d51029c68e9a07",
       "version_major": 2,
       "version_minor": 0
      },
      "text/plain": [
       "Innermost loop magnitude:   0%|          | 0/10 [00:00<?, ?it/s]"
      ]
     },
     "metadata": {},
     "output_type": "display_data"
    },
    {
     "data": {
      "application/vnd.jupyter.widget-view+json": {
       "model_id": "992bf299290f4302b93356a56ccb314f",
       "version_major": 2,
       "version_minor": 0
      },
      "text/plain": [
       "Innermost loop magnitude:   0%|          | 0/10 [00:00<?, ?it/s]"
      ]
     },
     "metadata": {},
     "output_type": "display_data"
    },
    {
     "data": {
      "application/vnd.jupyter.widget-view+json": {
       "model_id": "57310f17de23421db7529e8bfa2bf613",
       "version_major": 2,
       "version_minor": 0
      },
      "text/plain": [
       "Innermost loop magnitude:   0%|          | 0/10 [00:00<?, ?it/s]"
      ]
     },
     "metadata": {},
     "output_type": "display_data"
    },
    {
     "data": {
      "application/vnd.jupyter.widget-view+json": {
       "model_id": "1fcec0653fa1429d93506050d4d9ff7e",
       "version_major": 2,
       "version_minor": 0
      },
      "text/plain": [
       "Innermost loop magnitude:   0%|          | 0/10 [00:00<?, ?it/s]"
      ]
     },
     "metadata": {},
     "output_type": "display_data"
    },
    {
     "data": {
      "application/vnd.jupyter.widget-view+json": {
       "model_id": "cf73b9b40453441eb75344d310a318be",
       "version_major": 2,
       "version_minor": 0
      },
      "text/plain": [
       "Innermost loop magnitude:   0%|          | 0/10 [00:00<?, ?it/s]"
      ]
     },
     "metadata": {},
     "output_type": "display_data"
    },
    {
     "data": {
      "application/vnd.jupyter.widget-view+json": {
       "model_id": "6737507e5f85427e989323051315d597",
       "version_major": 2,
       "version_minor": 0
      },
      "text/plain": [
       "Innermost loop magnitude:   0%|          | 0/10 [00:00<?, ?it/s]"
      ]
     },
     "metadata": {},
     "output_type": "display_data"
    },
    {
     "data": {
      "application/vnd.jupyter.widget-view+json": {
       "model_id": "e5e3d40c90fd4170ac49e60ffc322e05",
       "version_major": 2,
       "version_minor": 0
      },
      "text/plain": [
       "Innermost loop magnitude:   0%|          | 0/10 [00:00<?, ?it/s]"
      ]
     },
     "metadata": {},
     "output_type": "display_data"
    },
    {
     "data": {
      "application/vnd.jupyter.widget-view+json": {
       "model_id": "00fd3edaed3d4b0ea3e02fae97c56306",
       "version_major": 2,
       "version_minor": 0
      },
      "text/plain": [
       "Innermost loop magnitude:   0%|          | 0/10 [00:00<?, ?it/s]"
      ]
     },
     "metadata": {},
     "output_type": "display_data"
    },
    {
     "data": {
      "application/vnd.jupyter.widget-view+json": {
       "model_id": "53102bf0534a4cd8a638a3ca9c0da5be",
       "version_major": 2,
       "version_minor": 0
      },
      "text/plain": [
       "Innermost loop magnitude:   0%|          | 0/10 [00:00<?, ?it/s]"
      ]
     },
     "metadata": {},
     "output_type": "display_data"
    },
    {
     "data": {
      "application/vnd.jupyter.widget-view+json": {
       "model_id": "1fd489dfc0ff4663b3f49e7450783390",
       "version_major": 2,
       "version_minor": 0
      },
      "text/plain": [
       "Innermost loop magnitude:   0%|          | 0/10 [00:00<?, ?it/s]"
      ]
     },
     "metadata": {},
     "output_type": "display_data"
    },
    {
     "data": {
      "application/vnd.jupyter.widget-view+json": {
       "model_id": "c1dc08a8fa1e4f5ab08bf1c258bd18d8",
       "version_major": 2,
       "version_minor": 0
      },
      "text/plain": [
       "Innermost loop magnitude:   0%|          | 0/10 [00:00<?, ?it/s]"
      ]
     },
     "metadata": {},
     "output_type": "display_data"
    },
    {
     "data": {
      "application/vnd.jupyter.widget-view+json": {
       "model_id": "6f7af8d9f86d4a359f693772d60b5b9e",
       "version_major": 2,
       "version_minor": 0
      },
      "text/plain": [
       "Innermost loop magnitude:   0%|          | 0/10 [00:00<?, ?it/s]"
      ]
     },
     "metadata": {},
     "output_type": "display_data"
    },
    {
     "data": {
      "application/vnd.jupyter.widget-view+json": {
       "model_id": "60f5e00758c54fc1a3307754678d6ca4",
       "version_major": 2,
       "version_minor": 0
      },
      "text/plain": [
       "Innermost loop magnitude:   0%|          | 0/10 [00:00<?, ?it/s]"
      ]
     },
     "metadata": {},
     "output_type": "display_data"
    },
    {
     "data": {
      "application/vnd.jupyter.widget-view+json": {
       "model_id": "4eb75be35862480d8e6d373e543cdf7c",
       "version_major": 2,
       "version_minor": 0
      },
      "text/plain": [
       "Innermost loop magnitude:   0%|          | 0/10 [00:00<?, ?it/s]"
      ]
     },
     "metadata": {},
     "output_type": "display_data"
    },
    {
     "data": {
      "application/vnd.jupyter.widget-view+json": {
       "model_id": "2c8472881b5e4ee0bcdda590846f434e",
       "version_major": 2,
       "version_minor": 0
      },
      "text/plain": [
       "Innermost loop magnitude:   0%|          | 0/10 [00:00<?, ?it/s]"
      ]
     },
     "metadata": {},
     "output_type": "display_data"
    },
    {
     "data": {
      "application/vnd.jupyter.widget-view+json": {
       "model_id": "a61df7893efa4944828b245a4852918d",
       "version_major": 2,
       "version_minor": 0
      },
      "text/plain": [
       "Innermost loop magnitude:   0%|          | 0/10 [00:00<?, ?it/s]"
      ]
     },
     "metadata": {},
     "output_type": "display_data"
    },
    {
     "data": {
      "application/vnd.jupyter.widget-view+json": {
       "model_id": "ddd125b5dc2a45ac9032d53b3fe7ec2f",
       "version_major": 2,
       "version_minor": 0
      },
      "text/plain": [
       "Innermost loop magnitude:   0%|          | 0/10 [00:00<?, ?it/s]"
      ]
     },
     "metadata": {},
     "output_type": "display_data"
    },
    {
     "data": {
      "application/vnd.jupyter.widget-view+json": {
       "model_id": "e380fbed4b404c9fb06575b54b49e61f",
       "version_major": 2,
       "version_minor": 0
      },
      "text/plain": [
       "Innermost loop magnitude:   0%|          | 0/10 [00:00<?, ?it/s]"
      ]
     },
     "metadata": {},
     "output_type": "display_data"
    },
    {
     "data": {
      "application/vnd.jupyter.widget-view+json": {
       "model_id": "893b6cd65a66486fbcb12ee42636bc84",
       "version_major": 2,
       "version_minor": 0
      },
      "text/plain": [
       "Innermost loop magnitude:   0%|          | 0/10 [00:00<?, ?it/s]"
      ]
     },
     "metadata": {},
     "output_type": "display_data"
    },
    {
     "data": {
      "application/vnd.jupyter.widget-view+json": {
       "model_id": "37dee08eb2af4462949a2bab22b912aa",
       "version_major": 2,
       "version_minor": 0
      },
      "text/plain": [
       "Innermost loop magnitude:   0%|          | 0/10 [00:00<?, ?it/s]"
      ]
     },
     "metadata": {},
     "output_type": "display_data"
    },
    {
     "data": {
      "application/vnd.jupyter.widget-view+json": {
       "model_id": "8f6142ea3b7b49798fc89ab1f865e75b",
       "version_major": 2,
       "version_minor": 0
      },
      "text/plain": [
       "Innermost loop magnitude:   0%|          | 0/10 [00:00<?, ?it/s]"
      ]
     },
     "metadata": {},
     "output_type": "display_data"
    },
    {
     "data": {
      "application/vnd.jupyter.widget-view+json": {
       "model_id": "6b6df66aca2848c6a3359b186fcac350",
       "version_major": 2,
       "version_minor": 0
      },
      "text/plain": [
       "Innermost loop magnitude:   0%|          | 0/10 [00:00<?, ?it/s]"
      ]
     },
     "metadata": {},
     "output_type": "display_data"
    },
    {
     "data": {
      "application/vnd.jupyter.widget-view+json": {
       "model_id": "b07ab634a52943418af20460c29861e8",
       "version_major": 2,
       "version_minor": 0
      },
      "text/plain": [
       "Innermost loop magnitude:   0%|          | 0/10 [00:00<?, ?it/s]"
      ]
     },
     "metadata": {},
     "output_type": "display_data"
    },
    {
     "data": {
      "application/vnd.jupyter.widget-view+json": {
       "model_id": "9e9a5a8fdf1a4a8d876af521091f584f",
       "version_major": 2,
       "version_minor": 0
      },
      "text/plain": [
       "Innermost loop magnitude:   0%|          | 0/10 [00:00<?, ?it/s]"
      ]
     },
     "metadata": {},
     "output_type": "display_data"
    },
    {
     "data": {
      "application/vnd.jupyter.widget-view+json": {
       "model_id": "3e4709a90b5545f7abe49a1a66a21ac3",
       "version_major": 2,
       "version_minor": 0
      },
      "text/plain": [
       "Innermost loop magnitude:   0%|          | 0/10 [00:00<?, ?it/s]"
      ]
     },
     "metadata": {},
     "output_type": "display_data"
    },
    {
     "data": {
      "application/vnd.jupyter.widget-view+json": {
       "model_id": "904cdbdb548b4eed9ac3f317c9d55aea",
       "version_major": 2,
       "version_minor": 0
      },
      "text/plain": [
       "Innermost loop magnitude:   0%|          | 0/10 [00:00<?, ?it/s]"
      ]
     },
     "metadata": {},
     "output_type": "display_data"
    },
    {
     "data": {
      "application/vnd.jupyter.widget-view+json": {
       "model_id": "19dd52a301574882b26c80401de3e652",
       "version_major": 2,
       "version_minor": 0
      },
      "text/plain": [
       "Innermost loop magnitude:   0%|          | 0/10 [00:00<?, ?it/s]"
      ]
     },
     "metadata": {},
     "output_type": "display_data"
    },
    {
     "data": {
      "application/vnd.jupyter.widget-view+json": {
       "model_id": "f2c59c34c9ae43d5b4b386d3435c55ac",
       "version_major": 2,
       "version_minor": 0
      },
      "text/plain": [
       "Inner loop angle:   0%|          | 0/36 [00:00<?, ?it/s]"
      ]
     },
     "metadata": {},
     "output_type": "display_data"
    },
    {
     "data": {
      "application/vnd.jupyter.widget-view+json": {
       "model_id": "ce751c1303b2474a90c87f5aab734b21",
       "version_major": 2,
       "version_minor": 0
      },
      "text/plain": [
       "Innermost loop magnitude:   0%|          | 0/10 [00:00<?, ?it/s]"
      ]
     },
     "metadata": {},
     "output_type": "display_data"
    },
    {
     "data": {
      "application/vnd.jupyter.widget-view+json": {
       "model_id": "5163634bb9164c818da7c56dfcb501a3",
       "version_major": 2,
       "version_minor": 0
      },
      "text/plain": [
       "Innermost loop magnitude:   0%|          | 0/10 [00:00<?, ?it/s]"
      ]
     },
     "metadata": {},
     "output_type": "display_data"
    },
    {
     "data": {
      "application/vnd.jupyter.widget-view+json": {
       "model_id": "226eea1458e442579969b26437a019a4",
       "version_major": 2,
       "version_minor": 0
      },
      "text/plain": [
       "Innermost loop magnitude:   0%|          | 0/10 [00:00<?, ?it/s]"
      ]
     },
     "metadata": {},
     "output_type": "display_data"
    },
    {
     "data": {
      "application/vnd.jupyter.widget-view+json": {
       "model_id": "ce83c05b533440df8649fe818a2f41a0",
       "version_major": 2,
       "version_minor": 0
      },
      "text/plain": [
       "Innermost loop magnitude:   0%|          | 0/10 [00:00<?, ?it/s]"
      ]
     },
     "metadata": {},
     "output_type": "display_data"
    },
    {
     "data": {
      "application/vnd.jupyter.widget-view+json": {
       "model_id": "85067d03b60f49fa842b94a705e9b42a",
       "version_major": 2,
       "version_minor": 0
      },
      "text/plain": [
       "Innermost loop magnitude:   0%|          | 0/10 [00:00<?, ?it/s]"
      ]
     },
     "metadata": {},
     "output_type": "display_data"
    },
    {
     "data": {
      "application/vnd.jupyter.widget-view+json": {
       "model_id": "109dcda65550477ca2fab44be963ae36",
       "version_major": 2,
       "version_minor": 0
      },
      "text/plain": [
       "Innermost loop magnitude:   0%|          | 0/10 [00:00<?, ?it/s]"
      ]
     },
     "metadata": {},
     "output_type": "display_data"
    },
    {
     "data": {
      "application/vnd.jupyter.widget-view+json": {
       "model_id": "ef0f853612ab4d4b90fe99a4e3886db0",
       "version_major": 2,
       "version_minor": 0
      },
      "text/plain": [
       "Innermost loop magnitude:   0%|          | 0/10 [00:00<?, ?it/s]"
      ]
     },
     "metadata": {},
     "output_type": "display_data"
    },
    {
     "data": {
      "application/vnd.jupyter.widget-view+json": {
       "model_id": "a7922bfe176c417d8d88424a80365669",
       "version_major": 2,
       "version_minor": 0
      },
      "text/plain": [
       "Innermost loop magnitude:   0%|          | 0/10 [00:00<?, ?it/s]"
      ]
     },
     "metadata": {},
     "output_type": "display_data"
    },
    {
     "data": {
      "application/vnd.jupyter.widget-view+json": {
       "model_id": "800c670401a1400dbfbec5a300b5bf3f",
       "version_major": 2,
       "version_minor": 0
      },
      "text/plain": [
       "Innermost loop magnitude:   0%|          | 0/10 [00:00<?, ?it/s]"
      ]
     },
     "metadata": {},
     "output_type": "display_data"
    },
    {
     "data": {
      "application/vnd.jupyter.widget-view+json": {
       "model_id": "09bb18587c9e4b1dbd442f742d545afa",
       "version_major": 2,
       "version_minor": 0
      },
      "text/plain": [
       "Innermost loop magnitude:   0%|          | 0/10 [00:00<?, ?it/s]"
      ]
     },
     "metadata": {},
     "output_type": "display_data"
    },
    {
     "data": {
      "application/vnd.jupyter.widget-view+json": {
       "model_id": "9e6a582c7b1d4e8aa31a34330cb6b050",
       "version_major": 2,
       "version_minor": 0
      },
      "text/plain": [
       "Innermost loop magnitude:   0%|          | 0/10 [00:00<?, ?it/s]"
      ]
     },
     "metadata": {},
     "output_type": "display_data"
    },
    {
     "data": {
      "application/vnd.jupyter.widget-view+json": {
       "model_id": "dbb4c6975ec244cf9ad60af0ea439cbe",
       "version_major": 2,
       "version_minor": 0
      },
      "text/plain": [
       "Innermost loop magnitude:   0%|          | 0/10 [00:00<?, ?it/s]"
      ]
     },
     "metadata": {},
     "output_type": "display_data"
    },
    {
     "data": {
      "application/vnd.jupyter.widget-view+json": {
       "model_id": "fa80fc064f2d4cb88393590f7cffb942",
       "version_major": 2,
       "version_minor": 0
      },
      "text/plain": [
       "Innermost loop magnitude:   0%|          | 0/10 [00:00<?, ?it/s]"
      ]
     },
     "metadata": {},
     "output_type": "display_data"
    },
    {
     "data": {
      "application/vnd.jupyter.widget-view+json": {
       "model_id": "75e52cacb88a4511ae629708fa1ab015",
       "version_major": 2,
       "version_minor": 0
      },
      "text/plain": [
       "Innermost loop magnitude:   0%|          | 0/10 [00:00<?, ?it/s]"
      ]
     },
     "metadata": {},
     "output_type": "display_data"
    },
    {
     "data": {
      "application/vnd.jupyter.widget-view+json": {
       "model_id": "ae61fb708627414ca508741fcab8f329",
       "version_major": 2,
       "version_minor": 0
      },
      "text/plain": [
       "Innermost loop magnitude:   0%|          | 0/10 [00:00<?, ?it/s]"
      ]
     },
     "metadata": {},
     "output_type": "display_data"
    },
    {
     "data": {
      "application/vnd.jupyter.widget-view+json": {
       "model_id": "d5ec0b5989bc4dd9a70968956f4d9bc1",
       "version_major": 2,
       "version_minor": 0
      },
      "text/plain": [
       "Innermost loop magnitude:   0%|          | 0/10 [00:00<?, ?it/s]"
      ]
     },
     "metadata": {},
     "output_type": "display_data"
    },
    {
     "data": {
      "application/vnd.jupyter.widget-view+json": {
       "model_id": "fd95c1ea778e4ba5b691b6ccbbfbc7f4",
       "version_major": 2,
       "version_minor": 0
      },
      "text/plain": [
       "Innermost loop magnitude:   0%|          | 0/10 [00:00<?, ?it/s]"
      ]
     },
     "metadata": {},
     "output_type": "display_data"
    },
    {
     "data": {
      "application/vnd.jupyter.widget-view+json": {
       "model_id": "3e37b2fb2e524a98a0e469a669747757",
       "version_major": 2,
       "version_minor": 0
      },
      "text/plain": [
       "Innermost loop magnitude:   0%|          | 0/10 [00:00<?, ?it/s]"
      ]
     },
     "metadata": {},
     "output_type": "display_data"
    },
    {
     "data": {
      "application/vnd.jupyter.widget-view+json": {
       "model_id": "f66be4d8a4fd4bdf97d43a0d995eb2d1",
       "version_major": 2,
       "version_minor": 0
      },
      "text/plain": [
       "Innermost loop magnitude:   0%|          | 0/10 [00:00<?, ?it/s]"
      ]
     },
     "metadata": {},
     "output_type": "display_data"
    },
    {
     "data": {
      "application/vnd.jupyter.widget-view+json": {
       "model_id": "dbd5470922de4f139f5e726b6c913736",
       "version_major": 2,
       "version_minor": 0
      },
      "text/plain": [
       "Innermost loop magnitude:   0%|          | 0/10 [00:00<?, ?it/s]"
      ]
     },
     "metadata": {},
     "output_type": "display_data"
    },
    {
     "data": {
      "application/vnd.jupyter.widget-view+json": {
       "model_id": "b9327b5f4e4547d99e651c2e64a42ac3",
       "version_major": 2,
       "version_minor": 0
      },
      "text/plain": [
       "Innermost loop magnitude:   0%|          | 0/10 [00:00<?, ?it/s]"
      ]
     },
     "metadata": {},
     "output_type": "display_data"
    },
    {
     "data": {
      "application/vnd.jupyter.widget-view+json": {
       "model_id": "fb7d585901ce4faabc1563d3da30f935",
       "version_major": 2,
       "version_minor": 0
      },
      "text/plain": [
       "Innermost loop magnitude:   0%|          | 0/10 [00:00<?, ?it/s]"
      ]
     },
     "metadata": {},
     "output_type": "display_data"
    },
    {
     "data": {
      "application/vnd.jupyter.widget-view+json": {
       "model_id": "efea1a736f28476ebb14456aeb56bd31",
       "version_major": 2,
       "version_minor": 0
      },
      "text/plain": [
       "Innermost loop magnitude:   0%|          | 0/10 [00:00<?, ?it/s]"
      ]
     },
     "metadata": {},
     "output_type": "display_data"
    },
    {
     "data": {
      "application/vnd.jupyter.widget-view+json": {
       "model_id": "3ecf00dd35e042a2b2b50be894b661bf",
       "version_major": 2,
       "version_minor": 0
      },
      "text/plain": [
       "Innermost loop magnitude:   0%|          | 0/10 [00:00<?, ?it/s]"
      ]
     },
     "metadata": {},
     "output_type": "display_data"
    },
    {
     "data": {
      "application/vnd.jupyter.widget-view+json": {
       "model_id": "b81a2a9ac84e49ff8c0b2421278023b8",
       "version_major": 2,
       "version_minor": 0
      },
      "text/plain": [
       "Innermost loop magnitude:   0%|          | 0/10 [00:00<?, ?it/s]"
      ]
     },
     "metadata": {},
     "output_type": "display_data"
    },
    {
     "data": {
      "application/vnd.jupyter.widget-view+json": {
       "model_id": "21b5cc2f6b5c4149ba77b1a167d43bdb",
       "version_major": 2,
       "version_minor": 0
      },
      "text/plain": [
       "Innermost loop magnitude:   0%|          | 0/10 [00:00<?, ?it/s]"
      ]
     },
     "metadata": {},
     "output_type": "display_data"
    },
    {
     "data": {
      "application/vnd.jupyter.widget-view+json": {
       "model_id": "c5358ed06df54edab80811a22490e985",
       "version_major": 2,
       "version_minor": 0
      },
      "text/plain": [
       "Innermost loop magnitude:   0%|          | 0/10 [00:00<?, ?it/s]"
      ]
     },
     "metadata": {},
     "output_type": "display_data"
    },
    {
     "data": {
      "application/vnd.jupyter.widget-view+json": {
       "model_id": "8fd70a821c814f8685153e364278ee71",
       "version_major": 2,
       "version_minor": 0
      },
      "text/plain": [
       "Innermost loop magnitude:   0%|          | 0/10 [00:00<?, ?it/s]"
      ]
     },
     "metadata": {},
     "output_type": "display_data"
    },
    {
     "data": {
      "application/vnd.jupyter.widget-view+json": {
       "model_id": "acd3c2b32ff147d1b281b497f7026fe8",
       "version_major": 2,
       "version_minor": 0
      },
      "text/plain": [
       "Innermost loop magnitude:   0%|          | 0/10 [00:00<?, ?it/s]"
      ]
     },
     "metadata": {},
     "output_type": "display_data"
    },
    {
     "data": {
      "application/vnd.jupyter.widget-view+json": {
       "model_id": "c41e4d9a7aa242d4bfa44fa5581bac44",
       "version_major": 2,
       "version_minor": 0
      },
      "text/plain": [
       "Innermost loop magnitude:   0%|          | 0/10 [00:00<?, ?it/s]"
      ]
     },
     "metadata": {},
     "output_type": "display_data"
    },
    {
     "data": {
      "application/vnd.jupyter.widget-view+json": {
       "model_id": "e521ad74cea94a81af40b0585ffa466f",
       "version_major": 2,
       "version_minor": 0
      },
      "text/plain": [
       "Innermost loop magnitude:   0%|          | 0/10 [00:00<?, ?it/s]"
      ]
     },
     "metadata": {},
     "output_type": "display_data"
    },
    {
     "data": {
      "application/vnd.jupyter.widget-view+json": {
       "model_id": "ce4cd5bbb95d44f6bfa6635a0c5e30db",
       "version_major": 2,
       "version_minor": 0
      },
      "text/plain": [
       "Innermost loop magnitude:   0%|          | 0/10 [00:00<?, ?it/s]"
      ]
     },
     "metadata": {},
     "output_type": "display_data"
    },
    {
     "data": {
      "application/vnd.jupyter.widget-view+json": {
       "model_id": "165b57ca56a44eb1887a1d39e193d43b",
       "version_major": 2,
       "version_minor": 0
      },
      "text/plain": [
       "Innermost loop magnitude:   0%|          | 0/10 [00:00<?, ?it/s]"
      ]
     },
     "metadata": {},
     "output_type": "display_data"
    },
    {
     "data": {
      "application/vnd.jupyter.widget-view+json": {
       "model_id": "be1166d221dc48ba857b6cc8a3e6dc57",
       "version_major": 2,
       "version_minor": 0
      },
      "text/plain": [
       "Innermost loop magnitude:   0%|          | 0/10 [00:00<?, ?it/s]"
      ]
     },
     "metadata": {},
     "output_type": "display_data"
    },
    {
     "data": {
      "application/vnd.jupyter.widget-view+json": {
       "model_id": "9c409c02d002446cbec610d069b6f02e",
       "version_major": 2,
       "version_minor": 0
      },
      "text/plain": [
       "Innermost loop magnitude:   0%|          | 0/10 [00:00<?, ?it/s]"
      ]
     },
     "metadata": {},
     "output_type": "display_data"
    },
    {
     "data": {
      "application/vnd.jupyter.widget-view+json": {
       "model_id": "dfe53ec5891347e1971a5bc6e7a37c88",
       "version_major": 2,
       "version_minor": 0
      },
      "text/plain": [
       "Innermost loop magnitude:   0%|          | 0/10 [00:00<?, ?it/s]"
      ]
     },
     "metadata": {},
     "output_type": "display_data"
    },
    {
     "data": {
      "application/vnd.jupyter.widget-view+json": {
       "model_id": "ab7e291bc25b46c2b9cc43d90c914d55",
       "version_major": 2,
       "version_minor": 0
      },
      "text/plain": [
       "Inner loop angle:   0%|          | 0/36 [00:00<?, ?it/s]"
      ]
     },
     "metadata": {},
     "output_type": "display_data"
    },
    {
     "data": {
      "application/vnd.jupyter.widget-view+json": {
       "model_id": "91e016ecaabd438487810dc85260efcb",
       "version_major": 2,
       "version_minor": 0
      },
      "text/plain": [
       "Innermost loop magnitude:   0%|          | 0/10 [00:00<?, ?it/s]"
      ]
     },
     "metadata": {},
     "output_type": "display_data"
    },
    {
     "data": {
      "application/vnd.jupyter.widget-view+json": {
       "model_id": "c845925c8703493489ec9063a674740e",
       "version_major": 2,
       "version_minor": 0
      },
      "text/plain": [
       "Innermost loop magnitude:   0%|          | 0/10 [00:00<?, ?it/s]"
      ]
     },
     "metadata": {},
     "output_type": "display_data"
    },
    {
     "data": {
      "application/vnd.jupyter.widget-view+json": {
       "model_id": "6688662b8ebc440ca110021cd3a9601b",
       "version_major": 2,
       "version_minor": 0
      },
      "text/plain": [
       "Innermost loop magnitude:   0%|          | 0/10 [00:00<?, ?it/s]"
      ]
     },
     "metadata": {},
     "output_type": "display_data"
    },
    {
     "data": {
      "application/vnd.jupyter.widget-view+json": {
       "model_id": "628a0864b4744839ba452d790cc680e1",
       "version_major": 2,
       "version_minor": 0
      },
      "text/plain": [
       "Innermost loop magnitude:   0%|          | 0/10 [00:00<?, ?it/s]"
      ]
     },
     "metadata": {},
     "output_type": "display_data"
    },
    {
     "data": {
      "application/vnd.jupyter.widget-view+json": {
       "model_id": "fd6105f981af4116a1792b0ac83eadfb",
       "version_major": 2,
       "version_minor": 0
      },
      "text/plain": [
       "Innermost loop magnitude:   0%|          | 0/10 [00:00<?, ?it/s]"
      ]
     },
     "metadata": {},
     "output_type": "display_data"
    },
    {
     "data": {
      "application/vnd.jupyter.widget-view+json": {
       "model_id": "359671c8092f451f8e9d5e0d595f6252",
       "version_major": 2,
       "version_minor": 0
      },
      "text/plain": [
       "Innermost loop magnitude:   0%|          | 0/10 [00:00<?, ?it/s]"
      ]
     },
     "metadata": {},
     "output_type": "display_data"
    },
    {
     "data": {
      "application/vnd.jupyter.widget-view+json": {
       "model_id": "038bae28722b4fb1808530f615b6406e",
       "version_major": 2,
       "version_minor": 0
      },
      "text/plain": [
       "Innermost loop magnitude:   0%|          | 0/10 [00:00<?, ?it/s]"
      ]
     },
     "metadata": {},
     "output_type": "display_data"
    },
    {
     "data": {
      "application/vnd.jupyter.widget-view+json": {
       "model_id": "5f2c62a0a98943ba938ff69727f6fa7a",
       "version_major": 2,
       "version_minor": 0
      },
      "text/plain": [
       "Innermost loop magnitude:   0%|          | 0/10 [00:00<?, ?it/s]"
      ]
     },
     "metadata": {},
     "output_type": "display_data"
    },
    {
     "data": {
      "application/vnd.jupyter.widget-view+json": {
       "model_id": "a4457215150c464ba085c435fe9fae8e",
       "version_major": 2,
       "version_minor": 0
      },
      "text/plain": [
       "Innermost loop magnitude:   0%|          | 0/10 [00:00<?, ?it/s]"
      ]
     },
     "metadata": {},
     "output_type": "display_data"
    },
    {
     "data": {
      "application/vnd.jupyter.widget-view+json": {
       "model_id": "12fc2efdb48f4c5eb79680992204dbdd",
       "version_major": 2,
       "version_minor": 0
      },
      "text/plain": [
       "Innermost loop magnitude:   0%|          | 0/10 [00:00<?, ?it/s]"
      ]
     },
     "metadata": {},
     "output_type": "display_data"
    },
    {
     "data": {
      "application/vnd.jupyter.widget-view+json": {
       "model_id": "7b7e777dbb7349b0888c090796758ede",
       "version_major": 2,
       "version_minor": 0
      },
      "text/plain": [
       "Innermost loop magnitude:   0%|          | 0/10 [00:00<?, ?it/s]"
      ]
     },
     "metadata": {},
     "output_type": "display_data"
    },
    {
     "data": {
      "application/vnd.jupyter.widget-view+json": {
       "model_id": "28aea135a29e4162ac9366be47ce748e",
       "version_major": 2,
       "version_minor": 0
      },
      "text/plain": [
       "Innermost loop magnitude:   0%|          | 0/10 [00:00<?, ?it/s]"
      ]
     },
     "metadata": {},
     "output_type": "display_data"
    },
    {
     "data": {
      "application/vnd.jupyter.widget-view+json": {
       "model_id": "0048c452035f485f99c17ba435f2a588",
       "version_major": 2,
       "version_minor": 0
      },
      "text/plain": [
       "Innermost loop magnitude:   0%|          | 0/10 [00:00<?, ?it/s]"
      ]
     },
     "metadata": {},
     "output_type": "display_data"
    },
    {
     "data": {
      "application/vnd.jupyter.widget-view+json": {
       "model_id": "17def7fdc8c04fcfac4fd5560d088dc9",
       "version_major": 2,
       "version_minor": 0
      },
      "text/plain": [
       "Innermost loop magnitude:   0%|          | 0/10 [00:00<?, ?it/s]"
      ]
     },
     "metadata": {},
     "output_type": "display_data"
    },
    {
     "data": {
      "application/vnd.jupyter.widget-view+json": {
       "model_id": "2b57d81cc3364a87abfbd5021d12fd29",
       "version_major": 2,
       "version_minor": 0
      },
      "text/plain": [
       "Innermost loop magnitude:   0%|          | 0/10 [00:00<?, ?it/s]"
      ]
     },
     "metadata": {},
     "output_type": "display_data"
    },
    {
     "data": {
      "application/vnd.jupyter.widget-view+json": {
       "model_id": "1973a23df15d409dbd4dab580c44dba6",
       "version_major": 2,
       "version_minor": 0
      },
      "text/plain": [
       "Innermost loop magnitude:   0%|          | 0/10 [00:00<?, ?it/s]"
      ]
     },
     "metadata": {},
     "output_type": "display_data"
    },
    {
     "data": {
      "application/vnd.jupyter.widget-view+json": {
       "model_id": "ab0945073d3c487a91b5eb1711106560",
       "version_major": 2,
       "version_minor": 0
      },
      "text/plain": [
       "Innermost loop magnitude:   0%|          | 0/10 [00:00<?, ?it/s]"
      ]
     },
     "metadata": {},
     "output_type": "display_data"
    },
    {
     "data": {
      "application/vnd.jupyter.widget-view+json": {
       "model_id": "44d0ef9c0aa94e29b443c5e0fdd8ad0b",
       "version_major": 2,
       "version_minor": 0
      },
      "text/plain": [
       "Innermost loop magnitude:   0%|          | 0/10 [00:00<?, ?it/s]"
      ]
     },
     "metadata": {},
     "output_type": "display_data"
    },
    {
     "data": {
      "application/vnd.jupyter.widget-view+json": {
       "model_id": "a2559eb4ce8f4582981899508523d049",
       "version_major": 2,
       "version_minor": 0
      },
      "text/plain": [
       "Innermost loop magnitude:   0%|          | 0/10 [00:00<?, ?it/s]"
      ]
     },
     "metadata": {},
     "output_type": "display_data"
    },
    {
     "data": {
      "application/vnd.jupyter.widget-view+json": {
       "model_id": "aff08455597c4978ab0645a1d9801f4e",
       "version_major": 2,
       "version_minor": 0
      },
      "text/plain": [
       "Innermost loop magnitude:   0%|          | 0/10 [00:00<?, ?it/s]"
      ]
     },
     "metadata": {},
     "output_type": "display_data"
    },
    {
     "data": {
      "application/vnd.jupyter.widget-view+json": {
       "model_id": "ae7d8468d5d54a0e99ee38f48366f153",
       "version_major": 2,
       "version_minor": 0
      },
      "text/plain": [
       "Innermost loop magnitude:   0%|          | 0/10 [00:00<?, ?it/s]"
      ]
     },
     "metadata": {},
     "output_type": "display_data"
    },
    {
     "data": {
      "application/vnd.jupyter.widget-view+json": {
       "model_id": "4b1ce014a03e469daf8b64c954a70d7a",
       "version_major": 2,
       "version_minor": 0
      },
      "text/plain": [
       "Innermost loop magnitude:   0%|          | 0/10 [00:00<?, ?it/s]"
      ]
     },
     "metadata": {},
     "output_type": "display_data"
    },
    {
     "data": {
      "application/vnd.jupyter.widget-view+json": {
       "model_id": "e65f5ca809f846ce806fa2a2bd9a5f9a",
       "version_major": 2,
       "version_minor": 0
      },
      "text/plain": [
       "Innermost loop magnitude:   0%|          | 0/10 [00:00<?, ?it/s]"
      ]
     },
     "metadata": {},
     "output_type": "display_data"
    },
    {
     "data": {
      "application/vnd.jupyter.widget-view+json": {
       "model_id": "62168b39c393452a94487576e2334119",
       "version_major": 2,
       "version_minor": 0
      },
      "text/plain": [
       "Innermost loop magnitude:   0%|          | 0/10 [00:00<?, ?it/s]"
      ]
     },
     "metadata": {},
     "output_type": "display_data"
    },
    {
     "data": {
      "application/vnd.jupyter.widget-view+json": {
       "model_id": "4610ae226fd34985b8f282ed588a3be4",
       "version_major": 2,
       "version_minor": 0
      },
      "text/plain": [
       "Innermost loop magnitude:   0%|          | 0/10 [00:00<?, ?it/s]"
      ]
     },
     "metadata": {},
     "output_type": "display_data"
    },
    {
     "data": {
      "application/vnd.jupyter.widget-view+json": {
       "model_id": "56d1c4d921084e5f8433a7c3f6ede334",
       "version_major": 2,
       "version_minor": 0
      },
      "text/plain": [
       "Innermost loop magnitude:   0%|          | 0/10 [00:00<?, ?it/s]"
      ]
     },
     "metadata": {},
     "output_type": "display_data"
    },
    {
     "data": {
      "application/vnd.jupyter.widget-view+json": {
       "model_id": "c3437edd6829477985c157622b93808f",
       "version_major": 2,
       "version_minor": 0
      },
      "text/plain": [
       "Innermost loop magnitude:   0%|          | 0/10 [00:00<?, ?it/s]"
      ]
     },
     "metadata": {},
     "output_type": "display_data"
    },
    {
     "data": {
      "application/vnd.jupyter.widget-view+json": {
       "model_id": "b37eaabc728f4e5f9a6085180e923cb3",
       "version_major": 2,
       "version_minor": 0
      },
      "text/plain": [
       "Innermost loop magnitude:   0%|          | 0/10 [00:00<?, ?it/s]"
      ]
     },
     "metadata": {},
     "output_type": "display_data"
    },
    {
     "data": {
      "application/vnd.jupyter.widget-view+json": {
       "model_id": "37db8b433a4f4f178155abf4cdfab457",
       "version_major": 2,
       "version_minor": 0
      },
      "text/plain": [
       "Innermost loop magnitude:   0%|          | 0/10 [00:00<?, ?it/s]"
      ]
     },
     "metadata": {},
     "output_type": "display_data"
    },
    {
     "data": {
      "application/vnd.jupyter.widget-view+json": {
       "model_id": "8e638dd72d114ee891fa9d0059784007",
       "version_major": 2,
       "version_minor": 0
      },
      "text/plain": [
       "Innermost loop magnitude:   0%|          | 0/10 [00:00<?, ?it/s]"
      ]
     },
     "metadata": {},
     "output_type": "display_data"
    },
    {
     "data": {
      "application/vnd.jupyter.widget-view+json": {
       "model_id": "14d746f1821f45e89bbd8306cc2647c4",
       "version_major": 2,
       "version_minor": 0
      },
      "text/plain": [
       "Innermost loop magnitude:   0%|          | 0/10 [00:00<?, ?it/s]"
      ]
     },
     "metadata": {},
     "output_type": "display_data"
    },
    {
     "data": {
      "application/vnd.jupyter.widget-view+json": {
       "model_id": "300d7d6e32e64fe78522f40a5902f3a4",
       "version_major": 2,
       "version_minor": 0
      },
      "text/plain": [
       "Innermost loop magnitude:   0%|          | 0/10 [00:00<?, ?it/s]"
      ]
     },
     "metadata": {},
     "output_type": "display_data"
    },
    {
     "data": {
      "application/vnd.jupyter.widget-view+json": {
       "model_id": "2e321b2135d54f498a36c1546e55168e",
       "version_major": 2,
       "version_minor": 0
      },
      "text/plain": [
       "Innermost loop magnitude:   0%|          | 0/10 [00:00<?, ?it/s]"
      ]
     },
     "metadata": {},
     "output_type": "display_data"
    },
    {
     "data": {
      "application/vnd.jupyter.widget-view+json": {
       "model_id": "acc4a2132ce4439aa4011dbcafbe9090",
       "version_major": 2,
       "version_minor": 0
      },
      "text/plain": [
       "Innermost loop magnitude:   0%|          | 0/10 [00:00<?, ?it/s]"
      ]
     },
     "metadata": {},
     "output_type": "display_data"
    },
    {
     "data": {
      "application/vnd.jupyter.widget-view+json": {
       "model_id": "8deca937a0614551bb3d576e23aab7f8",
       "version_major": 2,
       "version_minor": 0
      },
      "text/plain": [
       "Innermost loop magnitude:   0%|          | 0/10 [00:00<?, ?it/s]"
      ]
     },
     "metadata": {},
     "output_type": "display_data"
    },
    {
     "data": {
      "application/vnd.jupyter.widget-view+json": {
       "model_id": "b66e922fd9fe4af7802a80710d8f39fc",
       "version_major": 2,
       "version_minor": 0
      },
      "text/plain": [
       "Innermost loop magnitude:   0%|          | 0/10 [00:00<?, ?it/s]"
      ]
     },
     "metadata": {},
     "output_type": "display_data"
    },
    {
     "data": {
      "application/vnd.jupyter.widget-view+json": {
       "model_id": "c1a3bef62dc94579b9f6ae978ffb1e6f",
       "version_major": 2,
       "version_minor": 0
      },
      "text/plain": [
       "Inner loop angle:   0%|          | 0/36 [00:00<?, ?it/s]"
      ]
     },
     "metadata": {},
     "output_type": "display_data"
    },
    {
     "data": {
      "application/vnd.jupyter.widget-view+json": {
       "model_id": "7efc80346a334d878eafa2e1fdf66808",
       "version_major": 2,
       "version_minor": 0
      },
      "text/plain": [
       "Innermost loop magnitude:   0%|          | 0/10 [00:00<?, ?it/s]"
      ]
     },
     "metadata": {},
     "output_type": "display_data"
    },
    {
     "data": {
      "application/vnd.jupyter.widget-view+json": {
       "model_id": "36c0c588561b4708b1860f3afdfe1af2",
       "version_major": 2,
       "version_minor": 0
      },
      "text/plain": [
       "Innermost loop magnitude:   0%|          | 0/10 [00:00<?, ?it/s]"
      ]
     },
     "metadata": {},
     "output_type": "display_data"
    },
    {
     "data": {
      "application/vnd.jupyter.widget-view+json": {
       "model_id": "29ac2cac6d6d4fa3b0c94e1ec84f85c3",
       "version_major": 2,
       "version_minor": 0
      },
      "text/plain": [
       "Innermost loop magnitude:   0%|          | 0/10 [00:00<?, ?it/s]"
      ]
     },
     "metadata": {},
     "output_type": "display_data"
    },
    {
     "data": {
      "application/vnd.jupyter.widget-view+json": {
       "model_id": "b26ff0e63ad24cb79746dd38653e3590",
       "version_major": 2,
       "version_minor": 0
      },
      "text/plain": [
       "Innermost loop magnitude:   0%|          | 0/10 [00:00<?, ?it/s]"
      ]
     },
     "metadata": {},
     "output_type": "display_data"
    },
    {
     "data": {
      "application/vnd.jupyter.widget-view+json": {
       "model_id": "d435c1e09e324ed6aa1c3999938f67f6",
       "version_major": 2,
       "version_minor": 0
      },
      "text/plain": [
       "Innermost loop magnitude:   0%|          | 0/10 [00:00<?, ?it/s]"
      ]
     },
     "metadata": {},
     "output_type": "display_data"
    },
    {
     "data": {
      "application/vnd.jupyter.widget-view+json": {
       "model_id": "f30a2c37fb7e44acadfb18c7d31cd456",
       "version_major": 2,
       "version_minor": 0
      },
      "text/plain": [
       "Innermost loop magnitude:   0%|          | 0/10 [00:00<?, ?it/s]"
      ]
     },
     "metadata": {},
     "output_type": "display_data"
    },
    {
     "data": {
      "application/vnd.jupyter.widget-view+json": {
       "model_id": "b4c0c9595871480d94318427ec3dcb62",
       "version_major": 2,
       "version_minor": 0
      },
      "text/plain": [
       "Innermost loop magnitude:   0%|          | 0/10 [00:00<?, ?it/s]"
      ]
     },
     "metadata": {},
     "output_type": "display_data"
    },
    {
     "data": {
      "application/vnd.jupyter.widget-view+json": {
       "model_id": "ca107e443191475daa1a513bec1799e8",
       "version_major": 2,
       "version_minor": 0
      },
      "text/plain": [
       "Innermost loop magnitude:   0%|          | 0/10 [00:00<?, ?it/s]"
      ]
     },
     "metadata": {},
     "output_type": "display_data"
    },
    {
     "data": {
      "application/vnd.jupyter.widget-view+json": {
       "model_id": "21c000b8fb7645e6b59ad4dc54b88ca8",
       "version_major": 2,
       "version_minor": 0
      },
      "text/plain": [
       "Innermost loop magnitude:   0%|          | 0/10 [00:00<?, ?it/s]"
      ]
     },
     "metadata": {},
     "output_type": "display_data"
    },
    {
     "data": {
      "application/vnd.jupyter.widget-view+json": {
       "model_id": "52b8575088fb4466b675b62d493c4aca",
       "version_major": 2,
       "version_minor": 0
      },
      "text/plain": [
       "Innermost loop magnitude:   0%|          | 0/10 [00:00<?, ?it/s]"
      ]
     },
     "metadata": {},
     "output_type": "display_data"
    },
    {
     "data": {
      "application/vnd.jupyter.widget-view+json": {
       "model_id": "d5e526ef0d564f83afffc70edc137c9a",
       "version_major": 2,
       "version_minor": 0
      },
      "text/plain": [
       "Innermost loop magnitude:   0%|          | 0/10 [00:00<?, ?it/s]"
      ]
     },
     "metadata": {},
     "output_type": "display_data"
    },
    {
     "data": {
      "application/vnd.jupyter.widget-view+json": {
       "model_id": "6d7983dec8f542c5b95c232b33b27f6c",
       "version_major": 2,
       "version_minor": 0
      },
      "text/plain": [
       "Innermost loop magnitude:   0%|          | 0/10 [00:00<?, ?it/s]"
      ]
     },
     "metadata": {},
     "output_type": "display_data"
    },
    {
     "data": {
      "application/vnd.jupyter.widget-view+json": {
       "model_id": "a201475437914106a0704e73d82717cc",
       "version_major": 2,
       "version_minor": 0
      },
      "text/plain": [
       "Innermost loop magnitude:   0%|          | 0/10 [00:00<?, ?it/s]"
      ]
     },
     "metadata": {},
     "output_type": "display_data"
    },
    {
     "data": {
      "application/vnd.jupyter.widget-view+json": {
       "model_id": "76ff8c2bc9ce44bdb0a3a69ce052726c",
       "version_major": 2,
       "version_minor": 0
      },
      "text/plain": [
       "Innermost loop magnitude:   0%|          | 0/10 [00:00<?, ?it/s]"
      ]
     },
     "metadata": {},
     "output_type": "display_data"
    },
    {
     "data": {
      "application/vnd.jupyter.widget-view+json": {
       "model_id": "af382749020448eb8c3995509f504c15",
       "version_major": 2,
       "version_minor": 0
      },
      "text/plain": [
       "Innermost loop magnitude:   0%|          | 0/10 [00:00<?, ?it/s]"
      ]
     },
     "metadata": {},
     "output_type": "display_data"
    },
    {
     "data": {
      "application/vnd.jupyter.widget-view+json": {
       "model_id": "bc5ce2bdf28a49ce9389c2c79cbf02ec",
       "version_major": 2,
       "version_minor": 0
      },
      "text/plain": [
       "Innermost loop magnitude:   0%|          | 0/10 [00:00<?, ?it/s]"
      ]
     },
     "metadata": {},
     "output_type": "display_data"
    },
    {
     "data": {
      "application/vnd.jupyter.widget-view+json": {
       "model_id": "55cd48f1f5cd4cca9bd57da6a80e2f9c",
       "version_major": 2,
       "version_minor": 0
      },
      "text/plain": [
       "Innermost loop magnitude:   0%|          | 0/10 [00:00<?, ?it/s]"
      ]
     },
     "metadata": {},
     "output_type": "display_data"
    },
    {
     "data": {
      "application/vnd.jupyter.widget-view+json": {
       "model_id": "f242e326698e48c6b1cc262fc04d4fbb",
       "version_major": 2,
       "version_minor": 0
      },
      "text/plain": [
       "Innermost loop magnitude:   0%|          | 0/10 [00:00<?, ?it/s]"
      ]
     },
     "metadata": {},
     "output_type": "display_data"
    },
    {
     "data": {
      "application/vnd.jupyter.widget-view+json": {
       "model_id": "4a885499c14c4c7ba747799254905627",
       "version_major": 2,
       "version_minor": 0
      },
      "text/plain": [
       "Innermost loop magnitude:   0%|          | 0/10 [00:00<?, ?it/s]"
      ]
     },
     "metadata": {},
     "output_type": "display_data"
    },
    {
     "data": {
      "application/vnd.jupyter.widget-view+json": {
       "model_id": "db1841bd650340bb9b188dae93d248c7",
       "version_major": 2,
       "version_minor": 0
      },
      "text/plain": [
       "Innermost loop magnitude:   0%|          | 0/10 [00:00<?, ?it/s]"
      ]
     },
     "metadata": {},
     "output_type": "display_data"
    },
    {
     "data": {
      "application/vnd.jupyter.widget-view+json": {
       "model_id": "da975d7939cd4932b70501c4b257f602",
       "version_major": 2,
       "version_minor": 0
      },
      "text/plain": [
       "Innermost loop magnitude:   0%|          | 0/10 [00:00<?, ?it/s]"
      ]
     },
     "metadata": {},
     "output_type": "display_data"
    },
    {
     "data": {
      "application/vnd.jupyter.widget-view+json": {
       "model_id": "1fadd9d3be7341a0a98c7ee4bc126ff3",
       "version_major": 2,
       "version_minor": 0
      },
      "text/plain": [
       "Innermost loop magnitude:   0%|          | 0/10 [00:00<?, ?it/s]"
      ]
     },
     "metadata": {},
     "output_type": "display_data"
    },
    {
     "data": {
      "application/vnd.jupyter.widget-view+json": {
       "model_id": "e5428eb2203a4d68bdc824dad9cefc3c",
       "version_major": 2,
       "version_minor": 0
      },
      "text/plain": [
       "Innermost loop magnitude:   0%|          | 0/10 [00:00<?, ?it/s]"
      ]
     },
     "metadata": {},
     "output_type": "display_data"
    },
    {
     "data": {
      "application/vnd.jupyter.widget-view+json": {
       "model_id": "ad24976cfe3c40d5bb3e0902e580e5c9",
       "version_major": 2,
       "version_minor": 0
      },
      "text/plain": [
       "Innermost loop magnitude:   0%|          | 0/10 [00:00<?, ?it/s]"
      ]
     },
     "metadata": {},
     "output_type": "display_data"
    },
    {
     "data": {
      "application/vnd.jupyter.widget-view+json": {
       "model_id": "e996816762f7434f91ec8b31676ed97d",
       "version_major": 2,
       "version_minor": 0
      },
      "text/plain": [
       "Innermost loop magnitude:   0%|          | 0/10 [00:00<?, ?it/s]"
      ]
     },
     "metadata": {},
     "output_type": "display_data"
    },
    {
     "data": {
      "application/vnd.jupyter.widget-view+json": {
       "model_id": "cd6dbda2347d4d088b8402913be895b4",
       "version_major": 2,
       "version_minor": 0
      },
      "text/plain": [
       "Innermost loop magnitude:   0%|          | 0/10 [00:00<?, ?it/s]"
      ]
     },
     "metadata": {},
     "output_type": "display_data"
    },
    {
     "data": {
      "application/vnd.jupyter.widget-view+json": {
       "model_id": "2daa14bd928345e789eb0a073ab648f6",
       "version_major": 2,
       "version_minor": 0
      },
      "text/plain": [
       "Innermost loop magnitude:   0%|          | 0/10 [00:00<?, ?it/s]"
      ]
     },
     "metadata": {},
     "output_type": "display_data"
    },
    {
     "data": {
      "application/vnd.jupyter.widget-view+json": {
       "model_id": "40962d60d83d431cb244564cb85694a4",
       "version_major": 2,
       "version_minor": 0
      },
      "text/plain": [
       "Innermost loop magnitude:   0%|          | 0/10 [00:00<?, ?it/s]"
      ]
     },
     "metadata": {},
     "output_type": "display_data"
    },
    {
     "data": {
      "application/vnd.jupyter.widget-view+json": {
       "model_id": "0a21722fe5314fca99e9df207a66341f",
       "version_major": 2,
       "version_minor": 0
      },
      "text/plain": [
       "Innermost loop magnitude:   0%|          | 0/10 [00:00<?, ?it/s]"
      ]
     },
     "metadata": {},
     "output_type": "display_data"
    },
    {
     "data": {
      "application/vnd.jupyter.widget-view+json": {
       "model_id": "06d1302ad3404043b4880c2f48cb5862",
       "version_major": 2,
       "version_minor": 0
      },
      "text/plain": [
       "Innermost loop magnitude:   0%|          | 0/10 [00:00<?, ?it/s]"
      ]
     },
     "metadata": {},
     "output_type": "display_data"
    },
    {
     "data": {
      "application/vnd.jupyter.widget-view+json": {
       "model_id": "146c1d24dcac4bd68f54403236e079ab",
       "version_major": 2,
       "version_minor": 0
      },
      "text/plain": [
       "Innermost loop magnitude:   0%|          | 0/10 [00:00<?, ?it/s]"
      ]
     },
     "metadata": {},
     "output_type": "display_data"
    },
    {
     "data": {
      "application/vnd.jupyter.widget-view+json": {
       "model_id": "39446ca8b9f14c1e8ad698043421c221",
       "version_major": 2,
       "version_minor": 0
      },
      "text/plain": [
       "Innermost loop magnitude:   0%|          | 0/10 [00:00<?, ?it/s]"
      ]
     },
     "metadata": {},
     "output_type": "display_data"
    },
    {
     "data": {
      "application/vnd.jupyter.widget-view+json": {
       "model_id": "170cfab6e14749f68e2dc08ca7467dcc",
       "version_major": 2,
       "version_minor": 0
      },
      "text/plain": [
       "Innermost loop magnitude:   0%|          | 0/10 [00:00<?, ?it/s]"
      ]
     },
     "metadata": {},
     "output_type": "display_data"
    },
    {
     "data": {
      "application/vnd.jupyter.widget-view+json": {
       "model_id": "f5e34e67c1394a5787ef288a6de5c963",
       "version_major": 2,
       "version_minor": 0
      },
      "text/plain": [
       "Innermost loop magnitude:   0%|          | 0/10 [00:00<?, ?it/s]"
      ]
     },
     "metadata": {},
     "output_type": "display_data"
    },
    {
     "data": {
      "application/vnd.jupyter.widget-view+json": {
       "model_id": "26ed83d5cb0a40e9b593aa531e3338d9",
       "version_major": 2,
       "version_minor": 0
      },
      "text/plain": [
       "Innermost loop magnitude:   0%|          | 0/10 [00:00<?, ?it/s]"
      ]
     },
     "metadata": {},
     "output_type": "display_data"
    },
    {
     "data": {
      "application/vnd.jupyter.widget-view+json": {
       "model_id": "12bc703b22cf41289aa1cd6e93af62f4",
       "version_major": 2,
       "version_minor": 0
      },
      "text/plain": [
       "Innermost loop magnitude:   0%|          | 0/10 [00:00<?, ?it/s]"
      ]
     },
     "metadata": {},
     "output_type": "display_data"
    },
    {
     "data": {
      "application/vnd.jupyter.widget-view+json": {
       "model_id": "7194b641a83545a2bd9eb3f025b0be75",
       "version_major": 2,
       "version_minor": 0
      },
      "text/plain": [
       "Outer loop x:   0%|          | 0/7 [00:00<?, ?it/s]"
      ]
     },
     "metadata": {},
     "output_type": "display_data"
    },
    {
     "data": {
      "application/vnd.jupyter.widget-view+json": {
       "model_id": "0b58c0d15c144c2e8ac218056fe64fbc",
       "version_major": 2,
       "version_minor": 0
      },
      "text/plain": [
       "Inner loop angle:   0%|          | 0/36 [00:00<?, ?it/s]"
      ]
     },
     "metadata": {},
     "output_type": "display_data"
    },
    {
     "data": {
      "application/vnd.jupyter.widget-view+json": {
       "model_id": "397fde8ac8404b30a5cf829030fa1da2",
       "version_major": 2,
       "version_minor": 0
      },
      "text/plain": [
       "Innermost loop magnitude:   0%|          | 0/10 [00:00<?, ?it/s]"
      ]
     },
     "metadata": {},
     "output_type": "display_data"
    },
    {
     "data": {
      "application/vnd.jupyter.widget-view+json": {
       "model_id": "22858f39e4004714b72f6d6ea9553216",
       "version_major": 2,
       "version_minor": 0
      },
      "text/plain": [
       "Innermost loop magnitude:   0%|          | 0/10 [00:00<?, ?it/s]"
      ]
     },
     "metadata": {},
     "output_type": "display_data"
    },
    {
     "data": {
      "application/vnd.jupyter.widget-view+json": {
       "model_id": "c2891390c29b4b0e9f6e345f741f8828",
       "version_major": 2,
       "version_minor": 0
      },
      "text/plain": [
       "Innermost loop magnitude:   0%|          | 0/10 [00:00<?, ?it/s]"
      ]
     },
     "metadata": {},
     "output_type": "display_data"
    },
    {
     "data": {
      "application/vnd.jupyter.widget-view+json": {
       "model_id": "ed1ea6e91ae9475abff1e962358c3c5f",
       "version_major": 2,
       "version_minor": 0
      },
      "text/plain": [
       "Innermost loop magnitude:   0%|          | 0/10 [00:00<?, ?it/s]"
      ]
     },
     "metadata": {},
     "output_type": "display_data"
    },
    {
     "data": {
      "application/vnd.jupyter.widget-view+json": {
       "model_id": "8501678765d743d48f2c723300342449",
       "version_major": 2,
       "version_minor": 0
      },
      "text/plain": [
       "Innermost loop magnitude:   0%|          | 0/10 [00:00<?, ?it/s]"
      ]
     },
     "metadata": {},
     "output_type": "display_data"
    },
    {
     "data": {
      "application/vnd.jupyter.widget-view+json": {
       "model_id": "f4df953a29904c23bc216c223bfc2d56",
       "version_major": 2,
       "version_minor": 0
      },
      "text/plain": [
       "Innermost loop magnitude:   0%|          | 0/10 [00:00<?, ?it/s]"
      ]
     },
     "metadata": {},
     "output_type": "display_data"
    },
    {
     "data": {
      "application/vnd.jupyter.widget-view+json": {
       "model_id": "893b2ccc164246fe9fde8ea8dc6a6038",
       "version_major": 2,
       "version_minor": 0
      },
      "text/plain": [
       "Innermost loop magnitude:   0%|          | 0/10 [00:00<?, ?it/s]"
      ]
     },
     "metadata": {},
     "output_type": "display_data"
    },
    {
     "data": {
      "application/vnd.jupyter.widget-view+json": {
       "model_id": "f6687ad746934a7bb6673fbebec1ec7c",
       "version_major": 2,
       "version_minor": 0
      },
      "text/plain": [
       "Innermost loop magnitude:   0%|          | 0/10 [00:00<?, ?it/s]"
      ]
     },
     "metadata": {},
     "output_type": "display_data"
    },
    {
     "data": {
      "application/vnd.jupyter.widget-view+json": {
       "model_id": "da82f4ceaf1e4a469b1c345ab836794a",
       "version_major": 2,
       "version_minor": 0
      },
      "text/plain": [
       "Innermost loop magnitude:   0%|          | 0/10 [00:00<?, ?it/s]"
      ]
     },
     "metadata": {},
     "output_type": "display_data"
    },
    {
     "data": {
      "application/vnd.jupyter.widget-view+json": {
       "model_id": "1df6738056dc4c2dba7af8fe3e85c2d8",
       "version_major": 2,
       "version_minor": 0
      },
      "text/plain": [
       "Innermost loop magnitude:   0%|          | 0/10 [00:00<?, ?it/s]"
      ]
     },
     "metadata": {},
     "output_type": "display_data"
    },
    {
     "data": {
      "application/vnd.jupyter.widget-view+json": {
       "model_id": "04c3f94610364ecd89ccdc7dfda39e55",
       "version_major": 2,
       "version_minor": 0
      },
      "text/plain": [
       "Innermost loop magnitude:   0%|          | 0/10 [00:00<?, ?it/s]"
      ]
     },
     "metadata": {},
     "output_type": "display_data"
    },
    {
     "data": {
      "application/vnd.jupyter.widget-view+json": {
       "model_id": "8b907e3a6bf94e8d8ef125cd9ad3380f",
       "version_major": 2,
       "version_minor": 0
      },
      "text/plain": [
       "Innermost loop magnitude:   0%|          | 0/10 [00:00<?, ?it/s]"
      ]
     },
     "metadata": {},
     "output_type": "display_data"
    },
    {
     "data": {
      "application/vnd.jupyter.widget-view+json": {
       "model_id": "072b699697e64e8187142b4fc95c881f",
       "version_major": 2,
       "version_minor": 0
      },
      "text/plain": [
       "Innermost loop magnitude:   0%|          | 0/10 [00:00<?, ?it/s]"
      ]
     },
     "metadata": {},
     "output_type": "display_data"
    },
    {
     "data": {
      "application/vnd.jupyter.widget-view+json": {
       "model_id": "62b8be30781f491bb07dcd527f613e5d",
       "version_major": 2,
       "version_minor": 0
      },
      "text/plain": [
       "Innermost loop magnitude:   0%|          | 0/10 [00:00<?, ?it/s]"
      ]
     },
     "metadata": {},
     "output_type": "display_data"
    },
    {
     "data": {
      "application/vnd.jupyter.widget-view+json": {
       "model_id": "5e334dfe817c496c97f8ad6fc0b07705",
       "version_major": 2,
       "version_minor": 0
      },
      "text/plain": [
       "Innermost loop magnitude:   0%|          | 0/10 [00:00<?, ?it/s]"
      ]
     },
     "metadata": {},
     "output_type": "display_data"
    },
    {
     "data": {
      "application/vnd.jupyter.widget-view+json": {
       "model_id": "79adaeb2a6fd409fbbdc0257f544f64a",
       "version_major": 2,
       "version_minor": 0
      },
      "text/plain": [
       "Innermost loop magnitude:   0%|          | 0/10 [00:00<?, ?it/s]"
      ]
     },
     "metadata": {},
     "output_type": "display_data"
    },
    {
     "data": {
      "application/vnd.jupyter.widget-view+json": {
       "model_id": "6a2b0cafea0040d982585979d7e776ff",
       "version_major": 2,
       "version_minor": 0
      },
      "text/plain": [
       "Innermost loop magnitude:   0%|          | 0/10 [00:00<?, ?it/s]"
      ]
     },
     "metadata": {},
     "output_type": "display_data"
    },
    {
     "data": {
      "application/vnd.jupyter.widget-view+json": {
       "model_id": "ce12b7aed9dc46a18ee88dee54136868",
       "version_major": 2,
       "version_minor": 0
      },
      "text/plain": [
       "Innermost loop magnitude:   0%|          | 0/10 [00:00<?, ?it/s]"
      ]
     },
     "metadata": {},
     "output_type": "display_data"
    },
    {
     "data": {
      "application/vnd.jupyter.widget-view+json": {
       "model_id": "6d99c8c3ced84e15a56c59f77fff921b",
       "version_major": 2,
       "version_minor": 0
      },
      "text/plain": [
       "Innermost loop magnitude:   0%|          | 0/10 [00:00<?, ?it/s]"
      ]
     },
     "metadata": {},
     "output_type": "display_data"
    },
    {
     "data": {
      "application/vnd.jupyter.widget-view+json": {
       "model_id": "0a4beddb00df42848a42122b49f6e62b",
       "version_major": 2,
       "version_minor": 0
      },
      "text/plain": [
       "Innermost loop magnitude:   0%|          | 0/10 [00:00<?, ?it/s]"
      ]
     },
     "metadata": {},
     "output_type": "display_data"
    },
    {
     "data": {
      "application/vnd.jupyter.widget-view+json": {
       "model_id": "dc847edee52a4c31af2d55a97804d59a",
       "version_major": 2,
       "version_minor": 0
      },
      "text/plain": [
       "Innermost loop magnitude:   0%|          | 0/10 [00:00<?, ?it/s]"
      ]
     },
     "metadata": {},
     "output_type": "display_data"
    },
    {
     "data": {
      "application/vnd.jupyter.widget-view+json": {
       "model_id": "31a38e1621d54942be813e13a5562827",
       "version_major": 2,
       "version_minor": 0
      },
      "text/plain": [
       "Innermost loop magnitude:   0%|          | 0/10 [00:00<?, ?it/s]"
      ]
     },
     "metadata": {},
     "output_type": "display_data"
    },
    {
     "data": {
      "application/vnd.jupyter.widget-view+json": {
       "model_id": "9088b8c79536425ea4d43b7335de0621",
       "version_major": 2,
       "version_minor": 0
      },
      "text/plain": [
       "Innermost loop magnitude:   0%|          | 0/10 [00:00<?, ?it/s]"
      ]
     },
     "metadata": {},
     "output_type": "display_data"
    },
    {
     "data": {
      "application/vnd.jupyter.widget-view+json": {
       "model_id": "598de47611c9433cbbee8b10c90abec1",
       "version_major": 2,
       "version_minor": 0
      },
      "text/plain": [
       "Innermost loop magnitude:   0%|          | 0/10 [00:00<?, ?it/s]"
      ]
     },
     "metadata": {},
     "output_type": "display_data"
    },
    {
     "data": {
      "application/vnd.jupyter.widget-view+json": {
       "model_id": "0e9e456fa19246a6a46b08e6a84c09ef",
       "version_major": 2,
       "version_minor": 0
      },
      "text/plain": [
       "Innermost loop magnitude:   0%|          | 0/10 [00:00<?, ?it/s]"
      ]
     },
     "metadata": {},
     "output_type": "display_data"
    },
    {
     "data": {
      "application/vnd.jupyter.widget-view+json": {
       "model_id": "314f2bd6ac844b94992ad7904364294c",
       "version_major": 2,
       "version_minor": 0
      },
      "text/plain": [
       "Innermost loop magnitude:   0%|          | 0/10 [00:00<?, ?it/s]"
      ]
     },
     "metadata": {},
     "output_type": "display_data"
    },
    {
     "data": {
      "application/vnd.jupyter.widget-view+json": {
       "model_id": "123ab0cd60cd414d90780f606a2e5b3d",
       "version_major": 2,
       "version_minor": 0
      },
      "text/plain": [
       "Innermost loop magnitude:   0%|          | 0/10 [00:00<?, ?it/s]"
      ]
     },
     "metadata": {},
     "output_type": "display_data"
    },
    {
     "data": {
      "application/vnd.jupyter.widget-view+json": {
       "model_id": "83f333d17b314257a8762908f2c50354",
       "version_major": 2,
       "version_minor": 0
      },
      "text/plain": [
       "Innermost loop magnitude:   0%|          | 0/10 [00:00<?, ?it/s]"
      ]
     },
     "metadata": {},
     "output_type": "display_data"
    },
    {
     "data": {
      "application/vnd.jupyter.widget-view+json": {
       "model_id": "f3fcc68157b14b58b41ad0d58bdbf3bb",
       "version_major": 2,
       "version_minor": 0
      },
      "text/plain": [
       "Innermost loop magnitude:   0%|          | 0/10 [00:00<?, ?it/s]"
      ]
     },
     "metadata": {},
     "output_type": "display_data"
    },
    {
     "data": {
      "application/vnd.jupyter.widget-view+json": {
       "model_id": "7d7763a14b1c43d18a985f36c24891cc",
       "version_major": 2,
       "version_minor": 0
      },
      "text/plain": [
       "Innermost loop magnitude:   0%|          | 0/10 [00:00<?, ?it/s]"
      ]
     },
     "metadata": {},
     "output_type": "display_data"
    },
    {
     "data": {
      "application/vnd.jupyter.widget-view+json": {
       "model_id": "d4e9bdd314dd4dc7b9d1880886625695",
       "version_major": 2,
       "version_minor": 0
      },
      "text/plain": [
       "Innermost loop magnitude:   0%|          | 0/10 [00:00<?, ?it/s]"
      ]
     },
     "metadata": {},
     "output_type": "display_data"
    },
    {
     "data": {
      "application/vnd.jupyter.widget-view+json": {
       "model_id": "08c800fbb01b4679a0e9589117882b44",
       "version_major": 2,
       "version_minor": 0
      },
      "text/plain": [
       "Innermost loop magnitude:   0%|          | 0/10 [00:00<?, ?it/s]"
      ]
     },
     "metadata": {},
     "output_type": "display_data"
    },
    {
     "data": {
      "application/vnd.jupyter.widget-view+json": {
       "model_id": "d7b5ec37b4f9417f9b15088acf5b9299",
       "version_major": 2,
       "version_minor": 0
      },
      "text/plain": [
       "Innermost loop magnitude:   0%|          | 0/10 [00:00<?, ?it/s]"
      ]
     },
     "metadata": {},
     "output_type": "display_data"
    },
    {
     "data": {
      "application/vnd.jupyter.widget-view+json": {
       "model_id": "64092fa6cf7f4443b1bd572380a1e29d",
       "version_major": 2,
       "version_minor": 0
      },
      "text/plain": [
       "Innermost loop magnitude:   0%|          | 0/10 [00:00<?, ?it/s]"
      ]
     },
     "metadata": {},
     "output_type": "display_data"
    },
    {
     "data": {
      "application/vnd.jupyter.widget-view+json": {
       "model_id": "bb55f8c70bc14b9abd09cd2c07ee5930",
       "version_major": 2,
       "version_minor": 0
      },
      "text/plain": [
       "Innermost loop magnitude:   0%|          | 0/10 [00:00<?, ?it/s]"
      ]
     },
     "metadata": {},
     "output_type": "display_data"
    },
    {
     "data": {
      "application/vnd.jupyter.widget-view+json": {
       "model_id": "3f938d4cbce142d8be28e76522229214",
       "version_major": 2,
       "version_minor": 0
      },
      "text/plain": [
       "Innermost loop magnitude:   0%|          | 0/10 [00:00<?, ?it/s]"
      ]
     },
     "metadata": {},
     "output_type": "display_data"
    },
    {
     "data": {
      "application/vnd.jupyter.widget-view+json": {
       "model_id": "6c5a71a9383f43eca9a5a079018290b5",
       "version_major": 2,
       "version_minor": 0
      },
      "text/plain": [
       "Inner loop angle:   0%|          | 0/36 [00:00<?, ?it/s]"
      ]
     },
     "metadata": {},
     "output_type": "display_data"
    },
    {
     "data": {
      "application/vnd.jupyter.widget-view+json": {
       "model_id": "e0b0fbc7c0334ac29a0a46c973282187",
       "version_major": 2,
       "version_minor": 0
      },
      "text/plain": [
       "Innermost loop magnitude:   0%|          | 0/10 [00:00<?, ?it/s]"
      ]
     },
     "metadata": {},
     "output_type": "display_data"
    },
    {
     "data": {
      "application/vnd.jupyter.widget-view+json": {
       "model_id": "8dd8e07ef22c4e1bac75a826637c3981",
       "version_major": 2,
       "version_minor": 0
      },
      "text/plain": [
       "Innermost loop magnitude:   0%|          | 0/10 [00:00<?, ?it/s]"
      ]
     },
     "metadata": {},
     "output_type": "display_data"
    },
    {
     "data": {
      "application/vnd.jupyter.widget-view+json": {
       "model_id": "8bf346b8c8604685a55c382331520ca2",
       "version_major": 2,
       "version_minor": 0
      },
      "text/plain": [
       "Innermost loop magnitude:   0%|          | 0/10 [00:00<?, ?it/s]"
      ]
     },
     "metadata": {},
     "output_type": "display_data"
    },
    {
     "data": {
      "application/vnd.jupyter.widget-view+json": {
       "model_id": "9040d9b5d24a43a2979e23dff52f807c",
       "version_major": 2,
       "version_minor": 0
      },
      "text/plain": [
       "Innermost loop magnitude:   0%|          | 0/10 [00:00<?, ?it/s]"
      ]
     },
     "metadata": {},
     "output_type": "display_data"
    },
    {
     "data": {
      "application/vnd.jupyter.widget-view+json": {
       "model_id": "7fda53a523534bd0b2c30420c3bad83f",
       "version_major": 2,
       "version_minor": 0
      },
      "text/plain": [
       "Innermost loop magnitude:   0%|          | 0/10 [00:00<?, ?it/s]"
      ]
     },
     "metadata": {},
     "output_type": "display_data"
    },
    {
     "data": {
      "application/vnd.jupyter.widget-view+json": {
       "model_id": "3fd6a5fdf54b4ffba9ed4c958a385072",
       "version_major": 2,
       "version_minor": 0
      },
      "text/plain": [
       "Innermost loop magnitude:   0%|          | 0/10 [00:00<?, ?it/s]"
      ]
     },
     "metadata": {},
     "output_type": "display_data"
    },
    {
     "data": {
      "application/vnd.jupyter.widget-view+json": {
       "model_id": "a6787c464909470bb16943046f7b183d",
       "version_major": 2,
       "version_minor": 0
      },
      "text/plain": [
       "Innermost loop magnitude:   0%|          | 0/10 [00:00<?, ?it/s]"
      ]
     },
     "metadata": {},
     "output_type": "display_data"
    },
    {
     "data": {
      "application/vnd.jupyter.widget-view+json": {
       "model_id": "1b1fa8d558234ba0a4f2fc9b1dbe28c9",
       "version_major": 2,
       "version_minor": 0
      },
      "text/plain": [
       "Innermost loop magnitude:   0%|          | 0/10 [00:00<?, ?it/s]"
      ]
     },
     "metadata": {},
     "output_type": "display_data"
    },
    {
     "data": {
      "application/vnd.jupyter.widget-view+json": {
       "model_id": "70fe4a9777ac45c191cd04b96c6ac5d1",
       "version_major": 2,
       "version_minor": 0
      },
      "text/plain": [
       "Innermost loop magnitude:   0%|          | 0/10 [00:00<?, ?it/s]"
      ]
     },
     "metadata": {},
     "output_type": "display_data"
    },
    {
     "data": {
      "application/vnd.jupyter.widget-view+json": {
       "model_id": "7efc0cc9874e44559bc1b2e9935fef73",
       "version_major": 2,
       "version_minor": 0
      },
      "text/plain": [
       "Innermost loop magnitude:   0%|          | 0/10 [00:00<?, ?it/s]"
      ]
     },
     "metadata": {},
     "output_type": "display_data"
    },
    {
     "data": {
      "application/vnd.jupyter.widget-view+json": {
       "model_id": "3600191a6e594967987c21dd8de4cb8b",
       "version_major": 2,
       "version_minor": 0
      },
      "text/plain": [
       "Innermost loop magnitude:   0%|          | 0/10 [00:00<?, ?it/s]"
      ]
     },
     "metadata": {},
     "output_type": "display_data"
    },
    {
     "data": {
      "application/vnd.jupyter.widget-view+json": {
       "model_id": "e60804f1aba543dc961eaa431d42a4fc",
       "version_major": 2,
       "version_minor": 0
      },
      "text/plain": [
       "Innermost loop magnitude:   0%|          | 0/10 [00:00<?, ?it/s]"
      ]
     },
     "metadata": {},
     "output_type": "display_data"
    },
    {
     "data": {
      "application/vnd.jupyter.widget-view+json": {
       "model_id": "a3c72acd82314a90a2579aab99e23513",
       "version_major": 2,
       "version_minor": 0
      },
      "text/plain": [
       "Innermost loop magnitude:   0%|          | 0/10 [00:00<?, ?it/s]"
      ]
     },
     "metadata": {},
     "output_type": "display_data"
    },
    {
     "data": {
      "application/vnd.jupyter.widget-view+json": {
       "model_id": "586a25fba1724fd4933d2efbc80ce3e0",
       "version_major": 2,
       "version_minor": 0
      },
      "text/plain": [
       "Innermost loop magnitude:   0%|          | 0/10 [00:00<?, ?it/s]"
      ]
     },
     "metadata": {},
     "output_type": "display_data"
    },
    {
     "data": {
      "application/vnd.jupyter.widget-view+json": {
       "model_id": "59d54e3cec214cf782be310e70a944dd",
       "version_major": 2,
       "version_minor": 0
      },
      "text/plain": [
       "Innermost loop magnitude:   0%|          | 0/10 [00:00<?, ?it/s]"
      ]
     },
     "metadata": {},
     "output_type": "display_data"
    },
    {
     "data": {
      "application/vnd.jupyter.widget-view+json": {
       "model_id": "cef909ce601042ec937f8808599b7d25",
       "version_major": 2,
       "version_minor": 0
      },
      "text/plain": [
       "Innermost loop magnitude:   0%|          | 0/10 [00:00<?, ?it/s]"
      ]
     },
     "metadata": {},
     "output_type": "display_data"
    },
    {
     "data": {
      "application/vnd.jupyter.widget-view+json": {
       "model_id": "28f68492f19a43edbcdb9fc6be58af37",
       "version_major": 2,
       "version_minor": 0
      },
      "text/plain": [
       "Innermost loop magnitude:   0%|          | 0/10 [00:00<?, ?it/s]"
      ]
     },
     "metadata": {},
     "output_type": "display_data"
    },
    {
     "data": {
      "application/vnd.jupyter.widget-view+json": {
       "model_id": "061fcd58ab054822affd820d14547c92",
       "version_major": 2,
       "version_minor": 0
      },
      "text/plain": [
       "Innermost loop magnitude:   0%|          | 0/10 [00:00<?, ?it/s]"
      ]
     },
     "metadata": {},
     "output_type": "display_data"
    },
    {
     "data": {
      "application/vnd.jupyter.widget-view+json": {
       "model_id": "16faaaeb5b0d4dfa89edda4565ab5aa1",
       "version_major": 2,
       "version_minor": 0
      },
      "text/plain": [
       "Innermost loop magnitude:   0%|          | 0/10 [00:00<?, ?it/s]"
      ]
     },
     "metadata": {},
     "output_type": "display_data"
    },
    {
     "data": {
      "application/vnd.jupyter.widget-view+json": {
       "model_id": "fd2e3e8f706741849fb8243b85a14a51",
       "version_major": 2,
       "version_minor": 0
      },
      "text/plain": [
       "Innermost loop magnitude:   0%|          | 0/10 [00:00<?, ?it/s]"
      ]
     },
     "metadata": {},
     "output_type": "display_data"
    },
    {
     "data": {
      "application/vnd.jupyter.widget-view+json": {
       "model_id": "8936bbe13e944891a07b32e6ee3505fd",
       "version_major": 2,
       "version_minor": 0
      },
      "text/plain": [
       "Innermost loop magnitude:   0%|          | 0/10 [00:00<?, ?it/s]"
      ]
     },
     "metadata": {},
     "output_type": "display_data"
    },
    {
     "data": {
      "application/vnd.jupyter.widget-view+json": {
       "model_id": "a46a571cf4734451a184570a74eca7e4",
       "version_major": 2,
       "version_minor": 0
      },
      "text/plain": [
       "Innermost loop magnitude:   0%|          | 0/10 [00:00<?, ?it/s]"
      ]
     },
     "metadata": {},
     "output_type": "display_data"
    },
    {
     "data": {
      "application/vnd.jupyter.widget-view+json": {
       "model_id": "5439ccb7b40b489db4f4f82fc87912c7",
       "version_major": 2,
       "version_minor": 0
      },
      "text/plain": [
       "Innermost loop magnitude:   0%|          | 0/10 [00:00<?, ?it/s]"
      ]
     },
     "metadata": {},
     "output_type": "display_data"
    },
    {
     "data": {
      "application/vnd.jupyter.widget-view+json": {
       "model_id": "a52bf8332e5040bf8dc339dfa0f7b5a9",
       "version_major": 2,
       "version_minor": 0
      },
      "text/plain": [
       "Innermost loop magnitude:   0%|          | 0/10 [00:00<?, ?it/s]"
      ]
     },
     "metadata": {},
     "output_type": "display_data"
    },
    {
     "data": {
      "application/vnd.jupyter.widget-view+json": {
       "model_id": "bef019a1f910478aab5f57b9d2a2e059",
       "version_major": 2,
       "version_minor": 0
      },
      "text/plain": [
       "Innermost loop magnitude:   0%|          | 0/10 [00:00<?, ?it/s]"
      ]
     },
     "metadata": {},
     "output_type": "display_data"
    },
    {
     "data": {
      "application/vnd.jupyter.widget-view+json": {
       "model_id": "f309b27431404aaab7cce893bafb1f5b",
       "version_major": 2,
       "version_minor": 0
      },
      "text/plain": [
       "Innermost loop magnitude:   0%|          | 0/10 [00:00<?, ?it/s]"
      ]
     },
     "metadata": {},
     "output_type": "display_data"
    },
    {
     "data": {
      "application/vnd.jupyter.widget-view+json": {
       "model_id": "3fba63adc0324a6ba1f2e211c6a34343",
       "version_major": 2,
       "version_minor": 0
      },
      "text/plain": [
       "Innermost loop magnitude:   0%|          | 0/10 [00:00<?, ?it/s]"
      ]
     },
     "metadata": {},
     "output_type": "display_data"
    },
    {
     "data": {
      "application/vnd.jupyter.widget-view+json": {
       "model_id": "3fddfb0bd9e14bb787375551cccc09d4",
       "version_major": 2,
       "version_minor": 0
      },
      "text/plain": [
       "Innermost loop magnitude:   0%|          | 0/10 [00:00<?, ?it/s]"
      ]
     },
     "metadata": {},
     "output_type": "display_data"
    },
    {
     "data": {
      "application/vnd.jupyter.widget-view+json": {
       "model_id": "00555ce334ab420d89d126169f7352f3",
       "version_major": 2,
       "version_minor": 0
      },
      "text/plain": [
       "Innermost loop magnitude:   0%|          | 0/10 [00:00<?, ?it/s]"
      ]
     },
     "metadata": {},
     "output_type": "display_data"
    },
    {
     "data": {
      "application/vnd.jupyter.widget-view+json": {
       "model_id": "b0785d038d3e4cb58700d1e28417ac4a",
       "version_major": 2,
       "version_minor": 0
      },
      "text/plain": [
       "Innermost loop magnitude:   0%|          | 0/10 [00:00<?, ?it/s]"
      ]
     },
     "metadata": {},
     "output_type": "display_data"
    },
    {
     "data": {
      "application/vnd.jupyter.widget-view+json": {
       "model_id": "b836682d584743db99b861aee95c514c",
       "version_major": 2,
       "version_minor": 0
      },
      "text/plain": [
       "Innermost loop magnitude:   0%|          | 0/10 [00:00<?, ?it/s]"
      ]
     },
     "metadata": {},
     "output_type": "display_data"
    },
    {
     "data": {
      "application/vnd.jupyter.widget-view+json": {
       "model_id": "c37b6486b6584a01912e63d878fcb097",
       "version_major": 2,
       "version_minor": 0
      },
      "text/plain": [
       "Innermost loop magnitude:   0%|          | 0/10 [00:00<?, ?it/s]"
      ]
     },
     "metadata": {},
     "output_type": "display_data"
    },
    {
     "data": {
      "application/vnd.jupyter.widget-view+json": {
       "model_id": "5c716a4a09f24166a26013cd759116ea",
       "version_major": 2,
       "version_minor": 0
      },
      "text/plain": [
       "Innermost loop magnitude:   0%|          | 0/10 [00:00<?, ?it/s]"
      ]
     },
     "metadata": {},
     "output_type": "display_data"
    },
    {
     "data": {
      "application/vnd.jupyter.widget-view+json": {
       "model_id": "a0d583bdff6f4e1d9a2a041b8de6f5c3",
       "version_major": 2,
       "version_minor": 0
      },
      "text/plain": [
       "Innermost loop magnitude:   0%|          | 0/10 [00:00<?, ?it/s]"
      ]
     },
     "metadata": {},
     "output_type": "display_data"
    },
    {
     "data": {
      "application/vnd.jupyter.widget-view+json": {
       "model_id": "3bf930ae6c7745ae962c11acb42c8952",
       "version_major": 2,
       "version_minor": 0
      },
      "text/plain": [
       "Innermost loop magnitude:   0%|          | 0/10 [00:00<?, ?it/s]"
      ]
     },
     "metadata": {},
     "output_type": "display_data"
    },
    {
     "data": {
      "application/vnd.jupyter.widget-view+json": {
       "model_id": "dc81b5a8169b49728f966d6c7aeb90b7",
       "version_major": 2,
       "version_minor": 0
      },
      "text/plain": [
       "Innermost loop magnitude:   0%|          | 0/10 [00:00<?, ?it/s]"
      ]
     },
     "metadata": {},
     "output_type": "display_data"
    },
    {
     "data": {
      "application/vnd.jupyter.widget-view+json": {
       "model_id": "ea4953e80f254c4380cb83f4ef55db21",
       "version_major": 2,
       "version_minor": 0
      },
      "text/plain": [
       "Inner loop angle:   0%|          | 0/36 [00:00<?, ?it/s]"
      ]
     },
     "metadata": {},
     "output_type": "display_data"
    },
    {
     "data": {
      "application/vnd.jupyter.widget-view+json": {
       "model_id": "d381b67fed3b45338cb2397b8746504b",
       "version_major": 2,
       "version_minor": 0
      },
      "text/plain": [
       "Innermost loop magnitude:   0%|          | 0/10 [00:00<?, ?it/s]"
      ]
     },
     "metadata": {},
     "output_type": "display_data"
    },
    {
     "data": {
      "application/vnd.jupyter.widget-view+json": {
       "model_id": "3cdf1a5c77de4380abc0f2f990b916fa",
       "version_major": 2,
       "version_minor": 0
      },
      "text/plain": [
       "Innermost loop magnitude:   0%|          | 0/10 [00:00<?, ?it/s]"
      ]
     },
     "metadata": {},
     "output_type": "display_data"
    },
    {
     "data": {
      "application/vnd.jupyter.widget-view+json": {
       "model_id": "fcb19ea08d8c45b4b4df462c7c4a8628",
       "version_major": 2,
       "version_minor": 0
      },
      "text/plain": [
       "Innermost loop magnitude:   0%|          | 0/10 [00:00<?, ?it/s]"
      ]
     },
     "metadata": {},
     "output_type": "display_data"
    },
    {
     "data": {
      "application/vnd.jupyter.widget-view+json": {
       "model_id": "05006f8ad0d3484b897fe0a167bcd9b0",
       "version_major": 2,
       "version_minor": 0
      },
      "text/plain": [
       "Innermost loop magnitude:   0%|          | 0/10 [00:00<?, ?it/s]"
      ]
     },
     "metadata": {},
     "output_type": "display_data"
    },
    {
     "data": {
      "application/vnd.jupyter.widget-view+json": {
       "model_id": "0a1858a43e0941c9ac0362bb049374d7",
       "version_major": 2,
       "version_minor": 0
      },
      "text/plain": [
       "Innermost loop magnitude:   0%|          | 0/10 [00:00<?, ?it/s]"
      ]
     },
     "metadata": {},
     "output_type": "display_data"
    },
    {
     "data": {
      "application/vnd.jupyter.widget-view+json": {
       "model_id": "c6e03eee1c03405da695d37eb8c714d6",
       "version_major": 2,
       "version_minor": 0
      },
      "text/plain": [
       "Innermost loop magnitude:   0%|          | 0/10 [00:00<?, ?it/s]"
      ]
     },
     "metadata": {},
     "output_type": "display_data"
    },
    {
     "data": {
      "application/vnd.jupyter.widget-view+json": {
       "model_id": "892bde2550bb44e1a4766a11c97e94e4",
       "version_major": 2,
       "version_minor": 0
      },
      "text/plain": [
       "Innermost loop magnitude:   0%|          | 0/10 [00:00<?, ?it/s]"
      ]
     },
     "metadata": {},
     "output_type": "display_data"
    },
    {
     "data": {
      "application/vnd.jupyter.widget-view+json": {
       "model_id": "d27d68c0089244d0a55d2c51e402ec0e",
       "version_major": 2,
       "version_minor": 0
      },
      "text/plain": [
       "Innermost loop magnitude:   0%|          | 0/10 [00:00<?, ?it/s]"
      ]
     },
     "metadata": {},
     "output_type": "display_data"
    },
    {
     "data": {
      "application/vnd.jupyter.widget-view+json": {
       "model_id": "f94dde64eff14e47979dc01ca58edacb",
       "version_major": 2,
       "version_minor": 0
      },
      "text/plain": [
       "Innermost loop magnitude:   0%|          | 0/10 [00:00<?, ?it/s]"
      ]
     },
     "metadata": {},
     "output_type": "display_data"
    },
    {
     "data": {
      "application/vnd.jupyter.widget-view+json": {
       "model_id": "23768f26ca01462cacc1cd2b623f8b73",
       "version_major": 2,
       "version_minor": 0
      },
      "text/plain": [
       "Innermost loop magnitude:   0%|          | 0/10 [00:00<?, ?it/s]"
      ]
     },
     "metadata": {},
     "output_type": "display_data"
    },
    {
     "data": {
      "application/vnd.jupyter.widget-view+json": {
       "model_id": "b6488308848c44ab922d13ab1c7476ea",
       "version_major": 2,
       "version_minor": 0
      },
      "text/plain": [
       "Innermost loop magnitude:   0%|          | 0/10 [00:00<?, ?it/s]"
      ]
     },
     "metadata": {},
     "output_type": "display_data"
    },
    {
     "data": {
      "application/vnd.jupyter.widget-view+json": {
       "model_id": "ecb6141c88ec42ed8d25d31c6f3313de",
       "version_major": 2,
       "version_minor": 0
      },
      "text/plain": [
       "Innermost loop magnitude:   0%|          | 0/10 [00:00<?, ?it/s]"
      ]
     },
     "metadata": {},
     "output_type": "display_data"
    },
    {
     "data": {
      "application/vnd.jupyter.widget-view+json": {
       "model_id": "9d0269b2dde64415994c7cf2c0d7f5e4",
       "version_major": 2,
       "version_minor": 0
      },
      "text/plain": [
       "Innermost loop magnitude:   0%|          | 0/10 [00:00<?, ?it/s]"
      ]
     },
     "metadata": {},
     "output_type": "display_data"
    },
    {
     "data": {
      "application/vnd.jupyter.widget-view+json": {
       "model_id": "4062861dabfd46a2a34271d9d63fb9c5",
       "version_major": 2,
       "version_minor": 0
      },
      "text/plain": [
       "Innermost loop magnitude:   0%|          | 0/10 [00:00<?, ?it/s]"
      ]
     },
     "metadata": {},
     "output_type": "display_data"
    },
    {
     "data": {
      "application/vnd.jupyter.widget-view+json": {
       "model_id": "174cad9ff7874c0c8e1014a8860cf6eb",
       "version_major": 2,
       "version_minor": 0
      },
      "text/plain": [
       "Innermost loop magnitude:   0%|          | 0/10 [00:00<?, ?it/s]"
      ]
     },
     "metadata": {},
     "output_type": "display_data"
    },
    {
     "data": {
      "application/vnd.jupyter.widget-view+json": {
       "model_id": "9ec4247889ae43099b268fceafb21785",
       "version_major": 2,
       "version_minor": 0
      },
      "text/plain": [
       "Innermost loop magnitude:   0%|          | 0/10 [00:00<?, ?it/s]"
      ]
     },
     "metadata": {},
     "output_type": "display_data"
    },
    {
     "data": {
      "application/vnd.jupyter.widget-view+json": {
       "model_id": "5e2b3c46ebb341f9988a4c08cb26e23c",
       "version_major": 2,
       "version_minor": 0
      },
      "text/plain": [
       "Innermost loop magnitude:   0%|          | 0/10 [00:00<?, ?it/s]"
      ]
     },
     "metadata": {},
     "output_type": "display_data"
    },
    {
     "data": {
      "application/vnd.jupyter.widget-view+json": {
       "model_id": "92b7c35c94d445adb832d6686ec78b66",
       "version_major": 2,
       "version_minor": 0
      },
      "text/plain": [
       "Innermost loop magnitude:   0%|          | 0/10 [00:00<?, ?it/s]"
      ]
     },
     "metadata": {},
     "output_type": "display_data"
    },
    {
     "data": {
      "application/vnd.jupyter.widget-view+json": {
       "model_id": "be72964020c1429e8f60dd2f7bc09519",
       "version_major": 2,
       "version_minor": 0
      },
      "text/plain": [
       "Innermost loop magnitude:   0%|          | 0/10 [00:00<?, ?it/s]"
      ]
     },
     "metadata": {},
     "output_type": "display_data"
    },
    {
     "data": {
      "application/vnd.jupyter.widget-view+json": {
       "model_id": "b10056d3cb844d0e814257c656d80c79",
       "version_major": 2,
       "version_minor": 0
      },
      "text/plain": [
       "Innermost loop magnitude:   0%|          | 0/10 [00:00<?, ?it/s]"
      ]
     },
     "metadata": {},
     "output_type": "display_data"
    },
    {
     "data": {
      "application/vnd.jupyter.widget-view+json": {
       "model_id": "1f11fd1eaba44f168495f6a0733a443c",
       "version_major": 2,
       "version_minor": 0
      },
      "text/plain": [
       "Innermost loop magnitude:   0%|          | 0/10 [00:00<?, ?it/s]"
      ]
     },
     "metadata": {},
     "output_type": "display_data"
    },
    {
     "data": {
      "application/vnd.jupyter.widget-view+json": {
       "model_id": "4666b4761e8040109e1dc9879a522712",
       "version_major": 2,
       "version_minor": 0
      },
      "text/plain": [
       "Innermost loop magnitude:   0%|          | 0/10 [00:00<?, ?it/s]"
      ]
     },
     "metadata": {},
     "output_type": "display_data"
    },
    {
     "data": {
      "application/vnd.jupyter.widget-view+json": {
       "model_id": "f9e85a95d871416bb7d2af28607e1728",
       "version_major": 2,
       "version_minor": 0
      },
      "text/plain": [
       "Innermost loop magnitude:   0%|          | 0/10 [00:00<?, ?it/s]"
      ]
     },
     "metadata": {},
     "output_type": "display_data"
    },
    {
     "data": {
      "application/vnd.jupyter.widget-view+json": {
       "model_id": "79e25f87979e4fc18c19c741ab88605f",
       "version_major": 2,
       "version_minor": 0
      },
      "text/plain": [
       "Innermost loop magnitude:   0%|          | 0/10 [00:00<?, ?it/s]"
      ]
     },
     "metadata": {},
     "output_type": "display_data"
    },
    {
     "data": {
      "application/vnd.jupyter.widget-view+json": {
       "model_id": "d8052c72b3ef4054afb2b2fa5f726ed7",
       "version_major": 2,
       "version_minor": 0
      },
      "text/plain": [
       "Innermost loop magnitude:   0%|          | 0/10 [00:00<?, ?it/s]"
      ]
     },
     "metadata": {},
     "output_type": "display_data"
    },
    {
     "data": {
      "application/vnd.jupyter.widget-view+json": {
       "model_id": "eb32a43fc55b4c57b9ac49f653fcb2af",
       "version_major": 2,
       "version_minor": 0
      },
      "text/plain": [
       "Innermost loop magnitude:   0%|          | 0/10 [00:00<?, ?it/s]"
      ]
     },
     "metadata": {},
     "output_type": "display_data"
    },
    {
     "data": {
      "application/vnd.jupyter.widget-view+json": {
       "model_id": "3ba0f4fa4e3741389a99e23753313959",
       "version_major": 2,
       "version_minor": 0
      },
      "text/plain": [
       "Innermost loop magnitude:   0%|          | 0/10 [00:00<?, ?it/s]"
      ]
     },
     "metadata": {},
     "output_type": "display_data"
    },
    {
     "data": {
      "application/vnd.jupyter.widget-view+json": {
       "model_id": "04c8394118764e81982476653db51ff3",
       "version_major": 2,
       "version_minor": 0
      },
      "text/plain": [
       "Innermost loop magnitude:   0%|          | 0/10 [00:00<?, ?it/s]"
      ]
     },
     "metadata": {},
     "output_type": "display_data"
    },
    {
     "data": {
      "application/vnd.jupyter.widget-view+json": {
       "model_id": "8c127a5e1fa545e8aee2263b9c20880d",
       "version_major": 2,
       "version_minor": 0
      },
      "text/plain": [
       "Innermost loop magnitude:   0%|          | 0/10 [00:00<?, ?it/s]"
      ]
     },
     "metadata": {},
     "output_type": "display_data"
    },
    {
     "data": {
      "application/vnd.jupyter.widget-view+json": {
       "model_id": "eafea8233f854f9e9bb72951a712e425",
       "version_major": 2,
       "version_minor": 0
      },
      "text/plain": [
       "Innermost loop magnitude:   0%|          | 0/10 [00:00<?, ?it/s]"
      ]
     },
     "metadata": {},
     "output_type": "display_data"
    },
    {
     "data": {
      "application/vnd.jupyter.widget-view+json": {
       "model_id": "28d9c493cb1e4e03bef1f98ae967167c",
       "version_major": 2,
       "version_minor": 0
      },
      "text/plain": [
       "Innermost loop magnitude:   0%|          | 0/10 [00:00<?, ?it/s]"
      ]
     },
     "metadata": {},
     "output_type": "display_data"
    },
    {
     "data": {
      "application/vnd.jupyter.widget-view+json": {
       "model_id": "f201f22f16c841ef964ac23f1a051346",
       "version_major": 2,
       "version_minor": 0
      },
      "text/plain": [
       "Innermost loop magnitude:   0%|          | 0/10 [00:00<?, ?it/s]"
      ]
     },
     "metadata": {},
     "output_type": "display_data"
    },
    {
     "data": {
      "application/vnd.jupyter.widget-view+json": {
       "model_id": "75bdd84c41fa4ab783a15b644efcadc7",
       "version_major": 2,
       "version_minor": 0
      },
      "text/plain": [
       "Innermost loop magnitude:   0%|          | 0/10 [00:00<?, ?it/s]"
      ]
     },
     "metadata": {},
     "output_type": "display_data"
    },
    {
     "data": {
      "application/vnd.jupyter.widget-view+json": {
       "model_id": "6b9143a0d09449d287de7eddb179a003",
       "version_major": 2,
       "version_minor": 0
      },
      "text/plain": [
       "Innermost loop magnitude:   0%|          | 0/10 [00:00<?, ?it/s]"
      ]
     },
     "metadata": {},
     "output_type": "display_data"
    },
    {
     "data": {
      "application/vnd.jupyter.widget-view+json": {
       "model_id": "b4b79f9131ff42c39b8e79d181a9799b",
       "version_major": 2,
       "version_minor": 0
      },
      "text/plain": [
       "Innermost loop magnitude:   0%|          | 0/10 [00:00<?, ?it/s]"
      ]
     },
     "metadata": {},
     "output_type": "display_data"
    },
    {
     "data": {
      "application/vnd.jupyter.widget-view+json": {
       "model_id": "c25d4417b5e34957bcb0170797de1132",
       "version_major": 2,
       "version_minor": 0
      },
      "text/plain": [
       "Innermost loop magnitude:   0%|          | 0/10 [00:00<?, ?it/s]"
      ]
     },
     "metadata": {},
     "output_type": "display_data"
    },
    {
     "data": {
      "application/vnd.jupyter.widget-view+json": {
       "model_id": "6c220b1cc64a43ef8d7e51ac38a83e05",
       "version_major": 2,
       "version_minor": 0
      },
      "text/plain": [
       "Inner loop angle:   0%|          | 0/36 [00:00<?, ?it/s]"
      ]
     },
     "metadata": {},
     "output_type": "display_data"
    },
    {
     "data": {
      "application/vnd.jupyter.widget-view+json": {
       "model_id": "a90e4b0433e14dffb895e4c67dacd20c",
       "version_major": 2,
       "version_minor": 0
      },
      "text/plain": [
       "Innermost loop magnitude:   0%|          | 0/10 [00:00<?, ?it/s]"
      ]
     },
     "metadata": {},
     "output_type": "display_data"
    },
    {
     "data": {
      "application/vnd.jupyter.widget-view+json": {
       "model_id": "94190625b77740dd918c3c6ba6170d8e",
       "version_major": 2,
       "version_minor": 0
      },
      "text/plain": [
       "Innermost loop magnitude:   0%|          | 0/10 [00:00<?, ?it/s]"
      ]
     },
     "metadata": {},
     "output_type": "display_data"
    },
    {
     "data": {
      "application/vnd.jupyter.widget-view+json": {
       "model_id": "5774a6be4433423894865f2c19605d8a",
       "version_major": 2,
       "version_minor": 0
      },
      "text/plain": [
       "Innermost loop magnitude:   0%|          | 0/10 [00:00<?, ?it/s]"
      ]
     },
     "metadata": {},
     "output_type": "display_data"
    },
    {
     "data": {
      "application/vnd.jupyter.widget-view+json": {
       "model_id": "9cf398c5fa1a4dcb8e1ea0d545596ef6",
       "version_major": 2,
       "version_minor": 0
      },
      "text/plain": [
       "Innermost loop magnitude:   0%|          | 0/10 [00:00<?, ?it/s]"
      ]
     },
     "metadata": {},
     "output_type": "display_data"
    },
    {
     "data": {
      "application/vnd.jupyter.widget-view+json": {
       "model_id": "b925ae28a6314e88b9cc38fa6f6f2249",
       "version_major": 2,
       "version_minor": 0
      },
      "text/plain": [
       "Innermost loop magnitude:   0%|          | 0/10 [00:00<?, ?it/s]"
      ]
     },
     "metadata": {},
     "output_type": "display_data"
    },
    {
     "data": {
      "application/vnd.jupyter.widget-view+json": {
       "model_id": "b29c45f1bc18479480cb4f10300c4b33",
       "version_major": 2,
       "version_minor": 0
      },
      "text/plain": [
       "Innermost loop magnitude:   0%|          | 0/10 [00:00<?, ?it/s]"
      ]
     },
     "metadata": {},
     "output_type": "display_data"
    },
    {
     "data": {
      "application/vnd.jupyter.widget-view+json": {
       "model_id": "55dc1599ce9b46cc813cd68966beed73",
       "version_major": 2,
       "version_minor": 0
      },
      "text/plain": [
       "Innermost loop magnitude:   0%|          | 0/10 [00:00<?, ?it/s]"
      ]
     },
     "metadata": {},
     "output_type": "display_data"
    },
    {
     "data": {
      "application/vnd.jupyter.widget-view+json": {
       "model_id": "c3af8ee7b2104482a836bfba31b112a9",
       "version_major": 2,
       "version_minor": 0
      },
      "text/plain": [
       "Innermost loop magnitude:   0%|          | 0/10 [00:00<?, ?it/s]"
      ]
     },
     "metadata": {},
     "output_type": "display_data"
    },
    {
     "data": {
      "application/vnd.jupyter.widget-view+json": {
       "model_id": "be828581d02f442db99bfc3455aa19c0",
       "version_major": 2,
       "version_minor": 0
      },
      "text/plain": [
       "Innermost loop magnitude:   0%|          | 0/10 [00:00<?, ?it/s]"
      ]
     },
     "metadata": {},
     "output_type": "display_data"
    },
    {
     "data": {
      "application/vnd.jupyter.widget-view+json": {
       "model_id": "9109c4b6f3eb4f0bbc665c48b5f7186c",
       "version_major": 2,
       "version_minor": 0
      },
      "text/plain": [
       "Innermost loop magnitude:   0%|          | 0/10 [00:00<?, ?it/s]"
      ]
     },
     "metadata": {},
     "output_type": "display_data"
    },
    {
     "data": {
      "application/vnd.jupyter.widget-view+json": {
       "model_id": "048792026f874dc9ba337e70f63a7584",
       "version_major": 2,
       "version_minor": 0
      },
      "text/plain": [
       "Innermost loop magnitude:   0%|          | 0/10 [00:00<?, ?it/s]"
      ]
     },
     "metadata": {},
     "output_type": "display_data"
    },
    {
     "data": {
      "application/vnd.jupyter.widget-view+json": {
       "model_id": "1ccb07bd4142416d8563e2e6dea45603",
       "version_major": 2,
       "version_minor": 0
      },
      "text/plain": [
       "Innermost loop magnitude:   0%|          | 0/10 [00:00<?, ?it/s]"
      ]
     },
     "metadata": {},
     "output_type": "display_data"
    },
    {
     "data": {
      "application/vnd.jupyter.widget-view+json": {
       "model_id": "e99e9046840d495f816ec4910c58a6b8",
       "version_major": 2,
       "version_minor": 0
      },
      "text/plain": [
       "Innermost loop magnitude:   0%|          | 0/10 [00:00<?, ?it/s]"
      ]
     },
     "metadata": {},
     "output_type": "display_data"
    },
    {
     "data": {
      "application/vnd.jupyter.widget-view+json": {
       "model_id": "c3aefe11f86947cdad6edd8b8fa44d60",
       "version_major": 2,
       "version_minor": 0
      },
      "text/plain": [
       "Innermost loop magnitude:   0%|          | 0/10 [00:00<?, ?it/s]"
      ]
     },
     "metadata": {},
     "output_type": "display_data"
    },
    {
     "data": {
      "application/vnd.jupyter.widget-view+json": {
       "model_id": "16fe091eb36d4aa8b7fc88a408402b77",
       "version_major": 2,
       "version_minor": 0
      },
      "text/plain": [
       "Innermost loop magnitude:   0%|          | 0/10 [00:00<?, ?it/s]"
      ]
     },
     "metadata": {},
     "output_type": "display_data"
    },
    {
     "data": {
      "application/vnd.jupyter.widget-view+json": {
       "model_id": "ae86988eafca49518918081a68562f2a",
       "version_major": 2,
       "version_minor": 0
      },
      "text/plain": [
       "Innermost loop magnitude:   0%|          | 0/10 [00:00<?, ?it/s]"
      ]
     },
     "metadata": {},
     "output_type": "display_data"
    },
    {
     "data": {
      "application/vnd.jupyter.widget-view+json": {
       "model_id": "90a440b7f8114f4fa809f73aa099bf17",
       "version_major": 2,
       "version_minor": 0
      },
      "text/plain": [
       "Innermost loop magnitude:   0%|          | 0/10 [00:00<?, ?it/s]"
      ]
     },
     "metadata": {},
     "output_type": "display_data"
    },
    {
     "data": {
      "application/vnd.jupyter.widget-view+json": {
       "model_id": "4f84f44db2344f90a6d9e4ae1aa21934",
       "version_major": 2,
       "version_minor": 0
      },
      "text/plain": [
       "Innermost loop magnitude:   0%|          | 0/10 [00:00<?, ?it/s]"
      ]
     },
     "metadata": {},
     "output_type": "display_data"
    },
    {
     "data": {
      "application/vnd.jupyter.widget-view+json": {
       "model_id": "fe6e74b728984da4af9ce262b9d91aea",
       "version_major": 2,
       "version_minor": 0
      },
      "text/plain": [
       "Innermost loop magnitude:   0%|          | 0/10 [00:00<?, ?it/s]"
      ]
     },
     "metadata": {},
     "output_type": "display_data"
    },
    {
     "data": {
      "application/vnd.jupyter.widget-view+json": {
       "model_id": "3a52397793734c50a9adcc9ba95915a1",
       "version_major": 2,
       "version_minor": 0
      },
      "text/plain": [
       "Innermost loop magnitude:   0%|          | 0/10 [00:00<?, ?it/s]"
      ]
     },
     "metadata": {},
     "output_type": "display_data"
    },
    {
     "data": {
      "application/vnd.jupyter.widget-view+json": {
       "model_id": "abfb7f621a0f43afb79a12bfca24e774",
       "version_major": 2,
       "version_minor": 0
      },
      "text/plain": [
       "Innermost loop magnitude:   0%|          | 0/10 [00:00<?, ?it/s]"
      ]
     },
     "metadata": {},
     "output_type": "display_data"
    },
    {
     "data": {
      "application/vnd.jupyter.widget-view+json": {
       "model_id": "f1a6013ea12d4965aa03e7ccdfa448f3",
       "version_major": 2,
       "version_minor": 0
      },
      "text/plain": [
       "Innermost loop magnitude:   0%|          | 0/10 [00:00<?, ?it/s]"
      ]
     },
     "metadata": {},
     "output_type": "display_data"
    },
    {
     "data": {
      "application/vnd.jupyter.widget-view+json": {
       "model_id": "c7973c910759425cb2691bdf98e7cf1e",
       "version_major": 2,
       "version_minor": 0
      },
      "text/plain": [
       "Innermost loop magnitude:   0%|          | 0/10 [00:00<?, ?it/s]"
      ]
     },
     "metadata": {},
     "output_type": "display_data"
    },
    {
     "data": {
      "application/vnd.jupyter.widget-view+json": {
       "model_id": "cb7bb2b3f5194e41bf2990246a635d96",
       "version_major": 2,
       "version_minor": 0
      },
      "text/plain": [
       "Innermost loop magnitude:   0%|          | 0/10 [00:00<?, ?it/s]"
      ]
     },
     "metadata": {},
     "output_type": "display_data"
    },
    {
     "data": {
      "application/vnd.jupyter.widget-view+json": {
       "model_id": "4f330a2a0f724287a5dd6a9323564f8a",
       "version_major": 2,
       "version_minor": 0
      },
      "text/plain": [
       "Innermost loop magnitude:   0%|          | 0/10 [00:00<?, ?it/s]"
      ]
     },
     "metadata": {},
     "output_type": "display_data"
    },
    {
     "data": {
      "application/vnd.jupyter.widget-view+json": {
       "model_id": "ebd75527808a4884980a9c8194cb40af",
       "version_major": 2,
       "version_minor": 0
      },
      "text/plain": [
       "Innermost loop magnitude:   0%|          | 0/10 [00:00<?, ?it/s]"
      ]
     },
     "metadata": {},
     "output_type": "display_data"
    },
    {
     "data": {
      "application/vnd.jupyter.widget-view+json": {
       "model_id": "0e2627baddd042eb87274286397a9bc8",
       "version_major": 2,
       "version_minor": 0
      },
      "text/plain": [
       "Innermost loop magnitude:   0%|          | 0/10 [00:00<?, ?it/s]"
      ]
     },
     "metadata": {},
     "output_type": "display_data"
    },
    {
     "data": {
      "application/vnd.jupyter.widget-view+json": {
       "model_id": "7615a42aaec14b3395631e77ad26dfd5",
       "version_major": 2,
       "version_minor": 0
      },
      "text/plain": [
       "Innermost loop magnitude:   0%|          | 0/10 [00:00<?, ?it/s]"
      ]
     },
     "metadata": {},
     "output_type": "display_data"
    },
    {
     "data": {
      "application/vnd.jupyter.widget-view+json": {
       "model_id": "d18169e75e4b4b67bcbbbeba6d920dd2",
       "version_major": 2,
       "version_minor": 0
      },
      "text/plain": [
       "Innermost loop magnitude:   0%|          | 0/10 [00:00<?, ?it/s]"
      ]
     },
     "metadata": {},
     "output_type": "display_data"
    },
    {
     "data": {
      "application/vnd.jupyter.widget-view+json": {
       "model_id": "e8f834c1360e48688cc6c0f51c828d8b",
       "version_major": 2,
       "version_minor": 0
      },
      "text/plain": [
       "Innermost loop magnitude:   0%|          | 0/10 [00:00<?, ?it/s]"
      ]
     },
     "metadata": {},
     "output_type": "display_data"
    },
    {
     "data": {
      "application/vnd.jupyter.widget-view+json": {
       "model_id": "e92c37d7112649a6a43fdfbb5c06ab04",
       "version_major": 2,
       "version_minor": 0
      },
      "text/plain": [
       "Innermost loop magnitude:   0%|          | 0/10 [00:00<?, ?it/s]"
      ]
     },
     "metadata": {},
     "output_type": "display_data"
    },
    {
     "data": {
      "application/vnd.jupyter.widget-view+json": {
       "model_id": "e08cf62c1f6a459ca72e397b995264e5",
       "version_major": 2,
       "version_minor": 0
      },
      "text/plain": [
       "Innermost loop magnitude:   0%|          | 0/10 [00:00<?, ?it/s]"
      ]
     },
     "metadata": {},
     "output_type": "display_data"
    },
    {
     "data": {
      "application/vnd.jupyter.widget-view+json": {
       "model_id": "3179bc25ac594a8cbbb77679f3a0964f",
       "version_major": 2,
       "version_minor": 0
      },
      "text/plain": [
       "Innermost loop magnitude:   0%|          | 0/10 [00:00<?, ?it/s]"
      ]
     },
     "metadata": {},
     "output_type": "display_data"
    },
    {
     "data": {
      "application/vnd.jupyter.widget-view+json": {
       "model_id": "5e57774c23264c9d9eeb821290ac6e4c",
       "version_major": 2,
       "version_minor": 0
      },
      "text/plain": [
       "Innermost loop magnitude:   0%|          | 0/10 [00:00<?, ?it/s]"
      ]
     },
     "metadata": {},
     "output_type": "display_data"
    },
    {
     "data": {
      "application/vnd.jupyter.widget-view+json": {
       "model_id": "4fc251c8f9194547bdaa779c57ff043a",
       "version_major": 2,
       "version_minor": 0
      },
      "text/plain": [
       "Innermost loop magnitude:   0%|          | 0/10 [00:00<?, ?it/s]"
      ]
     },
     "metadata": {},
     "output_type": "display_data"
    },
    {
     "data": {
      "application/vnd.jupyter.widget-view+json": {
       "model_id": "c0a53b234c294f34a48c952512854d25",
       "version_major": 2,
       "version_minor": 0
      },
      "text/plain": [
       "Innermost loop magnitude:   0%|          | 0/10 [00:00<?, ?it/s]"
      ]
     },
     "metadata": {},
     "output_type": "display_data"
    },
    {
     "data": {
      "application/vnd.jupyter.widget-view+json": {
       "model_id": "8fe4c928df604aa8b67ef6c6d767c5ac",
       "version_major": 2,
       "version_minor": 0
      },
      "text/plain": [
       "Inner loop angle:   0%|          | 0/36 [00:00<?, ?it/s]"
      ]
     },
     "metadata": {},
     "output_type": "display_data"
    },
    {
     "data": {
      "application/vnd.jupyter.widget-view+json": {
       "model_id": "3d80804088384fbab38808c4340ea9bb",
       "version_major": 2,
       "version_minor": 0
      },
      "text/plain": [
       "Innermost loop magnitude:   0%|          | 0/10 [00:00<?, ?it/s]"
      ]
     },
     "metadata": {},
     "output_type": "display_data"
    },
    {
     "data": {
      "application/vnd.jupyter.widget-view+json": {
       "model_id": "eaba12c1908249b6ae5271941d7e837f",
       "version_major": 2,
       "version_minor": 0
      },
      "text/plain": [
       "Innermost loop magnitude:   0%|          | 0/10 [00:00<?, ?it/s]"
      ]
     },
     "metadata": {},
     "output_type": "display_data"
    },
    {
     "data": {
      "application/vnd.jupyter.widget-view+json": {
       "model_id": "4c78eb98408e4fc9988d578d0e86f817",
       "version_major": 2,
       "version_minor": 0
      },
      "text/plain": [
       "Innermost loop magnitude:   0%|          | 0/10 [00:00<?, ?it/s]"
      ]
     },
     "metadata": {},
     "output_type": "display_data"
    },
    {
     "data": {
      "application/vnd.jupyter.widget-view+json": {
       "model_id": "e398ec9325af47f5b5ec1e0a2fa9353b",
       "version_major": 2,
       "version_minor": 0
      },
      "text/plain": [
       "Innermost loop magnitude:   0%|          | 0/10 [00:00<?, ?it/s]"
      ]
     },
     "metadata": {},
     "output_type": "display_data"
    },
    {
     "data": {
      "application/vnd.jupyter.widget-view+json": {
       "model_id": "a84f31c20e13466cad12e912d5b42354",
       "version_major": 2,
       "version_minor": 0
      },
      "text/plain": [
       "Innermost loop magnitude:   0%|          | 0/10 [00:00<?, ?it/s]"
      ]
     },
     "metadata": {},
     "output_type": "display_data"
    },
    {
     "data": {
      "application/vnd.jupyter.widget-view+json": {
       "model_id": "a950285e073e4f0c93ce953fbc24e5c6",
       "version_major": 2,
       "version_minor": 0
      },
      "text/plain": [
       "Innermost loop magnitude:   0%|          | 0/10 [00:00<?, ?it/s]"
      ]
     },
     "metadata": {},
     "output_type": "display_data"
    },
    {
     "data": {
      "application/vnd.jupyter.widget-view+json": {
       "model_id": "602d2e9ae91d4ce091e4201ad4bc3671",
       "version_major": 2,
       "version_minor": 0
      },
      "text/plain": [
       "Innermost loop magnitude:   0%|          | 0/10 [00:00<?, ?it/s]"
      ]
     },
     "metadata": {},
     "output_type": "display_data"
    },
    {
     "data": {
      "application/vnd.jupyter.widget-view+json": {
       "model_id": "efcffcc36678482291c246112d2c1253",
       "version_major": 2,
       "version_minor": 0
      },
      "text/plain": [
       "Innermost loop magnitude:   0%|          | 0/10 [00:00<?, ?it/s]"
      ]
     },
     "metadata": {},
     "output_type": "display_data"
    },
    {
     "data": {
      "application/vnd.jupyter.widget-view+json": {
       "model_id": "c13d65f98d4149d99b344bef774737f8",
       "version_major": 2,
       "version_minor": 0
      },
      "text/plain": [
       "Innermost loop magnitude:   0%|          | 0/10 [00:00<?, ?it/s]"
      ]
     },
     "metadata": {},
     "output_type": "display_data"
    },
    {
     "data": {
      "application/vnd.jupyter.widget-view+json": {
       "model_id": "bc9b1dd6665442f7b938b7bf9f7b6609",
       "version_major": 2,
       "version_minor": 0
      },
      "text/plain": [
       "Innermost loop magnitude:   0%|          | 0/10 [00:00<?, ?it/s]"
      ]
     },
     "metadata": {},
     "output_type": "display_data"
    },
    {
     "data": {
      "application/vnd.jupyter.widget-view+json": {
       "model_id": "e8446345c1ab44aaae0191c50f3ea572",
       "version_major": 2,
       "version_minor": 0
      },
      "text/plain": [
       "Innermost loop magnitude:   0%|          | 0/10 [00:00<?, ?it/s]"
      ]
     },
     "metadata": {},
     "output_type": "display_data"
    },
    {
     "data": {
      "application/vnd.jupyter.widget-view+json": {
       "model_id": "4aa968364b8e4347b789fff8757ef023",
       "version_major": 2,
       "version_minor": 0
      },
      "text/plain": [
       "Innermost loop magnitude:   0%|          | 0/10 [00:00<?, ?it/s]"
      ]
     },
     "metadata": {},
     "output_type": "display_data"
    },
    {
     "data": {
      "application/vnd.jupyter.widget-view+json": {
       "model_id": "8059b758668e4421ae93d7d8226c2d94",
       "version_major": 2,
       "version_minor": 0
      },
      "text/plain": [
       "Innermost loop magnitude:   0%|          | 0/10 [00:00<?, ?it/s]"
      ]
     },
     "metadata": {},
     "output_type": "display_data"
    },
    {
     "data": {
      "application/vnd.jupyter.widget-view+json": {
       "model_id": "4f41f06af51147f39c572415ed1564eb",
       "version_major": 2,
       "version_minor": 0
      },
      "text/plain": [
       "Innermost loop magnitude:   0%|          | 0/10 [00:00<?, ?it/s]"
      ]
     },
     "metadata": {},
     "output_type": "display_data"
    },
    {
     "data": {
      "application/vnd.jupyter.widget-view+json": {
       "model_id": "68e98c853f4a468fbeeb7f7558d20939",
       "version_major": 2,
       "version_minor": 0
      },
      "text/plain": [
       "Innermost loop magnitude:   0%|          | 0/10 [00:00<?, ?it/s]"
      ]
     },
     "metadata": {},
     "output_type": "display_data"
    },
    {
     "data": {
      "application/vnd.jupyter.widget-view+json": {
       "model_id": "cd692d4de18543d09e0e452d03c22dd9",
       "version_major": 2,
       "version_minor": 0
      },
      "text/plain": [
       "Innermost loop magnitude:   0%|          | 0/10 [00:00<?, ?it/s]"
      ]
     },
     "metadata": {},
     "output_type": "display_data"
    },
    {
     "data": {
      "application/vnd.jupyter.widget-view+json": {
       "model_id": "2dfbaa3f39884be6a6d8ee53bd8152e6",
       "version_major": 2,
       "version_minor": 0
      },
      "text/plain": [
       "Innermost loop magnitude:   0%|          | 0/10 [00:00<?, ?it/s]"
      ]
     },
     "metadata": {},
     "output_type": "display_data"
    },
    {
     "data": {
      "application/vnd.jupyter.widget-view+json": {
       "model_id": "85ab0dcf85e24ce7a47b37feabed1f1e",
       "version_major": 2,
       "version_minor": 0
      },
      "text/plain": [
       "Innermost loop magnitude:   0%|          | 0/10 [00:00<?, ?it/s]"
      ]
     },
     "metadata": {},
     "output_type": "display_data"
    },
    {
     "data": {
      "application/vnd.jupyter.widget-view+json": {
       "model_id": "e667b92ab90a40218f1e63deb6072709",
       "version_major": 2,
       "version_minor": 0
      },
      "text/plain": [
       "Innermost loop magnitude:   0%|          | 0/10 [00:00<?, ?it/s]"
      ]
     },
     "metadata": {},
     "output_type": "display_data"
    },
    {
     "data": {
      "application/vnd.jupyter.widget-view+json": {
       "model_id": "0939b3e187af49bba1ed7cf3ed62763e",
       "version_major": 2,
       "version_minor": 0
      },
      "text/plain": [
       "Innermost loop magnitude:   0%|          | 0/10 [00:00<?, ?it/s]"
      ]
     },
     "metadata": {},
     "output_type": "display_data"
    },
    {
     "data": {
      "application/vnd.jupyter.widget-view+json": {
       "model_id": "518b42075e314c94b762c7a0d4cde8f7",
       "version_major": 2,
       "version_minor": 0
      },
      "text/plain": [
       "Innermost loop magnitude:   0%|          | 0/10 [00:00<?, ?it/s]"
      ]
     },
     "metadata": {},
     "output_type": "display_data"
    },
    {
     "data": {
      "application/vnd.jupyter.widget-view+json": {
       "model_id": "1ddeb7bcc69747bea3993f26b21e1f24",
       "version_major": 2,
       "version_minor": 0
      },
      "text/plain": [
       "Innermost loop magnitude:   0%|          | 0/10 [00:00<?, ?it/s]"
      ]
     },
     "metadata": {},
     "output_type": "display_data"
    },
    {
     "data": {
      "application/vnd.jupyter.widget-view+json": {
       "model_id": "90dda1d578ce42e5a77bbdbe8229e422",
       "version_major": 2,
       "version_minor": 0
      },
      "text/plain": [
       "Innermost loop magnitude:   0%|          | 0/10 [00:00<?, ?it/s]"
      ]
     },
     "metadata": {},
     "output_type": "display_data"
    },
    {
     "data": {
      "application/vnd.jupyter.widget-view+json": {
       "model_id": "ee0b21caa53146d996028152e40b6a8b",
       "version_major": 2,
       "version_minor": 0
      },
      "text/plain": [
       "Innermost loop magnitude:   0%|          | 0/10 [00:00<?, ?it/s]"
      ]
     },
     "metadata": {},
     "output_type": "display_data"
    },
    {
     "data": {
      "application/vnd.jupyter.widget-view+json": {
       "model_id": "df238b4d35d54627be79775206d3042b",
       "version_major": 2,
       "version_minor": 0
      },
      "text/plain": [
       "Innermost loop magnitude:   0%|          | 0/10 [00:00<?, ?it/s]"
      ]
     },
     "metadata": {},
     "output_type": "display_data"
    },
    {
     "data": {
      "application/vnd.jupyter.widget-view+json": {
       "model_id": "bab74f09a9f345b2a0468410f1357369",
       "version_major": 2,
       "version_minor": 0
      },
      "text/plain": [
       "Innermost loop magnitude:   0%|          | 0/10 [00:00<?, ?it/s]"
      ]
     },
     "metadata": {},
     "output_type": "display_data"
    },
    {
     "data": {
      "application/vnd.jupyter.widget-view+json": {
       "model_id": "ca58f13bb6714ada998d82a8c808b254",
       "version_major": 2,
       "version_minor": 0
      },
      "text/plain": [
       "Innermost loop magnitude:   0%|          | 0/10 [00:00<?, ?it/s]"
      ]
     },
     "metadata": {},
     "output_type": "display_data"
    },
    {
     "data": {
      "application/vnd.jupyter.widget-view+json": {
       "model_id": "820b2855688341c1b51727a947cfe905",
       "version_major": 2,
       "version_minor": 0
      },
      "text/plain": [
       "Innermost loop magnitude:   0%|          | 0/10 [00:00<?, ?it/s]"
      ]
     },
     "metadata": {},
     "output_type": "display_data"
    },
    {
     "data": {
      "application/vnd.jupyter.widget-view+json": {
       "model_id": "24a08341290d4b349277c6ba6a0b92a1",
       "version_major": 2,
       "version_minor": 0
      },
      "text/plain": [
       "Innermost loop magnitude:   0%|          | 0/10 [00:00<?, ?it/s]"
      ]
     },
     "metadata": {},
     "output_type": "display_data"
    },
    {
     "data": {
      "application/vnd.jupyter.widget-view+json": {
       "model_id": "bd105e9caf144276bed7079c304e4f50",
       "version_major": 2,
       "version_minor": 0
      },
      "text/plain": [
       "Innermost loop magnitude:   0%|          | 0/10 [00:00<?, ?it/s]"
      ]
     },
     "metadata": {},
     "output_type": "display_data"
    },
    {
     "data": {
      "application/vnd.jupyter.widget-view+json": {
       "model_id": "1cbdb0d793894e21be4930e3b5a417b1",
       "version_major": 2,
       "version_minor": 0
      },
      "text/plain": [
       "Innermost loop magnitude:   0%|          | 0/10 [00:00<?, ?it/s]"
      ]
     },
     "metadata": {},
     "output_type": "display_data"
    },
    {
     "data": {
      "application/vnd.jupyter.widget-view+json": {
       "model_id": "7dde4efaa61247f28940a1516173d8e0",
       "version_major": 2,
       "version_minor": 0
      },
      "text/plain": [
       "Innermost loop magnitude:   0%|          | 0/10 [00:00<?, ?it/s]"
      ]
     },
     "metadata": {},
     "output_type": "display_data"
    },
    {
     "data": {
      "application/vnd.jupyter.widget-view+json": {
       "model_id": "9c890dd1f4a947e986d5313db0a933f0",
       "version_major": 2,
       "version_minor": 0
      },
      "text/plain": [
       "Innermost loop magnitude:   0%|          | 0/10 [00:00<?, ?it/s]"
      ]
     },
     "metadata": {},
     "output_type": "display_data"
    },
    {
     "data": {
      "application/vnd.jupyter.widget-view+json": {
       "model_id": "57600c55cd1b4554b45191e5dd106a3a",
       "version_major": 2,
       "version_minor": 0
      },
      "text/plain": [
       "Innermost loop magnitude:   0%|          | 0/10 [00:00<?, ?it/s]"
      ]
     },
     "metadata": {},
     "output_type": "display_data"
    },
    {
     "data": {
      "application/vnd.jupyter.widget-view+json": {
       "model_id": "17a6a84a86d14768a8bb542b5637219e",
       "version_major": 2,
       "version_minor": 0
      },
      "text/plain": [
       "Innermost loop magnitude:   0%|          | 0/10 [00:00<?, ?it/s]"
      ]
     },
     "metadata": {},
     "output_type": "display_data"
    },
    {
     "data": {
      "application/vnd.jupyter.widget-view+json": {
       "model_id": "e82cff004f534bec927d54fde5348a80",
       "version_major": 2,
       "version_minor": 0
      },
      "text/plain": [
       "Innermost loop magnitude:   0%|          | 0/10 [00:00<?, ?it/s]"
      ]
     },
     "metadata": {},
     "output_type": "display_data"
    },
    {
     "data": {
      "application/vnd.jupyter.widget-view+json": {
       "model_id": "774a8966c5884ccc81e2f7999e9f1d3f",
       "version_major": 2,
       "version_minor": 0
      },
      "text/plain": [
       "Inner loop angle:   0%|          | 0/36 [00:00<?, ?it/s]"
      ]
     },
     "metadata": {},
     "output_type": "display_data"
    },
    {
     "data": {
      "application/vnd.jupyter.widget-view+json": {
       "model_id": "955731651390401bb46964ac8ea25b51",
       "version_major": 2,
       "version_minor": 0
      },
      "text/plain": [
       "Innermost loop magnitude:   0%|          | 0/10 [00:00<?, ?it/s]"
      ]
     },
     "metadata": {},
     "output_type": "display_data"
    },
    {
     "data": {
      "application/vnd.jupyter.widget-view+json": {
       "model_id": "21d49de9e76f493baefb1d72ac54fc0f",
       "version_major": 2,
       "version_minor": 0
      },
      "text/plain": [
       "Innermost loop magnitude:   0%|          | 0/10 [00:00<?, ?it/s]"
      ]
     },
     "metadata": {},
     "output_type": "display_data"
    },
    {
     "data": {
      "application/vnd.jupyter.widget-view+json": {
       "model_id": "01d73d7645be435d920e4100e39e55eb",
       "version_major": 2,
       "version_minor": 0
      },
      "text/plain": [
       "Innermost loop magnitude:   0%|          | 0/10 [00:00<?, ?it/s]"
      ]
     },
     "metadata": {},
     "output_type": "display_data"
    },
    {
     "data": {
      "application/vnd.jupyter.widget-view+json": {
       "model_id": "9f36aecfa03440da9571a38dd1f79861",
       "version_major": 2,
       "version_minor": 0
      },
      "text/plain": [
       "Innermost loop magnitude:   0%|          | 0/10 [00:00<?, ?it/s]"
      ]
     },
     "metadata": {},
     "output_type": "display_data"
    },
    {
     "data": {
      "application/vnd.jupyter.widget-view+json": {
       "model_id": "66e103d588f24a1daa608b158e2344f4",
       "version_major": 2,
       "version_minor": 0
      },
      "text/plain": [
       "Innermost loop magnitude:   0%|          | 0/10 [00:00<?, ?it/s]"
      ]
     },
     "metadata": {},
     "output_type": "display_data"
    },
    {
     "data": {
      "application/vnd.jupyter.widget-view+json": {
       "model_id": "7f257ea7ba8549b78cd19e892d78b91b",
       "version_major": 2,
       "version_minor": 0
      },
      "text/plain": [
       "Innermost loop magnitude:   0%|          | 0/10 [00:00<?, ?it/s]"
      ]
     },
     "metadata": {},
     "output_type": "display_data"
    },
    {
     "data": {
      "application/vnd.jupyter.widget-view+json": {
       "model_id": "346004e72d984c6690fbab9cc7fb29db",
       "version_major": 2,
       "version_minor": 0
      },
      "text/plain": [
       "Innermost loop magnitude:   0%|          | 0/10 [00:00<?, ?it/s]"
      ]
     },
     "metadata": {},
     "output_type": "display_data"
    },
    {
     "data": {
      "application/vnd.jupyter.widget-view+json": {
       "model_id": "faa82a460ec644499565be0f558d3738",
       "version_major": 2,
       "version_minor": 0
      },
      "text/plain": [
       "Innermost loop magnitude:   0%|          | 0/10 [00:00<?, ?it/s]"
      ]
     },
     "metadata": {},
     "output_type": "display_data"
    },
    {
     "data": {
      "application/vnd.jupyter.widget-view+json": {
       "model_id": "4021a158609e4446b98f69b614a63b4d",
       "version_major": 2,
       "version_minor": 0
      },
      "text/plain": [
       "Innermost loop magnitude:   0%|          | 0/10 [00:00<?, ?it/s]"
      ]
     },
     "metadata": {},
     "output_type": "display_data"
    },
    {
     "data": {
      "application/vnd.jupyter.widget-view+json": {
       "model_id": "6347495c9b0a4fbfa7f41635b9730d10",
       "version_major": 2,
       "version_minor": 0
      },
      "text/plain": [
       "Innermost loop magnitude:   0%|          | 0/10 [00:00<?, ?it/s]"
      ]
     },
     "metadata": {},
     "output_type": "display_data"
    },
    {
     "data": {
      "application/vnd.jupyter.widget-view+json": {
       "model_id": "c041491279a7468da99a4513f6468814",
       "version_major": 2,
       "version_minor": 0
      },
      "text/plain": [
       "Innermost loop magnitude:   0%|          | 0/10 [00:00<?, ?it/s]"
      ]
     },
     "metadata": {},
     "output_type": "display_data"
    },
    {
     "data": {
      "application/vnd.jupyter.widget-view+json": {
       "model_id": "d358aab4d9e744bab6a32a44d82ec8a1",
       "version_major": 2,
       "version_minor": 0
      },
      "text/plain": [
       "Innermost loop magnitude:   0%|          | 0/10 [00:00<?, ?it/s]"
      ]
     },
     "metadata": {},
     "output_type": "display_data"
    },
    {
     "data": {
      "application/vnd.jupyter.widget-view+json": {
       "model_id": "f27acc3a38b04663968632a3057b7ce6",
       "version_major": 2,
       "version_minor": 0
      },
      "text/plain": [
       "Innermost loop magnitude:   0%|          | 0/10 [00:00<?, ?it/s]"
      ]
     },
     "metadata": {},
     "output_type": "display_data"
    },
    {
     "data": {
      "application/vnd.jupyter.widget-view+json": {
       "model_id": "bbd90156cae541809e7c6e33591e67c3",
       "version_major": 2,
       "version_minor": 0
      },
      "text/plain": [
       "Innermost loop magnitude:   0%|          | 0/10 [00:00<?, ?it/s]"
      ]
     },
     "metadata": {},
     "output_type": "display_data"
    },
    {
     "data": {
      "application/vnd.jupyter.widget-view+json": {
       "model_id": "e4004c2a646541d0872a22b4fcf7df63",
       "version_major": 2,
       "version_minor": 0
      },
      "text/plain": [
       "Innermost loop magnitude:   0%|          | 0/10 [00:00<?, ?it/s]"
      ]
     },
     "metadata": {},
     "output_type": "display_data"
    },
    {
     "data": {
      "application/vnd.jupyter.widget-view+json": {
       "model_id": "ed594151ccd2496e9f0bb30b4fafebd4",
       "version_major": 2,
       "version_minor": 0
      },
      "text/plain": [
       "Innermost loop magnitude:   0%|          | 0/10 [00:00<?, ?it/s]"
      ]
     },
     "metadata": {},
     "output_type": "display_data"
    },
    {
     "data": {
      "application/vnd.jupyter.widget-view+json": {
       "model_id": "1fd9479999ed493dbfadd750ecde64bc",
       "version_major": 2,
       "version_minor": 0
      },
      "text/plain": [
       "Innermost loop magnitude:   0%|          | 0/10 [00:00<?, ?it/s]"
      ]
     },
     "metadata": {},
     "output_type": "display_data"
    },
    {
     "data": {
      "application/vnd.jupyter.widget-view+json": {
       "model_id": "9ab11d417361462480f83ce6998598d1",
       "version_major": 2,
       "version_minor": 0
      },
      "text/plain": [
       "Innermost loop magnitude:   0%|          | 0/10 [00:00<?, ?it/s]"
      ]
     },
     "metadata": {},
     "output_type": "display_data"
    },
    {
     "data": {
      "application/vnd.jupyter.widget-view+json": {
       "model_id": "d59072265c82414d8b175ed6b5dcd73d",
       "version_major": 2,
       "version_minor": 0
      },
      "text/plain": [
       "Innermost loop magnitude:   0%|          | 0/10 [00:00<?, ?it/s]"
      ]
     },
     "metadata": {},
     "output_type": "display_data"
    },
    {
     "data": {
      "application/vnd.jupyter.widget-view+json": {
       "model_id": "1222392c804b473186eee54b588d1751",
       "version_major": 2,
       "version_minor": 0
      },
      "text/plain": [
       "Innermost loop magnitude:   0%|          | 0/10 [00:00<?, ?it/s]"
      ]
     },
     "metadata": {},
     "output_type": "display_data"
    },
    {
     "data": {
      "application/vnd.jupyter.widget-view+json": {
       "model_id": "ecb7d245f66c4db88dde01751eebe38a",
       "version_major": 2,
       "version_minor": 0
      },
      "text/plain": [
       "Innermost loop magnitude:   0%|          | 0/10 [00:00<?, ?it/s]"
      ]
     },
     "metadata": {},
     "output_type": "display_data"
    }
   ],
   "source": [
    "from collections import defaultdict\n",
    "from tqdm.notebook import tqdm\n",
    "import pickle \n",
    "\n",
    "n = 7\n",
    "SAVE_TO_FILE = True\n",
    "\n",
    "# Setup initial correspondence in the center pixel.\n",
    "mpoints = np.array([[0, (n // 2), (n // 2)]])\n",
    "fpoints = np.array([[0, (n // 2), (n // 2) + 1]])\n",
    "fixed_resolution = np.zeros((1, n, n))\n",
    "\n",
    "# Define a function to create a nested defaultdict\n",
    "def nested_dict():\n",
    "    return defaultdict(nested_dict)\n",
    "data = nested_dict()\n",
    "\n",
    "# Create a range of correspondences for each pixel\n",
    "for y in tqdm(range(n), desc=\"Outer loop y\"):\n",
    "    for x in tqdm(range(n), desc=\"Outer loop x\", leave=False):\n",
    "        if y == (n // 2) and x == (n // 2):\n",
    "            continue\n",
    "        # Create correspondences for each angle (degrees)\n",
    "        for angle in tqdm(range(0, 360, 10), desc=\"Inner loop angle\", leave=False):\n",
    "            # Create correspondences for each magnitude from 0.5 to 5.0\n",
    "            for magnitude in tqdm(range(1, 11), desc=\"Innermost loop magnitude\", leave=False):\n",
    "                magnitude /= 2\n",
    "                # Create the correspondence and apply as the second correspondence in the grid\n",
    "                mpoint, fpoint = create_correspondence(y, x, angle, magnitude)\n",
    "                curr_mpoints = mpoints.copy()\n",
    "                curr_fpoints = fpoints.copy()\n",
    "                curr_mpoints = np.append(curr_mpoints, [mpoint], axis=0)\n",
    "                curr_fpoints = np.append(curr_fpoints, [fpoint], axis=0)\n",
    "                # Run Laplacian and Jacobian determinant calculations and save the Jacobian determinant field\n",
    "                deformation, _, _, _, _ = laplacian.sliceToSlice3DLaplacian(fixed_resolution, mpoints, fpoints)\n",
    "                jdet_field = jacobian.sitk_jacobian_determinant(deformation)[0]\n",
    "                data[y][x][angle][magnitude] = jdet_field\n",
    "\n",
    "# Pickle the nested dictionary to a file\n",
    "if SAVE_TO_FILE:\n",
    "    with open('lut_data.pkl', 'wb') as file:\n",
    "        pickle.dump(data, file)"
   ]
  },
  {
   "cell_type": "code",
   "execution_count": 20,
   "metadata": {},
   "outputs": [
    {
     "name": "stdout",
     "output_type": "stream",
     "text": [
      "[[1. 1. 1.]\n",
      " [1. 1. 1.]\n",
      " [1. 1. 1.]]\n"
     ]
    }
   ],
   "source": [
    "# Load the pickled dictionary from the file\n",
    "with open('lut_data.pkl', 'rb') as file:\n",
    "    loaded_data = pickle.load(file)\n",
    "\n",
    "# Example of accessing the loaded data\n",
    "print(loaded_data[2][2][10][1.5])"
   ]
  },
  {
   "cell_type": "code",
   "execution_count": null,
   "metadata": {},
   "outputs": [],
   "source": [
    "def show_data(data: dict, y: int, x: int, angle: int, magnitude: float, title=\"\", fontsize=8):\n",
    "    \"\"\"\n",
    "    Show the grid of deformation information.\n",
    "    \n",
    "    Parameters:\n",
    "    data (dict): The data dictionary.\n",
    "    y (int): The y-coordinate of the pixel.\n",
    "    x (int): The x-coordinate of the pixel.\n",
    "    angle (int): The angle of the vector.\n",
    "    magnitude (float): The magnitude of the vector.\n",
    "    title (str): The title of the plot.\n",
    "    fontsize (int): The fontsize of the text.\n",
    "    \"\"\"\n",
    "    jdet_field = data[y][x][angle][magnitude]\n",
    "    norm = mcolors.TwoSlopeNorm(vmin=min(jdet_field.min(), -1), vcenter=0, vmax=jdet_field.max())\n",
    "    \n",
    "    # Plot the grid of deformation information\n",
    "    f = plt.figure(figsize=(10, 5))\n",
    "    \n",
    "    # Plot the grid of Jacobian determinants color values\n",
    "    plt.imshow(jdet_field, cmap=\"seismic\", norm=norm)\n",
    "    plt.colorbar()\n",
    "    plt.arrow(i, j, np.cos(0) * 1, np.sin(0) * 1, head_width=0.15, head_length=0.15, fc='green', ec='green')\n",
    "    angle_rad = np.radians(angle)\n",
    "    \n",
    "    # Plot the coordinate text\n",
    "    for j in range(jdet_field.shape[0]):\n",
    "        for i in range(jdet_field.shape[1]):\n",
    "            # Get the pixel information\n",
    "            normalized_y = j - (jdet_field.shape[0] // 2) \n",
    "            normalized_x = i - (jdet_field.shape[1] // 2)\n",
    "            jdet = jdet_field[j, i]\n",
    "            \n",
    "            # Setup text to display\n",
    "            coord_text = f\"({normalized_y}, {normalized_x})\\n\"\n",
    "            jdet_text = f\"{jdet:.2f} J\"\n",
    "            vector_text = f\"\\n{angle:.2f}°\\n\" + f\"∥{magnitude:.2f}∥\"\n",
    "            pixel_text = coord_text + jdet_text + vector_text\n",
    "            plt.text(i, j, pixel_text, color='black', ha='center', va='center', fontsize=fontsize, weight='bold')\n",
    "            plt.arrow(i, j, np.cos(angle_rad) * magnitude, np.sin(angle_rad) * magnitude, head_width=0.15, head_length=0.15, fc='green', ec='green')\n",
    "\n",
    "    # Set the xticks and yticks\n",
    "    plt.xticks(np.arange(jdet_field.shape[0]), labels=np.arange(-(jdet_field.shape[1] // 2), jdet_field.shape[1] // 2) + 1)\n",
    "    plt.yticks(np.arange(jdet_field.shape[0]), labels=np.arange(-(jdet_field.shape[0] // 2), jdet_field.shape[0] // 2) + 1)\n",
    "    plt.title(title)\n",
    "    plt.show()\n",
    "    f.clear()\n",
    "    plt.close(f)"
   ]
  },
  {
   "cell_type": "code",
   "execution_count": null,
   "metadata": {},
   "outputs": [],
   "source": [
    "# Show grid information at a specific index\n",
    "y, x = (0, 0)\n",
    "angle = 0\n",
    "magnitude = 1\n",
    "\n"
   ]
  },
  {
   "cell_type": "code",
   "execution_count": null,
   "metadata": {},
   "outputs": [],
   "source": [
    "corr_mpt, corr_fpt = create_correspondence(0, 6, 180, 4)\n",
    "print(corr_mpt)\n",
    "print(corr_fpt)\n",
    "mpoints.append(corr_mpt)\n",
    "fpoints.append(corr_fpt)\n",
    "\n",
    "mpoints = np.array(mpoints)\n",
    "fpoints = np.array(fpoints)\n",
    "fixed_resolution = np.zeros((1, n, n))\n",
    "deformation, A, Zd, Yd, Xd = laplacian.sliceToSlice3DLaplacian(fixed_resolution, mpoints, fpoints)\n",
    "grid_jdet = jacobian.sitk_jacobian_determinant(deformation)[0]\n",
    "\n",
    "pprint(grid_jdet)\n",
    "\n",
    "grids = create_grid(deformation, grid_jdet, fpoints, mpoints)\n",
    "show_grid(grids, mpoints, fpoints)\n"
   ]
  },
  {
   "cell_type": "markdown",
   "metadata": {},
   "source": [
    "## Load data"
   ]
  },
  {
   "cell_type": "code",
   "execution_count": 14,
   "metadata": {},
   "outputs": [
    {
     "name": "stdout",
     "output_type": "stream",
     "text": [
      "Correspondence point shape: (1246, 3)\n",
      "\n",
      "First five fixed points:\n",
      " [[  0.  10. 175.]\n",
      " [  0.  10. 174.]\n",
      " [  0.  10. 176.]\n",
      " [  0.  10. 181.]\n",
      " [  0.  10. 188.]]\n",
      "First five moving points:\n",
      " [[  0.  17. 179.]\n",
      " [  0.  18. 172.]\n",
      " [  0.  18. 180.]\n",
      " [  0.  15. 187.]\n",
      " [  0.  15. 188.]]\n",
      "First five correspondence vectors:\n",
      " [[ 0.  7.  4.]\n",
      " [ 0.  8. -2.]\n",
      " [ 0.  8.  4.]\n",
      " [ 0.  5.  6.]\n",
      " [ 0.  5.  0.]]\n",
      "\n",
      "Number of negative or zero Jacobian determinants: 168\n",
      "Number of negative or zero Jacobian determinants: 168\n",
      "Minimum Jacobian determinant: -4.141267670622895\n",
      "\n"
     ]
    },
    {
     "data": {
      "image/png": "[encoded data removed]",
      "text/plain": [
       "<Figure size 1000x500 with 2 Axes>"
      ]
     },
     "metadata": {},
     "output_type": "display_data"
    },
    {
     "data": {
      "image/png": "[encoded data removed]",
      "text/plain": [
       "<Figure size 1000x500 with 1 Axes>"
      ]
     },
     "metadata": {},
     "output_type": "display_data"
    }
   ],
   "source": [
    "CURR_IDX = 350  # Only consider the correspondences of this index\n",
    "\n",
    "# Input parameters\n",
    "base_path = \"data/corrected_correspondences_count_touching/registered_output/deformation3d.npy\"\n",
    "mpoints_path = \"data/corrected_correspondences_count_touching/mpoints.npy\"\n",
    "fpoints_path = \"data/corrected_correspondences_count_touching/fpoints.npy\"\n",
    "\n",
    "# Load the numpy array and compute the jacobian determinant\n",
    "mpoints = np.load(mpoints_path)\n",
    "fpoints = np.load(fpoints_path)\n",
    "\n",
    "# Get only elements that are of the current index\n",
    "mpoints = mpoints[mpoints[:, 0] == CURR_IDX]\n",
    "fpoints = fpoints[fpoints[:, 0] == CURR_IDX]\n",
    "\n",
    "# Change the 0th index in each element to 0\n",
    "mpoints[:, 0] = 0\n",
    "fpoints[:, 0] = 0\n",
    "\n",
    "cvectors = fpoints - mpoints  # Correspondence vectors\n",
    "cvectors = mpoints - fpoints  # Correspondence vectors\n",
    "\n",
    "print(\"Correspondence point shape:\", fpoints.shape)\n",
    "print(\"\\nFirst five fixed points:\\n\", fpoints[:5])\n",
    "print(\"First five moving points:\\n\", mpoints[:5])\n",
    "print(\"First five correspondence vectors:\\n\", cvectors[:5])\n",
    "\n",
    "# Get Jacobian determinant field\n",
    "fixed_resolution = np.zeros((1, 320, 456))\n",
    "deformation, A, Zd, Yd, Xd = laplacian.sliceToSlice3DLaplacian(fixed_resolution, mpoints, fpoints)\n",
    "jdet_field = jacobian.sitk_jacobian_determinant(deformation)[0]\n",
    "negative_jdet_field = jdet_field <= 0\n",
    "negative_jdet_field = negative_jdet_field.astype(bool)\n",
    "clabels = label_correspondences(fpoints, jdet_field)\n",
    "\n",
    "norm = mcolors.TwoSlopeNorm(vmin=min(jdet_field.min(), -1), vcenter=0, vmax=jdet_field.max())\n",
    "\n",
    "# Print the number of negative or zero Jacobian determinants\n",
    "print(\"\\nNumber of negative or zero Jacobian determinants:\", np.sum(jdet_field <= 0))\n",
    "print(\"Number of negative or zero Jacobian determinants:\", np.sum(negative_jdet_field))\n",
    "print(\"Minimum Jacobian determinant:\", jdet_field.min())\n",
    "print()\n",
    "\n",
    "# Plot the Jacobian determinant values\n",
    "f = plt.figure(figsize=(10, 5))\n",
    "plt.imshow(jdet_field, cmap=\"seismic\", norm=norm)\n",
    "plt.colorbar()\n",
    "plt.scatter(mpoints[:, 2], mpoints[:, 1], c=\"g\", s=1)\n",
    "plt.scatter(fpoints[:, 2], fpoints[:, 1], c=\"violet\", s=1)\n",
    "plt.title(f\"Jacobian determinants slice {CURR_IDX}\")\n",
    "plt.show()\n",
    "f.clear()\n",
    "plt.close(f)\n",
    "\n",
    "# Plot the negative Jacobian determinants\n",
    "f = plt.figure(figsize=(10, 5))\n",
    "plt.imshow(negative_jdet_field, cmap='viridis')\n",
    "plt.title(f\"Negative Jacobian determinants slice {CURR_IDX}\")\n",
    "plt.show()\n",
    "f.clear()\n",
    "plt.close(f)"
   ]
  },
  {
   "cell_type": "code",
   "execution_count": 11,
   "metadata": {},
   "outputs": [
    {
     "data": {
      "text/plain": [
       "(3, 320, 456)"
      ]
     },
     "execution_count": 11,
     "metadata": {},
     "output_type": "execute_result"
    }
   ],
   "source": [
    "deformation[:, 0, :, :].shape"
   ]
  },
  {
   "cell_type": "markdown",
   "metadata": {},
   "source": [
    "## Show LUT"
   ]
  },
  {
   "cell_type": "code",
   "execution_count": null,
   "metadata": {},
   "outputs": [
    {
     "name": "stderr",
     "output_type": "stream",
     "text": [
      "  0%|          | 0/320 [00:00<?, ?it/s]"
     ]
    },
    {
     "name": "stderr",
     "output_type": "stream",
     "text": [
      "100%|██████████| 320/320 [00:05<00:00, 60.18it/s]\n"
     ]
    },
    {
     "data": {
      "image/png": "[encoded data removed]",
      "text/plain": [
       "<Figure size 1000x500 with 2 Axes>"
      ]
     },
     "metadata": {},
     "output_type": "display_data"
    },
    {
     "data": {
      "image/png": "[encoded data removed]",
      "text/plain": [
       "<Figure size 1000x500 with 2 Axes>"
      ]
     },
     "metadata": {},
     "output_type": "display_data"
    }
   ],
   "source": [
    "def is_array_in_array(sub_array, main_array):\n",
    "    return any(np.array_equal(sub_array, element) for element in main_array)\n",
    "\n",
    "\n",
    "def find_array_index(sub_array, main_array):\n",
    "    for index, element in enumerate(main_array):\n",
    "        if np.array_equal(sub_array, element):\n",
    "            return index\n",
    "    return -1  # Return -1 if the sub-array is not found\n",
    "\n",
    "def create_grid(deformation: np.ndarray, jdet_field: np.ndarray, fpoints: np.ndarray, mpoints: np.ndarray):\n",
    "    \"\"\"\n",
    "    Creates a full grid of correspondence information.\n",
    "    \n",
    "    Parameters:\n",
    "    jdet_field (np.ndarray): The Jacobian determinant field.\n",
    "    fpoints (np.ndarray): The fixed points.\n",
    "    mpoints (np.ndarray): The moving points.\n",
    "    \n",
    "    Returns:\n",
    "    np.ndarray: The grid of points. Each element contains the following information:\n",
    "        - y (int): The y-coordinate of the point.\n",
    "        - x (int): The x-coordinate of the point.\n",
    "        - theta (float): The angle of the vector relative to the x-axis.\n",
    "        - magnitude (float): The magnitude\n",
    "        - Jdet (float): The Jacobian determinant value at the point.\n",
    "        - is_correspondence (bool): Whether the point is a correspondence.\n",
    "    \"\"\"\n",
    "    # Initialize the grid as an object array\n",
    "    grid_y = np.empty(jdet_field.shape, dtype=np.int16)\n",
    "    grid_x = np.empty(jdet_field.shape, dtype=np.int16)\n",
    "    grid_theta = np.empty(jdet_field.shape, dtype=np.float16)\n",
    "    grid_magnitude = np.empty(jdet_field.shape, dtype=np.float16)\n",
    "    grid_jdet = np.empty(jdet_field.shape, dtype=np.float16)\n",
    "    grid_correspondence = np.zeros(jdet_field.shape, dtype=bool)\n",
    "\n",
    "    # Store all information about correspondences into the grid\n",
    "    y_resolution = jdet_field.shape[0]\n",
    "    x_resolution = jdet_field.shape[1]\n",
    "    curr_deformation = deformation[:, 0, :, :]  # (3, 320, 456)\n",
    "    for y in tqdm(range(y_resolution)):\n",
    "        for x in range(x_resolution):\n",
    "            curr_displacement_vector = curr_deformation[:, y, x]\n",
    "            _, displacement_y, displacement_x = curr_displacement_vector\n",
    "            \n",
    "            \n",
    "            # Get current pixel information\n",
    "            theta = np.arctan2(displacement_y, displacement_x)                # Angle of the vector relative to the x-axis\n",
    "            if theta < 0:  # Ensure the angle is in the range [0, 2pi)\n",
    "                theta += 2 * np.pi\n",
    "            magnitude = np.linalg.norm(curr_displacement_vector)              # Magnitude of the vector\n",
    "            jdet_value = jdet_field[y, x]                                     # Jacobian determinant value\n",
    "            is_correspondence = np.any(np.all([0, y, x] == fpoints, axis=1))  # Whether the point is a correspondence\n",
    "            \n",
    "            # Place these values into the grid\n",
    "            grid_y[y, x] = y\n",
    "            grid_x[y, x] = x\n",
    "            grid_theta[y, x] = theta\n",
    "            grid_magnitude[y, x] = magnitude\n",
    "            grid_jdet[y, x] = jdet_value\n",
    "            grid_correspondence[y, x] = is_correspondence\n",
    "        \n",
    "    return [grid_y, grid_x, grid_theta, grid_magnitude, grid_jdet, grid_correspondence]\n",
    "\n",
    "\n",
    "def get_local_grid(coord: tuple, grids: list, n: int=7, normalize=True):\n",
    "    \"\"\"\n",
    "    Get the n x n grid of points around the coordinate.\n",
    "    \n",
    "    Parameters:\n",
    "    coord (tuple): The coordinate of the point.\n",
    "    grids (list): The grid of deformation information.\n",
    "    n (int): The size of the grid.\n",
    "    \n",
    "    Returns:\n",
    "    list: A n x n set of grids normalized around the coordinate.\n",
    "    \"\"\"\n",
    "    # Get the current coordinate information\n",
    "    if len(coord) == 2:\n",
    "        y, x = coord\n",
    "    else:\n",
    "        z, y, x = coord\n",
    "        \n",
    "    grid_y, grid_x, grid_theta, grid_magnitude, grid_jdet, grid_correspondence = grids\n",
    "    curr_theta = grid_theta[y, x]\n",
    "    curr_magnitude = grid_magnitude[y, x]\n",
    "    if curr_magnitude == 0 and normalize:  # Rescale the magnitude to 0.5 if it is 0 and if we want to normalize it relative to the coordinate\n",
    "        curr_magnitude = 0.5  \n",
    "    \n",
    "    # Get the bounds of the grid\n",
    "    y_min = int(max(y - (n // 2), 0))\n",
    "    y_max = int(min(y + (n // 2) + 1, grid_y.shape[0]))\n",
    "    x_min = int(max(x - (n // 2), 0))\n",
    "    x_max = int(min(x + (n // 2) + 1, grid_y.shape[1]))\n",
    "    \n",
    "    # Crop the grid to the bounds\n",
    "    grid_y = grid_y[y_min:y_max, x_min:x_max]\n",
    "    grid_x = grid_x[y_min:y_max, x_min:x_max]\n",
    "    grid_theta = grid_theta[y_min:y_max, x_min:x_max]\n",
    "    grid_magnitude = grid_magnitude[y_min:y_max, x_min:x_max]\n",
    "    grid_jdet = grid_jdet[y_min:y_max, x_min:x_max]\n",
    "    grid_correspondence = grid_correspondence[y_min:y_max, x_min:x_max]\n",
    "    \n",
    "    if not normalize:  # Don't do any additional operations, just return the raw local values\n",
    "        grid_theta = np.degrees(grid_theta)  # Convert radians to degrees\n",
    "        return [grid_y, grid_x, grid_theta, grid_magnitude, grid_jdet, grid_correspondence]\n",
    "    \n",
    "    # Normalize grid_y and grid_x to be centered around the coordinate\n",
    "    grid_y = grid_y - y\n",
    "    grid_x = grid_x - x\n",
    "    \n",
    "    # Normalize theta to be centered around the coordinate, calculate the nearest angle from the current angle\n",
    "    grid_theta = grid_theta - curr_theta\n",
    "    # Uncomment the bottom 3 lines to get the nearest angle from the current angle\n",
    "    #grid_theta1 = np.abs(grid_theta - curr_theta)\n",
    "    #grid_theta2 = np.abs(np.pi - (grid_theta - curr_theta))\n",
    "    #grid_theta = np.minimum(grid_theta1, grid_theta2)\n",
    "    grid_theta[grid_theta < 0] += 2 * np.pi  # Ensure the angle is in the range [0, 2pi) after subtraction\n",
    "    grid_theta = np.degrees(grid_theta)  # Convert radians to degrees\n",
    "    grid_theta = np.round(grid_theta / 10) * 10  # Round theta to the nearest 10 degrees\n",
    "    grid_theta[grid_theta == 360] = 0  # Ensure 360 degrees is 0 degrees\n",
    "    \n",
    "    # Normalize magnitude to be centered around the coordinate, round to the nearest 0.5 and clip to 0.5-5.0\n",
    "    grid_magnitude = grid_magnitude / curr_magnitude\n",
    "    grid_magnitude = np.round(grid_magnitude * 2) / 2\n",
    "    grid_magnitude = np.clip(grid_magnitude, 0.5, 5.0)\n",
    "    \n",
    "    return [grid_y, grid_x, grid_theta, grid_magnitude, grid_jdet, grid_correspondence]\n",
    "\n",
    "\n",
    "def show_grid(grids: list, title=\"\", fontsize=8):\n",
    "    \"\"\"\n",
    "    Show the grid of deformation information.\n",
    "    \n",
    "    Parameters:\n",
    "    grids (list): The grid of deformation information.\n",
    "    \"\"\"\n",
    "    grid_y, grid_x, grid_theta, grid_magnitude, grid_jdet, grid_correspondence = grids\n",
    "    norm = mcolors.TwoSlopeNorm(vmin=min(grid_jdet.min(), -1), vcenter=0, vmax=grid_jdet.max())\n",
    "    \n",
    "    # Plot the grid of deformation information\n",
    "    f = plt.figure(figsize=(10, 5))\n",
    "    \n",
    "    \n",
    "    # Plot the grid of Jacobian determinants color values\n",
    "    plt.imshow(grid_jdet, cmap=\"seismic\", norm=norm)\n",
    "    plt.colorbar()\n",
    "    \n",
    "    # Plot the coordinate text\n",
    "    for j in range(grid_y.shape[0]):\n",
    "        for i in range(grid_y.shape[1]):\n",
    "            # Get the pixel information\n",
    "            y = grid_y[j, i]\n",
    "            x = grid_x[j, i]\n",
    "            degrees = grid_theta[j, i]\n",
    "            magnitude = grid_magnitude[j, i]\n",
    "            jdet = grid_jdet[j, i]\n",
    "            is_correspondence = grid_correspondence[j, i]\n",
    "            \n",
    "            # Setup text to display\n",
    "            coord_text = f\"({y}, {x})\\n\"\n",
    "            vector_text = f\"\\n{degrees:.2f}°\\n\" + f\"∥{magnitude:.2f}∥\"\n",
    "            jdet_text = f\"{jdet:.2f} J\"\n",
    "            pixel_text = coord_text + jdet_text + vector_text\n",
    "            if is_correspondence:\n",
    "                text_color = \"green\"\n",
    "            else:\n",
    "                text_color = \"black\"\n",
    "            plt.text(i, j, pixel_text, color=text_color, ha='center', va='center', fontsize=fontsize, weight='bold')\n",
    "\n",
    "    # Set the xticks and yticks\n",
    "    plt.xticks(np.arange(grid_x.shape[0]), labels=np.arange(np.min(grid_x), np.max(grid_x) + 1))\n",
    "    plt.yticks(np.arange(grid_y.shape[0]), labels=np.arange(np.min(grid_y), np.max(grid_y) + 1))\n",
    "    \n",
    "    # Set the title\n",
    "    plt.title(title)\n",
    "    \n",
    "    plt.show()\n",
    "    f.clear()\n",
    "    plt.close(f)\n",
    "    \n",
    "    \n",
    "curr_coordinate = (0, 9, 175)\n",
    "\n",
    "# Create the grid of deformation information\n",
    "grids = create_grid(deformation, jdet_field, fpoints, mpoints)\n",
    "local_grids_no_norm = get_local_grid(curr_coordinate, grids, n=7, normalize=False)\n",
    "local_grids = get_local_grid(curr_coordinate, grids, n=7, normalize=True)\n",
    "grid_y, grid_x, grid_theta, grid_magnitude, grid_jdet, grid_correspondence = local_grids\n",
    "\n",
    "# Show the grid of deformation information\n",
    "show_grid(local_grids_no_norm, fontsize=7, title=f\"Grid without normalization for {curr_coordinate}\")\n",
    "show_grid(local_grids, fontsize=8, title=f\"Normalized grid for {curr_coordinate}\")"
   ]
  },
  {
   "cell_type": "code",
   "execution_count": 75,
   "metadata": {},
   "outputs": [
    {
     "data": {
      "text/plain": [
       "array([0, 1, 2, 3, 4])"
      ]
     },
     "execution_count": 75,
     "metadata": {},
     "output_type": "execute_result"
    }
   ],
   "source": [
    "np.arange(0, 5)"
   ]
  },
  {
   "cell_type": "code",
   "execution_count": 24,
   "metadata": {},
   "outputs": [],
   "source": [
    "\n",
    "def show_grid(grid: np.ndarray, jdet_field: np.ndarray, fontsize=6, title=None):\n",
    "    \"\"\"\n",
    "    Show the grid of points.\n",
    "    \n",
    "    Parameters:\n",
    "    grid (np.ndarray): The grid of points.\n",
    "    jdet_field (np.ndarray): The Jacobian determinant field.\n",
    "    \"\"\"\n",
    "    # Create a colormap for the Jacobian determinant field\n",
    "    norm = mcolors.TwoSlopeNorm(vmin=min(jdet_field.min(), -1), vcenter=0, vmax=jdet_field.max())\n",
    "    magnitude_scale = 0.33  # To scale the vector magnitude for visualization purposes\n",
    "    \n",
    "    # Initialize the figure\n",
    "    f = plt.figure(figsize=(20, 10))\n",
    "    plt.imshow(jdet_field, cmap=\"seismic\", norm=norm)\n",
    "    plt.colorbar()\n",
    "    \n",
    "    # Write coordinates on the plot\n",
    "    for j in range(grid.shape[0]):\n",
    "        for i in range(grid.shape[1]):\n",
    "            if grid[j, i] is not None:\n",
    "                y, x, theta, magnitude = grid[j, i]\n",
    "                degrees = np.degrees(theta)\n",
    "                \n",
    "                # Write coordinate text\n",
    "                coord_text = f\"({y}, {x})\\n\\n\"\n",
    "                vector_text = f\"\\n{degrees:.2f}°\\n\" + f\"{magnitude:.2f}\"\n",
    "                jdet_text = f\"[{jdet_field[j, i]:.2f}]\"\n",
    "                pixel_text = coord_text + jdet_text + vector_text\n",
    "                plt.text(i, j, pixel_text, color=\"black\", ha='center', va='center', fontsize=fontsize, weight='bold')\n",
    "                #plt.text(i, j, coord_text, color=\"black\", ha='center', va='bottom', fontsize=fontsize, weight='bold')   # Coordinate\n",
    "                #plt.text(i, j, vector_text, color=\"black\", ha='center', va='top', fontsize=fontsize, weight='bold')     # Vector info\n",
    "                #plt.text(i, j, jdet_text, color=\"black\", ha='center', va='center', fontsize=fontsize, weight='normal')  # Jdet\n",
    "                plt.arrow(i, j, np.cos(theta) * magnitude_scale, np.sin(theta) * magnitude_scale, head_width=0.15, head_length=0.15, fc='green', ec='green')\n",
    "    \n",
    "    # Set the title and show the plot\n",
    "    if title is None:\n",
    "        plt.title(f\"Neighborhood grid {grid.shape[0]} x {grid.shape[1]}\")\n",
    "    else:\n",
    "        plt.title(title)\n",
    "    plt.show()\n",
    "    f.clear()\n",
    "    plt.close(f)\n",
    "    \n",
    "    \n",
    "def get_neighbors(grid: np.ndarray):\n",
    "    \"\"\"\n",
    "    Get the neighbors of the central point in the grid.\n",
    "    \n",
    "    Parameters:\n",
    "    grid (np.ndarray): The grid of points.\n",
    "    \n",
    "    Returns:\n",
    "    np.ndarray: The neighbors in the grid.\n",
    "    \"\"\"\n",
    "    # Initialize the neighbors array\n",
    "    neighbors = []\n",
    "    \n",
    "    # Central coordinate\n",
    "    central_y = grid.shape[0] // 2\n",
    "    central_x = grid.shape[1] // 2\n",
    "    \n",
    "    # Iterate through each point in the grid\n",
    "    for j in range(grid.shape[0]):\n",
    "        for i in range(grid.shape[1]):\n",
    "            is_central = (j == central_y and i == central_x)\n",
    "            if grid[j, i] is not None and not is_central:  # Avoid returning central point as neighbor\n",
    "                # Store the neighborhood in the neighbors array\n",
    "                neighbors.append(grid[j, i])\n",
    "    return neighbors\n",
    "\n",
    "\n",
    "def get_central_point(grid: np.ndarray):\n",
    "    \"\"\"\n",
    "    Get the central point in the grid.\n",
    "    \n",
    "    Parameters:\n",
    "    grid (np.ndarray): The grid of points.\n",
    "    \n",
    "    Returns:\n",
    "    tuple: The central point.\n",
    "    \"\"\"\n",
    "    # Central coordinate\n",
    "    central_y = grid.shape[0] // 2\n",
    "    central_x = grid.shape[1] // 2\n",
    "    \n",
    "    return grid[central_y, central_x]\n",
    "\n"
   ]
  },
  {
   "cell_type": "code",
   "execution_count": null,
   "metadata": {},
   "outputs": [],
   "source": []
  },
  {
   "cell_type": "markdown",
   "metadata": {},
   "source": [
    "# Setup grid"
   ]
  },
  {
   "cell_type": "code",
   "execution_count": 25,
   "metadata": {},
   "outputs": [
    {
     "name": "stdout",
     "output_type": "stream",
     "text": [
      "Negative Jacobian determinant coordinates:\n",
      "array([[239, 215],\n",
      "       [240, 217],\n",
      "       [241, 218],\n",
      "       [249,  58],\n",
      "       [258, 380],\n",
      "       [260, 215],\n",
      "       [260, 216],\n",
      "       [261, 214],\n",
      "       [261, 215],\n",
      "       [261, 216],\n",
      "       [261, 217],\n",
      "       [261, 371],\n",
      "       [262, 214],\n",
      "       [262, 215],\n",
      "       [270, 106]])\n"
     ]
    }
   ],
   "source": [
    "# Print some sample negative Jdet coordinates for use\n",
    "neg_coordinates = get_negative_jdet_coordinates(jdet_field)\n",
    "print(\"Negative Jacobian determinant coordinates:\")\n",
    "pprint(neg_coordinates[-15:])"
   ]
  },
  {
   "cell_type": "code",
   "execution_count": 26,
   "metadata": {},
   "outputs": [
    {
     "data": {
      "image/png": "[encoded data removed]",
      "text/plain": [
       "<Figure size 2000x1000 with 2 Axes>"
      ]
     },
     "metadata": {},
     "output_type": "display_data"
    }
   ],
   "source": [
    "# Input parameters\n",
    "curr_coord = (0, 270, 105) # (0, 10, 175)\n",
    "n = 15\n",
    "\n",
    "# Populate the grid with the correspondence information\n",
    "full_grid = create_grid(jdet_field, fpoints, mpoints)\n",
    "\n",
    "# Get a local grid sample\n",
    "curr_grid, curr_jdet_field = local_grid(curr_coord, full_grid, jdet_field, n=n)\n",
    "show_grid(curr_grid, curr_jdet_field, title=f\"{n} x {n} neighborhood grid for {curr_coord}\")"
   ]
  },
  {
   "cell_type": "markdown",
   "metadata": {},
   "source": [
    "## Set up scoring for current grid"
   ]
  },
  {
   "cell_type": "code",
   "execution_count": 50,
   "metadata": {},
   "outputs": [
    {
     "name": "stdout",
     "output_type": "stream",
     "text": [
      "Current point: (270, 356, 3.9269908169872414, 1.4142135623730951)\n",
      "Current neighbor index: 0\n",
      "\n",
      "Neighbors:\n",
      "[(267, 362, 3.9269908169872414, 1.4142135623730951),\n",
      " (268, 360, 4.2487413713838835, 2.23606797749979),\n",
      " (269, 358, 4.3906384259880475, 3.1622776601683795),\n",
      " (270, 349, 4.2487413713838835, 2.23606797749979),\n",
      " (270, 351, 4.2487413713838835, 2.23606797749979),\n",
      " (270, 354, 3.141592653589793, 1.0),\n",
      " (270, 355, 3.141592653589793, 1.0)]\n",
      "\n",
      "Neighbor information [distance, normalized theta, normalized magnitude]:\n",
      "[(6.708203932499369, 0.0, 1.0),\n",
      " (4.47213595499958, 0.32175055439664213, 1.5811388300841895),\n",
      " (2.23606797749979, 0.46364760900080615, 2.23606797749979),\n",
      " (7.0, 0.32175055439664213, 1.5811388300841895),\n",
      " (5.0, 0.32175055439664213, 1.5811388300841895),\n",
      " (2.0, 0.7853981633974483, 0.7071067811865475),\n",
      " (1.0, 0.7853981633974483, 0.7071067811865475)]\n",
      "\n",
      "Current neighbor:\n",
      "\tDistance: 6.708203932499369 Theta: 0.0 Magnitude: 1.0\n",
      "Score: 1.0\n",
      "\tDistance penalty: 1\n",
      "\tTheta penalty: 0.0\n",
      "\tMagnitude penalty: 0.0\n"
     ]
    }
   ],
   "source": [
    "weight_magnitude = 0.5  # 0.8\n",
    "weight_theta = 0.5  # 0.2\n",
    "\n",
    "# Get the neighbors and central point\n",
    "neighbors = get_neighbors(curr_grid)\n",
    "central_point = get_central_point(curr_grid)\n",
    "\n",
    "# Get the central point information\n",
    "central_y, central_x, central_theta, central_magnitude = central_point\n",
    "\n",
    "\n",
    "# Get the normalized magnitudes and angles of the neighbors\n",
    "neighbor_info = []\n",
    "for neighbor in neighbors:\n",
    "    y, x, theta, magnitude = neighbor\n",
    "    distance = np.linalg.norm(np.array([y, x]) - np.array([central_y, central_x]))\n",
    "    normalized_theta = abs(theta - central_theta)\n",
    "    if central_magnitude == 0:\n",
    "        normalized_magnitude = 0\n",
    "    else:\n",
    "        normalized_magnitude = magnitude / central_magnitude\n",
    "    neighbor_info.append((distance, normalized_theta, normalized_magnitude))    \n",
    "\n",
    "# Get neighbor metrics\n",
    "neighbor_distances = np.array([neighbor[0] for neighbor in neighbor_info])\n",
    "neighbor_thetas = np.array([neighbor[1] for neighbor in neighbor_info])\n",
    "neighbor_magnitudes = np.array([neighbor[2] for neighbor in neighbor_info])\n",
    "\n",
    "\n",
    "# Compute score between central point and neighbors\n",
    "CURR_NEIGHBOR_IDX = 0\n",
    "\n",
    "curr_neighbor = neighbor_info[CURR_NEIGHBOR_IDX]\n",
    "curr_neighbor_distance, curr_neighbor_theta, curr_neighbor_magnitude = curr_neighbor\n",
    "\n",
    "# Compute the penalties for distance\n",
    "max_distance = np.sqrt((curr_grid.shape[0]/2)**2 + (curr_grid.shape[1]/2)**2)\n",
    "# max_distance = np.max(neighbor_distances)\n",
    "distance_weight = (max_distance - curr_neighbor_distance) / max_distance\n",
    "distance_weight = 1\n",
    "\n",
    "# Compute the penalties for theta\n",
    "theta_penalty = curr_neighbor_theta / np.pi\n",
    "\n",
    "# Compute the penalties for magnitude\n",
    "magnitude_variance = np.var(neighbor_magnitudes)\n",
    "max_difference = np.max(neighbor_magnitudes)\n",
    "scaling_factor = 2.0  # Influences local variance on penalty for magnitude differences\n",
    "magnitude_penalty = abs(curr_neighbor_magnitude - 1) * (1 + scaling_factor * magnitude_variance)\n",
    "\n",
    "# Compute the score\n",
    "score = 1 - distance_weight * (weight_theta * theta_penalty + weight_magnitude * magnitude_penalty)\n",
    "\n",
    "\n",
    "print(\"Current point:\", central_point)\n",
    "print(\"Current neighbor index:\", CURR_NEIGHBOR_IDX)\n",
    "print(\"\\nNeighbors:\")\n",
    "pprint(neighbors)\n",
    "\n",
    "print(\"\\nNeighbor information [distance, normalized theta, normalized magnitude]:\")\n",
    "pprint(neighbor_info)\n",
    "\n",
    "print(\"\\nCurrent neighbor:\")\n",
    "print(\"\\tDistance:\", curr_neighbor_distance, \"Theta:\", curr_neighbor_theta, \"Magnitude:\", curr_neighbor_magnitude)\n",
    "print(\"Score:\", score)\n",
    "print(\"\\tDistance penalty:\", distance_weight)\n",
    "print(\"\\tTheta penalty:\", theta_penalty)\n",
    "print(\"\\tMagnitude penalty:\", magnitude_penalty)"
   ]
  },
  {
   "cell_type": "markdown",
   "metadata": {},
   "source": [
    "## Run scoring on all neighbors"
   ]
  },
  {
   "cell_type": "code",
   "execution_count": 51,
   "metadata": {},
   "outputs": [
    {
     "name": "stdout",
     "output_type": "stream",
     "text": [
      "\n",
      "(267, 362)\n",
      "Score: 1.0\n",
      "\tTheta penalty: 0.0\n",
      "\tMagnitude penalty: 0.0\n",
      "\n",
      "(268, 360)\n",
      "Score: 0.5009776437381837\n",
      "\tTheta penalty: 0.10241638234956671\n",
      "\tMagnitude penalty: 0.895628330174066\n",
      "\n",
      "(269, 358)\n",
      "Score: -0.026281507809358118\n",
      "\tTheta penalty: 0.1475836176504333\n",
      "\tMagnitude penalty: 1.9049793979682828\n",
      "\n",
      "(270, 349)\n",
      "Score: 0.5009776437381837\n",
      "\tTheta penalty: 0.10241638234956671\n",
      "\tMagnitude penalty: 0.895628330174066\n",
      "\n",
      "(270, 351)\n",
      "Score: 0.5009776437381837\n",
      "\tTheta penalty: 0.10241638234956671\n",
      "\tMagnitude penalty: 0.895628330174066\n",
      "\n",
      "(270, 354)\n",
      "Score: 0.6493022399250132\n",
      "\tTheta penalty: 0.25\n",
      "\tMagnitude penalty: 0.4513955201499735\n",
      "\n",
      "(270, 355)\n",
      "Score: 0.6493022399250132\n",
      "\tTheta penalty: 0.25\n",
      "\tMagnitude penalty: 0.4513955201499735\n",
      "\n",
      "Consensus: 6/7 positive.\n",
      "Correspondence is labeled 'good'.\n"
     ]
    }
   ],
   "source": [
    "consensus_thresh = 0.5\n",
    "\n",
    "consensus = []\n",
    "# Compute score between central point and ALL neighbors\n",
    "for i in range(len(neighbor_info)):\n",
    "    CURR_NEIGHBOR_IDX = i\n",
    "    curr_neighbor = neighbor_info[CURR_NEIGHBOR_IDX]\n",
    "    curr_neighbor_distance, curr_neighbor_theta, curr_neighbor_magnitude = curr_neighbor\n",
    "\n",
    "    # Compute the penalties for distance\n",
    "    max_distance = np.sqrt((curr_grid.shape[0]/2)**2 + (curr_grid.shape[1]/2)**2)\n",
    "    # max_distance = np.max(neighbor_distances)\n",
    "    distance_weight = (max_distance - curr_neighbor_distance) / max_distance\n",
    "    distance_weight = 1\n",
    "\n",
    "    # Compute the penalties for theta\n",
    "    theta_penalty = curr_neighbor_theta / np.pi\n",
    "\n",
    "    # Compute the penalties for magnitude\n",
    "    magnitude_variance = np.var(neighbor_magnitudes)\n",
    "    max_difference = np.max(neighbor_magnitudes)\n",
    "    scaling_factor = 2.0  # Influences local variance on penalty for magnitude differences\n",
    "    magnitude_penalty = abs(curr_neighbor_magnitude - 1) * (1 + scaling_factor * magnitude_variance)\n",
    "\n",
    "    # Compute the score\n",
    "    score = 1 - distance_weight * (weight_theta * theta_penalty + weight_magnitude * magnitude_penalty)\n",
    "    if score >= consensus_thresh:\n",
    "        consensus.append(1)\n",
    "    else:\n",
    "        consensus.append(0)\n",
    "\n",
    "    #print(\"Current point:\", central_point)\n",
    "    #print(\"Current neighbor index:\", CURR_NEIGHBOR_IDX)\n",
    "    #print(\"\\nNeighbors:\")\n",
    "    #pprint(neighbors)\n",
    "\n",
    "    #print(\"\\nNeighbor information [distance, normalized theta, normalized magnitude]:\")\n",
    "    #pprint(neighbor_info)\n",
    "\n",
    "    print(f\"\\n({neighbors[i][0]}, {neighbors[i][1]})\")\n",
    "    print(\"Score:\", score)\n",
    "    #print(\"\\tDistance penalty:\", distance_weight)\n",
    "    print(\"\\tTheta penalty:\", theta_penalty)\n",
    "    print(\"\\tMagnitude penalty:\", magnitude_penalty)\n",
    "\n",
    "print(\"\\nConsensus:\", f\"{np.sum(consensus)}/{len(consensus)}\", \"positive.\")\n",
    "if np.sum(consensus) >= len(consensus) / 2:\n",
    "    print(\"Correspondence is labeled \\'good\\'.\")\n",
    "else:\n",
    "    print(\"Correspondence is labeled \\'bad\\'.\")"
   ]
  },
  {
   "cell_type": "markdown",
   "metadata": {},
   "source": [
    "## Run on whole slice"
   ]
  },
  {
   "cell_type": "code",
   "execution_count": 97,
   "metadata": {},
   "outputs": [
    {
     "name": "stderr",
     "output_type": "stream",
     "text": [
      "100%|██████████| 1246/1246 [00:11<00:00, 110.83it/s]\n"
     ]
    }
   ],
   "source": [
    "consensus_thresh = 0.5\n",
    "n = 15  # 15\n",
    "weight_magnitude = 0.75  # 0.8\n",
    "weight_theta = 0.75  # 0.2\n",
    "    \n",
    "scored_labels = []\n",
    "for j in tqdm(range(len(fpoints))):\n",
    "    \n",
    "    # Input parameters\n",
    "    curr_coord = fpoints[j] # (0, 10, 175)\n",
    "\n",
    "    # Populate the grid with the correspondence information\n",
    "    full_grid = create_grid(jdet_field, fpoints, mpoints)\n",
    "\n",
    "    # Get a local grid sample\n",
    "    curr_grid, curr_jdet_field = local_grid(curr_coord, full_grid, jdet_field, n=n)\n",
    "    #show_grid(curr_grid, curr_jdet_field, title=f\"{n} x {n} neighborhood grid for {curr_coord}\")\n",
    "    \n",
    "    # Get the neighbors and central point\n",
    "    neighbors = get_neighbors(curr_grid)\n",
    "    \n",
    "    #central_point = get_central_point(curr_grid)\n",
    "    central_point = full_grid[int(curr_coord[1]), int(curr_coord[2])]\n",
    "\n",
    "    # Get the central point information\n",
    "    central_y, central_x, central_theta, central_magnitude = central_point\n",
    "\n",
    "\n",
    "    # Get the normalized magnitudes and angles of the neighbors\n",
    "    neighbor_info = []\n",
    "    for neighbor in neighbors:\n",
    "        y, x, theta, magnitude = neighbor\n",
    "        distance = np.linalg.norm(np.array([y, x]) - np.array([central_y, central_x]))\n",
    "        normalized_theta = abs(theta - central_theta)\n",
    "        if central_magnitude == 0:\n",
    "            normalized_magnitude = 0\n",
    "        else:\n",
    "            normalized_magnitude = magnitude / central_magnitude\n",
    "        neighbor_info.append((distance, normalized_theta, normalized_magnitude))    \n",
    "\n",
    "    # Get neighbor metrics\n",
    "    neighbor_distances = np.array([neighbor[0] for neighbor in neighbor_info])\n",
    "    neighbor_thetas = np.array([neighbor[1] for neighbor in neighbor_info])\n",
    "    neighbor_magnitudes = np.array([neighbor[2] for neighbor in neighbor_info])\n",
    "\n",
    "            \n",
    "    consensus = []\n",
    "    # Compute score between central point and ALL neighbors\n",
    "    for i in range(len(neighbor_info)):\n",
    "        CURR_NEIGHBOR_IDX = i\n",
    "        curr_neighbor = neighbor_info[CURR_NEIGHBOR_IDX]\n",
    "        curr_neighbor_distance, curr_neighbor_theta, curr_neighbor_magnitude = curr_neighbor\n",
    "\n",
    "        # Compute the penalties for distance\n",
    "        max_distance = np.sqrt((curr_grid.shape[0]/2)**2 + (curr_grid.shape[1]/2)**2)\n",
    "        # max_distance = np.max(neighbor_distances)\n",
    "        distance_weight = (max_distance - curr_neighbor_distance) / max_distance\n",
    "        distance_weight = 1\n",
    "\n",
    "        # Compute the penalties for theta\n",
    "        theta_penalty = curr_neighbor_theta / np.pi\n",
    "\n",
    "        # Compute the penalties for magnitude\n",
    "        magnitude_variance = np.var(neighbor_magnitudes)\n",
    "        max_difference = np.max(neighbor_magnitudes)\n",
    "        scaling_factor = 2.0  # Influences local variance on penalty for magnitude differences\n",
    "        magnitude_penalty = abs(curr_neighbor_magnitude - 1) * (1 + scaling_factor * magnitude_variance)\n",
    "\n",
    "        # Compute the score\n",
    "        score = 1 - distance_weight * (weight_theta * theta_penalty + weight_magnitude * magnitude_penalty)\n",
    "        \n",
    "        if score >= consensus_thresh: # or neighbors[i][2] == 0 and neighbors[i][3] == 0:\n",
    "            consensus.append(1)\n",
    "        else:\n",
    "            consensus.append(0)\n",
    "\n",
    "        #print(\"Current point:\", central_point)\n",
    "        #print(\"Current neighbor index:\", CURR_NEIGHBOR_IDX)\n",
    "        #print(\"\\nNeighbors:\")\n",
    "        #pprint(neighbors)\n",
    "\n",
    "        #print(\"\\nNeighbor information [distance, normalized theta, normalized magnitude]:\")\n",
    "        #pprint(neighbor_info)\n",
    "\n",
    "        ##print(f\"\\n({neighbors[i][0]}, {neighbors[i][1]})\")\n",
    "        ##print(\"Score:\", score)\n",
    "        #print(\"\\tDistance penalty:\", distance_weight)\n",
    "        ##print(\"\\tTheta penalty:\", theta_penalty)\n",
    "        ##print(\"\\tMagnitude penalty:\", magnitude_penalty)\n",
    "\n",
    "    #print(\"\\nConsensus:\", f\"{np.sum(consensus)}/{len(consensus)}\", \"positive.\")\n",
    "    if np.sum(consensus) >= len(consensus) / 2:\n",
    "        #print(\"Correspondence is labeled \\'good\\'.\")\n",
    "        scored_labels.append(1)\n",
    "    else:\n",
    "        #print(\"Correspondence is labeled \\'bad\\'.\")\n",
    "        scored_labels.append(0)"
   ]
  },
  {
   "cell_type": "code",
   "execution_count": 98,
   "metadata": {},
   "outputs": [
    {
     "name": "stdout",
     "output_type": "stream",
     "text": [
      "How many positively identified Jdets:  647\n",
      "Ground truth positive Jdets: 1127\n",
      "Number of false positives: 56\n",
      "Number of false negatives: 536\n",
      "\n",
      "Accuracy: 0.5248796147672552\n",
      "Precision: 0.9134466769706336\n",
      "Recall: 0.5244010647737356\n",
      "Specificity: 0.5294117647058824\n"
     ]
    }
   ],
   "source": [
    "def compute_accuracy(predicted, ground_truth):\n",
    "    \"\"\"\n",
    "    Compute the accuracy of the predicted labels.\n",
    "    \n",
    "    Parameters:\n",
    "    predicted (np.ndarray): The predicted labels.\n",
    "    ground_truth (np.ndarray): The ground truth labels.\n",
    "    \n",
    "    Returns:\n",
    "    float: The accuracy of the predicted labels.\n",
    "    \"\"\"\n",
    "    predicted = np.array(predicted)\n",
    "    ground_truth = np.array(ground_truth)\n",
    "    # Compute the true positives\n",
    "    true_positives = np.sum(np.logical_and(predicted == 1, ground_truth == 1))\n",
    "    \n",
    "    # Compute the true negatives\n",
    "    true_negatives = np.sum(np.logical_and(predicted == 0, ground_truth == 0))\n",
    "    \n",
    "    # Compute the accuracy\n",
    "    accuracy = (true_positives + true_negatives) / len(ground_truth)\n",
    "    \n",
    "    return accuracy\n",
    "\n",
    "\n",
    "def compute_precision(prediction, ground_truth):\n",
    "    \"\"\"\n",
    "    Compute the precision between two 1D binary arrays.\n",
    "    \n",
    "    Parameters:\n",
    "    prediction (np.ndarray): The predicted binary labels.\n",
    "    ground_truth (np.ndarray): The true binary labels.\n",
    "    \n",
    "    Returns:\n",
    "    float: The precision score.\n",
    "    \"\"\"\n",
    "    prediction = np.array(prediction)\n",
    "    ground_truth = np.array(ground_truth)\n",
    "    true_positive = np.sum((prediction == 1) & (ground_truth == 1))\n",
    "    false_positive = np.sum((prediction == 1) & (ground_truth == 0))\n",
    "    \n",
    "    if true_positive + false_positive == 0:\n",
    "        return 0.0\n",
    "    \n",
    "    precision = true_positive / (true_positive + false_positive)\n",
    "    return precision\n",
    "\n",
    "\n",
    "def compute_recall(predicted, ground_truth):\n",
    "    \"\"\"\n",
    "    Compute the recall of the predicted labels.\n",
    "    \n",
    "    Parameters:\n",
    "    predicted (np.ndarray): The predicted labels.\n",
    "    ground_truth (np.ndarray): The ground truth labels.\n",
    "    \n",
    "    Returns:\n",
    "    float: The recall of the predicted labels.\n",
    "    \"\"\"\n",
    "    predicted = np.array(predicted)\n",
    "    ground_truth = np.array(ground_truth)\n",
    "    # Compute the true positives\n",
    "    true_positives = np.sum(np.logical_and(predicted == 1, ground_truth == 1))\n",
    "    \n",
    "    # Compute the false negatives\n",
    "    false_negatives = np.sum(np.logical_and(predicted == 0, ground_truth == 1))\n",
    "    \n",
    "    # Compute the recall\n",
    "    recall = true_positives / (true_positives + false_negatives)\n",
    "    \n",
    "    return recall\n",
    "\n",
    "\n",
    "def compute_specificity(predicted, ground_truth):\n",
    "    \"\"\"\n",
    "    Compute the specificity of the predicted labels.\n",
    "    \n",
    "    Parameters:\n",
    "    predicted (np.ndarray): The predicted labels.\n",
    "    ground_truth (np.ndarray): The ground truth labels.\n",
    "    \n",
    "    Returns:\n",
    "    float: The specificity of the predicted labels.\n",
    "    \"\"\"\n",
    "    predicted = np.array(predicted)\n",
    "    ground_truth = np.array(ground_truth)\n",
    "    # Compute the true negatives\n",
    "    true_negatives = np.sum(np.logical_and(predicted == 0, ground_truth == 0))\n",
    "    \n",
    "    # Compute the false positives\n",
    "    false_positives = np.sum(np.logical_and(predicted == 1, ground_truth == 0))\n",
    "    \n",
    "    # Compute the specificity\n",
    "    specificity = true_negatives / (true_negatives + false_positives)\n",
    "    \n",
    "    return specificity\n",
    "\n",
    "\n",
    "def get_false_positive_indices(predicted, ground_truth):\n",
    "    \"\"\"\n",
    "    Get the indices of the false positives.\n",
    "    \n",
    "    Parameters:\n",
    "    predicted (np.ndarray): The predicted labels.\n",
    "    ground_truth (np.ndarray): The ground truth labels.\n",
    "    \n",
    "    Returns:\n",
    "    np.ndarray: The indices of the false positives.\n",
    "    \"\"\"\n",
    "    predicted = np.array(predicted)\n",
    "    ground_truth = np.array(ground_truth)\n",
    "    false_positives = np.where(np.logical_and(predicted == 1, ground_truth == 0))[0]\n",
    "    return false_positives\n",
    "\n",
    "\n",
    "def get_false_negative_indices(predicted, ground_truth):\n",
    "    \"\"\"\n",
    "    Get the indices of the false negatives.\n",
    "    \n",
    "    Parameters:\n",
    "    predicted (np.ndarray): The predicted labels.\n",
    "    ground_truth (np.ndarray): The ground truth labels.\n",
    "    \n",
    "    Returns:\n",
    "    np.ndarray: The indices of the false negatives.\n",
    "    \"\"\"\n",
    "    predicted = np.array(predicted)\n",
    "    ground_truth = np.array(ground_truth)\n",
    "    false_negatives = np.where(np.logical_and(predicted == 0, ground_truth == 1))[0]\n",
    "    return false_negatives\n",
    "\n",
    "\n",
    "print(\"How many positively identified Jdets: \", np.sum(scored_labels))\n",
    "print(\"Ground truth positive Jdets:\", np.sum(clabels))\n",
    "print(\"Number of false positives:\", len(get_false_positive_indices(scored_labels, clabels)))\n",
    "print(\"Number of false negatives:\", len(get_false_negative_indices(scored_labels, clabels)))\n",
    "print(\"\\nAccuracy:\", compute_accuracy(scored_labels, clabels))\n",
    "print(\"Precision:\", compute_precision(scored_labels, clabels))\n",
    "print(\"Recall:\", compute_recall(scored_labels, clabels))\n",
    "print(\"Specificity:\", compute_specificity(scored_labels, clabels))"
   ]
  },
  {
   "cell_type": "markdown",
   "metadata": {},
   "source": [
    "n=15, wt 0.5 0.5\n",
    "How many positively identified Jdets:  909\n",
    "Ground truth positive Jdets: 1127\n",
    "Accuracy: 0.6934189406099518\n",
    "Precision: 0.9097909790979097\n",
    "Recall: 0.7338065661047027\n",
    "Specificity: 0.31092436974789917\n",
    "\n",
    "n=35 wt 0.5 0.5\n",
    "How many positively identified Jdets:  695\n",
    "Ground truth positive Jdets: 1127\n",
    "Accuracy: 0.5666131621187801\n",
    "Precision: 0.9223021582733812\n",
    "Recall: 0.5687666370896185\n",
    "Specificity: 0.5462184873949579"
   ]
  },
  {
   "cell_type": "markdown",
   "metadata": {},
   "source": [
    "## Analyze false negatives and false positives"
   ]
  },
  {
   "cell_type": "code",
   "execution_count": 87,
   "metadata": {},
   "outputs": [
    {
     "name": "stdout",
     "output_type": "stream",
     "text": [
      "[   1    3   55   75   78   87  168  185  211  217  273  290  311  437\n",
      "  491  496  509  541  557  565  569  577  581  599  611  615  617  629\n",
      "  673  682  698  711  713  747  751  791  814  862  864  882  903  959\n",
      "  960 1003 1035 1050 1069 1074 1075 1095 1109 1132 1196 1240]\n"
     ]
    }
   ],
   "source": [
    "fn_idx = get_false_negative_indices(scored_labels, clabels)\n",
    "fp_idx = get_false_positive_indices(scored_labels, clabels)\n",
    "print(fp_idx)"
   ]
  },
  {
   "cell_type": "code",
   "execution_count": 88,
   "metadata": {},
   "outputs": [
    {
     "data": {
      "image/png": "[encoded data removed]",
      "text/plain": [
       "<Figure size 2000x1000 with 2 Axes>"
      ]
     },
     "metadata": {},
     "output_type": "display_data"
    },
    {
     "name": "stdout",
     "output_type": "stream",
     "text": [
      "\n",
      "(12, 206)\n",
      "Score: 0.8301613156244236\n",
      "\tTheta penalty: 0.1641043458864338\n",
      "\tMagnitude penalty: 0.17557302286471888\n",
      "\n",
      "(14, 211)\n",
      "Score: 1.0\n",
      "\tTheta penalty: 0.0\n",
      "\tMagnitude penalty: 0.0\n",
      "\n",
      "(15, 212)\n",
      "Score: 0.9018209423053367\n",
      "\tTheta penalty: 0.1828069051277105\n",
      "\tMagnitude penalty: 0.013551210261616192\n",
      "\n",
      "(16, 213)\n",
      "Score: 0.8223700356735335\n",
      "\tTheta penalty: 0.24005605217641063\n",
      "\tMagnitude penalty: 0.1152038764765223\n",
      "\n",
      "(19, 215)\n",
      "Score: 0.5797044235612397\n",
      "\tTheta penalty: 0.35482777475034116\n",
      "\tMagnitude penalty: 0.4857633781271793\n",
      "\n",
      "(20, 216)\n",
      "Score: 0.5797044235612397\n",
      "\tTheta penalty: 0.35482777475034116\n",
      "\tMagnitude penalty: 0.4857633781271793\n",
      "\n",
      "Consensus: 6/6 positive.\n",
      "Correspondence is labeled 'good'.\n"
     ]
    }
   ],
   "source": [
    "# Input parameters\n",
    "curr_coord = fpoints[55]\n",
    "n = 15\n",
    "consensus_thresh = 0.5\n",
    "weight_magnitude = 0.5  # 0.8\n",
    "weight_theta = 0.5  # 0.2\n",
    "\n",
    "\n",
    "# Populate the grid with the correspondence information\n",
    "full_grid = create_grid(jdet_field, fpoints, mpoints)\n",
    "\n",
    "# Get a local grid sample\n",
    "curr_grid, curr_jdet_field = local_grid(curr_coord, full_grid, jdet_field, n=n)\n",
    "show_grid(curr_grid, curr_jdet_field, title=f\"{n} x {n} neighborhood grid for {curr_coord}\")\n",
    "\n",
    "############################################################################################################\n",
    "\n",
    "\n",
    "\n",
    "# Get the neighbors and central point\n",
    "neighbors = get_neighbors(curr_grid)\n",
    "# Remove neighbors from list that have 0 magnitude and 0 angle\n",
    "neighbors = [neighbor for neighbor in neighbors if neighbor[2] != 0 and neighbor[3] != 0]\n",
    "\n",
    "#central_point = get_central_point(curr_grid)\n",
    "central_point = full_grid[int(curr_coord[1]), int(curr_coord[2])]\n",
    "\n",
    "# Get the central point information\n",
    "central_y, central_x, central_theta, central_magnitude = central_point\n",
    "\n",
    "\n",
    "# Get the normalized magnitudes and angles of the neighbors\n",
    "neighbor_info = []\n",
    "for neighbor in neighbors:\n",
    "    y, x, theta, magnitude = neighbor\n",
    "    distance = np.linalg.norm(np.array([y, x]) - np.array([central_y, central_x]))\n",
    "    normalized_theta = abs(theta - central_theta)\n",
    "    if central_magnitude == 0:\n",
    "        normalized_magnitude = 0\n",
    "    else:\n",
    "        normalized_magnitude = magnitude / central_magnitude\n",
    "    neighbor_info.append((distance, normalized_theta, normalized_magnitude))    \n",
    "\n",
    "# Get neighbor metrics\n",
    "neighbor_distances = np.array([neighbor[0] for neighbor in neighbor_info])\n",
    "neighbor_thetas = np.array([neighbor[1] for neighbor in neighbor_info])\n",
    "neighbor_magnitudes = np.array([neighbor[2] for neighbor in neighbor_info])\n",
    "\n",
    "\n",
    "consensus = []\n",
    "# Compute score between central point and ALL neighbors\n",
    "for i in range(len(neighbor_info)):\n",
    "    CURR_NEIGHBOR_IDX = i\n",
    "    curr_neighbor = neighbor_info[CURR_NEIGHBOR_IDX]\n",
    "    curr_neighbor_distance, curr_neighbor_theta, curr_neighbor_magnitude = curr_neighbor\n",
    "\n",
    "    # Compute the penalties for distance\n",
    "    max_distance = np.sqrt((curr_grid.shape[0]/2)**2 + (curr_grid.shape[1]/2)**2)\n",
    "    # max_distance = np.max(neighbor_distances)\n",
    "    distance_weight = (max_distance - curr_neighbor_distance) / max_distance\n",
    "    distance_weight = 1\n",
    "\n",
    "    # Compute the penalties for theta\n",
    "    theta_penalty = curr_neighbor_theta / np.pi\n",
    "\n",
    "    # Compute the penalties for magnitude\n",
    "    magnitude_variance = np.var(neighbor_magnitudes)\n",
    "    max_difference = np.max(neighbor_magnitudes)\n",
    "    scaling_factor = 2.0  # Influences local variance on penalty for magnitude differences\n",
    "    magnitude_penalty = abs(curr_neighbor_magnitude - 1) * (1 + scaling_factor * magnitude_variance)\n",
    "\n",
    "    # Compute the score\n",
    "    score = 1 - distance_weight * (weight_theta * theta_penalty + weight_magnitude * magnitude_penalty)\n",
    "    if score >= consensus_thresh:\n",
    "        consensus.append(1)\n",
    "    else:\n",
    "        consensus.append(0)\n",
    "\n",
    "    #print(\"Current point:\", central_point)\n",
    "    #print(\"Current neighbor index:\", CURR_NEIGHBOR_IDX)\n",
    "    #print(\"\\nNeighbors:\")\n",
    "    #pprint(neighbors)\n",
    "\n",
    "    #print(\"\\nNeighbor information [distance, normalized theta, normalized magnitude]:\")\n",
    "    #pprint(neighbor_info)\n",
    "\n",
    "    print(f\"\\n({neighbors[i][0]}, {neighbors[i][1]})\")\n",
    "    print(\"Score:\", score)\n",
    "    #print(\"\\tDistance penalty:\", distance_weight)\n",
    "    print(\"\\tTheta penalty:\", theta_penalty)\n",
    "    print(\"\\tMagnitude penalty:\", magnitude_penalty)\n",
    "\n",
    "print(\"\\nConsensus:\", f\"{np.sum(consensus)}/{len(consensus)}\", \"positive.\")\n",
    "if np.sum(consensus) >= len(consensus) / 2:\n",
    "    print(\"Correspondence is labeled \\'good\\'.\")\n",
    "else:\n",
    "    print(\"Correspondence is labeled \\'bad\\'.\")"
   ]
  },
  {
   "cell_type": "code",
   "execution_count": null,
   "metadata": {},
   "outputs": [],
   "source": []
  }
 ],
 "metadata": {
  "kernelspec": {
   "display_name": "tissuecyte",
   "language": "python",
   "name": "python3"
  },
  "language_info": {
   "codemirror_mode": {
    "name": "ipython",
    "version": 3
   },
   "file_extension": ".py",
   "mimetype": "text/x-python",
   "name": "python",
   "nbconvert_exporter": "python",
   "pygments_lexer": "ipython3",
   "version": "3.9.16"
  }
 },
 "nbformat": 4,
 "nbformat_minor": 2
}
