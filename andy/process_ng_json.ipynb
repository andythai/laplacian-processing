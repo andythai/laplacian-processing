{
 "cells": [
  {
   "cell_type": "code",
   "execution_count": 26,
   "metadata": {},
   "outputs": [],
   "source": [
    "import json\n",
    "import numpy as np\n",
    "\n",
    "# Open JSON file\n",
    "json_path = \"/media/data/u01/test2.json\"\n",
    "with open(json_path, \"r\") as f:\n",
    "    data = json.load(f)\n",
    "    \n",
    "# Find the layer with the annotations\n",
    "for i in range(len(data['layers'])):\n",
    "    if data['layers'][i]['name'] == 'point annotations':\n",
    "        annot_layer = data['layers'][i]\n",
    "        break\n",
    "    \n",
    "# Get the annotations\n",
    "annots = annot_layer['annotations']\n",
    "\n",
    "# Save the annotations to a list\n",
    "points = []\n",
    "for i in range(len(annots)):\n",
    "    curr_annot = annots[i]['point']\n",
    "    points.append(curr_annot[::-1])\n",
    "    \n",
    "points = np.array(points)\n",
    "out_path = \"test.txt\"\n",
    "np.savetxt(out_path, points, \"%d %d %d\", \n",
    "           header = \"index\\n\" + str(points.shape[0]), \n",
    "           comments = \"\")"
   ]
  },
  {
   "cell_type": "code",
   "execution_count": 15,
   "metadata": {},
   "outputs": [
    {
     "data": {
      "text/plain": [
       "'point annotations'"
      ]
     },
     "execution_count": 15,
     "metadata": {},
     "output_type": "execute_result"
    }
   ],
   "source": [
    "data['layers'][2]['name']"
   ]
  },
  {
   "cell_type": "code",
   "execution_count": null,
   "metadata": {},
   "outputs": [],
   "source": []
  }
 ],
 "metadata": {
  "kernelspec": {
   "display_name": "tissuecyte",
   "language": "python",
   "name": "python3"
  },
  "language_info": {
   "codemirror_mode": {
    "name": "ipython",
    "version": 3
   },
   "file_extension": ".py",
   "mimetype": "text/x-python",
   "name": "python",
   "nbconvert_exporter": "python",
   "pygments_lexer": "ipython3",
   "version": "3.9.16"
  }
 },
 "nbformat": 4,
 "nbformat_minor": 2
}
