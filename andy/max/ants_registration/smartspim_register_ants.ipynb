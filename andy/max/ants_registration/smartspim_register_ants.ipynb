{
 "cells": [
  {
   "cell_type": "code",
   "execution_count": 1,
   "metadata": {},
   "outputs": [],
   "source": [
    "import ants\n",
    "import numpy as np\n",
    "import nibabel as nib"
   ]
  },
  {
   "cell_type": "code",
   "execution_count": 2,
   "metadata": {},
   "outputs": [
    {
     "name": "stdout",
     "output_type": "stream",
     "text": [
      "START\n",
      "READING\n",
      "PROCESSING\n",
      "CONVERT TO ANTS\n",
      "INPUT\n",
      "Before registering\n",
      "Registered ch2\n",
      "Registered ch1\n",
      "Registered ch0\n",
      "<class 'ants.core.ants_image.ANTsImage'>\n",
      "(323, 648, 576)\n",
      "DONE\n"
     ]
    }
   ],
   "source": [
    "print(\"START\")\n",
    "template_path = \"processed/smartspim_25um_cropped.nii\"\n",
    "input_path0 = \"240913_newscan/240913_new_scan_25downsampled_ch0.nii.gz\"\n",
    "input_path1 = \"240913_newscan/240913_new_scan_25downsampled_ch1.nii.gz\"\n",
    "input_path2 = \"240913_newscan/240913_new_scan_25downsampled_ch2.nii.gz\"\n",
    "\n",
    "output_path0 = \"output/ch0_registered.nii.gz\"\n",
    "output_path1 = \"output/ch1_registered.nii.gz\"\n",
    "output_path2 = \"output/ch2_registered.nii.gz\"\n",
    "\n",
    "print(\"READING\")\n",
    "\n",
    "moving_image0 = nib.load(input_path0).get_fdata()\n",
    "moving_image1 = nib.load(input_path1).get_fdata()\n",
    "moving_image2 = nib.load(input_path2).get_fdata()\n",
    "fixed_image = nib.load(template_path).get_fdata()\n",
    "\n",
    "\n",
    "print(\"PROCESSING\")\n",
    "moving_image0 = np.rot90(moving_image0, k=1, axes=(1, 2))  # Ch0\n",
    "moving_image0 = np.flip(moving_image0, axis=0)\n",
    "moving_image1 = np.rot90(moving_image1, k=1, axes=(1, 2))  # Ch1\n",
    "moving_image1 = np.flip(moving_image1, axis=0)\n",
    "moving_image2 = np.rot90(moving_image2, k=1, axes=(1, 2))  # Ch2\n",
    "moving_image2 = np.flip(moving_image2, axis=0)\n",
    "fixed_image = np.moveaxis(fixed_image, -1, 0)\n",
    "\n",
    "\n",
    "print(\"CONVERT TO ANTS\")\n",
    "#fixed_image = ants.image_read(template_path)\n",
    "#moving_image0 = ants.image_read(input_path0)\n",
    "#moving_image1 = ants.image_read(input_path1)\n",
    "#moving_image2 = ants.image_read(input_path2)\n",
    "moving_image0 = ants.from_numpy(moving_image0)\n",
    "moving_image1 = ants.from_numpy(moving_image1)\n",
    "moving_image2 = ants.from_numpy(moving_image2)\n",
    "fixed_image = ants.from_numpy(fixed_image)\n",
    "\n",
    "print(\"INPUT\")\n",
    "print(\"Before registering\")\n",
    "result = ants.registration(fixed_image, moving_image2, type_of_transform = 'SyN' )\n",
    "print(\"Registered ch2\")\n",
    "ch1 = ants.apply_transforms(fixed=fixed_image, moving=moving_image1,\n",
    "                                      transformlist=result['fwdtransforms'])\n",
    "print(\"Registered ch1\")\n",
    "ch0 = ants.apply_transforms(fixed=fixed_image, moving=moving_image0,\n",
    "                                      transformlist=result['fwdtransforms'])\n",
    "print(\"Registered ch0\")\n",
    "#result = result.numpy()\n",
    "#np.save(\"ants_result.npy\", result)\n",
    "ants.image_write(result['warpedmovout'], output_path2)\n",
    "print(type(ch1))\n",
    "print(ch1.shape)\n",
    "ants.image_write(ch1, output_path1)\n",
    "ants.image_write(ch0, output_path0)\n",
    "\n",
    "print(\"DONE\")"
   ]
  },
  {
   "cell_type": "code",
   "execution_count": null,
   "metadata": {},
   "outputs": [],
   "source": []
  }
 ],
 "metadata": {
  "kernelspec": {
   "display_name": "tissuecyte",
   "language": "python",
   "name": "python3"
  },
  "language_info": {
   "codemirror_mode": {
    "name": "ipython",
    "version": 3
   },
   "file_extension": ".py",
   "mimetype": "text/x-python",
   "name": "python",
   "nbconvert_exporter": "python",
   "pygments_lexer": "ipython3",
   "version": "3.9.16"
  }
 },
 "nbformat": 4,
 "nbformat_minor": 2
}
